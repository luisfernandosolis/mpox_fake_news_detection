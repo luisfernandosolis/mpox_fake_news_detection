{
 "cells": [
  {
   "cell_type": "code",
   "execution_count": 2,
   "metadata": {},
   "outputs": [],
   "source": [
    "import os\n",
    "from dotenv import load_dotenv\n",
    "\n",
    "load_dotenv()\n",
    "\n",
    "openai_api_key = os.environ.get(\"OPENAI_API_KEY\")\n",
    "neo4j_url = os.environ.get(\"NEO4J_URL\")\n",
    "neo4j_username = os.environ.get(\"NEO4J_USERNAME\")\n",
    "neo4j_password = os.environ.get(\"NEO4J_PASSWORD\")"
   ]
  },
  {
   "cell_type": "code",
   "execution_count": 5,
   "metadata": {},
   "outputs": [],
   "source": [
    "#!unset neo4j_url"
   ]
  },
  {
   "cell_type": "code",
   "execution_count": 2,
   "metadata": {},
   "outputs": [
    {
     "data": {
      "text/plain": [
       "'neo4j+s://456b56ec.databases.neo4j.io'"
      ]
     },
     "execution_count": 2,
     "metadata": {},
     "output_type": "execute_result"
    }
   ],
   "source": [
    "neo4j_url"
   ]
  },
  {
   "cell_type": "code",
   "execution_count": 3,
   "metadata": {},
   "outputs": [],
   "source": [
    "from langchain.graphs import Neo4jGraph\n",
    "\n",
    "url = neo4j_url\n",
    "username =neo4j_username\n",
    "password = neo4j_password\n",
    "\n",
    "graph = Neo4jGraph(\n",
    "    url=url, \n",
    "    username=username, \n",
    "    password=password\n",
    ")"
   ]
  },
  {
   "cell_type": "code",
   "execution_count": 4,
   "metadata": {},
   "outputs": [
    {
     "name": "stderr",
     "output_type": "stream",
     "text": [
      "/var/folders/gd/2hyknd_n0db256k8n9_snpww0000gn/T/ipykernel_1124/1562747253.py:7: LangChainDeprecationWarning: The class `ChatOpenAI` was deprecated in LangChain 0.0.10 and will be removed in 1.0. An updated version of the class exists in the langchain-openai package and should be used instead. To use it run `pip install -U langchain-openai` and import as `from langchain_openai import ChatOpenAI`.\n",
      "  cypher_llm=ChatOpenAI(temperature=0.7, model=\"gpt-3.5-turbo-0125\"),\n",
      "Error in StdOutCallbackHandler.on_chain_start callback: AttributeError(\"'NoneType' object has no attribute 'get'\")\n"
     ]
    },
    {
     "ename": "RateLimitError",
     "evalue": "Error code: 429 - {'error': {'message': 'You exceeded your current quota, please check your plan and billing details. For more information on this error, read the docs: https://platform.openai.com/docs/guides/error-codes/api-errors.', 'type': 'insufficient_quota', 'param': None, 'code': 'insufficient_quota'}}",
     "output_type": "error",
     "traceback": [
      "\u001b[0;31m---------------------------------------------------------------------------\u001b[0m",
      "\u001b[0;31mRateLimitError\u001b[0m                            Traceback (most recent call last)",
      "Cell \u001b[0;32mIn[4], line 20\u001b[0m\n\u001b[1;32m     17\u001b[0m query\u001b[39m=\u001b[39m\u001b[39m\"\u001b[39m\u001b[39mgive me a Articles talking about Mpox in Mexico\u001b[39m\u001b[39m\"\u001b[39m\n\u001b[1;32m     18\u001b[0m eq \u001b[39m=\u001b[39m query \u001b[39m+\u001b[39m \u001b[39m\"\u001b[39m\u001b[39mConsider this: for the new, return the url,label,the country, the virus, and the abstract. in the aswer dont consider a prefix of the column.\u001b[39m\u001b[39m\"\u001b[39m\n\u001b[0;32m---> 20\u001b[0m response \u001b[39m=\u001b[39m  cypher_chain\u001b[39m.\u001b[39;49minvoke({\u001b[39m\"\u001b[39;49m\u001b[39mquery\u001b[39;49m\u001b[39m\"\u001b[39;49m: eq})\n\u001b[1;32m     21\u001b[0m \u001b[39mprint\u001b[39m(\u001b[39mf\u001b[39m\u001b[39m\"\u001b[39m\u001b[39mIntermediate steps: \u001b[39m\u001b[39m{\u001b[39;00mresponse[\u001b[39m'\u001b[39m\u001b[39mintermediate_steps\u001b[39m\u001b[39m'\u001b[39m]\u001b[39m}\u001b[39;00m\u001b[39m\"\u001b[39m)\n\u001b[1;32m     22\u001b[0m \u001b[39mprint\u001b[39m(\u001b[39mf\u001b[39m\u001b[39m\"\u001b[39m\u001b[39mFinal answer: \u001b[39m\u001b[39m{\u001b[39;00mresponse[\u001b[39m'\u001b[39m\u001b[39mresult\u001b[39m\u001b[39m'\u001b[39m]\u001b[39m}\u001b[39;00m\u001b[39m\"\u001b[39m)\n",
      "File \u001b[0;32m~/Documents/fakempox/env_mpox/lib/python3.11/site-packages/langchain/chains/base.py:170\u001b[0m, in \u001b[0;36mChain.invoke\u001b[0;34m(self, input, config, **kwargs)\u001b[0m\n\u001b[1;32m    168\u001b[0m \u001b[39mexcept\u001b[39;00m \u001b[39mBaseException\u001b[39;00m \u001b[39mas\u001b[39;00m e:\n\u001b[1;32m    169\u001b[0m     run_manager\u001b[39m.\u001b[39mon_chain_error(e)\n\u001b[0;32m--> 170\u001b[0m     \u001b[39mraise\u001b[39;00m e\n\u001b[1;32m    171\u001b[0m run_manager\u001b[39m.\u001b[39mon_chain_end(outputs)\n\u001b[1;32m    173\u001b[0m \u001b[39mif\u001b[39;00m include_run_info:\n",
      "File \u001b[0;32m~/Documents/fakempox/env_mpox/lib/python3.11/site-packages/langchain/chains/base.py:160\u001b[0m, in \u001b[0;36mChain.invoke\u001b[0;34m(self, input, config, **kwargs)\u001b[0m\n\u001b[1;32m    157\u001b[0m \u001b[39mtry\u001b[39;00m:\n\u001b[1;32m    158\u001b[0m     \u001b[39mself\u001b[39m\u001b[39m.\u001b[39m_validate_inputs(inputs)\n\u001b[1;32m    159\u001b[0m     outputs \u001b[39m=\u001b[39m (\n\u001b[0;32m--> 160\u001b[0m         \u001b[39mself\u001b[39;49m\u001b[39m.\u001b[39;49m_call(inputs, run_manager\u001b[39m=\u001b[39;49mrun_manager)\n\u001b[1;32m    161\u001b[0m         \u001b[39mif\u001b[39;00m new_arg_supported\n\u001b[1;32m    162\u001b[0m         \u001b[39melse\u001b[39;00m \u001b[39mself\u001b[39m\u001b[39m.\u001b[39m_call(inputs)\n\u001b[1;32m    163\u001b[0m     )\n\u001b[1;32m    165\u001b[0m     final_outputs: Dict[\u001b[39mstr\u001b[39m, Any] \u001b[39m=\u001b[39m \u001b[39mself\u001b[39m\u001b[39m.\u001b[39mprep_outputs(\n\u001b[1;32m    166\u001b[0m         inputs, outputs, return_only_outputs\n\u001b[1;32m    167\u001b[0m     )\n\u001b[1;32m    168\u001b[0m \u001b[39mexcept\u001b[39;00m \u001b[39mBaseException\u001b[39;00m \u001b[39mas\u001b[39;00m e:\n",
      "File \u001b[0;32m~/Documents/fakempox/env_mpox/lib/python3.11/site-packages/langchain_community/chains/graph_qa/cypher.py:352\u001b[0m, in \u001b[0;36mGraphCypherQAChain._call\u001b[0;34m(self, inputs, run_manager)\u001b[0m\n\u001b[1;32m    348\u001b[0m args\u001b[39m.\u001b[39mupdate(inputs)\n\u001b[1;32m    350\u001b[0m intermediate_steps: List \u001b[39m=\u001b[39m []\n\u001b[0;32m--> 352\u001b[0m generated_cypher \u001b[39m=\u001b[39m \u001b[39mself\u001b[39;49m\u001b[39m.\u001b[39;49mcypher_generation_chain\u001b[39m.\u001b[39;49mrun(args, callbacks\u001b[39m=\u001b[39;49mcallbacks)\n\u001b[1;32m    354\u001b[0m \u001b[39m# Extract Cypher code if it is wrapped in backticks\u001b[39;00m\n\u001b[1;32m    355\u001b[0m generated_cypher \u001b[39m=\u001b[39m extract_cypher(generated_cypher)\n",
      "File \u001b[0;32m~/Documents/fakempox/env_mpox/lib/python3.11/site-packages/langchain_core/_api/deprecation.py:180\u001b[0m, in \u001b[0;36mdeprecated.<locals>.deprecate.<locals>.warning_emitting_wrapper\u001b[0;34m(*args, **kwargs)\u001b[0m\n\u001b[1;32m    178\u001b[0m     warned \u001b[39m=\u001b[39m \u001b[39mTrue\u001b[39;00m\n\u001b[1;32m    179\u001b[0m     emit_warning()\n\u001b[0;32m--> 180\u001b[0m \u001b[39mreturn\u001b[39;00m wrapped(\u001b[39m*\u001b[39;49margs, \u001b[39m*\u001b[39;49m\u001b[39m*\u001b[39;49mkwargs)\n",
      "File \u001b[0;32m~/Documents/fakempox/env_mpox/lib/python3.11/site-packages/langchain/chains/base.py:606\u001b[0m, in \u001b[0;36mChain.run\u001b[0;34m(self, callbacks, tags, metadata, *args, **kwargs)\u001b[0m\n\u001b[1;32m    604\u001b[0m     \u001b[39mif\u001b[39;00m \u001b[39mlen\u001b[39m(args) \u001b[39m!=\u001b[39m \u001b[39m1\u001b[39m:\n\u001b[1;32m    605\u001b[0m         \u001b[39mraise\u001b[39;00m \u001b[39mValueError\u001b[39;00m(\u001b[39m\"\u001b[39m\u001b[39m`run` supports only one positional argument.\u001b[39m\u001b[39m\"\u001b[39m)\n\u001b[0;32m--> 606\u001b[0m     \u001b[39mreturn\u001b[39;00m \u001b[39mself\u001b[39;49m(args[\u001b[39m0\u001b[39;49m], callbacks\u001b[39m=\u001b[39;49mcallbacks, tags\u001b[39m=\u001b[39;49mtags, metadata\u001b[39m=\u001b[39;49mmetadata)[\n\u001b[1;32m    607\u001b[0m         _output_key\n\u001b[1;32m    608\u001b[0m     ]\n\u001b[1;32m    610\u001b[0m \u001b[39mif\u001b[39;00m kwargs \u001b[39mand\u001b[39;00m \u001b[39mnot\u001b[39;00m args:\n\u001b[1;32m    611\u001b[0m     \u001b[39mreturn\u001b[39;00m \u001b[39mself\u001b[39m(kwargs, callbacks\u001b[39m=\u001b[39mcallbacks, tags\u001b[39m=\u001b[39mtags, metadata\u001b[39m=\u001b[39mmetadata)[\n\u001b[1;32m    612\u001b[0m         _output_key\n\u001b[1;32m    613\u001b[0m     ]\n",
      "File \u001b[0;32m~/Documents/fakempox/env_mpox/lib/python3.11/site-packages/langchain_core/_api/deprecation.py:180\u001b[0m, in \u001b[0;36mdeprecated.<locals>.deprecate.<locals>.warning_emitting_wrapper\u001b[0;34m(*args, **kwargs)\u001b[0m\n\u001b[1;32m    178\u001b[0m     warned \u001b[39m=\u001b[39m \u001b[39mTrue\u001b[39;00m\n\u001b[1;32m    179\u001b[0m     emit_warning()\n\u001b[0;32m--> 180\u001b[0m \u001b[39mreturn\u001b[39;00m wrapped(\u001b[39m*\u001b[39;49margs, \u001b[39m*\u001b[39;49m\u001b[39m*\u001b[39;49mkwargs)\n",
      "File \u001b[0;32m~/Documents/fakempox/env_mpox/lib/python3.11/site-packages/langchain/chains/base.py:389\u001b[0m, in \u001b[0;36mChain.__call__\u001b[0;34m(self, inputs, return_only_outputs, callbacks, tags, metadata, run_name, include_run_info)\u001b[0m\n\u001b[1;32m    357\u001b[0m \u001b[39m\u001b[39m\u001b[39m\"\"\"Execute the chain.\u001b[39;00m\n\u001b[1;32m    358\u001b[0m \n\u001b[1;32m    359\u001b[0m \u001b[39mArgs:\u001b[39;00m\n\u001b[0;32m   (...)\u001b[0m\n\u001b[1;32m    380\u001b[0m \u001b[39m        `Chain.output_keys`.\u001b[39;00m\n\u001b[1;32m    381\u001b[0m \u001b[39m\"\"\"\u001b[39;00m\n\u001b[1;32m    382\u001b[0m config \u001b[39m=\u001b[39m {\n\u001b[1;32m    383\u001b[0m     \u001b[39m\"\u001b[39m\u001b[39mcallbacks\u001b[39m\u001b[39m\"\u001b[39m: callbacks,\n\u001b[1;32m    384\u001b[0m     \u001b[39m\"\u001b[39m\u001b[39mtags\u001b[39m\u001b[39m\"\u001b[39m: tags,\n\u001b[1;32m    385\u001b[0m     \u001b[39m\"\u001b[39m\u001b[39mmetadata\u001b[39m\u001b[39m\"\u001b[39m: metadata,\n\u001b[1;32m    386\u001b[0m     \u001b[39m\"\u001b[39m\u001b[39mrun_name\u001b[39m\u001b[39m\"\u001b[39m: run_name,\n\u001b[1;32m    387\u001b[0m }\n\u001b[0;32m--> 389\u001b[0m \u001b[39mreturn\u001b[39;00m \u001b[39mself\u001b[39;49m\u001b[39m.\u001b[39;49minvoke(\n\u001b[1;32m    390\u001b[0m     inputs,\n\u001b[1;32m    391\u001b[0m     cast(RunnableConfig, {k: v \u001b[39mfor\u001b[39;49;00m k, v \u001b[39min\u001b[39;49;00m config\u001b[39m.\u001b[39;49mitems() \u001b[39mif\u001b[39;49;00m v \u001b[39mis\u001b[39;49;00m \u001b[39mnot\u001b[39;49;00m \u001b[39mNone\u001b[39;49;00m}),\n\u001b[1;32m    392\u001b[0m     return_only_outputs\u001b[39m=\u001b[39;49mreturn_only_outputs,\n\u001b[1;32m    393\u001b[0m     include_run_info\u001b[39m=\u001b[39;49minclude_run_info,\n\u001b[1;32m    394\u001b[0m )\n",
      "File \u001b[0;32m~/Documents/fakempox/env_mpox/lib/python3.11/site-packages/langchain/chains/base.py:170\u001b[0m, in \u001b[0;36mChain.invoke\u001b[0;34m(self, input, config, **kwargs)\u001b[0m\n\u001b[1;32m    168\u001b[0m \u001b[39mexcept\u001b[39;00m \u001b[39mBaseException\u001b[39;00m \u001b[39mas\u001b[39;00m e:\n\u001b[1;32m    169\u001b[0m     run_manager\u001b[39m.\u001b[39mon_chain_error(e)\n\u001b[0;32m--> 170\u001b[0m     \u001b[39mraise\u001b[39;00m e\n\u001b[1;32m    171\u001b[0m run_manager\u001b[39m.\u001b[39mon_chain_end(outputs)\n\u001b[1;32m    173\u001b[0m \u001b[39mif\u001b[39;00m include_run_info:\n",
      "File \u001b[0;32m~/Documents/fakempox/env_mpox/lib/python3.11/site-packages/langchain/chains/base.py:160\u001b[0m, in \u001b[0;36mChain.invoke\u001b[0;34m(self, input, config, **kwargs)\u001b[0m\n\u001b[1;32m    157\u001b[0m \u001b[39mtry\u001b[39;00m:\n\u001b[1;32m    158\u001b[0m     \u001b[39mself\u001b[39m\u001b[39m.\u001b[39m_validate_inputs(inputs)\n\u001b[1;32m    159\u001b[0m     outputs \u001b[39m=\u001b[39m (\n\u001b[0;32m--> 160\u001b[0m         \u001b[39mself\u001b[39;49m\u001b[39m.\u001b[39;49m_call(inputs, run_manager\u001b[39m=\u001b[39;49mrun_manager)\n\u001b[1;32m    161\u001b[0m         \u001b[39mif\u001b[39;00m new_arg_supported\n\u001b[1;32m    162\u001b[0m         \u001b[39melse\u001b[39;00m \u001b[39mself\u001b[39m\u001b[39m.\u001b[39m_call(inputs)\n\u001b[1;32m    163\u001b[0m     )\n\u001b[1;32m    165\u001b[0m     final_outputs: Dict[\u001b[39mstr\u001b[39m, Any] \u001b[39m=\u001b[39m \u001b[39mself\u001b[39m\u001b[39m.\u001b[39mprep_outputs(\n\u001b[1;32m    166\u001b[0m         inputs, outputs, return_only_outputs\n\u001b[1;32m    167\u001b[0m     )\n\u001b[1;32m    168\u001b[0m \u001b[39mexcept\u001b[39;00m \u001b[39mBaseException\u001b[39;00m \u001b[39mas\u001b[39;00m e:\n",
      "File \u001b[0;32m~/Documents/fakempox/env_mpox/lib/python3.11/site-packages/langchain/chains/llm.py:126\u001b[0m, in \u001b[0;36mLLMChain._call\u001b[0;34m(self, inputs, run_manager)\u001b[0m\n\u001b[1;32m    121\u001b[0m \u001b[39mdef\u001b[39;00m \u001b[39m_call\u001b[39m(\n\u001b[1;32m    122\u001b[0m     \u001b[39mself\u001b[39m,\n\u001b[1;32m    123\u001b[0m     inputs: Dict[\u001b[39mstr\u001b[39m, Any],\n\u001b[1;32m    124\u001b[0m     run_manager: Optional[CallbackManagerForChainRun] \u001b[39m=\u001b[39m \u001b[39mNone\u001b[39;00m,\n\u001b[1;32m    125\u001b[0m ) \u001b[39m-\u001b[39m\u001b[39m>\u001b[39m Dict[\u001b[39mstr\u001b[39m, \u001b[39mstr\u001b[39m]:\n\u001b[0;32m--> 126\u001b[0m     response \u001b[39m=\u001b[39m \u001b[39mself\u001b[39;49m\u001b[39m.\u001b[39;49mgenerate([inputs], run_manager\u001b[39m=\u001b[39;49mrun_manager)\n\u001b[1;32m    127\u001b[0m     \u001b[39mreturn\u001b[39;00m \u001b[39mself\u001b[39m\u001b[39m.\u001b[39mcreate_outputs(response)[\u001b[39m0\u001b[39m]\n",
      "File \u001b[0;32m~/Documents/fakempox/env_mpox/lib/python3.11/site-packages/langchain/chains/llm.py:138\u001b[0m, in \u001b[0;36mLLMChain.generate\u001b[0;34m(self, input_list, run_manager)\u001b[0m\n\u001b[1;32m    136\u001b[0m callbacks \u001b[39m=\u001b[39m run_manager\u001b[39m.\u001b[39mget_child() \u001b[39mif\u001b[39;00m run_manager \u001b[39melse\u001b[39;00m \u001b[39mNone\u001b[39;00m\n\u001b[1;32m    137\u001b[0m \u001b[39mif\u001b[39;00m \u001b[39misinstance\u001b[39m(\u001b[39mself\u001b[39m\u001b[39m.\u001b[39mllm, BaseLanguageModel):\n\u001b[0;32m--> 138\u001b[0m     \u001b[39mreturn\u001b[39;00m \u001b[39mself\u001b[39;49m\u001b[39m.\u001b[39;49mllm\u001b[39m.\u001b[39;49mgenerate_prompt(\n\u001b[1;32m    139\u001b[0m         prompts,\n\u001b[1;32m    140\u001b[0m         stop,\n\u001b[1;32m    141\u001b[0m         callbacks\u001b[39m=\u001b[39;49mcallbacks,\n\u001b[1;32m    142\u001b[0m         \u001b[39m*\u001b[39;49m\u001b[39m*\u001b[39;49m\u001b[39mself\u001b[39;49m\u001b[39m.\u001b[39;49mllm_kwargs,\n\u001b[1;32m    143\u001b[0m     )\n\u001b[1;32m    144\u001b[0m \u001b[39melse\u001b[39;00m:\n\u001b[1;32m    145\u001b[0m     results \u001b[39m=\u001b[39m \u001b[39mself\u001b[39m\u001b[39m.\u001b[39mllm\u001b[39m.\u001b[39mbind(stop\u001b[39m=\u001b[39mstop, \u001b[39m*\u001b[39m\u001b[39m*\u001b[39m\u001b[39mself\u001b[39m\u001b[39m.\u001b[39mllm_kwargs)\u001b[39m.\u001b[39mbatch(\n\u001b[1;32m    146\u001b[0m         cast(List, prompts), {\u001b[39m\"\u001b[39m\u001b[39mcallbacks\u001b[39m\u001b[39m\"\u001b[39m: callbacks}\n\u001b[1;32m    147\u001b[0m     )\n",
      "File \u001b[0;32m~/Documents/fakempox/env_mpox/lib/python3.11/site-packages/langchain_core/language_models/chat_models.py:786\u001b[0m, in \u001b[0;36mBaseChatModel.generate_prompt\u001b[0;34m(self, prompts, stop, callbacks, **kwargs)\u001b[0m\n\u001b[1;32m    778\u001b[0m \u001b[39mdef\u001b[39;00m \u001b[39mgenerate_prompt\u001b[39m(\n\u001b[1;32m    779\u001b[0m     \u001b[39mself\u001b[39m,\n\u001b[1;32m    780\u001b[0m     prompts: List[PromptValue],\n\u001b[0;32m   (...)\u001b[0m\n\u001b[1;32m    783\u001b[0m     \u001b[39m*\u001b[39m\u001b[39m*\u001b[39mkwargs: Any,\n\u001b[1;32m    784\u001b[0m ) \u001b[39m-\u001b[39m\u001b[39m>\u001b[39m LLMResult:\n\u001b[1;32m    785\u001b[0m     prompt_messages \u001b[39m=\u001b[39m [p\u001b[39m.\u001b[39mto_messages() \u001b[39mfor\u001b[39;00m p \u001b[39min\u001b[39;00m prompts]\n\u001b[0;32m--> 786\u001b[0m     \u001b[39mreturn\u001b[39;00m \u001b[39mself\u001b[39;49m\u001b[39m.\u001b[39;49mgenerate(prompt_messages, stop\u001b[39m=\u001b[39;49mstop, callbacks\u001b[39m=\u001b[39;49mcallbacks, \u001b[39m*\u001b[39;49m\u001b[39m*\u001b[39;49mkwargs)\n",
      "File \u001b[0;32m~/Documents/fakempox/env_mpox/lib/python3.11/site-packages/langchain_core/language_models/chat_models.py:643\u001b[0m, in \u001b[0;36mBaseChatModel.generate\u001b[0;34m(self, messages, stop, callbacks, tags, metadata, run_name, run_id, **kwargs)\u001b[0m\n\u001b[1;32m    641\u001b[0m         \u001b[39mif\u001b[39;00m run_managers:\n\u001b[1;32m    642\u001b[0m             run_managers[i]\u001b[39m.\u001b[39mon_llm_error(e, response\u001b[39m=\u001b[39mLLMResult(generations\u001b[39m=\u001b[39m[]))\n\u001b[0;32m--> 643\u001b[0m         \u001b[39mraise\u001b[39;00m e\n\u001b[1;32m    644\u001b[0m flattened_outputs \u001b[39m=\u001b[39m [\n\u001b[1;32m    645\u001b[0m     LLMResult(generations\u001b[39m=\u001b[39m[res\u001b[39m.\u001b[39mgenerations], llm_output\u001b[39m=\u001b[39mres\u001b[39m.\u001b[39mllm_output)  \u001b[39m# type: ignore[list-item]\u001b[39;00m\n\u001b[1;32m    646\u001b[0m     \u001b[39mfor\u001b[39;00m res \u001b[39min\u001b[39;00m results\n\u001b[1;32m    647\u001b[0m ]\n\u001b[1;32m    648\u001b[0m llm_output \u001b[39m=\u001b[39m \u001b[39mself\u001b[39m\u001b[39m.\u001b[39m_combine_llm_outputs([res\u001b[39m.\u001b[39mllm_output \u001b[39mfor\u001b[39;00m res \u001b[39min\u001b[39;00m results])\n",
      "File \u001b[0;32m~/Documents/fakempox/env_mpox/lib/python3.11/site-packages/langchain_core/language_models/chat_models.py:633\u001b[0m, in \u001b[0;36mBaseChatModel.generate\u001b[0;34m(self, messages, stop, callbacks, tags, metadata, run_name, run_id, **kwargs)\u001b[0m\n\u001b[1;32m    630\u001b[0m \u001b[39mfor\u001b[39;00m i, m \u001b[39min\u001b[39;00m \u001b[39menumerate\u001b[39m(messages):\n\u001b[1;32m    631\u001b[0m     \u001b[39mtry\u001b[39;00m:\n\u001b[1;32m    632\u001b[0m         results\u001b[39m.\u001b[39mappend(\n\u001b[0;32m--> 633\u001b[0m             \u001b[39mself\u001b[39;49m\u001b[39m.\u001b[39;49m_generate_with_cache(\n\u001b[1;32m    634\u001b[0m                 m,\n\u001b[1;32m    635\u001b[0m                 stop\u001b[39m=\u001b[39;49mstop,\n\u001b[1;32m    636\u001b[0m                 run_manager\u001b[39m=\u001b[39;49mrun_managers[i] \u001b[39mif\u001b[39;49;00m run_managers \u001b[39melse\u001b[39;49;00m \u001b[39mNone\u001b[39;49;00m,\n\u001b[1;32m    637\u001b[0m                 \u001b[39m*\u001b[39;49m\u001b[39m*\u001b[39;49mkwargs,\n\u001b[1;32m    638\u001b[0m             )\n\u001b[1;32m    639\u001b[0m         )\n\u001b[1;32m    640\u001b[0m     \u001b[39mexcept\u001b[39;00m \u001b[39mBaseException\u001b[39;00m \u001b[39mas\u001b[39;00m e:\n\u001b[1;32m    641\u001b[0m         \u001b[39mif\u001b[39;00m run_managers:\n",
      "File \u001b[0;32m~/Documents/fakempox/env_mpox/lib/python3.11/site-packages/langchain_core/language_models/chat_models.py:855\u001b[0m, in \u001b[0;36mBaseChatModel._generate_with_cache\u001b[0;34m(self, messages, stop, run_manager, **kwargs)\u001b[0m\n\u001b[1;32m    853\u001b[0m \u001b[39melse\u001b[39;00m:\n\u001b[1;32m    854\u001b[0m     \u001b[39mif\u001b[39;00m inspect\u001b[39m.\u001b[39msignature(\u001b[39mself\u001b[39m\u001b[39m.\u001b[39m_generate)\u001b[39m.\u001b[39mparameters\u001b[39m.\u001b[39mget(\u001b[39m\"\u001b[39m\u001b[39mrun_manager\u001b[39m\u001b[39m\"\u001b[39m):\n\u001b[0;32m--> 855\u001b[0m         result \u001b[39m=\u001b[39m \u001b[39mself\u001b[39;49m\u001b[39m.\u001b[39;49m_generate(\n\u001b[1;32m    856\u001b[0m             messages, stop\u001b[39m=\u001b[39;49mstop, run_manager\u001b[39m=\u001b[39;49mrun_manager, \u001b[39m*\u001b[39;49m\u001b[39m*\u001b[39;49mkwargs\n\u001b[1;32m    857\u001b[0m         )\n\u001b[1;32m    858\u001b[0m     \u001b[39melse\u001b[39;00m:\n\u001b[1;32m    859\u001b[0m         result \u001b[39m=\u001b[39m \u001b[39mself\u001b[39m\u001b[39m.\u001b[39m_generate(messages, stop\u001b[39m=\u001b[39mstop, \u001b[39m*\u001b[39m\u001b[39m*\u001b[39mkwargs)\n",
      "File \u001b[0;32m~/Documents/fakempox/env_mpox/lib/python3.11/site-packages/langchain_community/chat_models/openai.py:475\u001b[0m, in \u001b[0;36mChatOpenAI._generate\u001b[0;34m(self, messages, stop, run_manager, stream, **kwargs)\u001b[0m\n\u001b[1;32m    469\u001b[0m message_dicts, params \u001b[39m=\u001b[39m \u001b[39mself\u001b[39m\u001b[39m.\u001b[39m_create_message_dicts(messages, stop)\n\u001b[1;32m    470\u001b[0m params \u001b[39m=\u001b[39m {\n\u001b[1;32m    471\u001b[0m     \u001b[39m*\u001b[39m\u001b[39m*\u001b[39mparams,\n\u001b[1;32m    472\u001b[0m     \u001b[39m*\u001b[39m\u001b[39m*\u001b[39m({\u001b[39m\"\u001b[39m\u001b[39mstream\u001b[39m\u001b[39m\"\u001b[39m: stream} \u001b[39mif\u001b[39;00m stream \u001b[39mis\u001b[39;00m \u001b[39mnot\u001b[39;00m \u001b[39mNone\u001b[39;00m \u001b[39melse\u001b[39;00m {}),\n\u001b[1;32m    473\u001b[0m     \u001b[39m*\u001b[39m\u001b[39m*\u001b[39mkwargs,\n\u001b[1;32m    474\u001b[0m }\n\u001b[0;32m--> 475\u001b[0m response \u001b[39m=\u001b[39m \u001b[39mself\u001b[39;49m\u001b[39m.\u001b[39;49mcompletion_with_retry(\n\u001b[1;32m    476\u001b[0m     messages\u001b[39m=\u001b[39;49mmessage_dicts, run_manager\u001b[39m=\u001b[39;49mrun_manager, \u001b[39m*\u001b[39;49m\u001b[39m*\u001b[39;49mparams\n\u001b[1;32m    477\u001b[0m )\n\u001b[1;32m    478\u001b[0m \u001b[39mreturn\u001b[39;00m \u001b[39mself\u001b[39m\u001b[39m.\u001b[39m_create_chat_result(response)\n",
      "File \u001b[0;32m~/Documents/fakempox/env_mpox/lib/python3.11/site-packages/langchain_community/chat_models/openai.py:386\u001b[0m, in \u001b[0;36mChatOpenAI.completion_with_retry\u001b[0;34m(self, run_manager, **kwargs)\u001b[0m\n\u001b[1;32m    384\u001b[0m \u001b[39m\u001b[39m\u001b[39m\"\"\"Use tenacity to retry the completion call.\"\"\"\u001b[39;00m\n\u001b[1;32m    385\u001b[0m \u001b[39mif\u001b[39;00m is_openai_v1():\n\u001b[0;32m--> 386\u001b[0m     \u001b[39mreturn\u001b[39;00m \u001b[39mself\u001b[39;49m\u001b[39m.\u001b[39;49mclient\u001b[39m.\u001b[39;49mcreate(\u001b[39m*\u001b[39;49m\u001b[39m*\u001b[39;49mkwargs)\n\u001b[1;32m    388\u001b[0m retry_decorator \u001b[39m=\u001b[39m _create_retry_decorator(\u001b[39mself\u001b[39m, run_manager\u001b[39m=\u001b[39mrun_manager)\n\u001b[1;32m    390\u001b[0m \u001b[39m@retry_decorator\u001b[39m\n\u001b[1;32m    391\u001b[0m \u001b[39mdef\u001b[39;00m \u001b[39m_completion_with_retry\u001b[39m(\u001b[39m*\u001b[39m\u001b[39m*\u001b[39mkwargs: Any) \u001b[39m-\u001b[39m\u001b[39m>\u001b[39m Any:\n",
      "File \u001b[0;32m~/Documents/fakempox/env_mpox/lib/python3.11/site-packages/openai/_utils/_utils.py:274\u001b[0m, in \u001b[0;36mrequired_args.<locals>.inner.<locals>.wrapper\u001b[0;34m(*args, **kwargs)\u001b[0m\n\u001b[1;32m    272\u001b[0m             msg \u001b[39m=\u001b[39m \u001b[39mf\u001b[39m\u001b[39m\"\u001b[39m\u001b[39mMissing required argument: \u001b[39m\u001b[39m{\u001b[39;00mquote(missing[\u001b[39m0\u001b[39m])\u001b[39m}\u001b[39;00m\u001b[39m\"\u001b[39m\n\u001b[1;32m    273\u001b[0m     \u001b[39mraise\u001b[39;00m \u001b[39mTypeError\u001b[39;00m(msg)\n\u001b[0;32m--> 274\u001b[0m \u001b[39mreturn\u001b[39;00m func(\u001b[39m*\u001b[39;49margs, \u001b[39m*\u001b[39;49m\u001b[39m*\u001b[39;49mkwargs)\n",
      "File \u001b[0;32m~/Documents/fakempox/env_mpox/lib/python3.11/site-packages/openai/resources/chat/completions.py:704\u001b[0m, in \u001b[0;36mCompletions.create\u001b[0;34m(self, messages, model, frequency_penalty, function_call, functions, logit_bias, logprobs, max_completion_tokens, max_tokens, n, parallel_tool_calls, presence_penalty, response_format, seed, service_tier, stop, stream, stream_options, temperature, tool_choice, tools, top_logprobs, top_p, user, extra_headers, extra_query, extra_body, timeout)\u001b[0m\n\u001b[1;32m    668\u001b[0m \u001b[39m@required_args\u001b[39m([\u001b[39m\"\u001b[39m\u001b[39mmessages\u001b[39m\u001b[39m\"\u001b[39m, \u001b[39m\"\u001b[39m\u001b[39mmodel\u001b[39m\u001b[39m\"\u001b[39m], [\u001b[39m\"\u001b[39m\u001b[39mmessages\u001b[39m\u001b[39m\"\u001b[39m, \u001b[39m\"\u001b[39m\u001b[39mmodel\u001b[39m\u001b[39m\"\u001b[39m, \u001b[39m\"\u001b[39m\u001b[39mstream\u001b[39m\u001b[39m\"\u001b[39m])\n\u001b[1;32m    669\u001b[0m \u001b[39mdef\u001b[39;00m \u001b[39mcreate\u001b[39m(\n\u001b[1;32m    670\u001b[0m     \u001b[39mself\u001b[39m,\n\u001b[0;32m   (...)\u001b[0m\n\u001b[1;32m    701\u001b[0m     timeout: \u001b[39mfloat\u001b[39m \u001b[39m|\u001b[39m httpx\u001b[39m.\u001b[39mTimeout \u001b[39m|\u001b[39m \u001b[39mNone\u001b[39;00m \u001b[39m|\u001b[39m NotGiven \u001b[39m=\u001b[39m NOT_GIVEN,\n\u001b[1;32m    702\u001b[0m ) \u001b[39m-\u001b[39m\u001b[39m>\u001b[39m ChatCompletion \u001b[39m|\u001b[39m Stream[ChatCompletionChunk]:\n\u001b[1;32m    703\u001b[0m     validate_response_format(response_format)\n\u001b[0;32m--> 704\u001b[0m     \u001b[39mreturn\u001b[39;00m \u001b[39mself\u001b[39;49m\u001b[39m.\u001b[39;49m_post(\n\u001b[1;32m    705\u001b[0m         \u001b[39m\"\u001b[39;49m\u001b[39m/chat/completions\u001b[39;49m\u001b[39m\"\u001b[39;49m,\n\u001b[1;32m    706\u001b[0m         body\u001b[39m=\u001b[39;49mmaybe_transform(\n\u001b[1;32m    707\u001b[0m             {\n\u001b[1;32m    708\u001b[0m                 \u001b[39m\"\u001b[39;49m\u001b[39mmessages\u001b[39;49m\u001b[39m\"\u001b[39;49m: messages,\n\u001b[1;32m    709\u001b[0m                 \u001b[39m\"\u001b[39;49m\u001b[39mmodel\u001b[39;49m\u001b[39m\"\u001b[39;49m: model,\n\u001b[1;32m    710\u001b[0m                 \u001b[39m\"\u001b[39;49m\u001b[39mfrequency_penalty\u001b[39;49m\u001b[39m\"\u001b[39;49m: frequency_penalty,\n\u001b[1;32m    711\u001b[0m                 \u001b[39m\"\u001b[39;49m\u001b[39mfunction_call\u001b[39;49m\u001b[39m\"\u001b[39;49m: function_call,\n\u001b[1;32m    712\u001b[0m                 \u001b[39m\"\u001b[39;49m\u001b[39mfunctions\u001b[39;49m\u001b[39m\"\u001b[39;49m: functions,\n\u001b[1;32m    713\u001b[0m                 \u001b[39m\"\u001b[39;49m\u001b[39mlogit_bias\u001b[39;49m\u001b[39m\"\u001b[39;49m: logit_bias,\n\u001b[1;32m    714\u001b[0m                 \u001b[39m\"\u001b[39;49m\u001b[39mlogprobs\u001b[39;49m\u001b[39m\"\u001b[39;49m: logprobs,\n\u001b[1;32m    715\u001b[0m                 \u001b[39m\"\u001b[39;49m\u001b[39mmax_completion_tokens\u001b[39;49m\u001b[39m\"\u001b[39;49m: max_completion_tokens,\n\u001b[1;32m    716\u001b[0m                 \u001b[39m\"\u001b[39;49m\u001b[39mmax_tokens\u001b[39;49m\u001b[39m\"\u001b[39;49m: max_tokens,\n\u001b[1;32m    717\u001b[0m                 \u001b[39m\"\u001b[39;49m\u001b[39mn\u001b[39;49m\u001b[39m\"\u001b[39;49m: n,\n\u001b[1;32m    718\u001b[0m                 \u001b[39m\"\u001b[39;49m\u001b[39mparallel_tool_calls\u001b[39;49m\u001b[39m\"\u001b[39;49m: parallel_tool_calls,\n\u001b[1;32m    719\u001b[0m                 \u001b[39m\"\u001b[39;49m\u001b[39mpresence_penalty\u001b[39;49m\u001b[39m\"\u001b[39;49m: presence_penalty,\n\u001b[1;32m    720\u001b[0m                 \u001b[39m\"\u001b[39;49m\u001b[39mresponse_format\u001b[39;49m\u001b[39m\"\u001b[39;49m: response_format,\n\u001b[1;32m    721\u001b[0m                 \u001b[39m\"\u001b[39;49m\u001b[39mseed\u001b[39;49m\u001b[39m\"\u001b[39;49m: seed,\n\u001b[1;32m    722\u001b[0m                 \u001b[39m\"\u001b[39;49m\u001b[39mservice_tier\u001b[39;49m\u001b[39m\"\u001b[39;49m: service_tier,\n\u001b[1;32m    723\u001b[0m                 \u001b[39m\"\u001b[39;49m\u001b[39mstop\u001b[39;49m\u001b[39m\"\u001b[39;49m: stop,\n\u001b[1;32m    724\u001b[0m                 \u001b[39m\"\u001b[39;49m\u001b[39mstream\u001b[39;49m\u001b[39m\"\u001b[39;49m: stream,\n\u001b[1;32m    725\u001b[0m                 \u001b[39m\"\u001b[39;49m\u001b[39mstream_options\u001b[39;49m\u001b[39m\"\u001b[39;49m: stream_options,\n\u001b[1;32m    726\u001b[0m                 \u001b[39m\"\u001b[39;49m\u001b[39mtemperature\u001b[39;49m\u001b[39m\"\u001b[39;49m: temperature,\n\u001b[1;32m    727\u001b[0m                 \u001b[39m\"\u001b[39;49m\u001b[39mtool_choice\u001b[39;49m\u001b[39m\"\u001b[39;49m: tool_choice,\n\u001b[1;32m    728\u001b[0m                 \u001b[39m\"\u001b[39;49m\u001b[39mtools\u001b[39;49m\u001b[39m\"\u001b[39;49m: tools,\n\u001b[1;32m    729\u001b[0m                 \u001b[39m\"\u001b[39;49m\u001b[39mtop_logprobs\u001b[39;49m\u001b[39m\"\u001b[39;49m: top_logprobs,\n\u001b[1;32m    730\u001b[0m                 \u001b[39m\"\u001b[39;49m\u001b[39mtop_p\u001b[39;49m\u001b[39m\"\u001b[39;49m: top_p,\n\u001b[1;32m    731\u001b[0m                 \u001b[39m\"\u001b[39;49m\u001b[39muser\u001b[39;49m\u001b[39m\"\u001b[39;49m: user,\n\u001b[1;32m    732\u001b[0m             },\n\u001b[1;32m    733\u001b[0m             completion_create_params\u001b[39m.\u001b[39;49mCompletionCreateParams,\n\u001b[1;32m    734\u001b[0m         ),\n\u001b[1;32m    735\u001b[0m         options\u001b[39m=\u001b[39;49mmake_request_options(\n\u001b[1;32m    736\u001b[0m             extra_headers\u001b[39m=\u001b[39;49mextra_headers, extra_query\u001b[39m=\u001b[39;49mextra_query, extra_body\u001b[39m=\u001b[39;49mextra_body, timeout\u001b[39m=\u001b[39;49mtimeout\n\u001b[1;32m    737\u001b[0m         ),\n\u001b[1;32m    738\u001b[0m         cast_to\u001b[39m=\u001b[39;49mChatCompletion,\n\u001b[1;32m    739\u001b[0m         stream\u001b[39m=\u001b[39;49mstream \u001b[39mor\u001b[39;49;00m \u001b[39mFalse\u001b[39;49;00m,\n\u001b[1;32m    740\u001b[0m         stream_cls\u001b[39m=\u001b[39;49mStream[ChatCompletionChunk],\n\u001b[1;32m    741\u001b[0m     )\n",
      "File \u001b[0;32m~/Documents/fakempox/env_mpox/lib/python3.11/site-packages/openai/_base_client.py:1265\u001b[0m, in \u001b[0;36mSyncAPIClient.post\u001b[0;34m(self, path, cast_to, body, options, files, stream, stream_cls)\u001b[0m\n\u001b[1;32m   1251\u001b[0m \u001b[39mdef\u001b[39;00m \u001b[39mpost\u001b[39m(\n\u001b[1;32m   1252\u001b[0m     \u001b[39mself\u001b[39m,\n\u001b[1;32m   1253\u001b[0m     path: \u001b[39mstr\u001b[39m,\n\u001b[0;32m   (...)\u001b[0m\n\u001b[1;32m   1260\u001b[0m     stream_cls: \u001b[39mtype\u001b[39m[_StreamT] \u001b[39m|\u001b[39m \u001b[39mNone\u001b[39;00m \u001b[39m=\u001b[39m \u001b[39mNone\u001b[39;00m,\n\u001b[1;32m   1261\u001b[0m ) \u001b[39m-\u001b[39m\u001b[39m>\u001b[39m ResponseT \u001b[39m|\u001b[39m _StreamT:\n\u001b[1;32m   1262\u001b[0m     opts \u001b[39m=\u001b[39m FinalRequestOptions\u001b[39m.\u001b[39mconstruct(\n\u001b[1;32m   1263\u001b[0m         method\u001b[39m=\u001b[39m\u001b[39m\"\u001b[39m\u001b[39mpost\u001b[39m\u001b[39m\"\u001b[39m, url\u001b[39m=\u001b[39mpath, json_data\u001b[39m=\u001b[39mbody, files\u001b[39m=\u001b[39mto_httpx_files(files), \u001b[39m*\u001b[39m\u001b[39m*\u001b[39moptions\n\u001b[1;32m   1264\u001b[0m     )\n\u001b[0;32m-> 1265\u001b[0m     \u001b[39mreturn\u001b[39;00m cast(ResponseT, \u001b[39mself\u001b[39;49m\u001b[39m.\u001b[39;49mrequest(cast_to, opts, stream\u001b[39m=\u001b[39;49mstream, stream_cls\u001b[39m=\u001b[39;49mstream_cls))\n",
      "File \u001b[0;32m~/Documents/fakempox/env_mpox/lib/python3.11/site-packages/openai/_base_client.py:942\u001b[0m, in \u001b[0;36mSyncAPIClient.request\u001b[0;34m(self, cast_to, options, remaining_retries, stream, stream_cls)\u001b[0m\n\u001b[1;32m    933\u001b[0m \u001b[39mdef\u001b[39;00m \u001b[39mrequest\u001b[39m(\n\u001b[1;32m    934\u001b[0m     \u001b[39mself\u001b[39m,\n\u001b[1;32m    935\u001b[0m     cast_to: Type[ResponseT],\n\u001b[0;32m   (...)\u001b[0m\n\u001b[1;32m    940\u001b[0m     stream_cls: \u001b[39mtype\u001b[39m[_StreamT] \u001b[39m|\u001b[39m \u001b[39mNone\u001b[39;00m \u001b[39m=\u001b[39m \u001b[39mNone\u001b[39;00m,\n\u001b[1;32m    941\u001b[0m ) \u001b[39m-\u001b[39m\u001b[39m>\u001b[39m ResponseT \u001b[39m|\u001b[39m _StreamT:\n\u001b[0;32m--> 942\u001b[0m     \u001b[39mreturn\u001b[39;00m \u001b[39mself\u001b[39;49m\u001b[39m.\u001b[39;49m_request(\n\u001b[1;32m    943\u001b[0m         cast_to\u001b[39m=\u001b[39;49mcast_to,\n\u001b[1;32m    944\u001b[0m         options\u001b[39m=\u001b[39;49moptions,\n\u001b[1;32m    945\u001b[0m         stream\u001b[39m=\u001b[39;49mstream,\n\u001b[1;32m    946\u001b[0m         stream_cls\u001b[39m=\u001b[39;49mstream_cls,\n\u001b[1;32m    947\u001b[0m         remaining_retries\u001b[39m=\u001b[39;49mremaining_retries,\n\u001b[1;32m    948\u001b[0m     )\n",
      "File \u001b[0;32m~/Documents/fakempox/env_mpox/lib/python3.11/site-packages/openai/_base_client.py:1031\u001b[0m, in \u001b[0;36mSyncAPIClient._request\u001b[0;34m(self, cast_to, options, remaining_retries, stream, stream_cls)\u001b[0m\n\u001b[1;32m   1029\u001b[0m \u001b[39mif\u001b[39;00m retries \u001b[39m>\u001b[39m \u001b[39m0\u001b[39m \u001b[39mand\u001b[39;00m \u001b[39mself\u001b[39m\u001b[39m.\u001b[39m_should_retry(err\u001b[39m.\u001b[39mresponse):\n\u001b[1;32m   1030\u001b[0m     err\u001b[39m.\u001b[39mresponse\u001b[39m.\u001b[39mclose()\n\u001b[0;32m-> 1031\u001b[0m     \u001b[39mreturn\u001b[39;00m \u001b[39mself\u001b[39;49m\u001b[39m.\u001b[39;49m_retry_request(\n\u001b[1;32m   1032\u001b[0m         input_options,\n\u001b[1;32m   1033\u001b[0m         cast_to,\n\u001b[1;32m   1034\u001b[0m         retries,\n\u001b[1;32m   1035\u001b[0m         err\u001b[39m.\u001b[39;49mresponse\u001b[39m.\u001b[39;49mheaders,\n\u001b[1;32m   1036\u001b[0m         stream\u001b[39m=\u001b[39;49mstream,\n\u001b[1;32m   1037\u001b[0m         stream_cls\u001b[39m=\u001b[39;49mstream_cls,\n\u001b[1;32m   1038\u001b[0m     )\n\u001b[1;32m   1040\u001b[0m \u001b[39m# If the response is streamed then we need to explicitly read the response\u001b[39;00m\n\u001b[1;32m   1041\u001b[0m \u001b[39m# to completion before attempting to access the response text.\u001b[39;00m\n\u001b[1;32m   1042\u001b[0m \u001b[39mif\u001b[39;00m \u001b[39mnot\u001b[39;00m err\u001b[39m.\u001b[39mresponse\u001b[39m.\u001b[39mis_closed:\n",
      "File \u001b[0;32m~/Documents/fakempox/env_mpox/lib/python3.11/site-packages/openai/_base_client.py:1080\u001b[0m, in \u001b[0;36mSyncAPIClient._retry_request\u001b[0;34m(self, options, cast_to, remaining_retries, response_headers, stream, stream_cls)\u001b[0m\n\u001b[1;32m   1076\u001b[0m \u001b[39m# In a synchronous context we are blocking the entire thread. Up to the library user to run the client in a\u001b[39;00m\n\u001b[1;32m   1077\u001b[0m \u001b[39m# different thread if necessary.\u001b[39;00m\n\u001b[1;32m   1078\u001b[0m time\u001b[39m.\u001b[39msleep(timeout)\n\u001b[0;32m-> 1080\u001b[0m \u001b[39mreturn\u001b[39;00m \u001b[39mself\u001b[39;49m\u001b[39m.\u001b[39;49m_request(\n\u001b[1;32m   1081\u001b[0m     options\u001b[39m=\u001b[39;49moptions,\n\u001b[1;32m   1082\u001b[0m     cast_to\u001b[39m=\u001b[39;49mcast_to,\n\u001b[1;32m   1083\u001b[0m     remaining_retries\u001b[39m=\u001b[39;49mremaining,\n\u001b[1;32m   1084\u001b[0m     stream\u001b[39m=\u001b[39;49mstream,\n\u001b[1;32m   1085\u001b[0m     stream_cls\u001b[39m=\u001b[39;49mstream_cls,\n\u001b[1;32m   1086\u001b[0m )\n",
      "File \u001b[0;32m~/Documents/fakempox/env_mpox/lib/python3.11/site-packages/openai/_base_client.py:1031\u001b[0m, in \u001b[0;36mSyncAPIClient._request\u001b[0;34m(self, cast_to, options, remaining_retries, stream, stream_cls)\u001b[0m\n\u001b[1;32m   1029\u001b[0m \u001b[39mif\u001b[39;00m retries \u001b[39m>\u001b[39m \u001b[39m0\u001b[39m \u001b[39mand\u001b[39;00m \u001b[39mself\u001b[39m\u001b[39m.\u001b[39m_should_retry(err\u001b[39m.\u001b[39mresponse):\n\u001b[1;32m   1030\u001b[0m     err\u001b[39m.\u001b[39mresponse\u001b[39m.\u001b[39mclose()\n\u001b[0;32m-> 1031\u001b[0m     \u001b[39mreturn\u001b[39;00m \u001b[39mself\u001b[39;49m\u001b[39m.\u001b[39;49m_retry_request(\n\u001b[1;32m   1032\u001b[0m         input_options,\n\u001b[1;32m   1033\u001b[0m         cast_to,\n\u001b[1;32m   1034\u001b[0m         retries,\n\u001b[1;32m   1035\u001b[0m         err\u001b[39m.\u001b[39;49mresponse\u001b[39m.\u001b[39;49mheaders,\n\u001b[1;32m   1036\u001b[0m         stream\u001b[39m=\u001b[39;49mstream,\n\u001b[1;32m   1037\u001b[0m         stream_cls\u001b[39m=\u001b[39;49mstream_cls,\n\u001b[1;32m   1038\u001b[0m     )\n\u001b[1;32m   1040\u001b[0m \u001b[39m# If the response is streamed then we need to explicitly read the response\u001b[39;00m\n\u001b[1;32m   1041\u001b[0m \u001b[39m# to completion before attempting to access the response text.\u001b[39;00m\n\u001b[1;32m   1042\u001b[0m \u001b[39mif\u001b[39;00m \u001b[39mnot\u001b[39;00m err\u001b[39m.\u001b[39mresponse\u001b[39m.\u001b[39mis_closed:\n",
      "File \u001b[0;32m~/Documents/fakempox/env_mpox/lib/python3.11/site-packages/openai/_base_client.py:1080\u001b[0m, in \u001b[0;36mSyncAPIClient._retry_request\u001b[0;34m(self, options, cast_to, remaining_retries, response_headers, stream, stream_cls)\u001b[0m\n\u001b[1;32m   1076\u001b[0m \u001b[39m# In a synchronous context we are blocking the entire thread. Up to the library user to run the client in a\u001b[39;00m\n\u001b[1;32m   1077\u001b[0m \u001b[39m# different thread if necessary.\u001b[39;00m\n\u001b[1;32m   1078\u001b[0m time\u001b[39m.\u001b[39msleep(timeout)\n\u001b[0;32m-> 1080\u001b[0m \u001b[39mreturn\u001b[39;00m \u001b[39mself\u001b[39;49m\u001b[39m.\u001b[39;49m_request(\n\u001b[1;32m   1081\u001b[0m     options\u001b[39m=\u001b[39;49moptions,\n\u001b[1;32m   1082\u001b[0m     cast_to\u001b[39m=\u001b[39;49mcast_to,\n\u001b[1;32m   1083\u001b[0m     remaining_retries\u001b[39m=\u001b[39;49mremaining,\n\u001b[1;32m   1084\u001b[0m     stream\u001b[39m=\u001b[39;49mstream,\n\u001b[1;32m   1085\u001b[0m     stream_cls\u001b[39m=\u001b[39;49mstream_cls,\n\u001b[1;32m   1086\u001b[0m )\n",
      "File \u001b[0;32m~/Documents/fakempox/env_mpox/lib/python3.11/site-packages/openai/_base_client.py:1046\u001b[0m, in \u001b[0;36mSyncAPIClient._request\u001b[0;34m(self, cast_to, options, remaining_retries, stream, stream_cls)\u001b[0m\n\u001b[1;32m   1043\u001b[0m         err\u001b[39m.\u001b[39mresponse\u001b[39m.\u001b[39mread()\n\u001b[1;32m   1045\u001b[0m     log\u001b[39m.\u001b[39mdebug(\u001b[39m\"\u001b[39m\u001b[39mRe-raising status error\u001b[39m\u001b[39m\"\u001b[39m)\n\u001b[0;32m-> 1046\u001b[0m     \u001b[39mraise\u001b[39;00m \u001b[39mself\u001b[39m\u001b[39m.\u001b[39m_make_status_error_from_response(err\u001b[39m.\u001b[39mresponse) \u001b[39mfrom\u001b[39;00m \u001b[39mNone\u001b[39;00m\n\u001b[1;32m   1048\u001b[0m \u001b[39mreturn\u001b[39;00m \u001b[39mself\u001b[39m\u001b[39m.\u001b[39m_process_response(\n\u001b[1;32m   1049\u001b[0m     cast_to\u001b[39m=\u001b[39mcast_to,\n\u001b[1;32m   1050\u001b[0m     options\u001b[39m=\u001b[39moptions,\n\u001b[0;32m   (...)\u001b[0m\n\u001b[1;32m   1054\u001b[0m     retries_taken\u001b[39m=\u001b[39moptions\u001b[39m.\u001b[39mget_max_retries(\u001b[39mself\u001b[39m\u001b[39m.\u001b[39mmax_retries) \u001b[39m-\u001b[39m retries,\n\u001b[1;32m   1055\u001b[0m )\n",
      "\u001b[0;31mRateLimitError\u001b[0m: Error code: 429 - {'error': {'message': 'You exceeded your current quota, please check your plan and billing details. For more information on this error, read the docs: https://platform.openai.com/docs/guides/error-codes/api-errors.', 'type': 'insufficient_quota', 'param': None, 'code': 'insufficient_quota'}}"
     ]
    }
   ],
   "source": [
    "from langchain.chains import GraphCypherQAChain\n",
    "from langchain.chat_models import ChatOpenAI\n",
    "\n",
    "# Set up the GraphCypherQAChain\n",
    "cypher_chain = GraphCypherQAChain.from_llm(\n",
    "    graph=graph,\n",
    "    cypher_llm=ChatOpenAI(temperature=0.7, model=\"gpt-3.5-turbo-0125\"),\n",
    "    qa_llm=ChatOpenAI(temperature=0.7, model=\"gpt-3.5-turbo-0125\"),\n",
    "    validate_cypher=True,\n",
    "    verbose=True,\n",
    "    allow_dangerous_requests=True,\n",
    "    return_intermediate_steps=True\n",
    ")\n",
    "\n",
    "# Run the query\n",
    "### Enhancement Query\n",
    "query=\"give me a Articles talking about Mpox in Mexico\"\n",
    "eq = query + \"Consider this: for the new, return the url,label,the country, the virus, and the abstract. in the aswer dont consider a prefix of the column.\"\n",
    "\n",
    "response =  cypher_chain.invoke({\"query\": eq})\n",
    "print(f\"Intermediate steps: {response['intermediate_steps']}\")\n",
    "print(f\"Final answer: {response['result']}\")"
   ]
  },
  {
   "cell_type": "code",
   "execution_count": 11,
   "metadata": {},
   "outputs": [],
   "source": [
    "Query_Cypher = response['intermediate_steps'][0][\"query\"]"
   ]
  },
  {
   "cell_type": "code",
   "execution_count": 12,
   "metadata": {},
   "outputs": [
    {
     "name": "stderr",
     "output_type": "stream",
     "text": [
      "Received notification from DBMS server: {severity: WARNING} {code: Neo.ClientNotification.Statement.UnknownPropertyKeyWarning} {category: UNRECOGNIZED} {title: The provided property key is not in the database} {description: One of the property names in your query is not available in the database, make sure you didn't misspell it or that the label is available when you run this statement in your application (the missing property name is: organization)} {position: line: 2, column: 49, offset: 145} for query: 'MATCH (a:Article)-[:ABOUT_VIRUS]->(v:Virus{name:\"Mpox\"})-[:AFFECTS]->(l:Location{name:\"Mexico\"})\\nRETURN a.url, a.label, l.country, a.abstract, a.organization, v.name'\n"
     ]
    }
   ],
   "source": [
    "response = graph.query(\n",
    "    Query_Cypher\n",
    ")"
   ]
  },
  {
   "cell_type": "code",
   "execution_count": 13,
   "metadata": {},
   "outputs": [
    {
     "data": {
      "text/plain": [
       "[{'a.url': 'https://www.streetinsider.com/Reuters/Argentina+health+officials+determine+as+false+suspected+case+of+mpox+virus+on+ship/23628564.html',\n",
       "  'a.label': 'true',\n",
       "  'l.country': 'MX',\n",
       "  'a.abstract': 'Failed to extract article: Article `download()` failed with 403 Client Error: Forbidden for url: https://www.streetinsider.com/Reuters/Argentina+health+officials+determine+as+false+suspected+case+of+mpox+virus+on+ship/23628564.html on URL https://www.streetinsider.com/Reuters/Argentina+health+officials+determine+as+false+suspected+case+of+mpox+virus+on+ship/23628564.html',\n",
       "  'a.organization': None,\n",
       "  'v.name': 'Mpox'},\n",
       " {'a.url': 'https://www.theglobeandmail.com/world/article-ship-in-argentinas-parana-river-is-quarantined-on-suspected-mpox-case/',\n",
       "  'a.label': 'false',\n",
       "  'l.country': 'MX',\n",
       "  'a.abstract': 'Open this photo in gallery: Ships carry grains for export on the Parana River, in Rosario, Argentina, on Aug. 9.Matias Baglietto/Reuters\\n\\nA ship on Argentina’s Parana River near the grains hub of Rosario has been quarantined due to a suspected case of mpox, local media reported on Tuesday.\\n\\nThe ship is flying a Liberian flag, outlet Infobae reported, citing sources from Argentina’s naval league.\\n\\nAccording to the outlet, the ship’s captain reported that a person on board with “symptoms compatible with the virus” required medical assistance.\\n\\nTest results are pending, Infobae reported.\\n\\nSo far in Argentina, the nation’s health authority has confirmed eight cases of mpox.\\n\\nThe disease, a viral infection that causes pus-filled lesions and flu-like symptoms, is usually mild but can kill. A new variant of mpox has spread rapidly in Africa, prompting the World Health Organization to declare mpox a global public health emergency.',\n",
       "  'a.organization': None,\n",
       "  'v.name': 'Mpox'},\n",
       " {'a.url': 'https://laist.com/shows/airtalk/latest-on-mpox-as-the-who-declares-it-a-global-health-emergency',\n",
       "  'a.label': 'true',\n",
       "  'l.country': 'MX',\n",
       "  'a.abstract': \"Latest on mpox as the WHO declares it a global health emergency\\n\\nListen • 16:47 Latest on mpox as the WHO declares it a global health emergency\\n\\nThe World Health Organization declared Wednesday that the increasing spread of mpox in Africa is a global health emergency, warning the virus might ultimately spill across international borders. The announcement by WHO director-general Tedros Adhanom Ghebreyesus came after a meeting of the U.N. health agency’s emergency committee. The Africa Centers for Disease Control and Prevention declared mpox a public health emergency on the continent on Tuesday. WHO said there have been more than 14,000 cases and 524 deaths in Africa this year, which already exceed last year’s figures.\\n\\nToday on AirTalk, Austin talks to Dr. Peter Chin-Hong, MD , infectious disease specialist and professor of medicine at the UCSF Medical Center, about the implications of mpox as a global health emergency and what this’ll mean in tackling the problem.\\n\\nWith files from the Associated Press\\n\\n\\n\\nBack to Top\\n\\nIs being a perfectionist helpful, harmful, or both? We ask a psychologist to break it down.\\n\\nListen • 22:07 Is being a perfectionist helpful, harmful, or both? We ask a psychologist to break it down.\\n\\nHow many times have you heard someone say “When it comes to such and such…I’m kind of a perfectionist.” Or maybe you know someone who has never said they’re a perfectionist but…all signs point to it. Turns out, “perfectionism” has been steadily rising since the mid-1990s. That’s according to a 2017 study by psychologist Thomas Curran. But what exactly is perfectionism? Can it actually help you achieve a goal? Or is perfectionism purely harmful? Well, Thomas Curran joins us today from the UK where he’s associate professor of Psychology at The London School of Economics and Political Science and author of the book “The Perfection Trap: Embracing the Power of Good Enough.”\\n\\n\\n\\nBack to Top\\n\\nMezcal: the lesser known staple of Oaxacan cuisine\\n\\nListen • 10:40 Mezcal the lesser known staple of Oaxacan cuisine\\n\\nOaxacan cuisine and culture made its way to Los Angeles years ago. And although the community and various restaurants here have popularized aspects of Oaxacan cuisine like mole, the tradition of mezcal has yet to be fully embraced by the city. Ivan Vasquez, chef and owner of the Oaxacan restaurant and mezcalería Madre , aims to change that. Mezcal is a liquor made from agave, but unlike its close counterpart tequila, it's not typically used in cocktails, but enjoyed as its own drink in Oaxaca. Vasquez opened Madre in 2013, with the hopes of representing Oaxaca and the unique culture of mezcal. Now, Madre has the largest selection of mezcal in the United States, and Vasquez hopes to further educate Angelenos about the unique alcohol at a new festival Mezcal Por Siempre. The festival will take place Saturday, September 14, at L.A. River Studios and bring together over 50 visiting mezcal producers from Mexico. Today on AirTalk, Ivan Vasquez joins us today to share some Oaxacan cuisine and teach us about the rich culture of mezcal.\\n\\nFor more information about the upcoming 'Mezcal Por Siempre' event, including a link for tickets, click here.\\n\\n\\n\\nBack to Top\\n\\nFilmWeek: ‘Alien: Romulus,’ Close to You,’ ‘Sugarcane,’ and more\\n\\nListen • 30:32 FilmWeek: ‘Alien: Romulus,’ ‘Close to You,’ ‘Sugarcane,’ And More\\n\\nLarry Mantle and LAist film critics Manuel Betancourt and Christy Lemire review this weekend’s new movie releases on streaming and on demand platforms. We also honor the passing of actress Gena Rowlands, who died at 94 and is best known for her creative partnership with her late, ex-husband, John Cassavetes.\\n\\n“Alien: Romulus” Wide Release\\n\\n“My Penguin Friend” Wide Release\\n\\n“Jackpot!” Streaming on Amazon Prime\\n\\n“Close to You” Laemmle Royal | Monica Film Center | Laemmle NoHo 7 | Laemmle Glendale\\n\\n“Skincare” In Select Theaters\\n\\n“Sugarcane” Laemmle Royal\\n\\n“Rob Peace” Monica Film Center | Town Center 5 | NoHo 7\\n\\n“Untold: The Murder of Air McNair ” Streaming on Netflix\\n\\n“The Union” Streaming on Netflix\\n\\n\\n\\nBack to Top\\n\\nFilmWeek presents ‘The Fast and the Furious’: post-screening conversation with special guests\\n\\nListen • 19:04 FilmWeek presents ‘The Fast and the Furious’: post-screening conversation with special guests\\n\\n“I live my life a quarter mile at a time.” In Los Angeles, many drivers can relate to that famous quote from “The Fast and the Furious,” said by character Dominic Toretto, played by Vin Diesel. The original film brings together a host of references that many Southern California could probably point out. From scenes taking places in areas like Dodgers Stadium, to what is now the San Bernardino Airport, the film has a host of references that locals will get a kick out of seeing on the big screen. Not just that, but it’s fast-paced action sequences and focus on family is why the film has garnered such universal interest.\\n\\nSo LAist thought it’d be great to bring the film to big screen for our most recent FilmWeek screening, this time in partnership with The Frida Cinema in Santa Ana. Following the screening, Larry spoke to film critics Amy Nicholson and Christy Lemire about the film to discuss its significance in our culture. They were also joined the film’s racing consultant, Craig Lieberman, and 2nd unit director Mic Rodgers, to understand all the effort that went into making this movie a high octane blockbuster.\",\n",
       "  'a.organization': None,\n",
       "  'v.name': 'Mpox'},\n",
       " {'a.url': 'https://www.medscape.com/viewarticle/reduced-dose-vaccines-protect-patients-hiv-against-mpox-2024a10003pq',\n",
       "  'a.label': 'true',\n",
       "  'l.country': 'MX',\n",
       "  'a.abstract': 'The smallpox vaccine effectively induces immunity against mpox virus infection (formerly simian smallpox) in patients with human immunodeficiency virus (HIV) infection, although patients with lymphocyte counts below 500 cells/mm3 require booster doses, according to data from a study published in the Journal of Medical Virology.\\n\\nThe data come from the prospective observational study conducted by researchers at the Infection Biology Laboratory of the Department of Medicine and Life Sciences at Pompeu Fabra University and the HIV Unit of the Hospital del Mar Medical Research Institute in Barcelona, Spain. The investigators analyzed T-cell responses induced by vaccination with JYNNEOS.\\n\\nDespite the substantial decrease in the reporting frequency of mpox cases from the global peak in August 2022 (30,894 cases) to 804 monthly cases in the last six months of 2023, mpox continues to circulate, and there is no specific vaccine. The JYNNEOS vaccine, with protective cross-reactivity against orthopoxviruses, is approved by the US Food and Drug Administration and the European Medicines Agency for the prevention of smallpox and mpox in adults at high risk for infection.\\n\\nDuring the 2022 outbreak in the United States and Europe, vaccine shortages led to the emergency use authorization of a lower intradermal dose. This strategy was aimed at increasing vaccine supply up to fivefold.\\n\\nFurther clinical trials are needed to evaluate responses to JYNNEOS vaccination and compare different administration routes in patients with HIV infection. Protecting this population against mpox is a priority because people with high viral loads or loCD4+ T-lymphocyte counts are especially susceptible to severe disease.\\n\\nVaccination Responses\\n\\nThe study assessed the immune response to the JYNNEOS vaccine in patients with HIV who were receiving antiretroviral therapy as outpatients at the Infectious Diseases Unit of Hospital del Mar in Barcelona, Spain. Participants had viral loads controlled by antiretroviral therapy and CD4+ T-lymphocyte counts ≤ 500/mm3 (loCD4 group) or ≥ 500/mm3 (hiCD4 group) in blood. Vaccine responses were compared with those of vaccinated controls without the disease. The study included cases that received the standard subcutaneous vaccine (before August 2022) or the emergency dose-saving intradermal vaccine after its approval in August 2022.\\n\\nThe results demonstrated that the intradermal dose-saving vaccination route is preferable to the subcutaneous route and that patients in the loCD4 group may require at least one booster to generate an efficient response of specific T cells for mpox, wrote the authors.\\n\\n\"This study has two relevant points,\" study author Robert Güerri-Fernandez, MD, PhD, head of infectious diseases at the Hospital del Mar Medical Research Institute, told the Medscape Spanish edition. \"In the subgroup of patients with HIV with effective treatment but without an immune response (ie, loCD4), the vaccine response is worse than in people who have recovered immunity or do not have HIV. Therefore, they need a booster dose.\"\\n\\n\"The second point is that the intradermal route with one-fifth of the standard subcutaneous dose has a better immune response than the standard subcutaneous route.\" He added that it was a good strategy to save doses and be able to vaccinate many more people when vaccine shortages occurred.\\n\\n\"A general conclusion cannot be drawn,\" he added. \"It needs to be validated with many more subjects, of course, but in some way, it reinforced our confidence in the strategy of health authorities to promote intradermal vaccination. There we had evidence that the patients we were vaccinating intradermally were responding well.\"\\n\\nIn Spain, although there is no shortage of vaccines today, they continue to be administered intradermally with a fractionated dose equivalent to one fifth of a standard dose, said Güerri-Fernandez.\\n\\nHowever, in his opinion, observations regarding the two administration routes signal a need for further research. The main message should be that for patients with HIV infection who do not have an immune response, the vaccine response is incomplete, and they need booster doses as well as monitoring of the vaccine immune response, said Güerri-Fernandez.\\n\\nMore Studies Required\\n\\nThe research, which prospectively collected data and blood samples from patients with HIV who received the JYNNEOS vaccine, is small and included only 24 patients with HIV infection, with seven hospital workers who also received the vaccine and seven unvaccinated individuals as controls. \"I am one of the control subjects of the study, and intradermal vaccination is not especially pleasant,\" commented Güerri-Fernandez. \"It is a very innervated area, and the moment of introducing the liquid is uncomfortable. But it is perfectly bearable.\"\\n\\nOutpatient HIV-infected patients from the Infectious Diseases Unit of Hospital del Mar on antiretroviral therapy and with undetectable viral loads were grouped according to their CD4+ T-lymphocyte counts. Those with CD4+ T-lymphocyte counts ≤ 500/mm3 required at least one booster vaccine to exhibit efficient virus-specific T-lymphocyte responses. The magnitude of the T-cell response after this booster correlated directly with the CD4+ T-lymphocyte count of those vaccinated.\\n\\nFor Argentine infectious disease specialist Julián García, MD, clinical researcher at the Huésped Foundation in Buenos Aires, Argentina, who did not participate in the study, it is always productive to know that T-cell responses develop in patients with HIV infection, with CD4+ T-lymphocyte counts > and < 500/mm3, through an intradermal administration route.\\n\\nGarcía emphasized that the most novel aspect is that the JYNNEOS vaccine induces a specific T-cell response in patients with HIV infection that increases with higher CD4+ T-lymphocyte levels. However, he noted that the number of patients was less than 10 in most study groups, and the control group had only intradermal administration, which limits the interpretation of the results. \"It will be necessary to verify this in studies with larger groups with control groups from all routes and with a correlate of protection.\"\\n\\nGarcía referred to this latter point as a significant source of uncertainty. \"The study is fundamentally based on the cellular response, but nowadays, there is no immune correlate of real-life protection.\" He concluded that the study builds knowledge, which is essential for a vaccine that began to be used for mpox and the effectiveness of which is based on estimates.\\n\\nGüerri-Fernandez and Garcia declared no relevant financial conflicts of interest.\\n\\nThis story was translated from the Medscape Spanish edition using several editorial tools, including AI, as part of the process. Human editors reviewed this content before publication.',\n",
       "  'a.organization': None,\n",
       "  'v.name': 'Mpox'},\n",
       " {'a.url': 'https://www.express.co.uk/news/world/1804527/colombia-mom-dies-toxic-fish-cooking-oil-mompox',\n",
       "  'a.label': 'true',\n",
       "  'l.country': 'MX',\n",
       "  'a.abstract': 'A devastating tragedy has left a mother dead and seven others in serious condition after eating fish that had been fried in a toxic substance.\\n\\nThe family from the Mompox district of Colombia accidentally poisoned themselves after using a toxic substance stored in a bottle for a fish dinner, mistaking it for cooking oil. Such was the potency of the toxic dish, seven dogs were also killed after munching on the leftovers.\\n\\nYaneth Dávila Arévalo, 57, the mother of the family, has since been pronounced dead.\\n\\nSeven others, including three children - aged between 11 and 14 years old - were rushed to hospital and remain in a serious condition.\\n\\nThey include the grandparents, father and children of the family, as well as an employee who worked with them.\\n\\nFor all the latest on news, politics, sports, and showbiz from the USA, go to Daily Express US',\n",
       "  'a.organization': None,\n",
       "  'v.name': 'Mpox'},\n",
       " {'a.url': 'https://missoulian.com/lifestyles/health-med-fit/cdc-warns-that-mpox-could-make-a-summer-return/article_ffaf0ed5-c977-5465-ad7e-671cd6ac0e29.html',\n",
       "  'a.label': 'false',\n",
       "  'l.country': 'MX',\n",
       "  'a.abstract': 'Failed to extract article: Article `download()` failed with 429 Client Error: Too Many Requests for url: https://missoulian.com/lifestyles/health-med-fit/cdc-warns-that-mpox-could-make-a-summer-return/article_ffaf0ed5-c977-5465-ad7e-671cd6ac0e29.html on URL https://missoulian.com/lifestyles/health-med-fit/cdc-warns-that-mpox-could-make-a-summer-return/article_ffaf0ed5-c977-5465-ad7e-671cd6ac0e29.html',\n",
       "  'a.organization': None,\n",
       "  'v.name': 'Mpox'},\n",
       " {'a.url': 'https://www.vallartadaily.com/jaliscos-health-officials-monitor-19-people-for-monkeypox-after-close-contact/',\n",
       "  'a.label': 'true',\n",
       "  'l.country': 'MX',\n",
       "  'a.abstract': 'The Truth Behind Cancun’s Decline in Popularity Among Mexicans, and Why They Are Flocking to Puerto Vallarta\\n\\nIn a surprising shift, national tourists have begun to turn away from traditional favorites such as Cancun, Playa del Carmen, and Tulum. According to recent travel consultancy reports from “Mex-Travel” and “Go-Vacation!”, these renowned beach destinations have fallen out of favor during the 2024 summer season, with the stunning beaches of Nuevo Vallarta, Puerto Vallarta,…',\n",
       "  'a.organization': None,\n",
       "  'v.name': 'Mpox'},\n",
       " {'a.url': 'https://www.yumasun.com/news/two-cases-of-mpox-confirmed-in-sonora-1-of-them-in-san-luis-r-c/article_9cee17b2-680b-11ef-9d4b-8b42985e4c04.html',\n",
       "  'a.label': 'true',\n",
       "  'l.country': 'MX',\n",
       "  'a.abstract': 'Thank you for reading!\\n\\nPlease log in, or sign up for a new account and purchase a subscription to continue reading.',\n",
       "  'a.organization': None,\n",
       "  'v.name': 'Mpox'},\n",
       " {'a.url': 'https://www.stabroeknews.com/2024/08/21/news/regional/argentina-quarantines-grains-ship-over-suspected-mpox-case/',\n",
       "  'a.label': 'true',\n",
       "  'l.country': 'MX',\n",
       "  'a.abstract': 'BUENOS AIRES (Reuters) – Argentine authorities have quarantined a cargo ship in the Parana River near the inland grains port of Rosario over a suspected case of mpox onboard, an industry official said on Tuesday.\\n\\nFernando Morales, president of industry body the Argentine Naval League, said that a Liberian-flagged ship set to pick up soy cargo had been ordered to drop anchor in the river while a test on a crew member was carried out.\\n\\n“A crew member with fever and weakness was taken to a hospital in San Nicolas. There they carried out some tests and they say that in principle it could be mpox,” Morales said, adding that the diagnosis was not yet confirmed.\\n\\nThe World Health Organization last week declared mpox a global public health emergency for the second time in two years as a new variant of the virus spread rapidly in Africa. A day later, a case of the clade 1b variant was confirmed in Sweden, the first sign of its spread outside Africa.\\n\\nMpox, a viral infection that causes pus-filled lesions and flu-like symptoms, is usually mild but can kill. The clade 1b variety has caused concern because it seems to spread more easily through routine close contact.\\n\\nMorales said health authorities were guarding the ship and would examine other members of the crew.\\n\\nSome 13 countries have reported mpox cases caused by other strains across the Americas this year, according to WHO data as of last week. Argentina has previously recorded eight cases.',\n",
       "  'a.organization': None,\n",
       "  'v.name': 'Mpox'},\n",
       " {'a.url': 'https://www.swissinfo.ch/eng/argentina-quarantines-grains-ship-over-suspected-mpox-case/87304173',\n",
       "  'a.label': 'true',\n",
       "  'l.country': 'MX',\n",
       "  'a.abstract': 'Argentina quarantines grains ship over suspected mpox case\\n\\nreuters_tickers\\n\\n2 minutes\\n\\nBy Eliana Raszewski and Walter Bianchi\\n\\nBUENOS AIRES (Reuters) -Argentine authorities have quarantined a cargo ship in the Parana River over a suspected case of mpox onboard, the government said on Tuesday, as global public health authorities remain on alert for a new faster-spreading variant of the virus.\\n\\nThe quarantined Liberian-flagged ship was sailing from Santos, Brazil – also a major commodities hub – to pick up soy cargo, according to the health ministry and industry body the Argentine Naval League.\\n\\nThe World Health Organization (WHO) last week declared mpox a global public health emergency for the second time in two years as a new variant of the virus spread rapidly in Africa. A day later, a case of the clade 1b variant was confirmed in Sweden, the first sign of its spread outside Africa.\\n\\nThe ship near Argentina’s inland grains port of Rosario alerted authorities that “one of its crew members of Indian nationality showed cyst-like skin lesions predominantly on the chest and face,” the ministry said in a statement, adding the person had been isolated from the rest of the crew.\\n\\nThe ministry said public health emergency protocol was then activated and the ship, which had been bound for the San Lorenzo port in the Santa Fe province, had to drop anchor in the river.\\n\\nOnly medical personnel will be able to board the ship, while the whole crew will be required to quarantine pending test results, the ministry added.\\n\\nMpox, a viral infection that causes pus-filled lesions and flu-like symptoms, is usually mild but can kill. The clade 1b strain has caused concern because it seems to spread more easily through routine close contact.\\n\\nSome 13 countries have reported mpox cases caused by other strains across the Americas this year, according to WHO data as of last week. Argentina has previously recorded eight cases, though none were the clade 1b strain.\\n\\nDenmark’s Bavarian Nordic is set to decide this week on whether to ramp up vaccine production, while Swiss pharmaceutical company Roche has said it is looking to boost its laboratory testing capacity.\\n\\n(Reporting by Eliana Raszewski, Nicolas Misculin and Walter Bianchi; Editing by Adam Jourdan, Sarah Morland, Rosalba O’Brien and Jamie Freed)',\n",
       "  'a.organization': None,\n",
       "  'v.name': 'Mpox'},\n",
       " {'a.url': 'http://www.surinametimes.com/argentina-to-quarantine-cargo-ship-after-crew-member-shows-symptoms-of-mpox/',\n",
       "  'a.label': 'false',\n",
       "  'l.country': 'MX',\n",
       "  'a.abstract': 'ARGENTINA – Health authorities in Argentina say they will inspect and quarantine a cargo ship in its waters after a crew member showed symptoms of mpox. A spokesperson for the country’s health ministry told CNN the inspection would be carried out by the border health service, which has already contacted the crew. According to the ship tracking service MarineTraffic, the vessel was anchored on a river off its destination in San Lorenzo as of 6:10 p.m. ET. Its previous stop was in Santos, Brazil.\\n\\nMedical personnel will board it and inspect whether the crew member’s symptoms are compatible with mpox. If they are, they will take samples for study. The ship will remain in the harbor and the entire crew will be quarantined until the results of the studies are available. So far, the ministry has not said how many people are on board the Liberia-flagged ship named Ina-Lotte.\\n\\nOn Friday, the ministry called for strengthening border health control measures in Argentina, two days after the World Health Organization declared a public health emergency of international concern due to an outbreak of mpox in parts of Africa. Other Latin American countries, such as Colombia, El Salvador, Venezuela and Mexico have announced similar surveillance measures. A deadlier strain of the virus, clade 1b, is spreading quickly in the Democratic Republic of Congo and has reached at least four previously unaffected countries in Africa. (CNN)…[+]',\n",
       "  'a.organization': None,\n",
       "  'v.name': 'Mpox'},\n",
       " {'a.url': 'https://gazette.com/news/us-world/argentina-quarantines-grains-ship-over-suspected-mpox-case/article_a405d769-ccef-5ffa-b742-b1ab08fb8a44.html',\n",
       "  'a.label': 'true',\n",
       "  'l.country': 'MX',\n",
       "  'a.abstract': 'Failed to extract article: Article `download()` failed with 404 Client Error: Not Found for url: https://gazette.com/news/us-world/argentina-quarantines-grains-ship-over-suspected-mpox-case/article_a405d769-ccef-5ffa-b742-b1ab08fb8a44.html on URL https://gazette.com/news/us-world/argentina-quarantines-grains-ship-over-suspected-mpox-case/article_a405d769-ccef-5ffa-b742-b1ab08fb8a44.html',\n",
       "  'a.organization': None,\n",
       "  'v.name': 'Mpox'},\n",
       " {'a.url': 'http://www.channelafrica.co.za/sabc/home/channelafrica/news/details?id=6a8f4d28-7b94-4ec5-b8ab-f8338ae1732b&title=Mpox%20case%20recorded%20in%20foreigner%20travelling%20from%20Africa:%20Thailand',\n",
       "  'a.label': 'true',\n",
       "  'l.country': 'MX',\n",
       "  'a.abstract': 'Thailand has detected an mpox case in a European man who arrived from Africa last week and is awaiting test results to determine the strain, a disease control official said today.\\n\\nThai authorities were treating the case as if it were the Clade 1 form of mpox, as the person had arrived on August 14 from an African country where it was spreading, Thongchai Keeratihattayakorn, Director-General of the Department of Disease Control, told Reuters.\\n\\nMeanwhile, the Philippines\\' Health Minister said this Wednesday a recently detected mpox case in the Southeast Asian nation is of the mild Clade 2 variant and not the newer variant that has spread rapidly in Africa.\\n\\n\"The mpox we found was the original variety and probably it could have been circulating in our community,\" Health Secretary Teodoro Herbosa told ANC news channel.\\n\\nThe Southeast Asian nation on Monday announced its first mpox case this year. The Philippines has now had 10 laboratory-confirmed case since July 2022.\\n\\nAlso on mpox, the Argentine authorities quarantined a cargo ship in the Parana River over a suspected case of mpox onboard, the government said on Tuesday, as global public health authorities remain on alert for a new faster-spreading variant of the virus.\\n\\nThe quarantined Liberian-flagged ship was sailing from Santos, Brazil, also a major commodities hub, to pick up soy cargo, according to the Health Ministry and industry body the Argentine Naval League.\\n\\n--Reuters--',\n",
       "  'a.organization': None,\n",
       "  'v.name': 'Mpox'},\n",
       " {'a.url': 'https://www.inform.kz/en/mpox-vaccination-in-brazil-kicks-off-in-march_a4044314',\n",
       "  'a.label': 'true',\n",
       "  'l.country': 'MX',\n",
       "  'a.abstract': 'Failed to extract article: Article `download()` failed with 403 Client Error: Forbidden for url: https://www.inform.kz/en/mpox-vaccination-in-brazil-kicks-off-in-march_a4044314 on URL https://www.inform.kz/en/mpox-vaccination-in-brazil-kicks-off-in-march_a4044314',\n",
       "  'a.organization': None,\n",
       "  'v.name': 'Mpox'},\n",
       " {'a.url': 'https://www.streetinsider.com/Business+Wire/Mexico+Needs+mpox+Vaccine,+Says+AHF+and+Vaccine+Advocates+in+The+Lancet+Letter/21340588.html',\n",
       "  'a.label': 'true',\n",
       "  'l.country': 'MX',\n",
       "  'a.abstract': 'Failed to extract article: Article `download()` failed with 403 Client Error: Forbidden for url: https://www.streetinsider.com/Business+Wire/Mexico+Needs+mpox+Vaccine,+Says+AHF+and+Vaccine+Advocates+in+The+Lancet+Letter/21340588.html on URL https://www.streetinsider.com/Business+Wire/Mexico+Needs+mpox+Vaccine,+Says+AHF+and+Vaccine+Advocates+in+The+Lancet+Letter/21340588.html',\n",
       "  'a.organization': None,\n",
       "  'v.name': 'Mpox'},\n",
       " {'a.url': 'https://www.politico.com/newsletters/future-pulse/2023/02/10/mpox-is-simmering-south-of-the-border-00082286',\n",
       "  'a.label': 'true',\n",
       "  'l.country': 'MX',\n",
       "  'a.abstract': 'Failed to extract article: Article `download()` failed with 403 Client Error: Forbidden for url: https://www.politico.com/newsletters/future-pulse/2023/02/10/mpox-is-simmering-south-of-the-border-00082286 on URL https://www.politico.com/newsletters/future-pulse/2023/02/10/mpox-is-simmering-south-of-the-border-00082286',\n",
       "  'a.organization': None,\n",
       "  'v.name': 'Mpox'},\n",
       " {'a.url': 'https://nationworldnews.com/monkeypox-in-argentina-30-increase-in-reported-cases-last-week/',\n",
       "  'a.label': 'true',\n",
       "  'l.country': 'MX',\n",
       "  'a.abstract': 'Bogotá, Colombia – Change hums through the veins of Colombia’s health system like the pulse of life itself. In a move that has sparked both...',\n",
       "  'a.organization': None,\n",
       "  'v.name': 'Mpox'},\n",
       " {'a.url': 'https://nationworldnews.com/peace-authorities-call-for-peace-after-first-case-of-monkeypox-in-tolima-new-day/',\n",
       "  'a.label': 'true',\n",
       "  'l.country': 'MX',\n",
       "  'a.abstract': 'Bogotá, Colombia – Change hums through the veins of Colombia’s health system like the pulse of life itself. In a move that has sparked both...',\n",
       "  'a.organization': None,\n",
       "  'v.name': 'Mpox'},\n",
       " {'a.url': 'https://nationworldnews.com/colombia-takes-measures-to-stem-increase-in-monkeypox-cases/',\n",
       "  'a.label': 'true',\n",
       "  'l.country': 'MX',\n",
       "  'a.abstract': 'Bogotá, Colombia – Change hums through the veins of Colombia’s health system like the pulse of life itself. In a move that has sparked both...',\n",
       "  'a.organization': None,\n",
       "  'v.name': 'Mpox'},\n",
       " {'a.url': 'https://www.mexicostar.com/news/272586265/with-5-total-monkeypox-cases-mexico-rules-out-pandemic',\n",
       "  'a.label': 'true',\n",
       "  'l.country': 'MX',\n",
       "  'a.abstract': 'Failed to extract article: You must `download()` an article first!',\n",
       "  'a.organization': None,\n",
       "  'v.name': 'Mpox'},\n",
       " {'a.url': 'https://newsrnd.com/news/2022-06-13-latin-american-countries-where-there-are-confirmed-cases-of-monkeypox.r1eQj4iNt5.html',\n",
       "  'a.label': 'true',\n",
       "  'l.country': 'MX',\n",
       "  'a.abstract': \"Juliette Armanet Stars in 'Partir un jour': A Heartfelt Journey to Self-Discovery\\n\\nJuliette Armanet will star in the feature film 'Partir un jour', set for release on October 1, 2025. The film follows a woman's journey back to her hometown after her father's heart attack, where she reconnects with her past.\",\n",
       "  'a.organization': None,\n",
       "  'v.name': 'Mpox'},\n",
       " {'a.url': 'https://dallas.culturemap.com/news/city-life/06-10-22-kera-classical-music-screamo-redistricting-monkeypox/',\n",
       "  'a.label': 'true',\n",
       "  'l.country': 'MX',\n",
       "  'a.abstract': 'City News Roundup\\n\\nVisitDallas catches us up on emo and screamo and more Dallas news',\n",
       "  'a.organization': None,\n",
       "  'v.name': 'Mpox'},\n",
       " {'a.url': 'https://www.tellerreport.com/life/2022-05-27-monkeypox-arrives-in-latin-america--argentina-registers-the-first-cases.SJx3icCCPq.html',\n",
       "  'a.label': 'true',\n",
       "  'l.country': 'MX',\n",
       "  'a.abstract': \"Juliette Armanet Stars in 'Partir un jour': A Heartfelt Journey to Self-Discovery\\n\\nJuliette Armanet will star in the feature film 'Partir un jour', set for release on October 1, 2025. The film follows a woman's journey back to her hometown after her father's heart attack, where she reconnects with her past.\",\n",
       "  'a.organization': None,\n",
       "  'v.name': 'Mpox'},\n",
       " {'a.url': 'https://economictimes.indiatimes.com/news/international/world-news/argentina-confirms-latin-americas-first-cases-of-monkeypox/articleshow/91845522.cms',\n",
       "  'a.label': 'true',\n",
       "  'l.country': 'MX',\n",
       "  'a.abstract': \"It seems like you're already an ETPrime member with\\n\\nLogin using your ET Prime credentials to enjoy all member benefits\\n\\nLog out of your current logged-in account and log in again using your ET Prime credentials to enjoy all member benefits.\",\n",
       "  'a.organization': None,\n",
       "  'v.name': 'Mpox'},\n",
       " {'a.url': 'https://www.indiatvnews.com/news/india/breaking-news-live-updates-gyanvapi-case-ladakh-accident-pm-modi-hospital-inauguration-covid-pandemic-monkeypox-russia-ukraine-war-28th-may-2022-779942',\n",
       "  'a.label': 'true',\n",
       "  'l.country': 'MX',\n",
       "  'a.abstract': 'The Thane Motor Accident Claims Tribunal (MACT) has ordered the Brihanmumbai Electric Supply and Transport (BEST) to pay Rs 13.21 lakh compensation to the family of a 20-year man, who lost his life in 2017 in a road accident involving a bus operated by the undertaking. The BEST undertaking provides bus transport services in Mumbai and in neighbouring Navi Mumbai, Thane and Mira Bhayandar areas. In the order passed on May 19, MACT member M M Walimohammed ordered the BEST to make the payment to the claimants within two moths along with the interest at the rate of 7 per cent per annum from the date of filing of the claim, failing which it will have to pay interest at 8 per cent till the realisation of the award amount.',\n",
       "  'a.organization': None,\n",
       "  'v.name': 'Mpox'},\n",
       " {'a.url': 'https://www.tellerreport.com/life/2022-05-27-a-man-from-spain--the-first-case-of-monkeypox-recorded-in-latin-america.rybVDqtRv9.html',\n",
       "  'a.label': 'true',\n",
       "  'l.country': 'MX',\n",
       "  'a.abstract': \"Juliette Armanet Stars in 'Partir un jour': A Heartfelt Journey to Self-Discovery\\n\\nJuliette Armanet will star in the feature film 'Partir un jour', set for release on October 1, 2025. The film follows a woman's journey back to her hometown after her father's heart attack, where she reconnects with her past.\",\n",
       "  'a.organization': None,\n",
       "  'v.name': 'Mpox'},\n",
       " {'a.url': 'https://www.startribune.com/argentina-reports-2-cases-of-monkeypox/600177032/',\n",
       "  'a.label': 'true',\n",
       "  'l.country': 'MX',\n",
       "  'a.abstract': 'Uff Da! Page Not Found\\n\\nWe’re sorry. The page you were looking for couldn’t be found, or may have been moved.',\n",
       "  'a.organization': None,\n",
       "  'v.name': 'Mpox'},\n",
       " {'a.url': 'https://woub.org/2021/10/12/mama-icha-never-lost-sight-of-her-hometown-of-mompox-in-la-casa-de-mama-icha-on-pov-oct-18-at-10-pm/',\n",
       "  'a.label': 'true',\n",
       "  'l.country': 'MX',\n",
       "  'a.abstract': 'Mama Icha never lost sight of her hometown of Mompox in “La Casa de Mama Icha” on POV – Oct. 18 at 10 pm\\n\\nPOV: La Casa de Mama Icha\\n\\nMonday, October 18 at 10 pm\\n\\nAmerican Documentary | POV is pleased to announce the national broadcast premiere of La Casa de Mama Icha, the debut feature documentary from Colombian director and cinematographer Óscar Molina. Debuting as part of POV’s 34th season, the documentary will premiere Monday, October 18, 2021 on PBS at 10 p.m. ET and at pov.org. It will also be available to stream for free at pov.org through December 17, 2021. La Casa de Mama Icha is a co-presentation of POV and Latino Public Broadcasting.\\n\\nAn honorable mention at the Philadelphia Latino Film Festival and an official selection at the Cartagena International Film Festival, La Casa de Mama Icha offers a profound meditation on notions of home and the inescapable pull of one’s motherland. The documentary follows María Dionisia Navarro, otherwise known as Mama Icha, on a physical and spiritual journey that draws on the complexities inherent to many migrant experiences: distance, the loved ones left behind, and the problem of aging in a country that doesn’t feel like your own.\\n\\nAt ninety-three, Mama Icha feels that the end of her life is near. Despite protestations from her family, she spends her days focusing on just one thing: returning to her native village of Mompox in northern Colombia. Mama Icha dreams of passing her final years taking comfort in the landscapes of her youth, walking along the Magdalena River at dusk, surrounded by her relatives and neighbors in the courtyard of the house that she painstakingly had built during her years of absence, with the money she sent from abroad.\\n\\nThirty years prior, Mama Icha had emigrated to the United States to help her daughter with the care of her children, Mama Icha’s grandchildren, and remained ever since. Now, against the best wishes of her family in the U.S. who feel that she’s built an admirable life in Philadelphia complete with Social Security, a community that supports her, and access to important senior resources, \\u200b\\u200bMama Icha boards a plane and flies back to Colombia where she meets her sons, Gustavo and Alberto, who have been in charge of her house while she’s been gone.\\n\\nBut upon returning, the idyllic world of her memories is put up against a harsh reality of deteriorating family relationships and broken expectations. The confrontation is disappointing and forces Mama Icha to consider exactly how much she’s willing to sacrifice for the notion of home that she’s longed for so long.\\n\\n“La Casa de Mama Icha is a declaration of love to one’s own land,” said director Óscar Molina. “In a time of great displacements, of fragmentation of the bonds of belongingness, of the preponderance of certain hegemonic cultural values, Mama Icha’s story reinforces the relevance of a sense of rootedness. She, heroically and with the strength of ancestral thought, faces great obstacles to meet the goal of living her last days and dying in the land of her origin.La casa de Mama Icha also mirrors family conflicts and how difficult they are, especially when elders start depending on the care of others. Altogether, this story invites us to think about the multiple meanings of the experience of ‘home’.”\\n\\n“This is a story of a woman’s dignity and unwillingness to negotiate her values and fulfill her last wish even if she has to leave a comfortable life behind. Mama Icha embodies the dream of many migrants who long to return home. As for many migrants, home is a complex experience and also the point of departure for most of the other experiences that shape our identity. Mama Icha is returning to a house built from a distance and with remittances sent back to Colombia from the United States due to the financial dependency of the income obtained in their host countries. Her story is also of a woman who, even in old age, plans to repair the family fabric that was damaged during her absence. Our invitation to viewers is always to see in Mama Icha’s story a mirror for our own relationships: towards ourselves, our families and our places of origin,” said producer Brenda Steinecke Soto.\\n\\n“In the lines of Mama Icha’s face we see the contours of a lifetime. A life of joy but also struggle, laid bare by the distance between the places she calls home and the efforts it takes to remain rooted in culture and family. This is a beautiful and loving family portrait that will touch any viewer. Don’t miss it!” said Chris White, Executive Producer of POV.\\n\\nShot with intimacy and proximity to its subjects, La Casa de Mama Icha is an observational documentary that portrays the heroic return of María Dionisia Navarro to Colombia after three long decades abroad. It is also an important reconfiguration of the standard immigrant narrative, reversing the direction and chronicling the cross-generational pain that often comes with years of family separation. At the same time, the documentary records the injustices that many elderly people face once they come to depend on others for their own care.\\n\\nBut perhaps more than anything, La Casa de Mama Icha points to the fact that sometimes the idea of “home” is more of a process of homecoming than the return to any one physical place. In this way, Mama Icha’s house becomes a symbol for her ultimate desire, to spend her final years with the knowledge that, in the end, she made her pilgrimage back to her place of origin.',\n",
       "  'a.organization': None,\n",
       "  'v.name': 'Mpox'}]"
      ]
     },
     "execution_count": 13,
     "metadata": {},
     "output_type": "execute_result"
    }
   ],
   "source": [
    "    response"
   ]
  },
  {
   "cell_type": "code",
   "execution_count": 8,
   "metadata": {},
   "outputs": [
    {
     "data": {
      "text/plain": [
       "'https://www.correiobraziliense.com.br/politica/2024/07/6894080-esquema-das-joias-movimentou-rs-25-mi-bolsonaro-recebeu-dinheiro-vivo-diz-pf.html'"
      ]
     },
     "execution_count": 8,
     "metadata": {},
     "output_type": "execute_result"
    }
   ],
   "source": [
    "url = response[0][\"n\"][\"url\"]\n",
    "url"
   ]
  },
  {
   "cell_type": "markdown",
   "metadata": {},
   "source": [
    "## Scrapping web using beautifull soup"
   ]
  },
  {
   "cell_type": "code",
   "execution_count": 9,
   "metadata": {},
   "outputs": [
    {
     "name": "stdout",
     "output_type": "stream",
     "text": [
      "Title of the page: Esquema das joias movimentou R$ 6,8 mi; Bolsonaro recebeu dinheiro vivo, diz PF\n",
      "Ex-presidente Jair Bolsonaro é indiciado pela PF no caso das joias\n",
      "Moraes retira sigilo do inquérito das joias e manda PGR se manifestar\n",
      "DÃª a sua opiniÃ£o! O Correio tem um espaÃ§o na ediÃ§Ã£o impressa para publicar a opiniÃ£o dos leitores pelo e-mail sredat.df@dabr.com.br\n",
      "RepÃ³rter de polÃ­tica, setorista do Supremo Tribunal Federal (STF). Vencedor do PrÃªmio CNT de Jornalismo, possuÃ­ passagens pelo SBT, Record/R7 e estÃ¡ entre os jornalistas mais influentes do Twitter no Brasil.\n",
      "Formada em Jornalismo pela UFSM, no RS, onde pesquisou sobre Jornalismo Internacional, focado em AmÃ©rica Latina. JÃ¡ trabalhou com Cultura, Entretenimento, Redes Sociais, GÃªnero e Minorias Sociais.\n"
     ]
    }
   ],
   "source": [
    "import requests\n",
    "from bs4 import BeautifulSoup\n",
    "\n",
    "# Step 1: Send a GET request to the webpage you want to scrape\n",
    "response = requests.get(url)\n",
    "\n",
    "# Step 2: Parse the HTML content using BeautifulSoup\n",
    "soup = BeautifulSoup(response.text, 'html.parser')\n",
    "\n",
    "# Step 3: Extract the data you need\n",
    "# Example: Getting the title of the webpage\n",
    "title = soup.title.string\n",
    "print(f'Title of the page: {title}')\n",
    "\n",
    "# You can extract other elements by their tag, class, id, etc.\n",
    "# Example: Get all paragraph elements\n",
    "data_scrapped = \"\"\n",
    "paragraphs = soup.find_all('p')\n",
    "for paragraph in paragraphs:\n",
    "    data_scrapped+=paragraph.text + \"\\n\"\n",
    "    print(paragraph.text)"
   ]
  },
  {
   "cell_type": "code",
   "execution_count": 10,
   "metadata": {},
   "outputs": [
    {
     "data": {
      "text/plain": [
       "'Ex-presidente Jair Bolsonaro é indiciado pela PF no caso das joias\\nMoraes retira sigilo do inquérito das joias e manda PGR se manifestar\\nDÃª a sua opiniÃ£o! O Correio tem um espaÃ§o na ediÃ§Ã£o impressa para publicar a opiniÃ£o dos leitores pelo e-mail sredat.df@dabr.com.br\\nRepÃ³rter de polÃ\\xadtica, setorista do Supremo Tribunal Federal (STF). Vencedor do PrÃªmio CNT de Jornalismo, possuÃ\\xad passagens pelo SBT, Record/R7 e estÃ¡ entre os jornalistas mais influentes do Twitter no Brasil.\\nFormada em Jornalismo pela UFSM, no RS, onde pesquisou sobre Jornalismo Internacional, focado em AmÃ©rica Latina. JÃ¡ trabalhou com Cultura, Entretenimento, Redes Sociais, GÃªnero e Minorias Sociais.\\n'"
      ]
     },
     "execution_count": 10,
     "metadata": {},
     "output_type": "execute_result"
    }
   ],
   "source": [
    "data_scrapped"
   ]
  },
  {
   "cell_type": "markdown",
   "metadata": {},
   "source": [
    "## Check if the new is True o False"
   ]
  },
  {
   "cell_type": "code",
   "execution_count": 51,
   "metadata": {},
   "outputs": [],
   "source": [
    "## output parser\n",
    "from langchain_openai import ChatOpenAI\n",
    "from pydantic import BaseModel\n",
    "from pydantic import BaseModel, Field, model_validator\n",
    "from langchain_core.output_parsers import PydanticOutputParser\n",
    "\n",
    "# Define your desired data structure.\n",
    "class NewChecker(BaseModel):\n",
    "    new_title: str = Field(description=\"the new's title\")\n",
    "    reliable: str = Field(description=\"provide details about the source reliable\")\n",
    "    content: str = Field(description = \"The content of the news supported by verifiable evidence\")\n",
    "    score : float = Field(description =\"a score between 0 and 1, where 1 means the news is completely true and closer to 0 means it is false\")\n",
    "parser = PydanticOutputParser(pydantic_object=NewChecker)\n"
   ]
  },
  {
   "cell_type": "code",
   "execution_count": 52,
   "metadata": {},
   "outputs": [
    {
     "ename": "AttributeError",
     "evalue": "'PydanticOutputParser' object has no attribute 'with_structured_output'",
     "output_type": "error",
     "traceback": [
      "\u001b[0;31m---------------------------------------------------------------------------\u001b[0m",
      "\u001b[0;31mAttributeError\u001b[0m                            Traceback (most recent call last)",
      "Cell \u001b[0;32mIn[52], line 24\u001b[0m\n\u001b[1;32m      7\u001b[0m \u001b[39m# Define the prompt template\u001b[39;00m\n\u001b[1;32m      8\u001b[0m template \u001b[39m=\u001b[39m \u001b[39m\"\"\"\u001b[39m\n\u001b[1;32m      9\u001b[0m \u001b[39mYou are an expert in fact-checking, and your task is to analyze the following news to determine whether it is true or false.\u001b[39m\n\u001b[1;32m     10\u001b[0m \u001b[39mNews: \u001b[39m\u001b[39m{news}\u001b[39;00m\n\u001b[0;32m   (...)\u001b[0m\n\u001b[1;32m     18\u001b[0m \n\u001b[1;32m     19\u001b[0m \u001b[39m\"\"\"\u001b[39m\n\u001b[1;32m     21\u001b[0m prompt \u001b[39m=\u001b[39m PromptTemplate(\n\u001b[1;32m     22\u001b[0m     template\u001b[39m=\u001b[39mtemplate,\n\u001b[1;32m     23\u001b[0m     input_variables\u001b[39m=\u001b[39m[\u001b[39m\"\u001b[39m\u001b[39mnews\u001b[39m\u001b[39m\"\u001b[39m],\n\u001b[0;32m---> 24\u001b[0m     partial_variables\u001b[39m=\u001b[39m{\u001b[39m\"\u001b[39m\u001b[39mformat_instructions\u001b[39m\u001b[39m\"\u001b[39m: parser\u001b[39m.\u001b[39;49mwith_structured_output()},\n\u001b[1;32m     25\u001b[0m )\n\u001b[1;32m     27\u001b[0m \u001b[39m# Generate the final prompt with the news article\u001b[39;00m\n\u001b[1;32m     28\u001b[0m final_prompt \u001b[39m=\u001b[39m prompt\u001b[39m.\u001b[39mformat(news\u001b[39m=\u001b[39mdata_scrapped)\n",
      "File \u001b[0;32m~/Documents/fakempox/env_mpox/lib/python3.11/site-packages/pydantic/main.py:856\u001b[0m, in \u001b[0;36m__getattr__\u001b[0;34m(self, item)\u001b[0m\n\u001b[1;32m      0\u001b[0m <Error retrieving source code with stack_data see ipython/ipython#13598>\n",
      "\u001b[0;31mAttributeError\u001b[0m: 'PydanticOutputParser' object has no attribute 'with_structured_output'"
     ]
    }
   ],
   "source": [
    "from langchain.prompts import PromptTemplate\n",
    "from langchain.llms import OpenAI\n",
    "\n",
    "# Define the LLM (using OpenAI as an example)\n",
    "llm = OpenAI(model_name=\"gpt-3.5-turbo-instruct\", temperature=0.0)\n",
    "\n",
    "# Define the prompt template\n",
    "template = \"\"\"\n",
    "You are an expert in fact-checking, and your task is to analyze the following news to determine whether it is true or false.\n",
    "News: {news}\n",
    "\n",
    "Provide a detailed explanation based on the following questions:\n",
    "1. Is the source of the news reliable? If possible, provide details about the source.\n",
    "2. Is the content of the news supported by verifiable evidence or links to credible sources?\n",
    "4. Finally, based on your analysis, provide your reasoning and conclude with a score between 0 and 1, where 1 means the news is completely true and closer to 0 means it is false.\n",
    "\n",
    "{format_instructions}\n",
    "\n",
    "\"\"\"\n",
    "\n",
    "prompt = PromptTemplate(\n",
    "    template=template,\n",
    "    input_variables=[\"news\"],\n",
    "    partial_variables={\"format_instructions\": parser.with_structured_output()},\n",
    ")\n",
    "\n",
    "# Generate the final prompt with the news article\n",
    "final_prompt = prompt.format(news=data_scrapped)\n",
    "\n",
    "# Use the LLM to generate a response\n",
    "response = llm(final_prompt)\n",
    "\n",
    "# Print the response from the model\n",
    "print(response)\n"
   ]
  },
  {
   "cell_type": "markdown",
   "metadata": {},
   "source": []
  }
 ],
 "metadata": {
  "kernelspec": {
   "display_name": "env_mpox",
   "language": "python",
   "name": "python3"
  },
  "language_info": {
   "codemirror_mode": {
    "name": "ipython",
    "version": 3
   },
   "file_extension": ".py",
   "mimetype": "text/x-python",
   "name": "python",
   "nbconvert_exporter": "python",
   "pygments_lexer": "ipython3",
   "version": "3.11.9"
  },
  "orig_nbformat": 4
 },
 "nbformat": 4,
 "nbformat_minor": 2
}
