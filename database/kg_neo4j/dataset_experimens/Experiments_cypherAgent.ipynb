{
  "cells": [
    {
      "cell_type": "code",
      "execution_count": null,
      "metadata": {
        "colab": {
          "base_uri": "https://localhost:8080/"
        },
        "id": "oeE5L00pFEdc",
        "outputId": "88e53a43-8e9b-40fa-e855-6f4c66b3f4b3"
      },
      "outputs": [
        {
          "name": "stdout",
          "output_type": "stream",
          "text": [
            "Collecting together\n",
            "  Downloading together-1.2.12-py3-none-any.whl.metadata (11 kB)\n",
            "Requirement already satisfied: aiohttp<4.0.0,>=3.9.3 in /usr/local/lib/python3.10/dist-packages (from together) (3.10.5)\n",
            "Requirement already satisfied: click<9.0.0,>=8.1.7 in /usr/local/lib/python3.10/dist-packages (from together) (8.1.7)\n",
            "Requirement already satisfied: eval-type-backport<0.3.0,>=0.1.3 in /usr/local/lib/python3.10/dist-packages (from together) (0.2.0)\n",
            "Requirement already satisfied: filelock<4.0.0,>=3.13.1 in /usr/local/lib/python3.10/dist-packages (from together) (3.16.1)\n",
            "Requirement already satisfied: numpy>=1.23.5 in /usr/local/lib/python3.10/dist-packages (from together) (1.26.4)\n",
            "Requirement already satisfied: pillow<11.0.0,>=10.3.0 in /usr/local/lib/python3.10/dist-packages (from together) (10.4.0)\n",
            "Requirement already satisfied: pyarrow>=10.0.1 in /usr/local/lib/python3.10/dist-packages (from together) (14.0.2)\n",
            "Requirement already satisfied: pydantic<3.0.0,>=2.6.3 in /usr/local/lib/python3.10/dist-packages (from together) (2.9.2)\n",
            "Requirement already satisfied: requests<3.0.0,>=2.31.0 in /usr/local/lib/python3.10/dist-packages (from together) (2.32.3)\n",
            "Requirement already satisfied: tabulate<0.10.0,>=0.9.0 in /usr/local/lib/python3.10/dist-packages (from together) (0.9.0)\n",
            "Requirement already satisfied: tqdm<5.0.0,>=4.66.2 in /usr/local/lib/python3.10/dist-packages (from together) (4.66.5)\n",
            "Requirement already satisfied: typer<0.13,>=0.9 in /usr/local/lib/python3.10/dist-packages (from together) (0.12.5)\n",
            "Requirement already satisfied: aiohappyeyeballs>=2.3.0 in /usr/local/lib/python3.10/dist-packages (from aiohttp<4.0.0,>=3.9.3->together) (2.4.0)\n",
            "Requirement already satisfied: aiosignal>=1.1.2 in /usr/local/lib/python3.10/dist-packages (from aiohttp<4.0.0,>=3.9.3->together) (1.3.1)\n",
            "Requirement already satisfied: attrs>=17.3.0 in /usr/local/lib/python3.10/dist-packages (from aiohttp<4.0.0,>=3.9.3->together) (24.2.0)\n",
            "Requirement already satisfied: frozenlist>=1.1.1 in /usr/local/lib/python3.10/dist-packages (from aiohttp<4.0.0,>=3.9.3->together) (1.4.1)\n",
            "Requirement already satisfied: multidict<7.0,>=4.5 in /usr/local/lib/python3.10/dist-packages (from aiohttp<4.0.0,>=3.9.3->together) (6.1.0)\n",
            "Requirement already satisfied: yarl<2.0,>=1.0 in /usr/local/lib/python3.10/dist-packages (from aiohttp<4.0.0,>=3.9.3->together) (1.11.1)\n",
            "Requirement already satisfied: async-timeout<5.0,>=4.0 in /usr/local/lib/python3.10/dist-packages (from aiohttp<4.0.0,>=3.9.3->together) (4.0.3)\n",
            "Requirement already satisfied: annotated-types>=0.6.0 in /usr/local/lib/python3.10/dist-packages (from pydantic<3.0.0,>=2.6.3->together) (0.7.0)\n",
            "Requirement already satisfied: pydantic-core==2.23.4 in /usr/local/lib/python3.10/dist-packages (from pydantic<3.0.0,>=2.6.3->together) (2.23.4)\n",
            "Requirement already satisfied: typing-extensions>=4.6.1 in /usr/local/lib/python3.10/dist-packages (from pydantic<3.0.0,>=2.6.3->together) (4.12.2)\n",
            "Requirement already satisfied: charset-normalizer<4,>=2 in /usr/local/lib/python3.10/dist-packages (from requests<3.0.0,>=2.31.0->together) (3.3.2)\n",
            "Requirement already satisfied: idna<4,>=2.5 in /usr/local/lib/python3.10/dist-packages (from requests<3.0.0,>=2.31.0->together) (3.10)\n",
            "Requirement already satisfied: urllib3<3,>=1.21.1 in /usr/local/lib/python3.10/dist-packages (from requests<3.0.0,>=2.31.0->together) (2.2.3)\n",
            "Requirement already satisfied: certifi>=2017.4.17 in /usr/local/lib/python3.10/dist-packages (from requests<3.0.0,>=2.31.0->together) (2024.8.30)\n",
            "Requirement already satisfied: shellingham>=1.3.0 in /usr/local/lib/python3.10/dist-packages (from typer<0.13,>=0.9->together) (1.5.4)\n",
            "Requirement already satisfied: rich>=10.11.0 in /usr/local/lib/python3.10/dist-packages (from typer<0.13,>=0.9->together) (13.8.1)\n",
            "Requirement already satisfied: markdown-it-py>=2.2.0 in /usr/local/lib/python3.10/dist-packages (from rich>=10.11.0->typer<0.13,>=0.9->together) (3.0.0)\n",
            "Requirement already satisfied: pygments<3.0.0,>=2.13.0 in /usr/local/lib/python3.10/dist-packages (from rich>=10.11.0->typer<0.13,>=0.9->together) (2.18.0)\n",
            "Requirement already satisfied: mdurl~=0.1 in /usr/local/lib/python3.10/dist-packages (from markdown-it-py>=2.2.0->rich>=10.11.0->typer<0.13,>=0.9->together) (0.1.2)\n",
            "Downloading together-1.2.12-py3-none-any.whl (65 kB)\n",
            "\u001b[?25l   \u001b[90m━━━━━━━━━━━━━━━━━━━━━━━━━━━━━━━━━━━━━━━━\u001b[0m \u001b[32m0.0/65.7 kB\u001b[0m \u001b[31m?\u001b[0m eta \u001b[36m-:--:--\u001b[0m\r\u001b[2K   \u001b[90m━━━━━━━━━━━━━━━━━━━━━━━━━━━━━━━━━━━━━━━━\u001b[0m \u001b[32m65.7/65.7 kB\u001b[0m \u001b[31m3.0 MB/s\u001b[0m eta \u001b[36m0:00:00\u001b[0m\n",
            "\u001b[?25hInstalling collected packages: together\n",
            "Successfully installed together-1.2.12\n"
          ]
        }
      ],
      "source": [
        "#!pip install langchain langchain_community\n",
        "#!pip install neo4j\n",
        "#!pip install groq\n",
        "#!pip install -U --quiet langchain-groq\n",
        "#!pip install langchain_experimental\n",
        "!pip install together"
      ]
    },
    {
      "cell_type": "code",
      "execution_count": null,
      "metadata": {
        "id": "W_GBdg3VE7_C"
      },
      "outputs": [],
      "source": [
        "NEO4J_PASSWORD = \"\"\n",
        "OPENAI_API_KEY = \"\"\n",
        "NEO4J_URL = \"\"\n",
        "NEO4J_USERNAME = \"\""
      ]
    },
    {
      "cell_type": "code",
      "execution_count": null,
      "metadata": {
        "id": "WeXyp9UcJJhV"
      },
      "outputs": [],
      "source": [
        "## Questions\n",
        "import pandas as pd\n",
        "questions_and_queries = [\n",
        "    # Questions about the Virus\n",
        "    {\"question\": \"What are all the viruses mentioned in the dataset?\", \"query\": \"MATCH (v:Virus) RETURN v.name\"},\n",
        "    {\"question\": \"Which symptoms are caused by the virus Mpox?\", \"query\": \"MATCH (v:Virus {name: 'Mpox'})-[:CAUSES]->(s:Symptom) RETURN s.name\"},\n",
        "    {\"question\": \"What locations are affected by Mpox?\", \"query\": \"MATCH (v:Virus {name: 'Mpox'})-[:AFFECTS]->(l:Location) RETURN l.name, l.country\"},\n",
        "    {\"question\": \"What transmission methods are related to Mpox?\", \"query\": \"MATCH (v:Virus {name: 'Mpox'})-[:SPREADS_BY]->(t:Transmission) RETURN t.method\"},\n",
        "    {\"question\": \"Which organizations are involved in Mpox?\", \"query\": \"MATCH (v:Virus {name: 'Mpox'})<-[:INVOLVED_IN]-(o:Organization) RETURN o.name\"},\n",
        "\n",
        "    # Questions about Symptoms\n",
        "    {\"question\": \"What are all the symptoms in the dataset?\", \"query\": \"MATCH (s:Symptom) RETURN s.name\"},\n",
        "    {\"question\": \"Which viruses cause the symptom 'Fever'?\", \"query\": \"MATCH (s:Symptom {name: 'Fever'})<-[:CAUSES]-(v:Virus) RETURN v.name\"},\n",
        "    {\"question\": \"Which articles mention the symptom 'Rash'?\", \"query\": \"MATCH (a:Article)-[:MENTIONS_SYMPTOM]->(s:Symptom {name: 'Rash'}) RETURN a.url\"},\n",
        "    {\"question\": \"How many viruses cause each symptom?\", \"query\": \"MATCH (v:Virus)-[:CAUSES]->(s:Symptom) RETURN s.name, count(v) AS virus_count\"},\n",
        "\n",
        "    # Questions about Locations\n",
        "    {\"question\": \"What are all the locations in the dataset?\", \"query\": \"MATCH (l:Location) RETURN l.name, l.country\"},\n",
        "    {\"question\": \"Which viruses affect Mexico?\", \"query\": \"MATCH (l:Location {name: 'Mexico'})<-[:AFFECTS]-(v:Virus) RETURN v.name\"},\n",
        "    {\"question\": \"Which articles mention Mexico?\", \"query\": \"MATCH (a:Article)-[:MENTIONS_LOCATION]->(l:Location {name: 'Mexico'}) RETURN a.url\"},\n",
        "    {\"question\": \"What locations are affected by more than one virus?\", \"query\": \"MATCH (v:Virus)-[:AFFECTS]->(l:Location) WITH l, COUNT(v) AS virus_count WHERE virus_count > 1 RETURN l.name, virus_count\"},\n",
        "\n",
        "    # Questions about Transmission Methods\n",
        "    {\"question\": \"What are all the transmission methods in the dataset?\", \"query\": \"MATCH (t:Transmission) RETURN t.method\"},\n",
        "    {\"question\": \"Which viruses are spread by 'Airborne Transmission'?\", \"query\": \"MATCH (v:Virus)-[:SPREADS_BY]->(t:Transmission {method: 'Airborne Transmission'}) RETURN v.name\"},\n",
        "    {\"question\": \"Which articles mention 'Direct Contact' as a transmission method?\", \"query\": \"MATCH (a:Article)-[:MENTIONS_TRANSMISSION]->(t:Transmission {method: 'Direct Contact'}) RETURN a.url\"},\n",
        "    {\"question\": \"How many viruses are transmitted by each method?\", \"query\": \"MATCH (v:Virus)-[:SPREADS_BY]->(t:Transmission) RETURN t.method, count(v) AS virus_count\"},\n",
        "\n",
        "    # Questions about Organizations\n",
        "    {\"question\": \"What are all the organizations involved in viruses?\", \"query\": \"MATCH (o:Organization) RETURN o.name\"},\n",
        "    {\"question\": \"Which organizations are involved in the virus Mpox?\", \"query\": \"MATCH (o:Organization)-[:INVOLVED_IN]->(v:Virus {name: 'Mpox'}) RETURN o.name\"},\n",
        "    {\"question\": \"Which articles are published by the organization 'WHO'?\", \"query\": \"MATCH (a:Article)-[:PUBLISHED_BY]->(o:Organization {name: 'WHO'}) RETURN a.url\"},\n",
        "\n",
        "    # Questions about Articles\n",
        "    {\"question\": \"What are all the articles in the dataset?\", \"query\": \"MATCH (a:Article) RETURN a.url, a.abstract, a.label\"},\n",
        "    {\"question\": \"Which articles are labeled as true?\", \"query\": \"MATCH (a:Article {label: 'True'}) RETURN a.url, a.abstract\"},\n",
        "    {\"question\": \"Which articles are labeled as fake?\", \"query\": \"MATCH (a:Article {label: 'Fake'}) RETURN a.url, a.abstract\"},\n",
        "    {\"question\": \"Which virus is mentioned in the article with the URL 'example.com'?\", \"query\": \"MATCH (a:Article {url: 'example.com'})-[:ABOUT_VIRUS]->(v:Virus) RETURN v.name\"},\n",
        "    {\"question\": \"Which symptoms are mentioned in the article with the URL 'example.com'?\", \"query\": \"MATCH (a:Article {url: 'example.com'})-[:MENTIONS_SYMPTOM]->(s:Symptom) RETURN s.name\"},\n",
        "\n",
        "    # More specific combinations of queries\n",
        "    {\"question\": \"What are the symptoms caused by Mpox in Mexico?\", \"query\": \"MATCH (v:Virus {name: 'Mpox'})-[:CAUSES]->(s:Symptom)<-[:MENTIONS_SYMPTOM]-(a:Article)-[:MENTIONS_LOCATION]->(l:Location {name: 'Mexico'}) RETURN s.name\"},\n",
        "    {\"question\": \"Which transmission methods are mentioned in articles about Mpox in Mexico?\", \"query\": \"MATCH (a:Article)-[:ABOUT_VIRUS]->(v:Virus {name: 'Mpox'})-[:SPREADS_BY]->(t:Transmission) WHERE (a)-[:MENTIONS_LOCATION]->(l:Location {name: 'Mexico'}) RETURN t.method\"},\n",
        "    {\"question\": \"Which organizations are involved in publishing articles about Mpox?\", \"query\": \"MATCH (a:Article)-[:ABOUT_VIRUS]->(v:Virus {name: 'Mpox'})-[:PUBLISHED_BY]->(o:Organization) RETURN o.name, a.url\"},\n",
        "\n",
        "    # More exploratory questions\n",
        "    {\"question\": \"How many articles mention Mpox?\", \"query\": \"MATCH (a:Article)-[:ABOUT_VIRUS]->(v:Virus {name: 'Mpox'}) RETURN count(a)\"},\n",
        "    {\"question\": \"How many symptoms are associated with each virus?\", \"query\": \"MATCH (v:Virus)-[:CAUSES]->(s:Symptom) RETURN v.name, count(s) AS symptom_count\"},\n",
        "    {\"question\": \"Which virus spreads through 'Animal Transmission'?\", \"query\": \"MATCH (v:Virus)-[:SPREADS_BY]->(t:Transmission {method: 'Animal Transmission'}) RETURN v.name\"},\n",
        "\n",
        "    # Example of abstract-based queries\n",
        "    {\"question\": \"What is the abstract of the article with the URL 'example.com'?\", \"query\": \"MATCH (a:Article {url: 'example.com'}) RETURN a.abstract\"},\n",
        "    {\"question\": \"How many articles are labeled as fact?\", \"query\": \"MATCH (a:Article {label: 'True'}) RETURN count(a)\"},\n",
        "\n",
        "    # And more such combinations...\n",
        "]\n",
        "questions_and_queries += [\n",
        "    # Virus-related questions (continued)\n",
        "    {\"question\": \"Which viruses are mentioned in the dataset?\", \"query\": \"MATCH (v:Virus) RETURN v.name\"},\n",
        "    {\"question\": \"Which viruses affect multiple locations?\", \"query\": \"MATCH (v:Virus)-[:AFFECTS]->(l:Location) WITH v, COUNT(l) AS location_count WHERE location_count > 1 RETURN v.name, location_count\"},\n",
        "    {\"question\": \"Which viruses are spread by multiple transmission methods?\", \"query\": \"MATCH (v:Virus)-[:SPREADS_BY]->(t:Transmission) WITH v, COUNT(t) AS method_count WHERE method_count > 1 RETURN v.name, method_count\"},\n",
        "    {\"question\": \"Which viruses are involved in more than one article?\", \"query\": \"MATCH (v:Virus)<-[:ABOUT_VIRUS]-(a:Article) WITH v, COUNT(a) AS article_count WHERE article_count > 1 RETURN v.name, article_count\"},\n",
        "    {\"question\": \"What is the total number of viruses in the dataset?\", \"query\": \"MATCH (v:Virus) RETURN COUNT(v) AS virus_count\"},\n",
        "\n",
        "    # Symptom-related questions (continued)\n",
        "    {\"question\": \"Which symptom is most frequently mentioned in articles?\", \"query\": \"MATCH (a:Article)-[:MENTIONS_SYMPTOM]->(s:Symptom) RETURN s.name, COUNT(a) AS mention_count ORDER BY mention_count DESC LIMIT 1\"},\n",
        "    {\"question\": \"Which viruses cause both 'Fever' and 'Rash'?\", \"query\": \"MATCH (v:Virus)-[:CAUSES]->(s:Symptom) WHERE s.name IN ['Fever', 'Rash'] RETURN v.name\"},\n",
        "    {\"question\": \"Which symptoms are related to viruses that affect Mexico?\", \"query\": \"MATCH (v:Virus)-[:CAUSES]->(s:Symptom) WHERE (v)-[:AFFECTS]->(l:Location {name: 'Mexico'}) RETURN DISTINCT s.name\"},\n",
        "    {\"question\": \"How many symptoms are mentioned in each article?\", \"query\": \"MATCH (a:Article)-[:MENTIONS_SYMPTOM]->(s:Symptom) RETURN a.url, COUNT(s) AS symptom_count\"},\n",
        "    {\"question\": \"Which viruses cause symptoms related to respiratory issues?\", \"query\": \"MATCH (s:Symptom) WHERE s.name CONTAINS 'Respiratory' WITH s MATCH (v:Virus)-[:CAUSES]->(s) RETURN v.name\"},\n",
        "\n",
        "    # Location-related questions (continued)\n",
        "    {\"question\": \"Which locations are mentioned in more than one article?\", \"query\": \"MATCH (a:Article)-[:MENTIONS_LOCATION]->(l:Location) WITH l, COUNT(a) AS article_count WHERE article_count > 1 RETURN l.name, article_count\"},\n",
        "    {\"question\": \"Which viruses affect locations in both North America and Europe?\", \"query\": \"MATCH (v:Virus)-[:AFFECTS]->(l:Location) WHERE l.country IN ['United States', 'Mexico', 'Canada', 'United Kingdom', 'France', 'Germany'] RETURN v.name, COUNT(l) AS location_count\"},\n",
        "    {\"question\": \"Which countries have the most virus-related articles?\", \"query\": \"MATCH (a:Article)-[:MENTIONS_LOCATION]->(l:Location) RETURN l.country, COUNT(a) AS article_count ORDER BY article_count DESC\"},\n",
        "    {\"question\": \"What are the top 3 locations most frequently affected by viruses?\", \"query\": \"MATCH (v:Virus)-[:AFFECTS]->(l:Location) RETURN l.name, COUNT(v) AS virus_count ORDER BY virus_count DESC LIMIT 3\"},\n",
        "    {\"question\": \"Which articles mention locations in Asia?\", \"query\": \"MATCH (a:Article)-[:MENTIONS_LOCATION]->(l:Location) WHERE l.country IN ['China', 'India', 'Japan'] RETURN a.url\"},\n",
        "\n",
        "    # Transmission-related questions (continued)\n",
        "    {\"question\": \"Which transmission method is most common for viruses?\", \"query\": \"MATCH (v:Virus)-[:SPREADS_BY]->(t:Transmission) RETURN t.method, COUNT(v) AS virus_count ORDER BY virus_count DESC LIMIT 1\"},\n",
        "    {\"question\": \"Which viruses are spread by both airborne and droplet transmission?\", \"query\": \"MATCH (v:Virus)-[:SPREADS_BY]->(t:Transmission) WHERE t.method IN ['Airborne', 'Droplet'] RETURN v.name\"},\n",
        "    {\"question\": \"Which articles mention viruses that are spread by direct contact?\", \"query\": \"MATCH (a:Article)-[:ABOUT_VIRUS]->(v:Virus)-[:SPREADS_BY]->(t:Transmission {method: 'Direct Contact'}) RETURN a.url\"},\n",
        "    {\"question\": \"Which transmission methods are mentioned in the most articles?\", \"query\": \"MATCH (a:Article)-[:MENTIONS_TRANSMISSION]->(t:Transmission) RETURN t.method, COUNT(a) AS mention_count ORDER BY mention_count DESC\"},\n",
        "    {\"question\": \"How many different transmission methods are associated with each virus?\", \"query\": \"MATCH (v:Virus)-[:SPREADS_BY]->(t:Transmission) RETURN v.name, COUNT(t) AS method_count\"},\n",
        "\n",
        "    # Organization-related questions (continued)\n",
        "    {\"question\": \"Which organizations are involved in more than one virus?\", \"query\": \"MATCH (o:Organization)-[:INVOLVED_IN]->(v:Virus) WITH o, COUNT(v) AS virus_count WHERE virus_count > 1 RETURN o.name, virus_count\"},\n",
        "    {\"question\": \"Which articles are published by more than one organization?\", \"query\": \"MATCH (a:Article)-[:PUBLISHED_BY]->(o:Organization) WITH a, COUNT(o) AS org_count WHERE org_count > 1 RETURN a.url, org_count\"},\n",
        "    {\"question\": \"Which organizations are involved in articles about viruses spread by airborne transmission?\", \"query\": \"MATCH (a:Article)-[:ABOUT_VIRUS]->(v:Virus)-[:SPREADS_BY]->(t:Transmission {method: 'Airborne'})-[:PUBLISHED_BY]->(o:Organization) RETURN o.name\"},\n",
        "    {\"question\": \"What is the total number of organizations involved in the dataset?\", \"query\": \"MATCH (o:Organization) RETURN COUNT(o) AS org_count\"},\n",
        "    {\"question\": \"Which organizations are involved in viruses affecting both North and South America?\", \"query\": \"MATCH (o:Organization)-[:INVOLVED_IN]->(v:Virus)-[:AFFECTS]->(l:Location) WHERE l.country IN ['United States', 'Brazil'] RETURN DISTINCT o.name\"},\n",
        "\n",
        "    # Article-related questions (continued)\n",
        "    {\"question\": \"Which articles are about viruses that spread by both airborne and direct contact?\", \"query\": \"MATCH (a:Article)-[:ABOUT_VIRUS]->(v:Virus)-[:SPREADS_BY]->(t:Transmission) WHERE t.method IN ['Airborne', 'Direct Contact'] RETURN a.url\"},\n",
        "    {\"question\": \"Which articles are related to more than one virus?\", \"query\": \"MATCH (a:Article)-[:ABOUT_VIRUS]->(v:Virus) WITH a, COUNT(v) AS virus_count WHERE virus_count > 1 RETURN a.url, virus_count\"},\n",
        "    {\"question\": \"Which articles mention both 'Fever' and 'Rash' as symptoms?\", \"query\": \"MATCH (a:Article)-[:MENTIONS_SYMPTOM]->(s:Symptom) WHERE s.name IN ['Fever', 'Rash'] RETURN a.url\"},\n",
        "    {\"question\": \"Which articles are published by more than one organization?\", \"query\": \"MATCH (a:Article)-[:PUBLISHED_BY]->(o:Organization) WITH a, COUNT(o) AS org_count WHERE org_count > 1 RETURN a.url, org_count\"},\n",
        "    {\"question\": \"Which articles mention both Mexico and the United States?\", \"query\": \"MATCH (a:Article)-[:MENTIONS_LOCATION]->(l:Location) WHERE l.country IN ['Mexico', 'United States'] RETURN DISTINCT a.url\"},\n",
        "\n",
        "    # Combining questions (continued)\n",
        "    {\"question\": \"Which organizations publish articles about Mpox in Mexico?\", \"query\": \"MATCH (a:Article)-[:ABOUT_VIRUS]->(v:Virus {name: 'Mpox'})-[:PUBLISHED_BY]->(o:Organization) WHERE (a)-[:MENTIONS_LOCATION]->(l:Location {name: 'Mexico'}) RETURN o.name, a.url\"},\n",
        "    {\"question\": \"Which viruses cause symptoms related to respiratory and cardiovascular issues?\", \"query\": \"MATCH (s:Symptom) WHERE s.name CONTAINS 'Respiratory' OR s.name CONTAINS 'Cardiovascular' WITH s MATCH (v:Virus)-[:CAUSES]->(s) RETURN v.name\"},\n",
        "    {\"question\": \"Which transmission methods are mentioned in articles about viruses affecting both Mexico and the United States?\", \"query\": \"MATCH (a:Article)-[:ABOUT_VIRUS]->(v:Virus)-[:MENTIONS_TRANSMISSION]->(t:Transmission) WHERE (a)-[:MENTIONS_LOCATION]->(l:Location) AND l.country IN ['Mexico', 'United States'] RETURN t.method, COUNT(a)\"},\n",
        "    {\"question\": \"Which symptoms are caused by viruses that are spread by airborne and droplet transmission?\", \"query\": \"MATCH (v:Virus)-[:CAUSES]->(s:Symptom) WHERE (v)-[:SPREADS_BY]->(t:Transmission) AND t.method IN ['Airborne', 'Droplet'] RETURN s.name\"},\n",
        "]\n",
        "\n",
        "questions_and_queries += [\n",
        "    # Continuing from the last question\n",
        "    {\"question\": \"Which organizations publish articles about viruses affecting both Mexico and Brazil?\", \"query\": \"MATCH (a:Article)-[:ABOUT_VIRUS]->(v:Virus)-[:PUBLISHED_BY]->(o:Organization) WHERE (a)-[:MENTIONS_LOCATION]->(l:Location) AND l.country IN ['Mexico', 'Brazil'] RETURN DISTINCT o.name, a.url\"},\n",
        "    {\"question\": \"Which viruses cause the most symptoms?\", \"query\": \"MATCH (v:Virus)-[:CAUSES]->(s:Symptom) RETURN v.name, COUNT(s) AS symptom_count ORDER BY symptom_count DESC LIMIT 1\"},\n",
        "    {\"question\": \"Which viruses affect the most countries?\", \"query\": \"MATCH (v:Virus)-[:AFFECTS]->(l:Location) RETURN v.name, COUNT(DISTINCT l.country) AS country_count ORDER BY country_count DESC LIMIT 1\"},\n",
        "    {\"question\": \"Which organizations are involved in the most viruses?\", \"query\": \"MATCH (o:Organization)-[:INVOLVED_IN]->(v:Virus) RETURN o.name, COUNT(v) AS virus_count ORDER BY virus_count DESC LIMIT 1\"},\n",
        "    {\"question\": \"Which articles mention viruses affecting more than one continent?\", \"query\": \"MATCH (a:Article)-[:MENTIONS_LOCATION]->(l:Location) WITH a, COUNT(DISTINCT l.country) AS location_count WHERE location_count > 1 RETURN a.url\"},\n",
        "\n",
        "    # Virus-specific combinations (continuing)\n",
        "    {\"question\": \"Which viruses are transmitted via multiple methods in more than one location?\", \"query\": \"MATCH (v:Virus)-[:SPREADS_BY]->(t:Transmission), (v)-[:AFFECTS]->(l:Location) WITH v, COUNT(DISTINCT t) AS method_count, COUNT(DISTINCT l) AS location_count WHERE method_count > 1 AND location_count > 1 RETURN v.name\"},\n",
        "    {\"question\": \"Which symptoms are associated with viruses transmitted by direct contact?\", \"query\": \"MATCH (v:Virus)-[:SPREADS_BY]->(t:Transmission {method: 'Direct Contact'})-[:CAUSES]->(s:Symptom) RETURN DISTINCT s.name\"},\n",
        "    {\"question\": \"What articles mention symptoms related to 'Cardiovascular' issues?\", \"query\": \"MATCH (a:Article)-[:MENTIONS_SYMPTOM]->(s:Symptom) WHERE s.name CONTAINS 'Cardiovascular' RETURN a.url\"},\n",
        "    {\"question\": \"What viruses are transmitted via both 'Direct Contact' and 'Airborne' methods?\", \"query\": \"MATCH (v:Virus)-[:SPREADS_BY]->(t:Transmission) WHERE t.method IN ['Direct Contact', 'Airborne'] RETURN DISTINCT v.name\"},\n",
        "    {\"question\": \"Which organizations publish articles about viruses affecting Europe?\", \"query\": \"MATCH (a:Article)-[:MENTIONS_LOCATION]->(l:Location) WHERE l.country IN ['United Kingdom', 'France', 'Germany']-[:PUBLISHED_BY]->(o:Organization) RETURN DISTINCT o.name, a.url\"},\n",
        "\n",
        "    # More combinations of virus and symptom questions\n",
        "    {\"question\": \"Which viruses cause both respiratory and gastrointestinal symptoms?\", \"query\": \"MATCH (v:Virus)-[:CAUSES]->(s:Symptom) WHERE s.name CONTAINS 'Respiratory' OR s.name CONTAINS 'Gastrointestinal' RETURN DISTINCT v.name\"},\n",
        "    {\"question\": \"Which articles mention both respiratory and cardiovascular symptoms?\", \"query\": \"MATCH (a:Article)-[:MENTIONS_SYMPTOM]->(s:Symptom) WHERE s.name CONTAINS 'Respiratory' OR s.name CONTAINS 'Cardiovascular' RETURN a.url\"},\n",
        "    {\"question\": \"Which organizations are involved in publishing articles about viruses affecting Asia?\", \"query\": \"MATCH (a:Article)-[:MENTIONS_LOCATION]->(l:Location) WHERE l.country IN ['China', 'India', 'Japan']-[:PUBLISHED_BY]->(o:Organization) RETURN DISTINCT o.name, a.url\"},\n",
        "    {\"question\": \"Which articles mention viruses transmitted by both animals and direct contact?\", \"query\": \"MATCH (a:Article)-[:ABOUT_VIRUS]->(v:Virus)-[:SPREADS_BY]->(t:Transmission) WHERE t.method IN ['Animal', 'Direct Contact'] RETURN DISTINCT a.url\"},\n",
        "    {\"question\": \"Which symptoms are most commonly mentioned in articles about viruses affecting the United States?\", \"query\": \"MATCH (a:Article)-[:MENTIONS_SYMPTOM]->(s:Symptom)-[:MENTIONS_LOCATION]->(l:Location {country: 'United States'}) RETURN s.name, COUNT(a) AS mention_count ORDER BY mention_count DESC LIMIT 1\"},\n",
        "\n",
        "    # Further combinations\n",
        "    {\"question\": \"Which articles mention viruses affecting both North America and Asia?\", \"query\": \"MATCH (a:Article)-[:MENTIONS_LOCATION]->(l:Location) WHERE l.country IN ['United States', 'China'] RETURN DISTINCT a.url\"},\n",
        "    {\"question\": \"Which transmission methods are mentioned in articles about viruses causing respiratory symptoms?\", \"query\": \"MATCH (a:Article)-[:ABOUT_VIRUS]->(v:Virus)-[:SPREADS_BY]->(t:Transmission)-[:MENTIONS_SYMPTOM]->(s:Symptom {name: 'Respiratory'}) RETURN t.method\"},\n",
        "    {\"question\": \"Which organizations are involved in viruses affecting multiple continents?\", \"query\": \"MATCH (o:Organization)-[:INVOLVED_IN]->(v:Virus)-[:AFFECTS]->(l:Location) WITH o, COUNT(DISTINCT l.country) AS continent_count WHERE continent_count > 1 RETURN o.name, continent_count\"},\n",
        "    {\"question\": \"What symptoms are mentioned in articles published by WHO?\", \"query\": \"MATCH (a:Article)-[:PUBLISHED_BY]->(o:Organization {name: 'WHO'})-[:MENTIONS_SYMPTOM]->(s:Symptom) RETURN s.name, COUNT(a) AS mention_count ORDER BY mention_count DESC\"},\n",
        "    {\"question\": \"Which transmission methods are associated with articles mentioning cardiovascular symptoms?\", \"query\": \"MATCH (a:Article)-[:MENTIONS_SYMPTOM]->(s:Symptom {name: 'Cardiovascular'})-[:ABOUT_VIRUS]->(v:Virus)-[:SPREADS_BY]->(t:Transmission) RETURN t.method\"},\n",
        "\n",
        "    # Wrapping up with some general queries\n",
        "    {\"question\": \"Which viruses are mentioned in articles labeled as true?\", \"query\": \"MATCH (a:Article {label: 'True'})-[:ABOUT_VIRUS]->(v:Virus) RETURN DISTINCT v.name\"},\n",
        "    {\"question\": \"Which viruses are mentioned in articles labeled as fake?\", \"query\": \"MATCH (a:Article {label: 'Fake'})-[:ABOUT_VIRUS]->(v:Virus) RETURN DISTINCT v.name\"},\n",
        "    {\"question\": \"What are the most common symptoms mentioned in articles about viruses affecting Europe?\", \"query\": \"MATCH (a:Article)-[:MENTIONS_SYMPTOM]->(s:Symptom)-[:MENTIONS_LOCATION]->(l:Location) WHERE l.country IN ['United Kingdom', 'France', 'Germany'] RETURN s.name, COUNT(a) AS mention_count ORDER BY mention_count DESC LIMIT 5\"},\n",
        "    {\"question\": \"What viruses are mentioned in articles labeled as fact?\", \"query\": \"MATCH (a:Article {label: 'True'})-[:ABOUT_VIRUS]->(v:Virus) RETURN v.name\"},\n",
        "    {\"question\": \"Which viruses affect both Mexico and the United Kingdom?\", \"query\": \"MATCH (v:Virus)-[:AFFECTS]->(l:Location) WHERE l.country IN ['Mexico', 'United Kingdom'] RETURN DISTINCT v.name\"},\n",
        "\n",
        "    # Finishing up with 100th question\n",
        "    {\"question\": \"Which organizations are involved in viruses that affect multiple countries?\", \"query\": \"MATCH (o:Organization)-[:INVOLVED_IN]->(v:Virus)-[:AFFECTS]->(l:Location) WITH o, COUNT(DISTINCT l.country) AS country_count WHERE country_count > 1 RETURN o.name, country_count\"}\n",
        "]\n",
        "\n",
        "questions_and_queries += [\n",
        "    # More virus-specific questions\n",
        "    {\"question\": \"Which viruses affect both Africa and Asia?\", \"query\": \"MATCH (v:Virus)-[:AFFECTS]->(l:Location) WHERE l.country IN ['Nigeria', 'South Africa', 'China', 'India'] RETURN DISTINCT v.name\"},\n",
        "    {\"question\": \"Which viruses cause both neurological and gastrointestinal symptoms?\", \"query\": \"MATCH (v:Virus)-[:CAUSES]->(s:Symptom) WHERE s.name CONTAINS 'Neurological' OR s.name CONTAINS 'Gastrointestinal' RETURN DISTINCT v.name\"},\n",
        "    {\"question\": \"Which articles mention viruses that affect both Brazil and the United States?\", \"query\": \"MATCH (a:Article)-[:MENTIONS_LOCATION]->(l:Location) WHERE l.country IN ['Brazil', 'United States'] RETURN DISTINCT a.url\"},\n",
        "\n",
        "    # More symptom-specific questions\n",
        "    {\"question\": \"Which viruses are responsible for fever and rash symptoms in Mexico?\", \"query\": \"MATCH (v:Virus)-[:CAUSES]->(s:Symptom), (v)-[:AFFECTS]->(l:Location {name: 'Mexico'}) WHERE s.name IN ['Fever', 'Rash'] RETURN DISTINCT v.name\"},\n",
        "    {\"question\": \"Which viruses cause symptoms related to skin issues?\", \"query\": \"MATCH (v:Virus)-[:CAUSES]->(s:Symptom) WHERE s.name CONTAINS 'Skin' RETURN DISTINCT v.name\"},\n",
        "\n",
        "    # Transmission and symptom combination\n",
        "    {\"question\": \"Which viruses are spread by airborne transmission and cause respiratory symptoms?\", \"query\": \"MATCH (v:Virus)-[:SPREADS_BY]->(t:Transmission {method: 'Airborne'})-[:CAUSES]->(s:Symptom {name: 'Respiratory'}) RETURN DISTINCT v.name\"},\n",
        "\n",
        "    # Final organization and location query\n",
        "    {\"question\": \"Which organizations are involved in viruses affecting both Africa and South America?\", \"query\": \"MATCH (o:Organization)-[:INVOLVED_IN]->(v:Virus)-[:AFFECTS]->(l:Location) WHERE l.country IN ['Nigeria', 'Brazil'] RETURN DISTINCT o.name\"}\n",
        "]\n",
        "\n",
        "\n",
        "data = pd.DataFrame(questions_and_queries)"
      ]
    },
    {
      "cell_type": "code",
      "execution_count": null,
      "metadata": {
        "id": "poDGx6psJgog"
      },
      "outputs": [],
      "source": [
        "data.to_csv(\"data_for_evaluate_models.csv\", index=False)"
      ]
    },
    {
      "cell_type": "code",
      "execution_count": null,
      "metadata": {
        "id": "3pdo48k4vUZ8"
      },
      "outputs": [],
      "source": [
        "from langchain.graphs import Neo4jGraph\n",
        "\n",
        "url = NEO4J_URL\n",
        "username =NEO4J_USERNAME\n",
        "password = NEO4J_PASSWORD\n",
        "\n",
        "graph = Neo4jGraph(\n",
        "    url=url,\n",
        "    username=username,\n",
        "    password=password\n",
        "\n",
        ")"
      ]
    },
    {
      "cell_type": "code",
      "execution_count": null,
      "metadata": {
        "id": "FInzSXTJLW4c"
      },
      "outputs": [],
      "source": [
        "from langchain.chains import GraphCypherQAChain\n",
        "from langchain.chat_models import ChatOpenAI\n",
        "from langchain_groq import ChatGroq\n",
        "from langchain_experimental.graph_transformers import LLMGraphTransformer\n",
        "\n",
        "##Hyperparameters\n",
        "\n",
        "TEMPERATURE_MODEL=0.5\n",
        "\n",
        "llm_llama37b = ChatGroq(\n",
        "    model=\"llama3-70b-8192\",\n",
        "    temperature=TEMPERATURE_MODEL,\n",
        "    groq_api_key=\"\",\n",
        ")\n",
        "\n",
        "llm_mixtral7b = ChatGroq(\n",
        "    model=\"mixtral-8x7b-32768\",\n",
        "    temperature=TEMPERATURE_MODEL,\n",
        "    groq_api_key=\"\",\n",
        ")\n",
        "\n",
        "llm_gemma7b = ChatGroq(\n",
        "    model=\"gemma-7b-it\",\n",
        "    temperature=TEMPERATURE_MODEL,\n",
        "    groq_api_key=\"\",\n",
        ")\n",
        "\n",
        "llm_llama8b = ChatGroq(\n",
        "    model=\"llama-3.1-8b-instant\",\n",
        "    temperature=TEMPERATURE_MODEL,\n",
        "    groq_api_key=\"\",\n",
        ")\n"
      ]
    },
    {
      "cell_type": "code",
      "execution_count": null,
      "metadata": {
        "id": "yBtHbe1KFiud"
      },
      "outputs": [],
      "source": [
        "def generate_code(question):\n",
        "  cypher_chain = GraphCypherQAChain.from_llm(\n",
        "      graph=graph,\n",
        "      cypher_llm=llm_llama8b,\n",
        "      qa_llm=llm_llama8b,\n",
        "      validate_cypher=True,\n",
        "      verbose=True,\n",
        "      allow_dangerous_requests=True,\n",
        "      return_intermediate_steps=True\n",
        "  )\n",
        "  try:\n",
        "    response =  cypher_chain.invoke({\"query\": question})\n",
        "    query_final = response['intermediate_steps'][0][\"query\"]\n",
        "    ##result\n",
        "    result_db = len(response['intermediate_steps'][1][\"context\"])\n",
        "    if result_db>0:\n",
        "      retrieve_data = 1\n",
        "    else:\n",
        "      retrieve_data = 0\n",
        "    return query_final, retrieve_data\n",
        "  except:\n",
        "    return \"The query does not generate!\" , 0\n",
        "\n"
      ]
    },
    {
      "cell_type": "code",
      "execution_count": null,
      "metadata": {
        "colab": {
          "base_uri": "https://localhost:8080/"
        },
        "id": "D-nxOBY4lld5",
        "outputId": "4853cc1f-e93a-42ad-a752-65b10716b1e0"
      },
      "outputs": [
        {
          "name": "stderr",
          "output_type": "stream",
          "text": [
            "WARNING:langchain_core.callbacks.manager:Error in StdOutCallbackHandler.on_chain_start callback: AttributeError(\"'NoneType' object has no attribute 'get'\")\n"
          ]
        },
        {
          "name": "stdout",
          "output_type": "stream",
          "text": [
            "Generated Cypher:\n",
            "\u001b[32;1m\u001b[1;3mMATCH (v:Virus) RETURN v\u001b[0m\n",
            "Full Context:\n",
            "\u001b[32;1m\u001b[1;3m[{'v': {'name': 'Mpox, COVID-19'}}, {'v': {'name': 'Monkeypox'}}, {'v': {'name': 'Mpox'}}, {'v': {'name': 'Mpox, Monkeypox'}}, {'v': {'name': 'Mpox, Monkeypox, COVID-19'}}, {'v': {'name': 'Monkeypox, COVID-19'}}, {'v': {'name': 'COVID-19'}}, {'v': {'name': 'Monkeypox, COVID-19, SARS-CoV-2'}}]\u001b[0m\n",
            "\n",
            "\u001b[1m> Finished chain.\u001b[0m\n"
          ]
        },
        {
          "data": {
            "text/plain": [
              "('MATCH (v:Virus) RETURN v', 1)"
            ]
          },
          "execution_count": 38,
          "metadata": {},
          "output_type": "execute_result"
        }
      ],
      "source": [
        "generate_code(data.iloc[0][\"question\"])"
      ]
    },
    {
      "cell_type": "code",
      "execution_count": null,
      "metadata": {
        "colab": {
          "base_uri": "https://localhost:8080/"
        },
        "id": "t_ExjO8RU5A9",
        "outputId": "35dcc731-8cf4-4b2c-c93e-6fa5183098eb"
      },
      "outputs": [
        {
          "name": "stderr",
          "output_type": "stream",
          "text": [
            "\r  0%|          | 0/100 [00:00<?, ?it/s]WARNING:langchain_core.callbacks.manager:Error in StdOutCallbackHandler.on_chain_start callback: AttributeError(\"'NoneType' object has no attribute 'get'\")\n"
          ]
        },
        {
          "name": "stdout",
          "output_type": "stream",
          "text": [
            "Generated Cypher:\n",
            "\u001b[32;1m\u001b[1;3mMATCH (v:Virus) RETURN v.name AS VirusName\u001b[0m\n",
            "Full Context:\n",
            "\u001b[32;1m\u001b[1;3m[{'VirusName': 'Mpox, COVID-19'}, {'VirusName': 'Monkeypox'}, {'VirusName': 'Mpox'}, {'VirusName': 'Mpox, Monkeypox'}, {'VirusName': 'Mpox, Monkeypox, COVID-19'}, {'VirusName': 'Monkeypox, COVID-19'}, {'VirusName': 'COVID-19'}, {'VirusName': 'Monkeypox, COVID-19, SARS-CoV-2'}]\u001b[0m\n"
          ]
        },
        {
          "name": "stderr",
          "output_type": "stream",
          "text": [
            "\r  1%|          | 1/100 [00:00<00:46,  2.12it/s]WARNING:langchain_core.callbacks.manager:Error in StdOutCallbackHandler.on_chain_start callback: AttributeError(\"'NoneType' object has no attribute 'get'\")\n"
          ]
        },
        {
          "name": "stdout",
          "output_type": "stream",
          "text": [
            "\n",
            "\u001b[1m> Finished chain.\u001b[0m\n",
            "Generated Cypher:\n",
            "\u001b[32;1m\u001b[1;3mMATCH (v:Virus {name: 'Mpox'})-[:CAUSES]->(s:Symptom) RETURN s.name\u001b[0m\n"
          ]
        },
        {
          "name": "stderr",
          "output_type": "stream",
          "text": [
            "\r  2%|▏         | 2/100 [00:00<00:40,  2.42it/s]WARNING:langchain_core.callbacks.manager:Error in StdOutCallbackHandler.on_chain_start callback: AttributeError(\"'NoneType' object has no attribute 'get'\")\n"
          ]
        },
        {
          "name": "stdout",
          "output_type": "stream",
          "text": [
            "Full Context:\n",
            "\u001b[32;1m\u001b[1;3m[{'s.name': 'Swollen Lymph Nodes'}, {'s.name': 'Fever'}, {'s.name': 'Rash'}, {'s.name': 'fever'}, {'s.name': 'Muscle Aches'}]\u001b[0m\n",
            "\n",
            "\u001b[1m> Finished chain.\u001b[0m\n"
          ]
        },
        {
          "name": "stderr",
          "output_type": "stream",
          "text": [
            "\r  3%|▎         | 3/100 [00:01<00:38,  2.52it/s]"
          ]
        },
        {
          "name": "stdout",
          "output_type": "stream",
          "text": [
            "Generated Cypher:\n",
            "\u001b[32;1m\u001b[1;3mMATCH (v:Virus {name: \"Mpox\"})-[:AFFECTS]->(l:Location) RETURN l.name\u001b[0m\n",
            "Full Context:\n",
            "\u001b[32;1m\u001b[1;3m[{'l.name': 'Colombia'}, {'l.name': 'Mexico'}, {'l.name': 'Argentina'}, {'l.name': 'Brazil'}]\u001b[0m\n",
            "\n",
            "\u001b[1m> Finished chain.\u001b[0m\n"
          ]
        },
        {
          "name": "stderr",
          "output_type": "stream",
          "text": [
            "WARNING:langchain_core.callbacks.manager:Error in StdOutCallbackHandler.on_chain_start callback: AttributeError(\"'NoneType' object has no attribute 'get'\")\n"
          ]
        },
        {
          "name": "stdout",
          "output_type": "stream",
          "text": [
            "Generated Cypher:\n",
            "\u001b[32;1m\u001b[1;3mMATCH (v:Virus {name: \"Mpox\"})-[:SPREADS_BY]->(t:Transmission) RETURN t.method\u001b[0m\n",
            "Full Context:\n",
            "\u001b[32;1m\u001b[1;3m[{'t.method': 'Skin-to-Skin'}, {'t.method': 'close contact'}, {'t.method': 'Contaminated Objects'}, {'t.method': 'Respiratory'}]\u001b[0m\n"
          ]
        },
        {
          "name": "stderr",
          "output_type": "stream",
          "text": [
            "\r  4%|▍         | 4/100 [00:01<00:38,  2.52it/s]WARNING:langchain_core.callbacks.manager:Error in StdOutCallbackHandler.on_chain_start callback: AttributeError(\"'NoneType' object has no attribute 'get'\")\n"
          ]
        },
        {
          "name": "stdout",
          "output_type": "stream",
          "text": [
            "\n",
            "\u001b[1m> Finished chain.\u001b[0m\n",
            "Generated Cypher:\n",
            "\u001b[32;1m\u001b[1;3mMATCH (o:Organization)-[:INVOLVED_IN]->(v:Virus {name: \"Mpox\"}) RETURN o.name\u001b[0m\n",
            "Full Context:\n",
            "\u001b[32;1m\u001b[1;3m[{'o.name': 'CDC'}, {'o.name': 'Ministry of Health of Chile'}, {'o.name': 'Ministry of Health of Brazil'}, {'o.name': 'Ministry of Health of Mexico'}, {'o.name': 'WHO, World Health Organization'}, {'o.name': 'WHO'}, {'o.name': 'World Health Organization'}, {'o.name': 'Ministry of Health of Argentina'}]\u001b[0m\n"
          ]
        },
        {
          "name": "stderr",
          "output_type": "stream",
          "text": [
            "\r  5%|▌         | 5/100 [00:02<00:44,  2.14it/s]WARNING:langchain_core.callbacks.manager:Error in StdOutCallbackHandler.on_chain_start callback: AttributeError(\"'NoneType' object has no attribute 'get'\")\n"
          ]
        },
        {
          "name": "stdout",
          "output_type": "stream",
          "text": [
            "\n",
            "\u001b[1m> Finished chain.\u001b[0m\n",
            "Generated Cypher:\n",
            "\u001b[32;1m\u001b[1;3mMATCH (s:Symptom) RETURN s.name AS name\u001b[0m\n"
          ]
        },
        {
          "name": "stderr",
          "output_type": "stream",
          "text": [
            "\r  6%|▌         | 6/100 [00:02<00:41,  2.28it/s]WARNING:langchain_core.callbacks.manager:Error in StdOutCallbackHandler.on_chain_start callback: AttributeError(\"'NoneType' object has no attribute 'get'\")\n"
          ]
        },
        {
          "name": "stdout",
          "output_type": "stream",
          "text": [
            "Full Context:\n",
            "\u001b[32;1m\u001b[1;3m[{'name': 'Swollen Lymph Nodes'}, {'name': 'Fever'}, {'name': 'Rash'}, {'name': 'fever'}, {'name': 'rash'}, {'name': 'muscle aches'}, {'name': 'headache'}, {'name': 'swollen lymph nodes'}, {'name': 'Muscle Aches'}, {'name': 'cough'}]\u001b[0m\n",
            "\n",
            "\u001b[1m> Finished chain.\u001b[0m\n",
            "Generated Cypher:\n",
            "\u001b[32;1m\u001b[1;3mMATCH (v:Virus)-[:CAUSES]->(s:Symptom) WHERE s.name = 'Fever' RETURN v.name\u001b[0m\n",
            "Full Context:\n",
            "\u001b[32;1m\u001b[1;3m[{'v.name': 'Mpox, COVID-19'}, {'v.name': 'Monkeypox'}, {'v.name': 'Mpox'}, {'v.name': 'Mpox, Monkeypox'}, {'v.name': 'Monkeypox, COVID-19'}]\u001b[0m\n"
          ]
        },
        {
          "name": "stderr",
          "output_type": "stream",
          "text": [
            "\r  7%|▋         | 7/100 [00:02<00:39,  2.38it/s]WARNING:langchain_core.callbacks.manager:Error in StdOutCallbackHandler.on_chain_start callback: AttributeError(\"'NoneType' object has no attribute 'get'\")\n"
          ]
        },
        {
          "name": "stdout",
          "output_type": "stream",
          "text": [
            "\n",
            "\u001b[1m> Finished chain.\u001b[0m\n",
            "Generated Cypher:\n",
            "\u001b[32;1m\u001b[1;3mMATCH (a:Article)-[:MENTIONS_SYMPTOM]->(s:Symptom) WHERE s.name = 'Rash' RETURN a\u001b[0m\n",
            "Full Context:\n",
            "\u001b[32;1m\u001b[1;3m[{'a': {'abstract': 'Open this photo in gallery: Ships carry grains for export on the Parana River, in Rosario, Argentina, on Aug. 9.Matias Baglietto/Reuters\\n\\nA ship on Argentina’s Parana River near the grains hub of Rosario has been quarantined due to a suspected case of mpox, local media reported on Tuesday.\\n\\nThe ship is flying a Liberian flag, outlet Infobae reported, citing sources from Argentina’s naval league.\\n\\nAccording to the outlet, the ship’s captain reported that a person on board with “symptoms compatible with the virus” required medical assistance.\\n\\nTest results are pending, Infobae reported.\\n\\nSo far in Argentina, the nation’s health authority has confirmed eight cases of mpox.\\n\\nThe disease, a viral infection that causes pus-filled lesions and flu-like symptoms, is usually mild but can kill. A new variant of mpox has spread rapidly in Africa, prompting the World Health Organization to declare mpox a global public health emergency.', 'label': 'false', 'url': 'https://www.theglobeandmail.com/world/article-ship-in-argentinas-parana-river-is-quarantined-on-suspected-mpox-case/'}}, {'a': {'abstract': \"Latest on mpox as the WHO declares it a global health emergency\\n\\nListen • 16:47 Latest on mpox as the WHO declares it a global health emergency\\n\\nThe World Health Organization declared Wednesday that the increasing spread of mpox in Africa is a global health emergency, warning the virus might ultimately spill across international borders. The announcement by WHO director-general Tedros Adhanom Ghebreyesus came after a meeting of the U.N. health agency’s emergency committee. The Africa Centers for Disease Control and Prevention declared mpox a public health emergency on the continent on Tuesday. WHO said there have been more than 14,000 cases and 524 deaths in Africa this year, which already exceed last year’s figures.\\n\\nToday on AirTalk, Austin talks to Dr. Peter Chin-Hong, MD , infectious disease specialist and professor of medicine at the UCSF Medical Center, about the implications of mpox as a global health emergency and what this’ll mean in tackling the problem.\\n\\nWith files from the Associated Press\\n\\n\\n\\nBack to Top\\n\\nIs being a perfectionist helpful, harmful, or both? We ask a psychologist to break it down.\\n\\nListen • 22:07 Is being a perfectionist helpful, harmful, or both? We ask a psychologist to break it down.\\n\\nHow many times have you heard someone say “When it comes to such and such…I’m kind of a perfectionist.” Or maybe you know someone who has never said they’re a perfectionist but…all signs point to it. Turns out, “perfectionism” has been steadily rising since the mid-1990s. That’s according to a 2017 study by psychologist Thomas Curran. But what exactly is perfectionism? Can it actually help you achieve a goal? Or is perfectionism purely harmful? Well, Thomas Curran joins us today from the UK where he’s associate professor of Psychology at The London School of Economics and Political Science and author of the book “The Perfection Trap: Embracing the Power of Good Enough.”\\n\\n\\n\\nBack to Top\\n\\nMezcal: the lesser known staple of Oaxacan cuisine\\n\\nListen • 10:40 Mezcal the lesser known staple of Oaxacan cuisine\\n\\nOaxacan cuisine and culture made its way to Los Angeles years ago. And although the community and various restaurants here have popularized aspects of Oaxacan cuisine like mole, the tradition of mezcal has yet to be fully embraced by the city. Ivan Vasquez, chef and owner of the Oaxacan restaurant and mezcalería Madre , aims to change that. Mezcal is a liquor made from agave, but unlike its close counterpart tequila, it's not typically used in cocktails, but enjoyed as its own drink in Oaxaca. Vasquez opened Madre in 2013, with the hopes of representing Oaxaca and the unique culture of mezcal. Now, Madre has the largest selection of mezcal in the United States, and Vasquez hopes to further educate Angelenos about the unique alcohol at a new festival Mezcal Por Siempre. The festival will take place Saturday, September 14, at L.A. River Studios and bring together over 50 visiting mezcal producers from Mexico. Today on AirTalk, Ivan Vasquez joins us today to share some Oaxacan cuisine and teach us about the rich culture of mezcal.\\n\\nFor more information about the upcoming 'Mezcal Por Siempre' event, including a link for tickets, click here.\\n\\n\\n\\nBack to Top\\n\\nFilmWeek: ‘Alien: Romulus,’ Close to You,’ ‘Sugarcane,’ and more\\n\\nListen • 30:32 FilmWeek: ‘Alien: Romulus,’ ‘Close to You,’ ‘Sugarcane,’ And More\\n\\nLarry Mantle and LAist film critics Manuel Betancourt and Christy Lemire review this weekend’s new movie releases on streaming and on demand platforms. We also honor the passing of actress Gena Rowlands, who died at 94 and is best known for her creative partnership with her late, ex-husband, John Cassavetes.\\n\\n“Alien: Romulus” Wide Release\\n\\n“My Penguin Friend” Wide Release\\n\\n“Jackpot!” Streaming on Amazon Prime\\n\\n“Close to You” Laemmle Royal | Monica Film Center | Laemmle NoHo 7 | Laemmle Glendale\\n\\n“Skincare” In Select Theaters\\n\\n“Sugarcane” Laemmle Royal\\n\\n“Rob Peace” Monica Film Center | Town Center 5 | NoHo 7\\n\\n“Untold: The Murder of Air McNair ” Streaming on Netflix\\n\\n“The Union” Streaming on Netflix\\n\\n\\n\\nBack to Top\\n\\nFilmWeek presents ‘The Fast and the Furious’: post-screening conversation with special guests\\n\\nListen • 19:04 FilmWeek presents ‘The Fast and the Furious’: post-screening conversation with special guests\\n\\n“I live my life a quarter mile at a time.” In Los Angeles, many drivers can relate to that famous quote from “The Fast and the Furious,” said by character Dominic Toretto, played by Vin Diesel. The original film brings together a host of references that many Southern California could probably point out. From scenes taking places in areas like Dodgers Stadium, to what is now the San Bernardino Airport, the film has a host of references that locals will get a kick out of seeing on the big screen. Not just that, but it’s fast-paced action sequences and focus on family is why the film has garnered such universal interest.\\n\\nSo LAist thought it’d be great to bring the film to big screen for our most recent FilmWeek screening, this time in partnership with The Frida Cinema in Santa Ana. Following the screening, Larry spoke to film critics Amy Nicholson and Christy Lemire about the film to discuss its significance in our culture. They were also joined the film’s racing consultant, Craig Lieberman, and 2nd unit director Mic Rodgers, to understand all the effort that went into making this movie a high octane blockbuster.\", 'label': 'true', 'url': 'https://laist.com/shows/airtalk/latest-on-mpox-as-the-who-declares-it-a-global-health-emergency'}}, {'a': {'abstract': 'Failed to extract article: Article `download()` failed with 429 Client Error: Too Many Requests for url: https://missoulian.com/lifestyles/health-med-fit/cdc-warns-that-mpox-could-make-a-summer-return/article_ffaf0ed5-c977-5465-ad7e-671cd6ac0e29.html on URL https://missoulian.com/lifestyles/health-med-fit/cdc-warns-that-mpox-could-make-a-summer-return/article_ffaf0ed5-c977-5465-ad7e-671cd6ac0e29.html', 'label': 'false', 'url': 'https://missoulian.com/lifestyles/health-med-fit/cdc-warns-that-mpox-could-make-a-summer-return/article_ffaf0ed5-c977-5465-ad7e-671cd6ac0e29.html'}}, {'a': {'abstract': 'The Truth Behind Cancun’s Decline in Popularity Among Mexicans, and Why They Are Flocking to Puerto Vallarta\\n\\nIn a surprising shift, national tourists have begun to turn away from traditional favorites such as Cancun, Playa del Carmen, and Tulum. According to recent travel consultancy reports from “Mex-Travel” and “Go-Vacation!”, these renowned beach destinations have fallen out of favor during the 2024 summer season, with the stunning beaches of Nuevo Vallarta, Puerto Vallarta,…', 'label': 'true', 'url': 'https://www.vallartadaily.com/jaliscos-health-officials-monitor-19-people-for-monkeypox-after-close-contact/'}}, {'a': {'abstract': 'Failed to extract article: Article `download()` failed with 500 Server Error: Internal Server Error for url: https://bioprepwatch.com/argentina-the-first-two-cases-of-monkeypox-have-been-reported-in-latin-america/ on URL https://bioprepwatch.com/argentina-the-first-two-cases-of-monkeypox-have-been-reported-in-latin-america/', 'label': 'true', 'url': 'https://bioprepwatch.com/argentina-the-first-two-cases-of-monkeypox-have-been-reported-in-latin-america/'}}, {'a': {'abstract': 'Thank you for reading!\\n\\nPlease log in, or sign up for a new account and purchase a subscription to continue reading.', 'label': 'true', 'url': 'https://www.yumasun.com/news/two-cases-of-mpox-confirmed-in-sonora-1-of-them-in-san-luis-r-c/article_9cee17b2-680b-11ef-9d4b-8b42985e4c04.html'}}, {'a': {'abstract': 'Argentina quarantines grains ship over suspected mpox case\\n\\nreuters_tickers\\n\\n2 minutes\\n\\nBy Eliana Raszewski and Walter Bianchi\\n\\nBUENOS AIRES (Reuters) -Argentine authorities have quarantined a cargo ship in the Parana River over a suspected case of mpox onboard, the government said on Tuesday, as global public health authorities remain on alert for a new faster-spreading variant of the virus.\\n\\nThe quarantined Liberian-flagged ship was sailing from Santos, Brazil – also a major commodities hub – to pick up soy cargo, according to the health ministry and industry body the Argentine Naval League.\\n\\nThe World Health Organization (WHO) last week declared mpox a global public health emergency for the second time in two years as a new variant of the virus spread rapidly in Africa. A day later, a case of the clade 1b variant was confirmed in Sweden, the first sign of its spread outside Africa.\\n\\nThe ship near Argentina’s inland grains port of Rosario alerted authorities that “one of its crew members of Indian nationality showed cyst-like skin lesions predominantly on the chest and face,” the ministry said in a statement, adding the person had been isolated from the rest of the crew.\\n\\nThe ministry said public health emergency protocol was then activated and the ship, which had been bound for the San Lorenzo port in the Santa Fe province, had to drop anchor in the river.\\n\\nOnly medical personnel will be able to board the ship, while the whole crew will be required to quarantine pending test results, the ministry added.\\n\\nMpox, a viral infection that causes pus-filled lesions and flu-like symptoms, is usually mild but can kill. The clade 1b strain has caused concern because it seems to spread more easily through routine close contact.\\n\\nSome 13 countries have reported mpox cases caused by other strains across the Americas this year, according to WHO data as of last week. Argentina has previously recorded eight cases, though none were the clade 1b strain.\\n\\nDenmark’s Bavarian Nordic is set to decide this week on whether to ramp up vaccine production, while Swiss pharmaceutical company Roche has said it is looking to boost its laboratory testing capacity.\\n\\n(Reporting by Eliana Raszewski, Nicolas Misculin and Walter Bianchi; Editing by Adam Jourdan, Sarah Morland, Rosalba O’Brien and Jamie Freed)', 'label': 'true', 'url': 'https://www.swissinfo.ch/eng/argentina-quarantines-grains-ship-over-suspected-mpox-case/87304173'}}, {'a': {'abstract': 'ARGENTINA – Health authorities in Argentina say they will inspect and quarantine a cargo ship in its waters after a crew member showed symptoms of mpox. A spokesperson for the country’s health ministry told CNN the inspection would be carried out by the border health service, which has already contacted the crew. According to the ship tracking service MarineTraffic, the vessel was anchored on a river off its destination in San Lorenzo as of 6:10 p.m. ET. Its previous stop was in Santos, Brazil.\\n\\nMedical personnel will board it and inspect whether the crew member’s symptoms are compatible with mpox. If they are, they will take samples for study. The ship will remain in the harbor and the entire crew will be quarantined until the results of the studies are available. So far, the ministry has not said how many people are on board the Liberia-flagged ship named Ina-Lotte.\\n\\nOn Friday, the ministry called for strengthening border health control measures in Argentina, two days after the World Health Organization declared a public health emergency of international concern due to an outbreak of mpox in parts of Africa. Other Latin American countries, such as Colombia, El Salvador, Venezuela and Mexico have announced similar surveillance measures. A deadlier strain of the virus, clade 1b, is spreading quickly in the Democratic Republic of Congo and has reached at least four previously unaffected countries in Africa. (CNN)…[+]', 'label': 'false', 'url': 'http://www.surinametimes.com/argentina-to-quarantine-cargo-ship-after-crew-member-shows-symptoms-of-mpox/'}}, {'a': {'abstract': 'Failed to extract article: Article `download()` failed with 404 Client Error: Not Found for url: https://gazette.com/news/us-world/argentina-quarantines-grains-ship-over-suspected-mpox-case/article_a405d769-ccef-5ffa-b742-b1ab08fb8a44.html on URL https://gazette.com/news/us-world/argentina-quarantines-grains-ship-over-suspected-mpox-case/article_a405d769-ccef-5ffa-b742-b1ab08fb8a44.html', 'label': 'true', 'url': 'https://gazette.com/news/us-world/argentina-quarantines-grains-ship-over-suspected-mpox-case/article_a405d769-ccef-5ffa-b742-b1ab08fb8a44.html'}}, {'a': {'abstract': 'Thailand has detected an mpox case in a European man who arrived from Africa last week and is awaiting test results to determine the strain, a disease control official said today.\\n\\nThai authorities were treating the case as if it were the Clade 1 form of mpox, as the person had arrived on August 14 from an African country where it was spreading, Thongchai Keeratihattayakorn, Director-General of the Department of Disease Control, told Reuters.\\n\\nMeanwhile, the Philippines\\' Health Minister said this Wednesday a recently detected mpox case in the Southeast Asian nation is of the mild Clade 2 variant and not the newer variant that has spread rapidly in Africa.\\n\\n\"The mpox we found was the original variety and probably it could have been circulating in our community,\" Health Secretary Teodoro Herbosa told ANC news channel.\\n\\nThe Southeast Asian nation on Monday announced its first mpox case this year. The Philippines has now had 10 laboratory-confirmed case since July 2022.\\n\\nAlso on mpox, the Argentine authorities quarantined a cargo ship in the Parana River over a suspected case of mpox onboard, the government said on Tuesday, as global public health authorities remain on alert for a new faster-spreading variant of the virus.\\n\\nThe quarantined Liberian-flagged ship was sailing from Santos, Brazil, also a major commodities hub, to pick up soy cargo, according to the Health Ministry and industry body the Argentine Naval League.\\n\\n--Reuters--', 'label': 'true', 'url': 'http://www.channelafrica.co.za/sabc/home/channelafrica/news/details?id=6a8f4d28-7b94-4ec5-b8ab-f8338ae1732b&title=Mpox%20case%20recorded%20in%20foreigner%20travelling%20from%20Africa:%20Thailand'}}]\u001b[0m\n"
          ]
        },
        {
          "name": "stderr",
          "output_type": "stream",
          "text": [
            "\r  8%|▊         | 8/100 [00:04<01:04,  1.43it/s]WARNING:langchain_core.callbacks.manager:Error in StdOutCallbackHandler.on_chain_start callback: AttributeError(\"'NoneType' object has no attribute 'get'\")\n"
          ]
        },
        {
          "name": "stdout",
          "output_type": "stream",
          "text": [
            "\n",
            "\u001b[1m> Finished chain.\u001b[0m\n",
            "Generated Cypher:\n",
            "\u001b[32;1m\u001b[1;3mMATCH (v:Virus)-[:CAUSES]->(s:Symptom) \n",
            "GROUP BY s.name \n",
            "COUNT(v) AS count\u001b[0m\n"
          ]
        },
        {
          "name": "stderr",
          "output_type": "stream",
          "text": [
            "\r  9%|▉         | 9/100 [00:04<00:51,  1.77it/s]WARNING:langchain_core.callbacks.manager:Error in StdOutCallbackHandler.on_chain_start callback: AttributeError(\"'NoneType' object has no attribute 'get'\")\n"
          ]
        },
        {
          "name": "stdout",
          "output_type": "stream",
          "text": [
            "Generated Cypher:\n",
            "\u001b[32;1m\u001b[1;3mMATCH (l:Location) RETURN l\u001b[0m\n",
            "Full Context:\n",
            "\u001b[32;1m\u001b[1;3m[{'l': {'country': 'CO', 'name': 'Brazil'}}, {'l': {'country': 'CO', 'name': 'Colombia'}}, {'l': {'country': 'MX', 'name': 'Mexico'}}, {'l': {'country': 'AR', 'name': 'Argentina'}}, {'l': {'country': 'BR', 'name': 'Brazil'}}, {'l': {'country': 'US', 'name': 'Mexico'}}, {'l': {'country': 'CO', 'name': 'Mexico'}}, {'l': {'country': 'CO', 'name': 'Argentina'}}]\u001b[0m\n"
          ]
        },
        {
          "name": "stderr",
          "output_type": "stream",
          "text": [
            "\r 10%|█         | 10/100 [00:04<00:44,  2.00it/s]WARNING:langchain_core.callbacks.manager:Error in StdOutCallbackHandler.on_chain_start callback: AttributeError(\"'NoneType' object has no attribute 'get'\")\n"
          ]
        },
        {
          "name": "stdout",
          "output_type": "stream",
          "text": [
            "\n",
            "\u001b[1m> Finished chain.\u001b[0m\n",
            "Generated Cypher:\n",
            "\u001b[32;1m\u001b[1;3mMATCH (v:Virus)-[:AFFECTS]->(l:Location {name: \"Mexico\"}) RETURN v.name\u001b[0m\n"
          ]
        },
        {
          "name": "stderr",
          "output_type": "stream",
          "text": [
            "\r 11%|█         | 11/100 [00:05<00:41,  2.17it/s]WARNING:langchain_core.callbacks.manager:Error in StdOutCallbackHandler.on_chain_start callback: AttributeError(\"'NoneType' object has no attribute 'get'\")\n"
          ]
        },
        {
          "name": "stdout",
          "output_type": "stream",
          "text": [
            "Full Context:\n",
            "\u001b[32;1m\u001b[1;3m[{'v.name': 'Monkeypox'}, {'v.name': 'Mpox'}, {'v.name': 'Mpox, Monkeypox'}, {'v.name': 'Mpox, Monkeypox, COVID-19'}, {'v.name': 'Monkeypox, COVID-19'}, {'v.name': 'COVID-19'}, {'v.name': 'Monkeypox'}, {'v.name': 'Monkeypox, COVID-19'}, {'v.name': 'Monkeypox, COVID-19, SARS-CoV-2'}, {'v.name': 'Monkeypox'}]\u001b[0m\n",
            "\n",
            "\u001b[1m> Finished chain.\u001b[0m\n",
            "Generated Cypher:\n",
            "\u001b[32;1m\u001b[1;3mMATCH (article:Article)-[:MENTIONS_LOCATION]->(location:Location {name: \"Mexico\"}) RETURN article\u001b[0m\n",
            "Full Context:\n",
            "\u001b[32;1m\u001b[1;3m[{'article': {'abstract': \"Latest on mpox as the WHO declares it a global health emergency\\n\\nListen • 16:47 Latest on mpox as the WHO declares it a global health emergency\\n\\nThe World Health Organization declared Wednesday that the increasing spread of mpox in Africa is a global health emergency, warning the virus might ultimately spill across international borders. The announcement by WHO director-general Tedros Adhanom Ghebreyesus came after a meeting of the U.N. health agency’s emergency committee. The Africa Centers for Disease Control and Prevention declared mpox a public health emergency on the continent on Tuesday. WHO said there have been more than 14,000 cases and 524 deaths in Africa this year, which already exceed last year’s figures.\\n\\nToday on AirTalk, Austin talks to Dr. Peter Chin-Hong, MD , infectious disease specialist and professor of medicine at the UCSF Medical Center, about the implications of mpox as a global health emergency and what this’ll mean in tackling the problem.\\n\\nWith files from the Associated Press\\n\\n\\n\\nBack to Top\\n\\nIs being a perfectionist helpful, harmful, or both? We ask a psychologist to break it down.\\n\\nListen • 22:07 Is being a perfectionist helpful, harmful, or both? We ask a psychologist to break it down.\\n\\nHow many times have you heard someone say “When it comes to such and such…I’m kind of a perfectionist.” Or maybe you know someone who has never said they’re a perfectionist but…all signs point to it. Turns out, “perfectionism” has been steadily rising since the mid-1990s. That’s according to a 2017 study by psychologist Thomas Curran. But what exactly is perfectionism? Can it actually help you achieve a goal? Or is perfectionism purely harmful? Well, Thomas Curran joins us today from the UK where he’s associate professor of Psychology at The London School of Economics and Political Science and author of the book “The Perfection Trap: Embracing the Power of Good Enough.”\\n\\n\\n\\nBack to Top\\n\\nMezcal: the lesser known staple of Oaxacan cuisine\\n\\nListen • 10:40 Mezcal the lesser known staple of Oaxacan cuisine\\n\\nOaxacan cuisine and culture made its way to Los Angeles years ago. And although the community and various restaurants here have popularized aspects of Oaxacan cuisine like mole, the tradition of mezcal has yet to be fully embraced by the city. Ivan Vasquez, chef and owner of the Oaxacan restaurant and mezcalería Madre , aims to change that. Mezcal is a liquor made from agave, but unlike its close counterpart tequila, it's not typically used in cocktails, but enjoyed as its own drink in Oaxaca. Vasquez opened Madre in 2013, with the hopes of representing Oaxaca and the unique culture of mezcal. Now, Madre has the largest selection of mezcal in the United States, and Vasquez hopes to further educate Angelenos about the unique alcohol at a new festival Mezcal Por Siempre. The festival will take place Saturday, September 14, at L.A. River Studios and bring together over 50 visiting mezcal producers from Mexico. Today on AirTalk, Ivan Vasquez joins us today to share some Oaxacan cuisine and teach us about the rich culture of mezcal.\\n\\nFor more information about the upcoming 'Mezcal Por Siempre' event, including a link for tickets, click here.\\n\\n\\n\\nBack to Top\\n\\nFilmWeek: ‘Alien: Romulus,’ Close to You,’ ‘Sugarcane,’ and more\\n\\nListen • 30:32 FilmWeek: ‘Alien: Romulus,’ ‘Close to You,’ ‘Sugarcane,’ And More\\n\\nLarry Mantle and LAist film critics Manuel Betancourt and Christy Lemire review this weekend’s new movie releases on streaming and on demand platforms. We also honor the passing of actress Gena Rowlands, who died at 94 and is best known for her creative partnership with her late, ex-husband, John Cassavetes.\\n\\n“Alien: Romulus” Wide Release\\n\\n“My Penguin Friend” Wide Release\\n\\n“Jackpot!” Streaming on Amazon Prime\\n\\n“Close to You” Laemmle Royal | Monica Film Center | Laemmle NoHo 7 | Laemmle Glendale\\n\\n“Skincare” In Select Theaters\\n\\n“Sugarcane” Laemmle Royal\\n\\n“Rob Peace” Monica Film Center | Town Center 5 | NoHo 7\\n\\n“Untold: The Murder of Air McNair ” Streaming on Netflix\\n\\n“The Union” Streaming on Netflix\\n\\n\\n\\nBack to Top\\n\\nFilmWeek presents ‘The Fast and the Furious’: post-screening conversation with special guests\\n\\nListen • 19:04 FilmWeek presents ‘The Fast and the Furious’: post-screening conversation with special guests\\n\\n“I live my life a quarter mile at a time.” In Los Angeles, many drivers can relate to that famous quote from “The Fast and the Furious,” said by character Dominic Toretto, played by Vin Diesel. The original film brings together a host of references that many Southern California could probably point out. From scenes taking places in areas like Dodgers Stadium, to what is now the San Bernardino Airport, the film has a host of references that locals will get a kick out of seeing on the big screen. Not just that, but it’s fast-paced action sequences and focus on family is why the film has garnered such universal interest.\\n\\nSo LAist thought it’d be great to bring the film to big screen for our most recent FilmWeek screening, this time in partnership with The Frida Cinema in Santa Ana. Following the screening, Larry spoke to film critics Amy Nicholson and Christy Lemire about the film to discuss its significance in our culture. They were also joined the film’s racing consultant, Craig Lieberman, and 2nd unit director Mic Rodgers, to understand all the effort that went into making this movie a high octane blockbuster.\", 'label': 'true', 'url': 'https://laist.com/shows/airtalk/latest-on-mpox-as-the-who-declares-it-a-global-health-emergency'}}, {'article': {'abstract': 'Failed to extract article: Article `download()` failed with 429 Client Error: Too Many Requests for url: https://missoulian.com/lifestyles/health-med-fit/cdc-warns-that-mpox-could-make-a-summer-return/article_ffaf0ed5-c977-5465-ad7e-671cd6ac0e29.html on URL https://missoulian.com/lifestyles/health-med-fit/cdc-warns-that-mpox-could-make-a-summer-return/article_ffaf0ed5-c977-5465-ad7e-671cd6ac0e29.html', 'label': 'false', 'url': 'https://missoulian.com/lifestyles/health-med-fit/cdc-warns-that-mpox-could-make-a-summer-return/article_ffaf0ed5-c977-5465-ad7e-671cd6ac0e29.html'}}, {'article': {'abstract': 'Monkeypox resurfaces in Chicago just as WHO declares end of monkeypox global emergency\\n\\nA cluster of monkeypox cases has emerged in Chicago just as the World Health Organization (WHO) is declaring the health emergency over.\\n\\nA dozen confirmed cases and one probable case of monkeypox were reported in the nation’s third-biggest city in the period from April 17 to May 5. In all of these cases, the virus was spread through sexual contact. Nine of the infections were noted in men who were fully vaccinated against the virus.\\n\\nAlthough none of the infected individuals were hospitalized, the city is nevertheless warning of a \"resurgence\" of monkeypox. The illness grabbed a lot of headlines last year when it started spreading rapidly among gay and bisexual men in Europe and the U.S.; its rise coincided with gay pride celebrations in many cities. Cases peaked in August before tapering off, largely due to greater awareness. So far, just over 30,000 Americans have been diagnosed with monkeypox.\\n\\nIn the Chicago uptick, officials are worried about the disease spreading undetected among individuals, including those who are vaccinated. The men who are infected have an average age of 34, and a third of them also have HIV. Some of the men involved had recently traveled to places like Mexico, New York City and New Orleans.\\n\\nChicago Commissioner of Public Health Dr. Allison Arwady announced that cases have been rising in the Windy City. Speaking on Facebook Live, she said: “Most weeks we didn\\'t see a single mpox case, maybe one or two in a higher week. But just these last couple of weeks we saw two, then five, now another six coming in.”\\n\\nOfficials have been issuing warnings recently about the potential for a resurgence this summer as hundreds of thousands of individuals head to gay pride festivities throughout the nation. So far, however, there has not been an uptick beyond the one in Chicago.\\n\\nA total of 62 cases were reported in the two-week period from April 26 to May 10, with most of them being in Texas, followed closely by Illinois. Other cases were reported in Louisiana, California, New York, Florida, Oregon and Alabama. However, officials from Texas said that at least 17 of those cases were actually from last year and were only just now being added to the CDC\\'s count.\\n\\nWHO declares monkeypox health emergency over\\n\\nThe WHO recently declared an end to the international emergency declared over the virus last July, when Director General Tedros Adhanom Ghebreyesus overruled an expert committee in issuing the designation. Some believe that he may have been acting out of an abundance of caution due to criticism over how the WHO responded to COVID in its early days.\\n\\nHowever, he now says that the outbreak is largely under control, declaring: “We now see steady progress in controlling the outbreak based on the lessons of HIV and working closely with the most affected communities.\\n\\n“I\\'m pleased to declare that the mpox is no longer a global health emergency,” he added.\\n\\nMonkeypox, which is now sometimes referred to as “mpox” in an attempt to destigmatize it, has long been present in certain areas of western and central Africa, where individuals are infected by wild animals. However, it was not responsible for major outbreaks until epidemics started popping up around the world last May.\\n\\nThe disease is marked by a telltale rash accompanied by headache, fever, swollen lymph nodes and muscle pain. It can only be spread through close physical contact with someone who is infected, or contact with their bedding or clothing, and it generally responds well to antivirals. However, it can take around a month to recover from the virus.\\n\\nDespite being relatively mild in most people, it won’t be surprising if officials and pharmaceutical companies use the Chicago uptick and the impending summer gay pride festivals as a reason to try to push vaccines on people.\\n\\nSources for this article include:\\n\\nDailyMail.co.uk\\n\\nEdition.CNN.com', 'label': 'true', 'url': 'https://www.naturalnews.com/2023-05-12-monkeypox-resurfaces-chicago-who-health-emergency-over.html'}}, {'article': {'abstract': \"Mpox, previously known as monkeypox, could be poised to make a comeback in the U.S. Several states have reported a recent increase in cases, including in people vaccinated against the viral disease. It’s possible that large outbreaks could once again emerge in the near future, the Centers for Disease Control and Prevention warned.\\n\\nMpox is caused by the monkeypox virus, a close cousin to the smallpox virus. Like smallpox, its symptoms typically include flu-like illness and a distinctive rash. Rarely, the infection can lead to severe, life-threatening complications, including pneumonia, brain inflammation, and sepsis.\\n\\nRead more\\n\\nUntil recently, mpox was primarily a zoonotic disease—spreading from animals to humans—that periodically caused outbreaks in parts of Africa. But last year, the virus burst onto the world stage, with outbreaks that spread widely from person to person. As of early May, at least 80,000 cases in over 100 countries have been documented worldwide since the start of 2022, along with 140 deaths (fortunately, the strains that circulated globally belonged to a less lethal lineage of the virus). This has included over 30,000 cases and 42 deaths in the U.S.\\n\\nThe widespread emergence of the virus eventually led the World Health Organization to declare a public health emergency of international concern, the first since the covid-19 pandemic. Thankfully, there was already a vaccine developed against mpox prior to 2022, and it’s believed that existing smallpox vaccines would provide significant protection against it as well.\\n\\nThe disease can spread through any kind of direct contact with infectious lesions or other parts of the body. But these recent outbreaks have largely been transmitted through sexual contact, especially among men who have sex with men. Public health awareness and vaccination campaigns targeted to these groups are thought to have helped stem its spread since last summer, when cases in the U.S. and the world reached their peak.\\n\\nBy last winter, new documented U.S. and global cases of mpox had plummeted. In January, the U.S. lifted its public health emergency related to mpox, while the WHO ended its declaration just today. And as of late April 2023, the nationwide average of reported cases in the U.S. had dropped to zero. But there has been an uptick more recently.\\n\\nSixty cases have been reported to the CDC in the past two weeks across eight states, CBS News reported Thursday. Some of these might be older cases only now being reported, but there have been genuine new clusters. In a health alert released Wednesday, for instance, the Chicago Department of Public Health announced that it has “identified a resurgence of cases of mpox.”\\n\\nThese newest outbreaks still appear to be spreading primarily among previously identified high risk groups. But, in an alarming development, they’re occurring in vaccinated people as well. Nine of the 13 cases in Chicago so far documented have been in fully vaccinated men. Several of these men had also recently traveled to other places, including New York City and Mexico. Though it’s expected to provide substantial protection against infection, the vaccine isn’t 100% effective, and its protection may wane over time, according to the CDC.\\n\\nDespite the news, vaccination is still thought to be one of the most effective strategies for containing mpox. Health officials continue to advise people at high risk to get the two-dose vaccine. Even in vaccinated people who catch mpox, the vaccine would likely reduce the odds of severe illness. Higher rates of vaccination coverage in high-risk communities can also limit the potential of the virus to spread widely.\\n\\nWhile mpox isn’t thought to have the epidemic potential of diseases like covid-19, health officials have long warned that its threat may not be over yet. In April, a modeling assessment by the CDC estimated a greater than 35% chance of resurgent outbreaks in most parts of the U.S. if nothing changes—outbreaks that could be larger than those seen last year. In these areas, vaccination coverage among high-risk populations still remains relatively low, the CDC noted.\\n\\nMore from Gizmodo\\n\\nSign up for Gizmodo's Newsletter. For the latest news, Facebook, Twitter and Instagram.\\n\\nClick here to read the full article.\", 'label': 'true', 'url': 'https://news.yahoo.com/dont-look-now-mpox-could-181000887.html'}}, {'article': {'abstract': 'The Truth Behind Cancun’s Decline in Popularity Among Mexicans, and Why They Are Flocking to Puerto Vallarta\\n\\nIn a surprising shift, national tourists have begun to turn away from traditional favorites such as Cancun, Playa del Carmen, and Tulum. According to recent travel consultancy reports from “Mex-Travel” and “Go-Vacation!”, these renowned beach destinations have fallen out of favor during the 2024 summer season, with the stunning beaches of Nuevo Vallarta, Puerto Vallarta,…', 'label': 'true', 'url': 'https://www.vallartadaily.com/jaliscos-health-officials-monitor-19-people-for-monkeypox-after-close-contact/'}}, {'article': {'abstract': 'Thank you for reading!\\n\\nPlease log in, or sign up for a new account and purchase a subscription to continue reading.', 'label': 'true', 'url': 'https://www.yumasun.com/news/two-cases-of-mpox-confirmed-in-sonora-1-of-them-in-san-luis-r-c/article_9cee17b2-680b-11ef-9d4b-8b42985e4c04.html'}}, {'article': {'abstract': 'JOHOR BARU: Johor, known as the southern gateway into Malaysia, is stepping up measures to curb monkeypox (mpox) from affecting its healthcare system.\\n\\n“The Health Ministry has provided an action plan to face mpox. As of Saturday, the ministry has reported nine mpox cases so far.\\n\\n“The ministry has also conducted a briefing on Aug 17 where the Johor Health Department has and will carry out several measures to create public awareness on the disease,” state health and environment committee chairman Ling Tian Soon said.\\n\\nThe World Health Organisation on Aug 14 declared mpox a public health emergency of international concern (PHEIC) following a major spike in cases reported by various countries.\\n\\nLing, who is also the Yong Peng assemblyman, said among measures taken by the department include strengthening public health screening activities at international entry points and health facilities in Johor.\\n\\nHe said health personnel are being stationed at international checkpoints at Bangunan Sultan Iskandar Customs, Immigration and Quarantine (CIQ), Sultan Abu Bakar Complex CIQ, Senai International Airport and international ferry terminals.\\n\\nLing said training and briefing had been given to health personnel on the field for the purpose of early detection, isolation and treatment.\\n\\n“Body temperature scanning devices are already in place at these international checkpoints to carry out checks on everyone coming in and out of the country.\\n\\n“Health personnel will carry out observation on each individual, regardless whether they come from countries that have already reported mpox cases, to look for signs if they are unhealthy before carrying out further checks,” he added.\\n\\nLing said among the countries that had reported high numbers of mpox cases are the United States, Brazil, Spain, Congo, France, Colombia, Mexico, United Kingdom, Peru and Germany.\\n\\nHe said the Health Department will also be disseminating information on mpox to create public awareness through social media, targeting high-risk groups.\\n\\nA state-level mpox operation room is on standby if needed to be activated in response to PHEIC and based on the latest instructions from the Health Ministry.\\n\\n“However, as of now, no mpox cases have been reported in Johor,” Ling said, urging those who show early symptoms of mpox such as chills, exhaustion, fever, headache, muscle aches and backache, and swollen lymph nodes to immediately seek treatment.', 'label': 'true', 'url': 'https://www.thestar.com.my/news/nation/2024/08/29/mpox-measures-ramped-up'}}, {'article': {'abstract': 'Authorities reported 53 positive cases of Mpox throughout Mexico; CDMX leads the list of infections.\\n\\nQuintana Roo is positioned as the second state with the highest number of confirmed cases of monkeypox in Mexico, with a total of eight cases until August 10, 2024, one more compared to week 31, according to the latest report from the National Epidemiological Surveillance System (Sinave).\\n\\nAccording to the most recent epidemiological report of week 32, from the Ministry of Health, Mexico has registered 53 confirmed cases of monkeypox (Mpox) until August 10, 2024. The vast majority of these cases, 51 in total, have occurred in men.\\n\\nThe entities with the highest number of infections are Mexico City, with 32 cases; Quintana Roo, with eight cases; and Jalisco, with three cases.\\n\\nDuring July 2024, Sinave documented an increase of seven cases, going from 42 to 49 confirmed patients. By August 10, the number of cases had increased to 53.\\n\\nDistribution of confirmed cases by state\\n\\nAs of August 5, 2024, the distribution of confirmed cases of monkeypox in Mexico is as follows:\\n\\n1- Mexico City: 32 cases (three new confirmed cases)\\n\\n2- Quintana Roo: 8 cases (one new confirmed case)\\n\\n3- Jalisco: 3 cases\\n\\n4- Morelos: 2 cases\\n\\n5- Puebla: 2 cases\\n\\n6- State of Mexico: 1 case\\n\\n7- Nuevo León: 1 case\\n\\n8- Sinaloa: 1 case\\n\\n9- Tlaxcala: 1 case\\n\\n10- Veracruz: 1 case\\n\\n11- Tamaulipas: 1 case\\n\\nComparison and health response in other years\\n\\nIn comparison, during the same period in 2023, there were 285 cases of monkeypox in Mexico. At the global level, the World Health Organization (WHO) declared a health emergency on August 14, 2024, due to a significant increase in cases in the Democratic Republic of the Congo and other African countries.\\n\\nThis declaration follows a public health emergency of international concern (PHEIC) that was issued in July 2022 and concluded in May 2023.\\n\\nIn response to the global health emergency, the National Committee for Epidemiological Surveillance (Conave) issued an epidemiological notice on August 14, 2024. This notice establishes the actions that medical personnel in health units must follow to identify and report probable cases of monkeypox, with the aim of interrupting the chains of contagion and providing timely medical care.\\n\\nRecommendations against Mpox\\n\\nAmong the recommendations for the population, the Ministry of Health suggests:\\n\\n– Wash your hands frequently with soap and water or use an alcohol gel solution.\\n\\n– Wear a medical mask in public places. – Avoid sharing food, drinks, cutlery, and plates.\\n\\n– Clean and disinfect areas that have been occupied by a sick person.\\n\\n– Cover your nose and mouth when coughing or sneezing using the inside of your elbow.\\n\\nThese measures are crucial to limit the spread of the virus and protect public health in Mexico.\\n\\nWith information from the Ministry of Health\\n\\nTYT Newsroom', 'label': 'true', 'url': 'https://www.theyucatantimes.com/2024/08/quintana-roo-registers-8-cases-of-monkeypox/'}}, {'article': {'abstract': 'A man walks near a poster with monkeypox information at a local store at Fire Island-Cherry Grove, in New York, U.S., July 15, 2022. REUTERS/Eduardo Munoz\\n\\nWhat’s the context? Tight supplies have mostly been snapped up by the United States, but some hard-hit nations such as Brazil and Peru still have none.\\n\\nUnited States snaps up most vaccine supplies\\n\\nSome hard-hit nations yet to receive vaccines\\n\\nBlack, Latino men missing out on U.S. doses By Lucy Middleton Concern is growing that the scramble for scarce supplies of monkeypox vaccines could see some nations and high-risk groups miss out - recalling unequal global access to COVID-19 vaccines and HIV medication. The outbreak, which has reached nearly 100 countries outside of Africa, where the virus is endemic, is overwhelmingly being transmitted among men who have sex with men. They are getting priority for vaccination globally, but some face a longer wait than others. \"In a lot of ways we\\'re seeing history repeat itself, unfortunately,\" said Wafaa El-Sadr, executive vice president for Columbia Global Centers, Columbia University\\'s international network of campuses. \"We have yet to learn the hard lessons we learned first from HIV and COVID-19 more recently,\" she added.\\n\\nEffective HIV treatments hit the market in 1996 and soon ended the crisis phase of the AIDS epidemic in Western nations, but it was years later before substantial antiretroviral supplies reached sub-Saharan Africa. Similarly, COVID-19 vaccines and treatments were stockpiled by the richest countries. Limited supplies of Bavarian Nordic\\'s monkeypox vaccine have mostly been snapped up by the United States - the country with the most cases, but some hard-hit nations such as Brazil and Peru still have none, the World Health Organization (WHO) has said. The WHO is trying to set up an equitable distribution mechanism, but has no access to vaccines. U.S. officials said on Aug. 26 that nearly 1.1 million vials of the vaccine - called Jynneos, Imvanex and Imvamune, depending on the country - have either been allocated to jurisdictions within the United States or are now available for ordering. The country is home to more than 18,000 of the roughly 48,800 cases diagnosed in 99 nations during 2022, according to the U.S. Centers for Disease Control and Prevention (CDC). This has left other nations to scramble for the remaining doses, even as scientists remain unsure how well the vaccine will work.\\n\\nAn activist sticks posters on a fence during a protest to call for a stronger response by the government to the monkeypox crisis, outside the Health Secretary building, in Mexico City, Mexico, Mexico, July 26, 2022. REUTERS/Edgard Garrido An activist sticks posters on a fence during a protest to call for a stronger response by the government to the monkeypox crisis, outside the Health Secretary building, in Mexico City, Mexico, Mexico, July 26, 2022. REUTERS/Edgard Garrido\\n\\nFair distribution? Besides calling for fair distribution among newly hit countries, some experts say an equitable global response would also prioritise high-risk people in the 11 central and western countries in Africa where monkeypox has become endemic since first being identified in humans in 1970. In Africa, however, some health officials see no urgent need to vaccinate against the virus, which spreads through very close contact, and has caused 15 deaths worldwide this year. \"Vaccine hoarding is always a concern ... but for now, for Africa, the plan is not to distribute vaccines or vaccinate large numbers of people against a few cases of monkeypox which we have seen in the past,\" Bartholomew Dicky Akanmor, adviser for vaccine research and regulation with the WHO\\'s Africa office, told the Thomson Reuters Foundation. In Ghana, the director general of the country\\'s health service, Patrick Kuma-Aboagye, said that in contrast to COVID-19 \"there is no cause for alarm\". \"We are monitoring and looking at the numbers and if we see a particular group at high risk, we will vaccinate as is being done in countries like the U.S.,\" he added. Within those countries that are vaccinating, experts are also warning about uneven access among certain groups - from those without an internet connection to undocumented migrants and people of colour. In the United States, data indicates that, similar to HIV, monkeypox is disproportionately impacting Black and Latino men. Yet white men are more likely to access the vaccine. In New York City, the epicentre of the U.S. outbreak with more than 3,000 cases, recent data showed that while a respective 34% and 29% of monkeypox diagnoses have been among Latinos and Blacks, those groups have received only 23% and 12% of the available vaccine doses respectively. \"None of this should be surprising,\" said David J. Johns, executive director of the National Black Justice Coalition in Washington, DC. \"Healthcare in our country and responses to viruses are seldom democratised.\" New York City\\'s government has pledged $5 million to local community based organizations to promote vaccination among gay and bisexual men and transgender people of colour, as well as people of lower socioeconomic status. The Biden administration has set aside 50,000 extra vaccine doses for localities that focus on providing vaccinations to members of the LGBTQ+ community in a way that targets health inequities. As a part of this pilot programme, it aims to provide on-site vaccinations at two major upcoming events that draw many LGBTQ+ of color - Southern Decadence in Louisiana, and Black Pride in Atlanta, said Deputy Coordinator of the White House monkeypox response, Demetre Daskalakis.\\n\\nA medical health worker prepares a dose of the Monkeypox vaccine at the Edison municipal vaccination centre in Paris, France July 27, 2022. Alain Jocard/Pool via REUTERS A medical health worker prepares a dose of the Monkeypox vaccine at the Edison municipal vaccination centre in Paris, France July 27, 2022. Alain Jocard/Pool via REUTERS\\n\\nDigital divide Seeking to ensure limited supplies go where most needed in hard-hit western Europe, the EU has bought 160,000 vaccine doses to share out among member states according to the number of registered cases. In Britain, more than 30,000 people have received their first vaccine dose out of an initial batch of 50,000 doses, but supplies are set to run out before a new shipment of 100,000 doses arrives in September, the UK Health Security Agency said. LGBTQ+ groups working with the British government to ensure the doses reach marginalised groups have voiced frustration, saying people without digital access are among those at risk of missing out. \"You need to be digitally engaged - and pushy almost - to get access, which we know from other aspects of healthcare and HIV prevention will disadvantage groups who face health inequality,\" said Danny Beales, head of policy and campaigns at the Aids Trust charity. Doses in Britain are primarily being administered through sexual health clinics and pop-up \"super vaccination\" events, which see a lower attendance by members of minority groups, said Will Nutland, co-founder of Prepster. Instead, Nutland and a coalition of public health nonprofits have been organising smaller drop-in vaccination sessions aimed at men and trans people from ethnic minorities, including migrants, who might fear having their data registered. Still, the biggest concern among most health advocates is simply the shortage of supplies. \"Services have run out and lots of them are closing walk-in access,\" said Beales. \"There simply isn\\'t enough vaccine to meet need and demand.\"', 'label': 'true', 'url': 'https://www.context.news/socioeconomic-inclusion/race-for-monkeypox-vaccines-exposes-global-health-inequality'}}, {'article': {'abstract': 'Failed to extract article: Article `download()` failed with 429 Client Error: Too Many Requests for url: https://www.ivpressonline.com/news/mexicali-briefs-monkeypox-reported-woman-allegedly-involved-in-seven-homicides-arrested-over-a-dozen-professors/article_c0585872-c5cb-11ed-9b74-4b18681d9b70.html on URL https://www.ivpressonline.com/news/mexicali-briefs-monkeypox-reported-woman-allegedly-involved-in-seven-homicides-arrested-over-a-dozen-professors/article_c0585872-c5cb-11ed-9b74-4b18681d9b70.html', 'label': 'true', 'url': 'https://www.ivpressonline.com/news/mexicali-briefs-monkeypox-reported-woman-allegedly-involved-in-seven-homicides-arrested-over-a-dozen-professors/article_c0585872-c5cb-11ed-9b74-4b18681d9b70.html'}}]\u001b[0m\n"
          ]
        },
        {
          "name": "stderr",
          "output_type": "stream",
          "text": [
            "\r 12%|█▏        | 12/100 [00:07<01:22,  1.07it/s]WARNING:langchain_core.callbacks.manager:Error in StdOutCallbackHandler.on_chain_start callback: AttributeError(\"'NoneType' object has no attribute 'get'\")\n"
          ]
        },
        {
          "name": "stdout",
          "output_type": "stream",
          "text": [
            "\n",
            "\u001b[1m> Finished chain.\u001b[0m\n",
            "Generated Cypher:\n",
            "\u001b[32;1m\u001b[1;3mMATCH (l:Location)-[r:AFFECTS]-(v:Virus) \n",
            "WITH l, COUNT(DISTINCT v) as count \n",
            "WHERE count > 1 \n",
            "RETURN l.name AS LocationName\u001b[0m\n",
            "Full Context:\n",
            "\u001b[32;1m\u001b[1;3m[{'LocationName': 'Colombia'}, {'LocationName': 'Mexico'}, {'LocationName': 'Argentina'}, {'LocationName': 'Brazil'}, {'LocationName': 'Mexico'}]\u001b[0m\n",
            "\n",
            "\u001b[1m> Finished chain.\u001b[0m"
          ]
        },
        {
          "name": "stderr",
          "output_type": "stream",
          "text": [
            "\r 13%|█▎        | 13/100 [00:07<01:07,  1.29it/s]WARNING:langchain_core.callbacks.manager:Error in StdOutCallbackHandler.on_chain_start callback: AttributeError(\"'NoneType' object has no attribute 'get'\")\n"
          ]
        },
        {
          "name": "stdout",
          "output_type": "stream",
          "text": [
            "\n",
            "Generated Cypher:\n",
            "\u001b[32;1m\u001b[1;3mMATCH (t:Transmission) RETURN t.method\u001b[0m\n"
          ]
        },
        {
          "name": "stderr",
          "output_type": "stream",
          "text": [
            "\r 14%|█▍        | 14/100 [00:08<00:56,  1.53it/s]WARNING:langchain_core.callbacks.manager:Error in StdOutCallbackHandler.on_chain_start callback: AttributeError(\"'NoneType' object has no attribute 'get'\")\n"
          ]
        },
        {
          "name": "stdout",
          "output_type": "stream",
          "text": [
            "Full Context:\n",
            "\u001b[32;1m\u001b[1;3m[{'t.method': 'respiratory'}, {'t.method': 'Skin-to-Skin'}, {'t.method': 'close contact'}, {'t.method': 'Contaminated Objects'}, {'t.method': 'Respiratory'}, {'t.method': 'skin-to-skin'}, {'t.method': 'contaminated objects'}, {'t.method': 'airborne'}]\u001b[0m\n",
            "\n",
            "\u001b[1m> Finished chain.\u001b[0m\n",
            "Generated Cypher:\n",
            "\u001b[32;1m\u001b[1;3mMATCH (t:Transmission {method: 'Airborne Transmission'})<-[:SPREADS_BY]-(v:Virus) RETURN v\u001b[0m\n",
            "Full Context:\n",
            "\u001b[32;1m\u001b[1;3m[]\u001b[0m\n"
          ]
        },
        {
          "name": "stderr",
          "output_type": "stream",
          "text": [
            "\r 15%|█▌        | 15/100 [00:10<01:41,  1.19s/it]WARNING:langchain_core.callbacks.manager:Error in StdOutCallbackHandler.on_chain_start callback: AttributeError(\"'NoneType' object has no attribute 'get'\")\n"
          ]
        },
        {
          "name": "stdout",
          "output_type": "stream",
          "text": [
            "\n",
            "\u001b[1m> Finished chain.\u001b[0m\n",
            "Generated Cypher:\n",
            "\u001b[32;1m\u001b[1;3mMATCH (t:Transmission {method: 'Direct Contact'})-[:MENTIONS_TRANSMISSION]-(a:Article) RETURN a\u001b[0m\n",
            "Full Context:\n",
            "\u001b[32;1m\u001b[1;3m[]\u001b[0m\n"
          ]
        },
        {
          "name": "stderr",
          "output_type": "stream",
          "text": [
            "\r 16%|█▌        | 16/100 [00:15<03:03,  2.19s/it]WARNING:langchain_core.callbacks.manager:Error in StdOutCallbackHandler.on_chain_start callback: AttributeError(\"'NoneType' object has no attribute 'get'\")\n"
          ]
        },
        {
          "name": "stdout",
          "output_type": "stream",
          "text": [
            "\n",
            "\u001b[1m> Finished chain.\u001b[0m\n",
            "Generated Cypher:\n",
            "\u001b[32;1m\u001b[1;3mMATCH (v:Virus)-[:SPREADS_BY]->(t:Transmission) RETURN t.method, COUNT(v) AS virus_count\u001b[0m\n",
            "Full Context:\n",
            "\u001b[32;1m\u001b[1;3m[{'t.method': 'respiratory', 'virus_count': 4}, {'t.method': 'close contact', 'virus_count': 8}, {'t.method': 'Skin-to-Skin', 'virus_count': 4}, {'t.method': 'Contaminated Objects', 'virus_count': 5}, {'t.method': 'Respiratory', 'virus_count': 4}, {'t.method': 'skin-to-skin', 'virus_count': 3}, {'t.method': 'contaminated objects', 'virus_count': 1}, {'t.method': 'airborne', 'virus_count': 1}]\u001b[0m\n"
          ]
        },
        {
          "name": "stderr",
          "output_type": "stream",
          "text": [
            "\r 17%|█▋        | 17/100 [00:19<04:01,  2.90s/it]WARNING:langchain_core.callbacks.manager:Error in StdOutCallbackHandler.on_chain_start callback: AttributeError(\"'NoneType' object has no attribute 'get'\")\n"
          ]
        },
        {
          "name": "stdout",
          "output_type": "stream",
          "text": [
            "\n",
            "\u001b[1m> Finished chain.\u001b[0m\n",
            "Generated Cypher:\n",
            "\u001b[32;1m\u001b[1;3mMATCH (v:Virus)<-[r:INVOLVED_IN]-(o:Organization) RETURN o.name\u001b[0m\n",
            "Full Context:\n",
            "\u001b[32;1m\u001b[1;3m[{'o.name': 'WHO, World Health Organization'}, {'o.name': 'CDC'}, {'o.name': 'Ministry of Health of Chile'}, {'o.name': 'Ministry of Health of Brazil'}, {'o.name': 'Ministry of Health of Mexico'}, {'o.name': 'WHO, World Health Organization'}, {'o.name': 'WHO'}, {'o.name': 'WHO, World Health Organization, CDC'}, {'o.name': 'World Health Organization'}, {'o.name': 'Ministry of Health, WHO, World Health Organization'}]\u001b[0m\n"
          ]
        },
        {
          "name": "stderr",
          "output_type": "stream",
          "text": [
            "\r 18%|█▊        | 18/100 [00:24<04:37,  3.38s/it]WARNING:langchain_core.callbacks.manager:Error in StdOutCallbackHandler.on_chain_start callback: AttributeError(\"'NoneType' object has no attribute 'get'\")\n"
          ]
        },
        {
          "name": "stdout",
          "output_type": "stream",
          "text": [
            "\n",
            "\u001b[1m> Finished chain.\u001b[0m\n",
            "Generated Cypher:\n",
            "\u001b[32;1m\u001b[1;3mMATCH (o:Organization)-[:INVOLVED_IN]->(v:Virus {name: 'Mpox'}) RETURN o.name\u001b[0m\n",
            "Full Context:\n",
            "\u001b[32;1m\u001b[1;3m[{'o.name': 'CDC'}, {'o.name': 'Ministry of Health of Chile'}, {'o.name': 'Ministry of Health of Brazil'}, {'o.name': 'Ministry of Health of Mexico'}, {'o.name': 'WHO, World Health Organization'}, {'o.name': 'WHO'}, {'o.name': 'World Health Organization'}, {'o.name': 'Ministry of Health of Argentina'}]\u001b[0m\n"
          ]
        },
        {
          "name": "stderr",
          "output_type": "stream",
          "text": [
            "\r 19%|█▉        | 19/100 [00:28<05:02,  3.74s/it]WARNING:langchain_core.callbacks.manager:Error in StdOutCallbackHandler.on_chain_start callback: AttributeError(\"'NoneType' object has no attribute 'get'\")\n"
          ]
        },
        {
          "name": "stdout",
          "output_type": "stream",
          "text": [
            "\n",
            "\u001b[1m> Finished chain.\u001b[0m\n",
            "Generated Cypher:\n",
            "\u001b[32;1m\u001b[1;3mMATCH (o:Organization {name: 'WHO'})<-[:PUBLISHED_BY]-(a:Article) RETURN a\u001b[0m\n",
            "Full Context:\n",
            "\u001b[32;1m\u001b[1;3m[{'a': {'abstract': \"The World Health Organisation (WHO) has elevated the mpox virus – formerly known as monkeypox – to the status of a global health emergency.\\n\\nWHO made the announcement on Wednesday, following the African Centre for Disease Control declaring a continental health emergency on Wednesday.\\n\\nThe organisations’ emergency committee met to determine the rising case numbers and transmission risks warranted a “public health emergency of international concern” (PHEIC).\\n\\nThe World Health Organisation Director-General Tedros Adhanom Ghebreyesus has declared mpox to be “public health emergency of international concern” on Thursday. Picture: Getty Images\\n\\nWHO Director-General Tedros Adhanom Ghebreyesus told press the emergency committee had advised him the situation constituted “a public health emergency of international concern”.\\n\\n“A public health emergency of international concern is the highest level of alarm under international health law,” Mr Adhanom said.\\n\\nMpox is an infectious viral disease which spreads from person to person through direct contact, or through contact with animals.\\n\\nThe decision has come amid a troubling surge in mpox cases as 16 of 26 countries with recorded infections reported an increase of cases in June.\\n\\nAustralia experienced the sharpest rise in the Western Pacific Region with cases almost doubling from 33 to 64.\\n\\nThere was also a rise in cases in the Democratic Republic of the Congo (543 v 459), Spain (54 v 38) and Colombia (11 v 0).\\n\\nThe mpox disease particles (red) inside an infected cell (blue). Picture: NIAID via AP, File\\n\\n“It is clear that a coordinated international response is essential to stop these outbreaks and save lives,” said Mr Adhanom.\\n\\nGlobally, there have been 99,176 cases between January and June with 3,491 cases in the Western Pacific region – a fraction of the 62,904 cases in the Americas.\\n\\nSuspected mpox cases in Africa have surged past 17,000 with at least 13 countries across the continent impacted, according to the African Union's health watchdog.\\n\\n“This is just the tip of the iceberg when we consider the many weaknesses in surveillance, laboratory testing and contact tracing,” the African Centre for Disease Control said on Wednesday.\\n\\nTo combat the crisis, the WHO has rolled out an initial US$15 million regional response plan to improve surveillance, preparedness, and response activities.\\n\\nMr Adhanom said the organisation has already released US$1.45 million from the WHO Contingency Fund for Emergencies and will seek further funding from donors\\n\\nThe new mpox strain, Clade I, which has shown heightened transmissibility, has so far been detected only within Africa.\", 'label': 'true', 'url': 'https://www.skynews.com.au/world-news/global-affairs/world-health-organisation-declares-mpox-a-global-health-emergency-amid-surge-in-african-cases/news-story/58c0d4e6c59b4757da3ed0be25d38a20?nk=6e8190d33689cce0d4bf8853dfd9af5f-1723689114'}}, {'a': {'abstract': 'The smallpox vaccine effectively induces immunity against mpox virus infection (formerly simian smallpox) in patients with human immunodeficiency virus (HIV) infection, although patients with lymphocyte counts below 500 cells/mm3 require booster doses, according to data from a study published in the Journal of Medical Virology.\\n\\nThe data come from the prospective observational study conducted by researchers at the Infection Biology Laboratory of the Department of Medicine and Life Sciences at Pompeu Fabra University and the HIV Unit of the Hospital del Mar Medical Research Institute in Barcelona, Spain. The investigators analyzed T-cell responses induced by vaccination with JYNNEOS.\\n\\nDespite the substantial decrease in the reporting frequency of mpox cases from the global peak in August 2022 (30,894 cases) to 804 monthly cases in the last six months of 2023, mpox continues to circulate, and there is no specific vaccine. The JYNNEOS vaccine, with protective cross-reactivity against orthopoxviruses, is approved by the US Food and Drug Administration and the European Medicines Agency for the prevention of smallpox and mpox in adults at high risk for infection.\\n\\nDuring the 2022 outbreak in the United States and Europe, vaccine shortages led to the emergency use authorization of a lower intradermal dose. This strategy was aimed at increasing vaccine supply up to fivefold.\\n\\nFurther clinical trials are needed to evaluate responses to JYNNEOS vaccination and compare different administration routes in patients with HIV infection. Protecting this population against mpox is a priority because people with high viral loads or loCD4+ T-lymphocyte counts are especially susceptible to severe disease.\\n\\nVaccination Responses\\n\\nThe study assessed the immune response to the JYNNEOS vaccine in patients with HIV who were receiving antiretroviral therapy as outpatients at the Infectious Diseases Unit of Hospital del Mar in Barcelona, Spain. Participants had viral loads controlled by antiretroviral therapy and CD4+ T-lymphocyte counts ≤ 500/mm3 (loCD4 group) or ≥ 500/mm3 (hiCD4 group) in blood. Vaccine responses were compared with those of vaccinated controls without the disease. The study included cases that received the standard subcutaneous vaccine (before August 2022) or the emergency dose-saving intradermal vaccine after its approval in August 2022.\\n\\nThe results demonstrated that the intradermal dose-saving vaccination route is preferable to the subcutaneous route and that patients in the loCD4 group may require at least one booster to generate an efficient response of specific T cells for mpox, wrote the authors.\\n\\n\"This study has two relevant points,\" study author Robert Güerri-Fernandez, MD, PhD, head of infectious diseases at the Hospital del Mar Medical Research Institute, told the Medscape Spanish edition. \"In the subgroup of patients with HIV with effective treatment but without an immune response (ie, loCD4), the vaccine response is worse than in people who have recovered immunity or do not have HIV. Therefore, they need a booster dose.\"\\n\\n\"The second point is that the intradermal route with one-fifth of the standard subcutaneous dose has a better immune response than the standard subcutaneous route.\" He added that it was a good strategy to save doses and be able to vaccinate many more people when vaccine shortages occurred.\\n\\n\"A general conclusion cannot be drawn,\" he added. \"It needs to be validated with many more subjects, of course, but in some way, it reinforced our confidence in the strategy of health authorities to promote intradermal vaccination. There we had evidence that the patients we were vaccinating intradermally were responding well.\"\\n\\nIn Spain, although there is no shortage of vaccines today, they continue to be administered intradermally with a fractionated dose equivalent to one fifth of a standard dose, said Güerri-Fernandez.\\n\\nHowever, in his opinion, observations regarding the two administration routes signal a need for further research. The main message should be that for patients with HIV infection who do not have an immune response, the vaccine response is incomplete, and they need booster doses as well as monitoring of the vaccine immune response, said Güerri-Fernandez.\\n\\nMore Studies Required\\n\\nThe research, which prospectively collected data and blood samples from patients with HIV who received the JYNNEOS vaccine, is small and included only 24 patients with HIV infection, with seven hospital workers who also received the vaccine and seven unvaccinated individuals as controls. \"I am one of the control subjects of the study, and intradermal vaccination is not especially pleasant,\" commented Güerri-Fernandez. \"It is a very innervated area, and the moment of introducing the liquid is uncomfortable. But it is perfectly bearable.\"\\n\\nOutpatient HIV-infected patients from the Infectious Diseases Unit of Hospital del Mar on antiretroviral therapy and with undetectable viral loads were grouped according to their CD4+ T-lymphocyte counts. Those with CD4+ T-lymphocyte counts ≤ 500/mm3 required at least one booster vaccine to exhibit efficient virus-specific T-lymphocyte responses. The magnitude of the T-cell response after this booster correlated directly with the CD4+ T-lymphocyte count of those vaccinated.\\n\\nFor Argentine infectious disease specialist Julián García, MD, clinical researcher at the Huésped Foundation in Buenos Aires, Argentina, who did not participate in the study, it is always productive to know that T-cell responses develop in patients with HIV infection, with CD4+ T-lymphocyte counts > and < 500/mm3, through an intradermal administration route.\\n\\nGarcía emphasized that the most novel aspect is that the JYNNEOS vaccine induces a specific T-cell response in patients with HIV infection that increases with higher CD4+ T-lymphocyte levels. However, he noted that the number of patients was less than 10 in most study groups, and the control group had only intradermal administration, which limits the interpretation of the results. \"It will be necessary to verify this in studies with larger groups with control groups from all routes and with a correlate of protection.\"\\n\\nGarcía referred to this latter point as a significant source of uncertainty. \"The study is fundamentally based on the cellular response, but nowadays, there is no immune correlate of real-life protection.\" He concluded that the study builds knowledge, which is essential for a vaccine that began to be used for mpox and the effectiveness of which is based on estimates.\\n\\nGüerri-Fernandez and Garcia declared no relevant financial conflicts of interest.\\n\\nThis story was translated from the Medscape Spanish edition using several editorial tools, including AI, as part of the process. Human editors reviewed this content before publication.', 'label': 'true', 'url': 'https://www.medscape.com/viewarticle/reduced-dose-vaccines-protect-patients-hiv-against-mpox-2024a10003pq'}}, {'a': {'abstract': 'A devastating tragedy has left a mother dead and seven others in serious condition after eating fish that had been fried in a toxic substance.\\n\\nThe family from the Mompox district of Colombia accidentally poisoned themselves after using a toxic substance stored in a bottle for a fish dinner, mistaking it for cooking oil. Such was the potency of the toxic dish, seven dogs were also killed after munching on the leftovers.\\n\\nYaneth Dávila Arévalo, 57, the mother of the family, has since been pronounced dead.\\n\\nSeven others, including three children - aged between 11 and 14 years old - were rushed to hospital and remain in a serious condition.\\n\\nThey include the grandparents, father and children of the family, as well as an employee who worked with them.\\n\\nFor all the latest on news, politics, sports, and showbiz from the USA, go to Daily Express US', 'label': 'true', 'url': 'https://www.express.co.uk/news/world/1804527/colombia-mom-dies-toxic-fish-cooking-oil-mompox'}}, {'a': {'abstract': 'JOHOR BARU: Johor, known as the southern gateway into Malaysia, is stepping up measures to curb monkeypox (mpox) from affecting its healthcare system.\\n\\n“The Health Ministry has provided an action plan to face mpox. As of Saturday, the ministry has reported nine mpox cases so far.\\n\\n“The ministry has also conducted a briefing on Aug 17 where the Johor Health Department has and will carry out several measures to create public awareness on the disease,” state health and environment committee chairman Ling Tian Soon said.\\n\\nThe World Health Organisation on Aug 14 declared mpox a public health emergency of international concern (PHEIC) following a major spike in cases reported by various countries.\\n\\nLing, who is also the Yong Peng assemblyman, said among measures taken by the department include strengthening public health screening activities at international entry points and health facilities in Johor.\\n\\nHe said health personnel are being stationed at international checkpoints at Bangunan Sultan Iskandar Customs, Immigration and Quarantine (CIQ), Sultan Abu Bakar Complex CIQ, Senai International Airport and international ferry terminals.\\n\\nLing said training and briefing had been given to health personnel on the field for the purpose of early detection, isolation and treatment.\\n\\n“Body temperature scanning devices are already in place at these international checkpoints to carry out checks on everyone coming in and out of the country.\\n\\n“Health personnel will carry out observation on each individual, regardless whether they come from countries that have already reported mpox cases, to look for signs if they are unhealthy before carrying out further checks,” he added.\\n\\nLing said among the countries that had reported high numbers of mpox cases are the United States, Brazil, Spain, Congo, France, Colombia, Mexico, United Kingdom, Peru and Germany.\\n\\nHe said the Health Department will also be disseminating information on mpox to create public awareness through social media, targeting high-risk groups.\\n\\nA state-level mpox operation room is on standby if needed to be activated in response to PHEIC and based on the latest instructions from the Health Ministry.\\n\\n“However, as of now, no mpox cases have been reported in Johor,” Ling said, urging those who show early symptoms of mpox such as chills, exhaustion, fever, headache, muscle aches and backache, and swollen lymph nodes to immediately seek treatment.', 'label': 'true', 'url': 'https://www.thestar.com.my/news/nation/2024/08/29/mpox-measures-ramped-up'}}, {'a': {'abstract': 'Thailand has detected an mpox case in a European man who arrived from Africa last week and is awaiting test results to determine the strain, a disease control official said today.\\n\\nThai authorities were treating the case as if it were the Clade 1 form of mpox, as the person had arrived on August 14 from an African country where it was spreading, Thongchai Keeratihattayakorn, Director-General of the Department of Disease Control, told Reuters.\\n\\nMeanwhile, the Philippines\\' Health Minister said this Wednesday a recently detected mpox case in the Southeast Asian nation is of the mild Clade 2 variant and not the newer variant that has spread rapidly in Africa.\\n\\n\"The mpox we found was the original variety and probably it could have been circulating in our community,\" Health Secretary Teodoro Herbosa told ANC news channel.\\n\\nThe Southeast Asian nation on Monday announced its first mpox case this year. The Philippines has now had 10 laboratory-confirmed case since July 2022.\\n\\nAlso on mpox, the Argentine authorities quarantined a cargo ship in the Parana River over a suspected case of mpox onboard, the government said on Tuesday, as global public health authorities remain on alert for a new faster-spreading variant of the virus.\\n\\nThe quarantined Liberian-flagged ship was sailing from Santos, Brazil, also a major commodities hub, to pick up soy cargo, according to the Health Ministry and industry body the Argentine Naval League.\\n\\n--Reuters--', 'label': 'true', 'url': 'http://www.channelafrica.co.za/sabc/home/channelafrica/news/details?id=6a8f4d28-7b94-4ec5-b8ab-f8338ae1732b&title=Mpox%20case%20recorded%20in%20foreigner%20travelling%20from%20Africa:%20Thailand'}}, {'a': {'abstract': 'Gay rights activists from across Latin America have called for the region’s governments to take firm steps to prevent the spread of monkeypox, saying a lack of will to provide vaccines and diagnose cases is hurting the region’s gay and bisexual men.\\n\\nLatin America has confirmed around 16% of over 50,000 registered cases worldwide in the recent outbreak, almost exclusively in countries where it is not historically endemic.\\n\\nHowever, a Latin American network of gay rights activists believes governments are drastically underreporting the extent of the outbreak, in part due to discrimination against men who have sex with men, among whom the disease has so far been circulating overwhelmingly through sex.\\n\\n“The worst thing would be to decide that this will be controlled through herd immunity,” the AIDS Healthcare Foundation’s director, Dr. Jorge Saavedra, told Reuters. “The lesions are very painful; and you can’t just condemn people to suffer.”\\n\\n“This is state sadism,” he said.\\n\\nActivists, who gathered in Mexico City on Thursday at an event to call for stronger state responses, said it was unbelievable that Mexico – one of Latin America’s most populous and visited countries – would have only one-third the number of monkeypox cases as Peru, which confirmed its first case a month after Mexico.\\n\\n“Are Peruvians having more sex than Mexicans? Sexologists have found no evidence,” Saavedra said at the event.\\n\\nThe situation is particularly worrying in Mexico, activists said, where there is just one centralized diagnostics center forcing people to wait and travel long distances.\\n\\nGrassroots clinics for people living with HIV, who risk suffering much more severe effects of monkeypox, have meanwhile been flooded with patients, they said.\\n\\nMexico’s government in June issued a statement discouraging messaging that links gay and bisexual men to monkeypox to prevent discrimination.\\n\\n“They stigmatized us 40 years ago during the AIDS crisis,” said HIV researcher Ricardo Forcada. “Now, they’re not helping us under the pretext of not stigmatizing us.”\\n\\nForcada said the network was prepared to take all available legal actions, including appealing to Mexico’s human rights commission. It hopes the governments will invest in targeted health campaigns and order vaccines.\\n\\n“We don’t want this to turn into an endemic problem like other sexually transmitted diseases,” said Saavedra.\\n\\n—Reporting by Sarah Morland in Mexico City, Editing by Brendan O’Boyle and Matthew Lewis', 'label': 'true', 'url': 'https://interaksyon.philstar.com/politics-issues/2022/09/06/227205/monkeypox-apathy-will-condemn-people-to-suffer-latin-american-activists-say/'}}, {'a': {'abstract': 'For many gay and bisexual men, the sprawling and chaotic monkeypox outbreak has upended a summer that was supposed to be a well-earned opportunity — following the peak of the Covid crisis — to finally have some fun and revel with their gay brothers without the threat of viral infection hanging over them.\\n\\nSoon after Memorial Day, however, these men, as well as transgender individuals and other queer people — GBTQ for short, because lesbians’ monkeypox risk is remote — were met head-on with harrowing reports about monkeypox’s often devastating and disfiguring effects on the body. Next came anger and frustration over what queer activists characterize as the Biden administration’s fumbling initial response to the outbreak.\\n\\nLost amid the frantic media and public health reports about monkeypox epidemiology, the delayed vaccine deliveries and the squabbling over how best to communicate about the virus are the millions of GBTQ people whose happiness, well-being and connection to one another have in many cases been considerably compromised by the mere threat of monkeypox infection.\\n\\nGuillermo Rojas spent the summer in his native Mexico City because of the high rates of monkeypox in New York, where he now lives. Benjamin Ryan\\n\\n“Life has sort of halted,” said Guillermo Rojas, 29, a Mexican citizen and public administration graduate student in New York City. “This was supposed to be the great summer that everything went back and opened.”\\n\\nDr. Alex Keuroghlian, a psychiatrist at the LGBTQ-health-focused Fenway Institute in Boston, said the outbreak has “been extremely distressing for community members and is also triggering in that it harkens back to the early days of the AIDS epidemic. It has a chilling effect on people’s sense of community, cohesion and belonging.”\\n\\nFortunately, there has been at most one U.S. monkeypox death in the U.S. — a potential case in a severely immunocompromised person in Texas is under investigation — even as the national case count has swelled to 19,465 diagnoses. And after a slow start, the federal government has now doled out approximately 800,000 vaccine vials, with a heady supply arriving in short order.\\n\\nBut provided how the virus, which gives rise to unsightly lesions that in some cases cause excruciating pain, is overwhelmingly spreading during sex between men, the outbreak has cast a long shadow over the gay community.\\n\\nPeople lined up outside of Department of Health & Mental Hygiene clinic on June 23, 2022 in New York. Tayfun Coskun / Anadolu Agency via Getty Images\\n\\nOver 100 gay, bisexual, transgender and queer people responded to an NBC News online survey seeking to learn about how monkeypox has affected their lives. What this diverse cross-section of the community most had in common were missed opportunities. They wrote about sex they never had, dates they never went on and gatherings with friends they avoided.\\n\\nAll that avoidance, the respondents made evident, was enmeshed in a cat’s cradle of fear — of contagion, of pain and suffering, of lonely and potentially financially ruinous weeks of isolation at home should they contract the virus.\\n\\nThey spoke of a summer they had hoped would prove invincible but that for them has turned out to be anything but.\\n\\nA decade of sexual liberation, interrupted\\n\\nOver the past 10 years, the introduction of PrEP, the HIV prevention pill, and the emergence of landmark studies proving that successfully treating HIV blocks transmission of the virus have cultivated a resurgent sexual liberation among many GBTQ people. Long-standing anxieties about HIV have eased, and hookup apps have made meeting sexual partners as convenient as procuring takeout — hence the term “ordering in.” As a result, people like Rojas have felt free to explore and revel in sex in a way queer people haven’t since the AIDS epidemic brought to a crashing close the sexual freedoms gay men enjoyed during the 1970s.\\n\\nThen, in 2020, a new viral plague kept all of society cooped up and longing for freedom.\\n\\n“Post-Covid,” said Rojas, recalling how he experienced the free-spirited bacchanalia into which monkeypox arrived in New York City this spring, “everybody went crazy, and there were sex parties all over town.”\\n\\nMonkeypox swiftly pushed the contemporary safer-sex playbook out the window. Queer people have been left scrambling for answers about how to protect themselves and have expressed bewilderment as they’ve struggled to process mixed messaging from public health leaders and journalists about what poses a substantial risk of infection.\\n\\nRojas was one of the first U.S. residents to receive the prized monkeypox vaccine, in late June. But even with the benefit of his first jab of the two-dose vaccine, he has still sharply curtailed what he had hoped would be a long-awaited libertine summer.\\n\\n“I’ve stopped going to sex parties,” he said, given that public health authorities identified such gatherings of men as major monkeypox risk factors. “I also stopped having sex with people who live off their OnlyFans. I additionally stopped cruising at the gym, I did not continue to go to Fire Island, and I stopped attending orgies.”\\n\\nEvidence suggests a recent tidal shift in sexual behaviors in responses to monkeypox. According to the American Men’s Internet Survey, which conducted an online poll in early August of 824 gay, bisexual and other men who have sex with men, 48% reported reducing their number of sexual partners because of the outbreak, while 50% reduced hook-ups and 49% reduced partners met on hookup apps or at sex venues.\\n\\n“It’s just a small, temporary break until everybody gets the vaccine,” said Rojas, who remained so concerned about living in the nation’s monkeypox epicenter that he decamped to his family’s home in Mexico City for the summer.\\n\\nFighting over — and for — sexual freedom\\n\\nNot everyone in the queer community has been on the same page regarding monkeypox precautions. Just as battles over mask mandates and school closures have turned neighbor against neighbor during the Covid pandemic, fierce internecine conflicts have arisen among GBTQ people this summer about the best ways to respond to and communicate about monkeypox.\\n\\nMichael Weinstein, the president of the Los Angeles-based AIDS Healthcare Foundation, dusted off his outspoken antipathy toward PrEP and published a scathing rebuke of the sexual liberties the HIV-prevention pill has facilitated in an op-ed titled “Monkeypox Reckoning” in the Los Angeles Blade on Monday. Notorious for an unapologetically strident, moralizing and fear-based approach to HIV-prevention communication, one that is far out of step with that of the vast majority of the public health community, Weinstein decried “a wholesale abandonment of safer sex promotion in favor of PrEP.”\\n\\n“There has always been a sex radical group that has defined gay liberation as absolute sexual freedom,” Weinstein wrote, blaming monkeypox on those freedoms.\\n\\nFor another man named Michael, who like some people interviewed preferred to go only by his first name to shield his privacy, protecting himself against monkeypox by sacrificing the very sexual freedoms that Weinstein castigates has come, he said, at a great cost.\\n\\n“I am not changing my behavior with an attitude of cheerful, take-one-for-the-team compliance,” said Michael, 42, who works in education in Philadelphia. “Instead, I find the situation fearful, miserable and diminishing. I am experiencing this outbreak as a serious setback to something that is very important to me, namely sexual freedom.\\n\\n“Sex,” he continued, “isn’t just a frivolous pastime. For many of us, sex has serious meaning, sex is one of the things that makes life worth living.”\\n\\nLaRon Nelson is an associate professor of nursing and public health at Yale University and a long-time researcher in the HIV field. Mara Lavitt\\n\\nAfter more than two years of Covid restrictions, the arrival on U.S. shores of yet another major virus has also dealt a blow to the already strained mental health of many queer people, said LaRon Nelson, an associate professor of nursing and public health at Yale University.\\n\\n“The fear of contracting monkeypox and the concern about access to the vaccine have led people to isolate or continue to isolate,” Nelson said. “That chronic exposure to this type of stress also comes at the expense of their psychological well-being.”\\n\\nJ.J. Ryan, a bisexual trans man assigned female at birth, spent the height of the Covid pandemic transitioning.\\n\\n“I felt like I was just surviving before. I wasn’t really living,” Ryan, 34, said of his pre-transition life. “So I was really excited to get out and live my life — for this to finally be my ‘hot boy summer.’” Instead, he said, he has sadly “sharply reduced” his sexual exploration.\\n\\nFears of resurgent discrimination\\n\\nWith so many broken social, romantic, familial and sexual connections lying in pieces around them, many of the respondents to NBC News’ survey said they further dreaded that the monkeypox outbreak would fuel discrimination, hate and even violence toward LGBTQ people.\\n\\nThere is evidence — including a recent attack in Washington, D.C. — that such fears are beginning to manifest.\\n\\n“My greatest worry in all of this is the turning of the clock back to less and less acceptance society-wise,” said Ryan, who is a Ph.D. student and a policy researcher at a nonprofit research organization in Washington.\\n\\nJohn Pachankis is a psychologist at the Yale School of Public Health and a leading researcher of LGBTQ mental health. Michael Benabib\\n\\nJohn Pachankis, a psychologist at the Yale School of Public Health, noted how for the past two decades, queer advocacy organizations have pushed “a narrative that gay people are just like everyone else” in a successful effort to secure many civil rights protections. He spoke to the conflict that members of this community now face when the particulars of gay sex lie at the heart of the monkeypox outbreak and, as during the AIDS crisis, have become fodder for intense public debate.\\n\\n“In the context of the real threat of those rights’ being taken away,” Pachankis said, referring to the recent rising tide of anti-LGBTQ sentiment and policies in the U.S., “the last thing that you want to do is disconfirm that narrative — even if the picture is a little more nuanced, even if gay people do live distinct lives from straight people, even if they express their sexuality more creatively, some might say more authentically.”\\n\\nBrian Minalga works in the HIV field in Seattle. Courtesy Brian Minalga\\n\\nBrian Minalga, 36, who is gender nonbinary and works in the HIV field in Seattle, said: “There’s this idea that there are good people with good behaviors having the good type of sex. It’s moralistic and puritanical.”\\n\\nRecapitulating racial disparities\\n\\nFor queer people of color, the outbreak has brought an unwelcome recapitulation of the racial health disparities that have characterized both the HIV and the Covid epidemics in the U.S.\\n\\n“We saw monkeypox start with more affluent white gay men, and then eventually it seeped into more diverse networks, and that includes men of color,” said Gregorio Millett, the director of public policy at amfAR, The Foundation for AIDS Research.\\n\\nThe Centers for Disease Control and Prevention and various state and local health departments have reported that monkeypox is indeed already disproportionately affecting Blacks and Latinos. And yet outsize shares of the vaccines have tended to go to whites — thanks, health advocates say, to structural factors that favor access to more privileged members of society.\\n\\nWatching such patterns play out “is painful,” said Carlos E. Rodríguez-Díaz, an associate professor at the Milken Institute School of Public Health at George Washington University, “because it’s a reminder of the presence of systemic racism.”\\n\\nMatthew Rose, 36, a health equity advocate in Washington, D.C., spoke to the myriad ways he and his Black gay peers have been dehumanized over time. He said he feared that monkeypox, the very name of which evokes a racist trope, will only worsen matters.\\n\\n“For Black gay men, the last thing you need is to add a whole other discussion where you become this Black vector of disease,” he said.\\n\\nThree viruses, one sense of fear\\n\\nFor some GBTQ people, fears of contagion instilled during the height of the Covid pandemic have primed further anxieties about monkeypox. The rueful history of the early AIDS epidemic serves as yet another backdrop.\\n\\n“I decided several weeks ago that intimate contact isn’t worth the risk until I am fully vaccinated and the infection rate is under control,” said Steven Dwyer, 68, who is retired and based out of Baltimore and has been living with HIV since the mid-1980s. “As a long-term AIDS survivor, I learned it’s better to get informed about disease outbreaks that could affect me.”\\n\\nThe plight of Jason, a Los Angeles-area screenwriter in his late 20s, is a particularly profound example of the way crippling anxieties about infectious disease can be all-consuming. Jason has lived with obsessive compulsive disorder since childhood. It causes him intense dread of contagion and contamination, as well as various compulsions in response to such thoughts and stimuli. Fear of Covid left him largely housebound. Now the monkeypox outbreak has magnified those fears just as he was starting to feel more comfortable with venturing outside.\\n\\nJason lives with his boyfriend, and they’re monogamous, so contracting monkeypox sexually isn’t a concern. But suggestions that casual contact or contaminated surfaces can transmit monkeypox have left him reluctant to push his luck with his OCD. Consequently, for Jason, it’s as if those cloistered first few months of the Covid pandemic never ended.\\n\\n“I am probably one of the only people I know that still doesn’t really go out much,” he said.\\n\\nMany other GBTQ people said monkeypox has led them to question going to crowded spaces, such as concerts, bars and clubs — enjoyable outings and chances to connect with fellow queer people after having lived through the lonely and dull height of Covid.\\n\\nJason has been agonizing over whether to attend an upcoming concert of a performer he loves, something he has been looking forward to for years since it got delayed because of the pandemic. And in a recent interview, Dwyer, who travels constantly, expressed concern about contracting monkeypox from hotel linens.\\n\\nWorries about monkeypox transmission even led to the cancellation of a major concert at the Southern Decadence celebration in New Orleans, which takes place over Labor Day weekend — even though it was to have been held outdoors.\\n\\nRyan said that when he visited his family in Philadelphia before he got his first monkeypox vaccination, his mother was hesitant to hug him for fear of the virus. That only aggravated his own worries about perhaps unknowingly passing monkeypox to his young niece and nephew.\\n\\nBen Rosen is a psychotherapist at the LGBTQ-focused Harlem United in New York. Brent Unkrich\\n\\nSuch hesitance from family members, said Ben Rosen, a psychotherapist at Harlem United in New York, parallels the cold shoulder many gay men got during the early AIDS crisis, “where people are being told, ‘Oh maybe you shouldn’t come visit.’”\\n\\nRecent research suggests, however, that anxieties about monkeypox transmission in public settings and other relatively casual scenarios are most likely misplaced or at least grossly overblown. According to research papers and reports from global health authorities, cases of nonsexual transmission are uncommon to rare.\\n\\nLast week, Dwyer concluded that bed sheets don’t actually pose a substantial risk.\\n\\nDr. Demetre Daskalakis was recently appointed as the White House national monkeypox response deputy coordinator. Benjamin Ryan\\n\\nOn an Aug. 19 call with reporters, Dr. Demetre Daskalakis, the deputy for the White House’s monkeypox response, said he believes attending crowded concerts is generally a low-risk activity. Merely brushing by someone, he said, is likely to be “low or no risk.”\\n\\nChristopher Vasquez, 39, the director of communications at the National Center for Lesbian Rights in San Francisco, said: “I think we need to be very careful about overreacting and shutting down events. Especially after two-plus years of the LGBTQ community feeling the effects of loneliness and depression because of Covid.”\\n\\nThe great work begins\\n\\nPraising the myriad ways queer activists have fought for a better response to monkeypox, including faster and broader access to vaccines, Keuroghlian of the Fenway Institute said, “The silver lining is to see the amazing ability of our community to organize with solidarity and to articulate their needs.”\\n\\nThere are signs such efforts are bearing fruit.\\n\\nRecent reports suggest transmission slowdowns in New York, Chicago and San Francisco — likely the result, experts theorize, of changes in sexual behavior, increased vaccination and possibly immunity from past infection.\\n\\nWith the challenging summer coming to a close, Guillermo Rojas is freshly back in New York for the fall semester of his graduate studies at Columbia University. Sitting in Manhattan’s Lincoln Center on a humid late-summer afternoon just after a cloudburst, he expressed optimism over the future of the outbreak.\\n\\n“As people start getting vaccinated and the second vaccine starts kicking in for most people, things should get back to normal,” he said.\\n\\nHe got his own second shot on Wednesday.\\n\\nEditor’s note: NBC News would like to hear from people who have recovered from monkeypox infection. If you have, please fill out this confidential online survey, and we may contact you for an interview.\\n\\nFollow NBC Out on Twitter, Facebook & Instagram.', 'label': 'true', 'url': 'https://www.nbcnews.com/nbc-out/out-health-and-wellness/monkeypox-spoiled-gay-mens-plans-invincible-summer-rcna45326'}}, {'a': {'abstract': 'MEXICO CITY — Gay rights activists from across Latin America have called for the region’s governments to take firm steps to prevent the spread of monkeypox, saying a lack of will to provide vaccines and diagnose cases is hurting the region’s gay and bisexual men.\\n\\nLatin America has confirmed around 16% of over 50,000 registered cases worldwide in the recent outbreak, almost exclusively in countries where it is not historically endemic.\\n\\nHowever, a Latin American network of gay rights activists believes governments are drastically underreporting the extent of the outbreak, in part due to discrimination against men who have sex with men, among whom the disease has so far been circulating overwhelmingly through sex.\\n\\n“The worst thing would be to decide that this will be controlled through herd immunity,” the AIDS Healthcare Foundation’s director, Dr. Jorge Saavedra, told Reuters. “The lesions are very painful; and you can’t just condemn people to suffer.”\\n\\n“This is state sadism,” he said.\\n\\nActivists, who gathered in Mexico City on Thursday at an event to call for stronger state responses, said it was unbelievable that Mexico — one of Latin America’s most populous and visited countries — would have only one-third the number of monkeypox cases as Peru, which confirmed its first case a month after Mexico.\\n\\n“Are Peruvians having more sex than Mexicans? Sexologists have found no evidence,” Saavedra said at the event.\\n\\nThe situation is particularly worrying in Mexico, activists said, where there is just one centralized diagnostics center forcing people to wait and travel long distances.\\n\\nGrassroots clinics for people living with HIV, who risk suffering much more severe effects of monkeypox, have meanwhile been flooded with patients, they said.\\n\\nMexico’s government in June issued a statement discouraging messaging that links gay and bisexual men to monkeypox to prevent discrimination.\\n\\n“They stigmatized us 40 years ago during the AIDS crisis,” said HIV researcher Ricardo Forcada. “Now, they’re not helping us under the pretext of not stigmatizing us.”\\n\\nForcada said the network was prepared to take all available legal actions, including appealing to Mexico’s human rights commission. It hopes the governments will invest in targeted health campaigns and order vaccines.\\n\\n“We don’t want this to turn into an endemic problem like other sexually transmitted diseases,” said Saavedra.\\n\\nFollow NBC Latino on Facebook, Twitter and Instagram.', 'label': 'true', 'url': 'https://www.nbcnews.com/news/latino/latin-american-activists-say-inaction-monkeypox-will-condemn-people-su-rcna46128'}}, {'a': {'abstract': 'For many gay and bisexual men, the sprawling and chaotic monkeypox outbreak has upended a summer that was supposed to be a well-earned opportunity — following the peak of the Covid crisis — to finally have some fun and revel with their gay brothers without the threat of viral infection hanging over them.\\n\\nSoon after Memorial Day, however, these men, as well as transgender individuals and other queer people — GBTQ for short, because lesbians’ monkeypox risk is remote — were met head-on with harrowing reports about monkeypox’s often devastating and disfiguring effects on the body. Next came anger and frustration over what queer activists characterize as the Biden administration’s fumbling initial response to the outbreak.\\n\\nLost amid the frantic media and public health reports about monkeypox epidemiology, the delayed vaccine deliveries and the squabbling over how best to communicate about the virus are the millions of GBTQ people whose happiness, well-being and connection to one another have in many cases been considerably compromised by the mere threat of monkeypox infection.\\n\\nImage: Guillermo Rojas. (Benjamin Ryan)\\n\\n“Life has sort of halted,” said Guillermo Rojas, 29, a Mexican citizen and public administration graduate student in New York City. “This was supposed to be the great summer that everything went back and opened.”\\n\\nDr. Alex Keuroghlian, a psychiatrist at the LGBTQ-health-focused Fenway Institute in Boston, said the outbreak has “been extremely distressing for community members and is also triggering in that it harkens back to the early days of the AIDS epidemic. It has a chilling effect on people’s sense of community, cohesion and belonging.”\\n\\nFortunately, there has been at most one U.S. monkeypox death in the U.S. — a potential case in a severely immunocompromised person in Texas is under investigation — even as the national case count has swelled to 19,465 diagnoses. And after a slow start, the federal government has now doled out approximately 800,000 vaccine vials, with a heady supply arriving in short order.\\n\\nBut provided how the virus, which gives rise to unsightly lesions that in some cases cause excruciating pain, is overwhelmingly spreading during sex between men, the outbreak has cast a long shadow over the gay community.\\n\\nPeople lined up outside of Department of Health & Mental Hygiene clinic on June 23, 2022 in New York, as NYC makes vaccines available to residents possibly exposed to monkeypox. (Tayfun Coskun / Anadolu Agency via Getty Images)\\n\\nOver 100 gay, bisexual, transgender and queer people responded to an NBC News online survey seeking to learn about how monkeypox has affected their lives. What this diverse cross-section of the community most had in common were missed opportunities. They wrote about sex they never had, dates they never went on and gatherings with friends they avoided.\\n\\nAll that avoidance, the respondents made evident, was enmeshed in a cat’s cradle of fear — of contagion, of pain and suffering, of lonely and potentially financially ruinous weeks of isolation at home should they contract the virus.\\n\\nThey spoke of a summer they had hoped would prove invincible but that for them has turned out to be anything but.\\n\\nA decade of sexual liberation, interrupted\\n\\nOver the past 10 years, the introduction of PrEP, the HIV prevention pill, and the emergence of landmark studies proving that successfully treating HIV blocks transmission of the virus have cultivated a resurgent sexual liberation among many GBTQ people. Long-standing anxieties about HIV have eased, and hookup apps have made meeting sexual partners as convenient as procuring takeout — hence the term “ordering in.” As a result, people like Rojas have felt free to explore and revel in sex in a way queer people haven’t since the AIDS epidemic brought to a crashing close the sexual freedoms gay men enjoyed during the 1970s.\\n\\nThen, in 2020, a new viral plague kept all of society cooped up and longing for freedom.\\n\\n“Post-Covid,” said Rojas, recalling how he experienced the free-spirited bacchanalia into which monkeypox arrived in New York City this spring, “everybody went crazy, and there were sex parties all over town.”\\n\\nMonkeypox swiftly pushed the contemporary safer-sex playbook out the window. Queer people have been left scrambling for answers about how to protect themselves and have expressed bewilderment as they’ve struggled to process mixed messaging from public health leaders and journalists about what poses a substantial risk of infection.\\n\\nRojas was one of the first U.S. residents to receive the prized monkeypox vaccine, in late June. But even with the benefit of his first jab of the two-dose vaccine, he has still sharply curtailed what he had hoped would be a long-awaited libertine summer.\\n\\n“I’ve stopped going to sex parties,” he said, given that public health authorities identified such gatherings of men as major monkeypox risk factors. “I also stopped having sex with people who live off their OnlyFans. I additionally stopped cruising at the gym, I did not continue to go to Fire Island, and I stopped attending orgies.”\\n\\nEvidence suggests a recent tidal shift in sexual behaviors in responses to monkeypox. According to the American Men’s Internet Survey, which conducted an online poll in early August of 824 gay, bisexual and other men who have sex with men, 48% reported reducing their number of sexual partners because of the outbreak, while 50% reduced hook-ups and 49% reduced partners met on hookup apps or at sex venues.\\n\\n“It’s just a small, temporary break until everybody gets the vaccine,” said Rojas, who remained so concerned about living in the nation’s monkeypox epicenter that he decamped to his family’s home in Mexico City for the summer.\\n\\nFighting over — and for — sexual freedom\\n\\nNot everyone in the queer community has been on the same page regarding monkeypox precautions. Just as battles over mask mandates and school closures have turned neighbor against neighbor during the Covid pandemic, fierce internecine conflicts have arisen among GBTQ people this summer about the best ways to respond to and communicate about monkeypox.\\n\\nMichael Weinstein, the president of the Los Angeles-based AIDS Healthcare Foundation, dusted off his outspoken antipathy toward PrEP and published a scathing rebuke of the sexual liberties the HIV-prevention pill has facilitated in an op-ed titled “Monkeypox Reckoning” in the Los Angeles Blade on Monday. Notorious for an unapologetically strident, moralizing and fear-based approach to HIV-prevention communication, one that is far out of step with that of the vast majority of the public health community, Weinstein decried “a wholesale abandonment of safer sex promotion in favor of PrEP.”\\n\\n“There has always been a sex radical group that has defined gay liberation as absolute sexual freedom,” Weinstein wrote, blaming monkeypox on those freedoms.\\n\\nFor another man named Michael, who like some people interviewed preferred to go only by his first name to shield his privacy, protecting himself against monkeypox by sacrificing the very sexual freedoms that Weinstein castigates has come, he said, at a great cost.\\n\\n“I am not changing my behavior with an attitude of cheerful, take-one-for-the-team compliance,” said Michael, 42, who works in education in Philadelphia. “Instead, I find the situation fearful, miserable and diminishing. I am experiencing this outbreak as a serious setback to something that is very important to me, namely sexual freedom.\\n\\n“Sex,” he continued, “isn’t just a frivolous pastime. For many of us, sex has serious meaning, sex is one of the things that makes life worth living.”\\n\\nImage: LaRon Nelson (Mara Lavitt)\\n\\nAfter more than two years of Covid restrictions, the arrival on U.S. shores of yet another major virus has also dealt a blow to the already strained mental health of many queer people, said LaRon Nelson, an associate professor of nursing and public health at Yale University.\\n\\n“The fear of contracting monkeypox and the concern about access to the vaccine have led people to isolate or continue to isolate,” Nelson said. “That chronic exposure to this type of stress also comes at the expense of their psychological well-being.”\\n\\nJ.J. Ryan, a bisexual trans man assigned female at birth, spent the height of the Covid pandemic transitioning.\\n\\n“I felt like I was just surviving before. I wasn’t really living,” Ryan, 34, said of his pre-transition life. “So I was really excited to get out and live my life — for this to finally be my ‘hot boy summer.’” Instead, he said, he has sadly “sharply reduced” his sexual exploration.\\n\\nFears of resurgent discrimination\\n\\nWith so many broken social, romantic, familial and sexual connections lying in pieces around them, many of the respondents to NBC News’ survey said they further dreaded that the monkeypox outbreak would fuel discrimination, hate and even violence toward LGBTQ people.\\n\\nThere is evidence — including a recent attack in Washington, D.C. — that such fears are beginning to manifest.\\n\\n“My greatest worry in all of this is the turning of the clock back to less and less acceptance society-wise,” said Ryan, who is a Ph.D. student and a policy researcher at a nonprofit research organization in Washington.\\n\\nImage: John Pachankis (Michael Benabib)\\n\\nJohn Pachankis, a psychologist at the Yale School of Public Health, noted how for the past two decades, queer advocacy organizations have pushed “a narrative that gay people are just like everyone else” in a successful effort to secure many civil rights protections. He spoke to the conflict that members of this community now face when the particulars of gay sex lie at the heart of the monkeypox outbreak and, as during the AIDS crisis, have become fodder for intense public debate.\\n\\n“In the context of the real threat of those rights’ being taken away,” Pachankis said, referring to the recent rising tide of anti-LGBTQ sentiment and policies in the U.S., “the last thing that you want to do is disconfirm that narrative — even if the picture is a little more nuanced, even if gay people do live distinct lives from straight people, even if they express their sexuality more creatively, some might say more authentically.”\\n\\nImage: Brian Minalga. (Courtesy Brian Minalga)\\n\\nBrian Minalga, 36, who is gender nonbinary and works in the HIV field in Seattle, said: “There’s this idea that there are good people with good behaviors having the good type of sex. It’s moralistic and puritanical.”\\n\\nRecapitulating racial disparities\\n\\nFor queer people of color, the outbreak has brought an unwelcome recapitulation of the racial health disparities that have characterized both the HIV and the Covid epidemics in the U.S.\\n\\n“We saw monkeypox start with more affluent white gay men, and then eventually it seeped into more diverse networks, and that includes men of color,” said Gregorio Millett, the director of public policy at amfAR, The Foundation for AIDS Research.\\n\\nThe Centers for Disease Control and Prevention and various state and local health departments have reported that monkeypox is indeed already disproportionately affecting Blacks and Latinos. And yet outsize shares of the vaccines have tended to go to whites — thanks, health advocates say, to structural factors that favor access to more privileged members of society.\\n\\nWatching such patterns play out “is painful,” said Carlos E. Rodríguez-Díaz, an associate professor at the Milken Institute School of Public Health at George Washington University, “because it’s a reminder of the presence of systemic racism.”\\n\\nMatthew Rose, 36, a health equity advocate in Washington, D.C., spoke to the myriad ways he and his Black gay peers have been dehumanized over time. He said he feared that monkeypox, the very name of which evokes a racist trope, will only worsen matters.\\n\\n“For Black gay men, the last thing you need is to add a whole other discussion where you become this Black vector of disease,” he said.\\n\\nThree viruses, one sense of fear\\n\\nFor some GBTQ people, fears of contagion instilled during the height of the Covid pandemic have primed further anxieties about monkeypox. The rueful history of the early AIDS epidemic serves as yet another backdrop.\\n\\n“I decided several weeks ago that intimate contact isn’t worth the risk until I am fully vaccinated and the infection rate is under control,” said Steven Dwyer, 68, who is retired and based out of Baltimore and has been living with HIV since the mid-1980s. “As a long-term AIDS survivor, I learned it’s better to get informed about disease outbreaks that could affect me.”\\n\\nThe plight of Jason, a Los Angeles-area screenwriter in his late 20s, is a particularly profound example of the way crippling anxieties about infectious disease can be all-consuming. Jason has lived with obsessive compulsive disorder since childhood. It causes him intense dread of contagion and contamination, as well as various compulsions in response to such thoughts and stimuli. Fear of Covid left him largely housebound. Now the monkeypox outbreak has magnified those fears just as he was starting to feel more comfortable with venturing outside.\\n\\nJason lives with his boyfriend, and they’re monogamous, so contracting monkeypox sexually isn’t a concern. But suggestions that casual contact or contaminated surfaces can transmit monkeypox have left him reluctant to push his luck with his OCD. Consequently, for Jason, it’s as if those cloistered first few months of the Covid pandemic never ended.\\n\\n“I am probably one of the only people I know that still doesn’t really go out much,” he said.\\n\\nMany other GBTQ people said monkeypox has led them to question going to crowded spaces, such as concerts, bars and clubs — enjoyable outings and chances to connect with fellow queer people after having lived through the lonely and dull height of Covid.\\n\\nJason has been agonizing over whether to attend an upcoming concert of a performer he loves, something he has been looking forward to for years since it got delayed because of the pandemic. And in a recent interview, Dwyer, who travels constantly, expressed concern about contracting monkeypox from hotel linens.\\n\\nWorries about monkeypox transmission even led to the cancellation of a major concert at the Southern Decadence celebration in New Orleans, which takes place over Labor Day weekend — even though it was to have been held outdoors.\\n\\nRyan said that when he visited his family in Philadelphia before he got his first monkeypox vaccination, his mother was hesitant to hug him for fear of the virus. That only aggravated his own worries about perhaps unknowingly passing monkeypox to his young niece and nephew.\\n\\nImage: Ben Rosen (Brent Unkrich)\\n\\nSuch hesitance from family members, said Ben Rosen, a psychotherapist at Harlem United in New York, parallels the cold shoulder many gay men got during the early AIDS crisis, “where people are being told, ‘Oh maybe you shouldn’t come visit.’”\\n\\nRecent research suggests, however, that anxieties about monkeypox transmission in public settings and other relatively casual scenarios are most likely misplaced or at least grossly overblown. According to research papers and reports from global health authorities, cases of nonsexual transmission are uncommon to rare.\\n\\nLast week, Dwyer concluded that bed sheets don’t actually pose a substantial risk.\\n\\nImage: Demetre Daskalakis. (Benjamin Ryan)\\n\\nOn an Aug. 19 call with reporters, Dr. Demetre Daskalakis, the deputy for the White House’s monkeypox response, said he believes attending crowded concerts is generally a low-risk activity. Merely brushing by someone, he said, is likely to be “low or no risk.”\\n\\nChristopher Vasquez, 39, the director of communications at the National Center for Lesbian Rights in San Francisco, said: “I think we need to be very careful about overreacting and shutting down events. Especially after two-plus years of the LGBTQ community feeling the effects of loneliness and depression because of Covid.”\\n\\nThe great work begins\\n\\nPraising the myriad ways queer activists have fought for a better response to monkeypox, including faster and broader access to vaccines, Keuroghlian of the Fenway Institute said, “The silver lining is to see the amazing ability of our community to organize with solidarity and to articulate their needs.”\\n\\nThere are signs such efforts are bearing fruit.\\n\\nRecent reports suggest transmission slowdowns in New York, Chicago and San Francisco — likely the result, experts theorize, of changes in sexual behavior, increased vaccination and possibly immunity from past infection.\\n\\nWith the challenging summer coming to a close, Guillermo Rojas is freshly back in New York for the fall semester of his graduate studies at Columbia University. Sitting in Manhattan’s Lincoln Center on a humid late-summer afternoon just after a cloudburst, he expressed optimism over the future of the outbreak.\\n\\n“As people start getting vaccinated and the second vaccine starts kicking in for most people, things should get back to normal,” he said.\\n\\nHe got his own second shot on Wednesday.\\n\\nEditor’s note: NBC News would like to hear from people who have recovered from monkeypox infection. If you have, please fill out this confidential online survey, and we may contact you for an interview.\\n\\nFollow NBC Out on Twitter, Facebook & Instagram.\\n\\nThis article was originally published on NBCNews.com', 'label': 'true', 'url': 'https://news.yahoo.com/monkeypox-spoiled-gay-mens-plans-150408055.html'}}, {'a': {'abstract': 'Test tubes labelled \"Monkeypox virus positive and negative\" in a photo illustration taken on May 23, 2022.\\n\\nTest tubes labelled \"Monkeypox virus positive and negative\" in a photo illustration taken on May 23, 2022. Dado Ruvic/Reuters\\n\\nMEXICO CITY—Mexico and Cuba have reported the deaths of two people who had tested positive for monkeypox, although neither country attributed the fatalities to the viral disease.\\n\\nThe reports follow monkeypox-related deaths reported in Brazil and Ecuador in the past month, but fatalities remain rare in the current outbreak.\\n\\nThe Pan-American Health Organization has reported at least 21,200 confirmed cases of monkeypox in the Americas, and over 80 countries worldwide have reported new cases of the illness, which is endemic in parts of Africa.\\n\\nMexico’s health ministry on Tuesday said experts were investigating the death of an HIV-positive patient who had died from septic shock and pneumonia after testing positive for monkeypox.\\n\\nMexico has reported 386 confirmed and 862 probable cases of monkeypox infection.\\n\\nCuban authorities said a 50-year-old Italian man died on Aug. 21 after being diagnosed with monkeypox on Aug. 20.\\n\\nThe public health ministry said the tourist, who had arrived on Aug. 15, had been in an unstable condition since Thursday and rapidly deteriorated.\\n\\nThe ministry pointed to an autopsy report that reported the cause of death as sepsis linked to pneumonia and organ damage.', 'label': 'true', 'url': 'https://www.theepochtimes.com/mexico-cuba-report-deaths-of-two-patients-with-monkeypox_4685347.html'}}]\u001b[0m\n"
          ]
        },
        {
          "name": "stderr",
          "output_type": "stream",
          "text": [
            "\r 20%|██        | 20/100 [00:57<15:11, 11.40s/it]WARNING:langchain_core.callbacks.manager:Error in StdOutCallbackHandler.on_chain_start callback: AttributeError(\"'NoneType' object has no attribute 'get'\")\n"
          ]
        },
        {
          "name": "stdout",
          "output_type": "stream",
          "text": [
            "\n",
            "\u001b[1m> Finished chain.\u001b[0m\n",
            "Generated Cypher:\n",
            "\u001b[32;1m\u001b[1;3mMATCH (a:Article) RETURN a\u001b[0m\n",
            "Full Context:\n",
            "\u001b[32;1m\u001b[1;3m[{'a': {'abstract': 'CNN —\\n\\nAfrican nations could begin vaccinations against mpox within days, according to the continent’s top public health agency, as a World Health Organization official said the spread of a deadlier strain of the virus could be controlled and “was not the new Covid.”\\n\\nThe Democratic Republic of Congo (DRC) is at the epicenter of an mpox outbreak declared a global health emergency last week by WHO, with the deadlier clade Ib strain that is spreading quickly in the country detected in at least four other African nations.\\n\\n“We didn’t start vaccinations yet. We’ll start in a few days if we are sure that everything is in place. End of next week, vaccines will start to arrive in DRC and other countries,” Africa CDC Director General Jean Kaseya told a briefing on Tuesday.\\n\\nThe viral disease, formerly known as monkeypox, can spread easily between people and from infected animals through close contact such as touching, kissing or sex, as well as through contaminated materials like sheets, clothing and needles, according to WHO. Symptoms include a fever, a painful rash, headache, muscle and back pain, low energy and enlarged lymph nodes.\\n\\nAround 1,400 mpox infections have been reported across Africa over the past week, bringing the total number of cases on the continent to nearly 19,000 since the start of the year – up more than 100% on the same period last year, according to the Africa CDC. The latest outbreak has killed more than 500 people, the agency’s latest available data shows.\\n\\nThat’s prompted a scramble for vaccines as health officials in Africa work with overseas partners to meet a massive shortfall of doses.\\n\\n“We need to have vaccines,” Kaseya told NPR last week. “Today, we are just talking about almost 200,000 doses (becoming) available. We need at least 10 million doses. The vaccine is so expensive — we can put it around $100 per dose. There are not so many countries in Africa that can afford the cost of this vaccine.”\\n\\nThe European Union and Danish vaccine maker Bavarian Nordic have so far pledged support, the European Commission said last week. Japan and the United States have also offered doses, Reuters reported, citing the DRC’s health minister.\\n\\nA health worker attends to an mpox patient in Munigi, eastern Congo, on August 19, 2024. Moses Sawasawa/AP\\n\\n‘Not the new Covid’\\n\\nWHO’s declaration of a global health emergency is the second time in two years that the United Nations health agency has raised the alarm over the spread of mpox, which for decades had been found largely in central and western Africa.\\n\\nMpox is characterized by two genetic clades, I and II. A clade is a broad grouping of viruses that has evolved over decades that has distinct genetic and clinical differences.\\n\\nClade II was responsible for a global outbreak that was also declared to be a global health emergency from July 2022 to May 2023. But the new outbreak is driven by clade I, which causes more severe disease. The subtype that’s responsible for most of the ongoing spread, clade Ib, is relatively new.\\n\\nLast week, the first clade lb case outside Africa was confirmed in Sweden in a patient who had recently traveled to the continent.\\n\\nBut with nations worldwide on high alert for the virus, a WHO official on Tuesday played down fears of a new pandemic as he called for a coordinated response to the outbreak.\\n\\n“Mpox is not the new Covid,” WHO Europe Director Hans Kluge told a press briefing.\\n\\nWhile more research is needed on the clade Ib strain, its spread can be controlled, he said.\\n\\n“We know how to control mpox. And, in the European region, the steps needed to eliminate its transmission altogether,” Kluge said.\\n\\n“The need for a coordinated response is now greatest in the African region,” he said. “We can, and must, tackle mpox together – across regions and continents.”\\n\\nKluge’s comments came as the Philippines and Thailand reported cases of mpox in travelers who had been to Africa. Meanwhile, Argentina’s health ministry said Wednesday that tests carried out on a crew member of a cargo ship that was placed in quarantine were negative for mpox.\\n\\nThis story has been updated with additional information.', 'label': 'true', 'url': 'https://us.cnn.com/2024/08/20/americas/argentina-quarantines-mpox-ship-intl-latam/'}}, {'a': {'abstract': \"Freighter isolated off Argentine port due to suspected mpox case\\n\\n21st Wednesday, August 2024 - 10:45 UTC Full article\\n\\nhe Liberian-flagged INA-LOTTE was isolated pending a decision from sanitary border experts\\n\\nA Liberian-flagged cereal freighter was isolated off the Argentine port of San Lorenzo, north of Rosario on the Parana River, after a crewmember was reported to have monkeypox symptoms. The vessel stemmed from Spain.\\n\\nThe sanitary protocol was activated and the Border Health Staff was summoned. The Security Ministry agency isolated those members of the INA-LOTTE ship with symptoms compatible with the malady declared last week by the World Health Organization (WHO) as a public health emergency of international concern (PHEIC)\\n\\nThe presence of the suspected infected person on board was reported to the authorities by the ship's captain, who spoke about a crewmember suffering from severe malaise and requiring medical assistance.\\n\\nAs per the WHO's indications, only authorized health personnel may board the ship and no one may get off until the status of persons with suspected symptoms has been determined.\\n\\nIn addition, two people in Rosario -a man and a woman- were confirmed to have mpox. The man had a recent travel history to Spain, it was also explained. Local infectiologist Carolina Subirá said in a TV interview that the man's case was in no way connected to the INA-LOTTE. The patient is 34 years old and \\x93is a traveler who returned last Aug. 10 and had symptoms 48 hours before. But after several tests, his diagnosis was confirmed on Tuesday,\\x94 the Santa Fe provincial Health Ministry said in a statement. Regarding the 38-year-old woman, she had no travel record and doctors are yet baffled as to how she contracted the disease.\\n\\nMonkeypox is a sylvatic viral zoonosis caused by a virus belonging to the genus Orthopoxvirus and is commonly found in tropical rainforest-rich central and western Africa. The disease can be transmitted by exposure to exhaled droplets (respiratory) and by contact with infected skin lesions (including sexual intercourse) or contaminated materials. The incubation period can range from 5 to 21 days, while the most common symptoms are fever, headache, muscle aches, swollen lymph nodes, chills, and exhaustion, which are also accompanied by a rash. The rash often starts on the face and then spreads to other parts of the body, including the genitals: lesions may be very itchy or painful.\\n\\nAuthorities also advised the population to self-isolate in case of symptoms compatible with the disease, wear a facemask, stay at a distance from other people, seek professional help, and not self-medicate.\", 'label': 'true', 'url': 'https://en.mercopress.com/2024/08/21/freighter-isolated-off-argentine-port-due-to-suspected-mpox-case'}}, {'a': {'abstract': 'Failed to extract article: Article `download()` failed with 403 Client Error: Forbidden for url: https://www.streetinsider.com/Reuters/Argentina+health+officials+determine+as+false+suspected+case+of+mpox+virus+on+ship/23628564.html on URL https://www.streetinsider.com/Reuters/Argentina+health+officials+determine+as+false+suspected+case+of+mpox+virus+on+ship/23628564.html', 'label': 'true', 'url': 'https://www.streetinsider.com/Reuters/Argentina+health+officials+determine+as+false+suspected+case+of+mpox+virus+on+ship/23628564.html'}}, {'a': {'abstract': 'The World Health Organization (WHO) on August 14, 2024, declared mpox as a “public health emergency of international concern” (PHEIC). And while agencies worldwide are tracking the spread of the pestilence, one facet of this PHEIC mirrors COVID-19, the one before it: bushmeat.\\n\\nWhile the Huanan Seafood Wholesale Market was identified as the epicentre site of the COVID-19 pandemic, bushmeat has been implicated since the 1970s in mpox. That is when the disease became first known to science.\\n\\n“Notable zoonotic diseases such as EVD (Ebola Virus Disease) and mpox have established origins from Central Africa in the 1970s and are believed to have been transmitted through bushmeat…,” a paper published last year and titled Mapping Global Bushmeat Activities to Improve Zoonotic Spillover Surveillance by Using Geospatial Modeling, had noted.\\n\\nThe WHO too recognises this. “MPXV (mpox virus) transmits between humans through close contact with lesions, body fluids, respiratory droplets or contaminated materials, or from animals to humans through contact with live animals or consumption of contaminated bushmeat,” it notes on its website.\\n\\nBut bushmeat in sub-Saharan Africa cannot be just wished away. For one, it provides food security to the region. It is also a cultural practice. How can zoonotic spillover be prevented then?\\n\\nWhat is bushmeat?\\n\\nThe paper defines bushmeat as “the meat of terrestrial wild mammals hunted primarily for human consumption in tropical and subtropical regions”.\\n\\nWhile terrestrial wild mammals make up just 1.8 per cent of the global biomass of mammals, over 70 per cent of zoonotic disease spillover events have been associated with wildlife and bushmeat, according to the paper.\\n\\n“Hunting, preparing, and selling bushmeat (hereafter referred to as bushmeat activities) has been associated with high risk for zoonotic pathogen spillover due to contact with infectious materials from animals… For instance, Ebola virus spillover events and subsequent outbreaks in the Congo Basin have been traced back to hunters who were exposed to ape carcasses,” it noted.\\n\\nImportance in Africa\\n\\nThe paper’s authors mapped bushmeat activities in tropical and subtropical rural areas. Their results were startling but not unexpected.\\n\\nThey found that the largest areas associated with bushmeat activities worldwide were in Central Africa, Southeast Asia, and West Africa.\\n\\nThe top 10 countries were Equatorial Guinea, Guinea-Bissau, Liberia, Malawi, Sierra Leone, Laos, Uganda, Vietnam, Côte d’Ivoire and Cameroon.\\n\\nThe country of Equatorial Guinea in Central Africa (which consists of Rio Muni on the African mainland and the island of Bioko) had the highest proportion of land area associated with bushmeat activities.\\n\\n“Equatorial Guinea is also home to the largest bushmeat market in Africa, Malabo Market on Bioko Island, where recent efforts to limit bushmeat sales through bans have been largely ineffective,” the study noted.\\n\\nAccording to the researchers, most countries of Central Africa have a negligible (like Gabon or the Democratic Republic of Congo or DRC) or limited (Cameroon and Central African Republic) domestic livestock sector. This is the reason why bushmeat is a crucial component of food security.\\n\\nAnd the demand is increasing as Africa’s population rises. “Every year, five to six million tons of wild meat are harvested in Central Africa to respond to increasing demand,” noted the Wildlife Conservation Society last year.\\n\\nThe authors of a 2019 paper titled From the Forest to the Dish: A Comprehensive Study of the Wildmeat Value Chain in Yangambi, Democratic Republic of Congo, profiled the town of Yangambi near the key eastern city of Kisangani in terms of the bushmeat trade.\\n\\nThey found that the most traded species in Yangambi were small monkeys (38 per cent of the biomass) and red duikers (31 per cent), blue duikers, bush pigs, and bush tailed porcupines.\\n\\n“Because zoonotic diseases known to be transmitted from wild mammals, such as mpox and Ebola, continue to emerge and expand geographically, an urgent need exists to integrate bushmeat activities into the epidemiology of emerging zoonoses,” the authors of the 2023 paper noted.\\n\\nThey used uncertainty levels on the map to identify 100 urban locations that could most benefit from future bushmeat surveillance efforts. The largest numbers were in Brazil, followed by DRC and Colombia.\\n\\nPreventing spillover\\n\\nThe authors of both papers agreed that neither banning bushmeat nor behaviour change campaigns would make a difference.\\n\\nThe 2023 paper’s authors cited the importance of preventing deforestation.\\n\\n“Deforestation associated with development of logging roads enables easier access to the deeper forest and provides faster transportation of hunted meat to villages and towns. Control of deforestation and logging is urgently needed and could have far-reaching benefits for preventing bushmeat-associated zoonoses, as already established with EVD,” the paper said.\\n\\nTackling climate change could also help as precipitation was a key factor that effected bushmeat activities.\\n\\n“In most areas, hunting pressure increases during the dry season when the water sources dry up, but in other areas, bushmeat hunting is preferred in periods of increased rainfall because the hunting sites become inaccessible to conservation patrols,” according to the analysis.\\n\\nThe authors of the 2019 paper, on the other hand, advocated for creating alternative sources of food.\\n\\n“While behavior change campaigns, as suggested by Chaves et al. (2018), might work in some contexts, we believe that patterns of bushmeat consumption in Yangambi will not change until alternative sources of food and income for a growing population can be established. Where the dependency on the resource is so intrinsically linked to people’s basic needs, there are little chances that behavioral change campaigns will have a significant impact,” they wrote.', 'label': 'true', 'url': 'https://www.downtoearth.org.in/africa/mpox-spreads-through-contaminated-bushmeat-which-central-africa-produces-in-largest-quantities'}}, {'a': {'abstract': 'Open this photo in gallery: Ships carry grains for export on the Parana River, in Rosario, Argentina, on Aug. 9.Matias Baglietto/Reuters\\n\\nA ship on Argentina’s Parana River near the grains hub of Rosario has been quarantined due to a suspected case of mpox, local media reported on Tuesday.\\n\\nThe ship is flying a Liberian flag, outlet Infobae reported, citing sources from Argentina’s naval league.\\n\\nAccording to the outlet, the ship’s captain reported that a person on board with “symptoms compatible with the virus” required medical assistance.\\n\\nTest results are pending, Infobae reported.\\n\\nSo far in Argentina, the nation’s health authority has confirmed eight cases of mpox.\\n\\nThe disease, a viral infection that causes pus-filled lesions and flu-like symptoms, is usually mild but can kill. A new variant of mpox has spread rapidly in Africa, prompting the World Health Organization to declare mpox a global public health emergency.', 'label': 'false', 'url': 'https://www.theglobeandmail.com/world/article-ship-in-argentinas-parana-river-is-quarantined-on-suspected-mpox-case/'}}, {'a': {'abstract': \"Argentina confirms sixth case of monkeypox nationwide\\n\\n17th Saturday, August 2024 - 09:30 UTC Full article\\n\\nThe Argentine government has advised people to up all prevention measures while announcing tougher border controls\\n\\nA new case of monkeypox was confirmed Friday in the Argentine province of Corrientes, bringing the total number of cases in the country to six in the same week that the World Health Organization declared the malady a public health emergency of international concern (PHEIC) after an outbreak in Africa.\\n\\nThe new infection was included in Friday's issue of the federal Health Ministry's National Epidemiological Bulletin (BEN) which collected data from Corrientes' Public Health Minister Ricardo Cardozo, who also explained that the local patient \\x93has already been discharged and is progressing well.\\x94\\n\\nArgentina's first case was confirmed in the province of Buenos Aires, followed by two others in the Autonomous City of Buenos Aires (CABA), one in Santa Fe, and one in Río Negro. With the one in Corrientes, a total of six cases have been confirmed out of 39 reported. The infected patients were aged between 23 and 38 years, it was also explained.\\n\\nAccording to Corrientes' Epidemiology Department, the new appearance was not the new variant, but rather a case of the simian smallpox type that has been appearing from time to time since 2022. \\x93The new variant is still in Africa,\\x94 the authorities stressed. In 2024, 548 deaths and 15,664 potential cases of the disease were reported in the Democratic Republic of Congo.Monkeypox is a disease caused by the monkeypox virus. Currently, two different clades, I and II, have been identified.\\n\\nThe main symptoms include vesicular rashes in various areas of the body such as the genitals, perianal region, hands, and torso. Fever and myalgias may also be experienced. So far, there have been no deaths from monkeypox in the country.\\n\\nHowever, national health authorities have announced reinforced prevention measures, as well as tighter border controls pursuant to international regulations. The government also encouraged people who have had contact with an affected person to go to a health center and avoid contact with other people until symptoms are alleviated. It has been proven that the way to catch the virus clade I MPXV is through person-to-person transmission, after being in contact with people with typical monkeypox lesions, or the clothing of an infected person.\", 'label': 'true', 'url': 'https://en.mercopress.com/2024/08/17/argentina-confirms-sixth-case-of-monkeypox-nationwide'}}, {'a': {'abstract': \"Latest on mpox as the WHO declares it a global health emergency\\n\\nListen • 16:47 Latest on mpox as the WHO declares it a global health emergency\\n\\nThe World Health Organization declared Wednesday that the increasing spread of mpox in Africa is a global health emergency, warning the virus might ultimately spill across international borders. The announcement by WHO director-general Tedros Adhanom Ghebreyesus came after a meeting of the U.N. health agency’s emergency committee. The Africa Centers for Disease Control and Prevention declared mpox a public health emergency on the continent on Tuesday. WHO said there have been more than 14,000 cases and 524 deaths in Africa this year, which already exceed last year’s figures.\\n\\nToday on AirTalk, Austin talks to Dr. Peter Chin-Hong, MD , infectious disease specialist and professor of medicine at the UCSF Medical Center, about the implications of mpox as a global health emergency and what this’ll mean in tackling the problem.\\n\\nWith files from the Associated Press\\n\\n\\n\\nBack to Top\\n\\nIs being a perfectionist helpful, harmful, or both? We ask a psychologist to break it down.\\n\\nListen • 22:07 Is being a perfectionist helpful, harmful, or both? We ask a psychologist to break it down.\\n\\nHow many times have you heard someone say “When it comes to such and such…I’m kind of a perfectionist.” Or maybe you know someone who has never said they’re a perfectionist but…all signs point to it. Turns out, “perfectionism” has been steadily rising since the mid-1990s. That’s according to a 2017 study by psychologist Thomas Curran. But what exactly is perfectionism? Can it actually help you achieve a goal? Or is perfectionism purely harmful? Well, Thomas Curran joins us today from the UK where he’s associate professor of Psychology at The London School of Economics and Political Science and author of the book “The Perfection Trap: Embracing the Power of Good Enough.”\\n\\n\\n\\nBack to Top\\n\\nMezcal: the lesser known staple of Oaxacan cuisine\\n\\nListen • 10:40 Mezcal the lesser known staple of Oaxacan cuisine\\n\\nOaxacan cuisine and culture made its way to Los Angeles years ago. And although the community and various restaurants here have popularized aspects of Oaxacan cuisine like mole, the tradition of mezcal has yet to be fully embraced by the city. Ivan Vasquez, chef and owner of the Oaxacan restaurant and mezcalería Madre , aims to change that. Mezcal is a liquor made from agave, but unlike its close counterpart tequila, it's not typically used in cocktails, but enjoyed as its own drink in Oaxaca. Vasquez opened Madre in 2013, with the hopes of representing Oaxaca and the unique culture of mezcal. Now, Madre has the largest selection of mezcal in the United States, and Vasquez hopes to further educate Angelenos about the unique alcohol at a new festival Mezcal Por Siempre. The festival will take place Saturday, September 14, at L.A. River Studios and bring together over 50 visiting mezcal producers from Mexico. Today on AirTalk, Ivan Vasquez joins us today to share some Oaxacan cuisine and teach us about the rich culture of mezcal.\\n\\nFor more information about the upcoming 'Mezcal Por Siempre' event, including a link for tickets, click here.\\n\\n\\n\\nBack to Top\\n\\nFilmWeek: ‘Alien: Romulus,’ Close to You,’ ‘Sugarcane,’ and more\\n\\nListen • 30:32 FilmWeek: ‘Alien: Romulus,’ ‘Close to You,’ ‘Sugarcane,’ And More\\n\\nLarry Mantle and LAist film critics Manuel Betancourt and Christy Lemire review this weekend’s new movie releases on streaming and on demand platforms. We also honor the passing of actress Gena Rowlands, who died at 94 and is best known for her creative partnership with her late, ex-husband, John Cassavetes.\\n\\n“Alien: Romulus” Wide Release\\n\\n“My Penguin Friend” Wide Release\\n\\n“Jackpot!” Streaming on Amazon Prime\\n\\n“Close to You” Laemmle Royal | Monica Film Center | Laemmle NoHo 7 | Laemmle Glendale\\n\\n“Skincare” In Select Theaters\\n\\n“Sugarcane” Laemmle Royal\\n\\n“Rob Peace” Monica Film Center | Town Center 5 | NoHo 7\\n\\n“Untold: The Murder of Air McNair ” Streaming on Netflix\\n\\n“The Union” Streaming on Netflix\\n\\n\\n\\nBack to Top\\n\\nFilmWeek presents ‘The Fast and the Furious’: post-screening conversation with special guests\\n\\nListen • 19:04 FilmWeek presents ‘The Fast and the Furious’: post-screening conversation with special guests\\n\\n“I live my life a quarter mile at a time.” In Los Angeles, many drivers can relate to that famous quote from “The Fast and the Furious,” said by character Dominic Toretto, played by Vin Diesel. The original film brings together a host of references that many Southern California could probably point out. From scenes taking places in areas like Dodgers Stadium, to what is now the San Bernardino Airport, the film has a host of references that locals will get a kick out of seeing on the big screen. Not just that, but it’s fast-paced action sequences and focus on family is why the film has garnered such universal interest.\\n\\nSo LAist thought it’d be great to bring the film to big screen for our most recent FilmWeek screening, this time in partnership with The Frida Cinema in Santa Ana. Following the screening, Larry spoke to film critics Amy Nicholson and Christy Lemire about the film to discuss its significance in our culture. They were also joined the film’s racing consultant, Craig Lieberman, and 2nd unit director Mic Rodgers, to understand all the effort that went into making this movie a high octane blockbuster.\", 'label': 'true', 'url': 'https://laist.com/shows/airtalk/latest-on-mpox-as-the-who-declares-it-a-global-health-emergency'}}, {'a': {'abstract': \"The World Health Organisation (WHO) has elevated the mpox virus – formerly known as monkeypox – to the status of a global health emergency.\\n\\nWHO made the announcement on Wednesday, following the African Centre for Disease Control declaring a continental health emergency on Wednesday.\\n\\nThe organisations’ emergency committee met to determine the rising case numbers and transmission risks warranted a “public health emergency of international concern” (PHEIC).\\n\\nThe World Health Organisation Director-General Tedros Adhanom Ghebreyesus has declared mpox to be “public health emergency of international concern” on Thursday. Picture: Getty Images\\n\\nWHO Director-General Tedros Adhanom Ghebreyesus told press the emergency committee had advised him the situation constituted “a public health emergency of international concern”.\\n\\n“A public health emergency of international concern is the highest level of alarm under international health law,” Mr Adhanom said.\\n\\nMpox is an infectious viral disease which spreads from person to person through direct contact, or through contact with animals.\\n\\nThe decision has come amid a troubling surge in mpox cases as 16 of 26 countries with recorded infections reported an increase of cases in June.\\n\\nAustralia experienced the sharpest rise in the Western Pacific Region with cases almost doubling from 33 to 64.\\n\\nThere was also a rise in cases in the Democratic Republic of the Congo (543 v 459), Spain (54 v 38) and Colombia (11 v 0).\\n\\nThe mpox disease particles (red) inside an infected cell (blue). Picture: NIAID via AP, File\\n\\n“It is clear that a coordinated international response is essential to stop these outbreaks and save lives,” said Mr Adhanom.\\n\\nGlobally, there have been 99,176 cases between January and June with 3,491 cases in the Western Pacific region – a fraction of the 62,904 cases in the Americas.\\n\\nSuspected mpox cases in Africa have surged past 17,000 with at least 13 countries across the continent impacted, according to the African Union's health watchdog.\\n\\n“This is just the tip of the iceberg when we consider the many weaknesses in surveillance, laboratory testing and contact tracing,” the African Centre for Disease Control said on Wednesday.\\n\\nTo combat the crisis, the WHO has rolled out an initial US$15 million regional response plan to improve surveillance, preparedness, and response activities.\\n\\nMr Adhanom said the organisation has already released US$1.45 million from the WHO Contingency Fund for Emergencies and will seek further funding from donors\\n\\nThe new mpox strain, Clade I, which has shown heightened transmissibility, has so far been detected only within Africa.\", 'label': 'true', 'url': 'https://www.skynews.com.au/world-news/global-affairs/world-health-organisation-declares-mpox-a-global-health-emergency-amid-surge-in-african-cases/news-story/58c0d4e6c59b4757da3ed0be25d38a20?nk=6e8190d33689cce0d4bf8853dfd9af5f-1723689114'}}, {'a': {'abstract': 'The smallpox vaccine effectively induces immunity against mpox virus infection (formerly simian smallpox) in patients with human immunodeficiency virus (HIV) infection, although patients with lymphocyte counts below 500 cells/mm3 require booster doses, according to data from a study published in the Journal of Medical Virology.\\n\\nThe data come from the prospective observational study conducted by researchers at the Infection Biology Laboratory of the Department of Medicine and Life Sciences at Pompeu Fabra University and the HIV Unit of the Hospital del Mar Medical Research Institute in Barcelona, Spain. The investigators analyzed T-cell responses induced by vaccination with JYNNEOS.\\n\\nDespite the substantial decrease in the reporting frequency of mpox cases from the global peak in August 2022 (30,894 cases) to 804 monthly cases in the last six months of 2023, mpox continues to circulate, and there is no specific vaccine. The JYNNEOS vaccine, with protective cross-reactivity against orthopoxviruses, is approved by the US Food and Drug Administration and the European Medicines Agency for the prevention of smallpox and mpox in adults at high risk for infection.\\n\\nDuring the 2022 outbreak in the United States and Europe, vaccine shortages led to the emergency use authorization of a lower intradermal dose. This strategy was aimed at increasing vaccine supply up to fivefold.\\n\\nFurther clinical trials are needed to evaluate responses to JYNNEOS vaccination and compare different administration routes in patients with HIV infection. Protecting this population against mpox is a priority because people with high viral loads or loCD4+ T-lymphocyte counts are especially susceptible to severe disease.\\n\\nVaccination Responses\\n\\nThe study assessed the immune response to the JYNNEOS vaccine in patients with HIV who were receiving antiretroviral therapy as outpatients at the Infectious Diseases Unit of Hospital del Mar in Barcelona, Spain. Participants had viral loads controlled by antiretroviral therapy and CD4+ T-lymphocyte counts ≤ 500/mm3 (loCD4 group) or ≥ 500/mm3 (hiCD4 group) in blood. Vaccine responses were compared with those of vaccinated controls without the disease. The study included cases that received the standard subcutaneous vaccine (before August 2022) or the emergency dose-saving intradermal vaccine after its approval in August 2022.\\n\\nThe results demonstrated that the intradermal dose-saving vaccination route is preferable to the subcutaneous route and that patients in the loCD4 group may require at least one booster to generate an efficient response of specific T cells for mpox, wrote the authors.\\n\\n\"This study has two relevant points,\" study author Robert Güerri-Fernandez, MD, PhD, head of infectious diseases at the Hospital del Mar Medical Research Institute, told the Medscape Spanish edition. \"In the subgroup of patients with HIV with effective treatment but without an immune response (ie, loCD4), the vaccine response is worse than in people who have recovered immunity or do not have HIV. Therefore, they need a booster dose.\"\\n\\n\"The second point is that the intradermal route with one-fifth of the standard subcutaneous dose has a better immune response than the standard subcutaneous route.\" He added that it was a good strategy to save doses and be able to vaccinate many more people when vaccine shortages occurred.\\n\\n\"A general conclusion cannot be drawn,\" he added. \"It needs to be validated with many more subjects, of course, but in some way, it reinforced our confidence in the strategy of health authorities to promote intradermal vaccination. There we had evidence that the patients we were vaccinating intradermally were responding well.\"\\n\\nIn Spain, although there is no shortage of vaccines today, they continue to be administered intradermally with a fractionated dose equivalent to one fifth of a standard dose, said Güerri-Fernandez.\\n\\nHowever, in his opinion, observations regarding the two administration routes signal a need for further research. The main message should be that for patients with HIV infection who do not have an immune response, the vaccine response is incomplete, and they need booster doses as well as monitoring of the vaccine immune response, said Güerri-Fernandez.\\n\\nMore Studies Required\\n\\nThe research, which prospectively collected data and blood samples from patients with HIV who received the JYNNEOS vaccine, is small and included only 24 patients with HIV infection, with seven hospital workers who also received the vaccine and seven unvaccinated individuals as controls. \"I am one of the control subjects of the study, and intradermal vaccination is not especially pleasant,\" commented Güerri-Fernandez. \"It is a very innervated area, and the moment of introducing the liquid is uncomfortable. But it is perfectly bearable.\"\\n\\nOutpatient HIV-infected patients from the Infectious Diseases Unit of Hospital del Mar on antiretroviral therapy and with undetectable viral loads were grouped according to their CD4+ T-lymphocyte counts. Those with CD4+ T-lymphocyte counts ≤ 500/mm3 required at least one booster vaccine to exhibit efficient virus-specific T-lymphocyte responses. The magnitude of the T-cell response after this booster correlated directly with the CD4+ T-lymphocyte count of those vaccinated.\\n\\nFor Argentine infectious disease specialist Julián García, MD, clinical researcher at the Huésped Foundation in Buenos Aires, Argentina, who did not participate in the study, it is always productive to know that T-cell responses develop in patients with HIV infection, with CD4+ T-lymphocyte counts > and < 500/mm3, through an intradermal administration route.\\n\\nGarcía emphasized that the most novel aspect is that the JYNNEOS vaccine induces a specific T-cell response in patients with HIV infection that increases with higher CD4+ T-lymphocyte levels. However, he noted that the number of patients was less than 10 in most study groups, and the control group had only intradermal administration, which limits the interpretation of the results. \"It will be necessary to verify this in studies with larger groups with control groups from all routes and with a correlate of protection.\"\\n\\nGarcía referred to this latter point as a significant source of uncertainty. \"The study is fundamentally based on the cellular response, but nowadays, there is no immune correlate of real-life protection.\" He concluded that the study builds knowledge, which is essential for a vaccine that began to be used for mpox and the effectiveness of which is based on estimates.\\n\\nGüerri-Fernandez and Garcia declared no relevant financial conflicts of interest.\\n\\nThis story was translated from the Medscape Spanish edition using several editorial tools, including AI, as part of the process. Human editors reviewed this content before publication.', 'label': 'true', 'url': 'https://www.medscape.com/viewarticle/reduced-dose-vaccines-protect-patients-hiv-against-mpox-2024a10003pq'}}, {'a': {'abstract': 'A devastating tragedy has left a mother dead and seven others in serious condition after eating fish that had been fried in a toxic substance.\\n\\nThe family from the Mompox district of Colombia accidentally poisoned themselves after using a toxic substance stored in a bottle for a fish dinner, mistaking it for cooking oil. Such was the potency of the toxic dish, seven dogs were also killed after munching on the leftovers.\\n\\nYaneth Dávila Arévalo, 57, the mother of the family, has since been pronounced dead.\\n\\nSeven others, including three children - aged between 11 and 14 years old - were rushed to hospital and remain in a serious condition.\\n\\nThey include the grandparents, father and children of the family, as well as an employee who worked with them.\\n\\nFor all the latest on news, politics, sports, and showbiz from the USA, go to Daily Express US', 'label': 'true', 'url': 'https://www.express.co.uk/news/world/1804527/colombia-mom-dies-toxic-fish-cooking-oil-mompox'}}]\u001b[0m\n"
          ]
        },
        {
          "name": "stderr",
          "output_type": "stream",
          "text": [
            "\r 21%|██        | 21/100 [01:21<19:44, 14.99s/it]WARNING:langchain_core.callbacks.manager:Error in StdOutCallbackHandler.on_chain_start callback: AttributeError(\"'NoneType' object has no attribute 'get'\")\n"
          ]
        },
        {
          "name": "stdout",
          "output_type": "stream",
          "text": [
            "\n",
            "\u001b[1m> Finished chain.\u001b[0m\n",
            "Generated Cypher:\n",
            "\u001b[32;1m\u001b[1;3mMATCH (a:Article {label: \"true\"})-[]-(v) RETURN a;\u001b[0m\n",
            "Full Context:\n",
            "\u001b[32;1m\u001b[1;3m[{'a': {'abstract': 'CNN —\\n\\nAfrican nations could begin vaccinations against mpox within days, according to the continent’s top public health agency, as a World Health Organization official said the spread of a deadlier strain of the virus could be controlled and “was not the new Covid.”\\n\\nThe Democratic Republic of Congo (DRC) is at the epicenter of an mpox outbreak declared a global health emergency last week by WHO, with the deadlier clade Ib strain that is spreading quickly in the country detected in at least four other African nations.\\n\\n“We didn’t start vaccinations yet. We’ll start in a few days if we are sure that everything is in place. End of next week, vaccines will start to arrive in DRC and other countries,” Africa CDC Director General Jean Kaseya told a briefing on Tuesday.\\n\\nThe viral disease, formerly known as monkeypox, can spread easily between people and from infected animals through close contact such as touching, kissing or sex, as well as through contaminated materials like sheets, clothing and needles, according to WHO. Symptoms include a fever, a painful rash, headache, muscle and back pain, low energy and enlarged lymph nodes.\\n\\nAround 1,400 mpox infections have been reported across Africa over the past week, bringing the total number of cases on the continent to nearly 19,000 since the start of the year – up more than 100% on the same period last year, according to the Africa CDC. The latest outbreak has killed more than 500 people, the agency’s latest available data shows.\\n\\nThat’s prompted a scramble for vaccines as health officials in Africa work with overseas partners to meet a massive shortfall of doses.\\n\\n“We need to have vaccines,” Kaseya told NPR last week. “Today, we are just talking about almost 200,000 doses (becoming) available. We need at least 10 million doses. The vaccine is so expensive — we can put it around $100 per dose. There are not so many countries in Africa that can afford the cost of this vaccine.”\\n\\nThe European Union and Danish vaccine maker Bavarian Nordic have so far pledged support, the European Commission said last week. Japan and the United States have also offered doses, Reuters reported, citing the DRC’s health minister.\\n\\nA health worker attends to an mpox patient in Munigi, eastern Congo, on August 19, 2024. Moses Sawasawa/AP\\n\\n‘Not the new Covid’\\n\\nWHO’s declaration of a global health emergency is the second time in two years that the United Nations health agency has raised the alarm over the spread of mpox, which for decades had been found largely in central and western Africa.\\n\\nMpox is characterized by two genetic clades, I and II. A clade is a broad grouping of viruses that has evolved over decades that has distinct genetic and clinical differences.\\n\\nClade II was responsible for a global outbreak that was also declared to be a global health emergency from July 2022 to May 2023. But the new outbreak is driven by clade I, which causes more severe disease. The subtype that’s responsible for most of the ongoing spread, clade Ib, is relatively new.\\n\\nLast week, the first clade lb case outside Africa was confirmed in Sweden in a patient who had recently traveled to the continent.\\n\\nBut with nations worldwide on high alert for the virus, a WHO official on Tuesday played down fears of a new pandemic as he called for a coordinated response to the outbreak.\\n\\n“Mpox is not the new Covid,” WHO Europe Director Hans Kluge told a press briefing.\\n\\nWhile more research is needed on the clade Ib strain, its spread can be controlled, he said.\\n\\n“We know how to control mpox. And, in the European region, the steps needed to eliminate its transmission altogether,” Kluge said.\\n\\n“The need for a coordinated response is now greatest in the African region,” he said. “We can, and must, tackle mpox together – across regions and continents.”\\n\\nKluge’s comments came as the Philippines and Thailand reported cases of mpox in travelers who had been to Africa. Meanwhile, Argentina’s health ministry said Wednesday that tests carried out on a crew member of a cargo ship that was placed in quarantine were negative for mpox.\\n\\nThis story has been updated with additional information.', 'label': 'true', 'url': 'https://us.cnn.com/2024/08/20/americas/argentina-quarantines-mpox-ship-intl-latam/'}}, {'a': {'abstract': 'CNN —\\n\\nAfrican nations could begin vaccinations against mpox within days, according to the continent’s top public health agency, as a World Health Organization official said the spread of a deadlier strain of the virus could be controlled and “was not the new Covid.”\\n\\nThe Democratic Republic of Congo (DRC) is at the epicenter of an mpox outbreak declared a global health emergency last week by WHO, with the deadlier clade Ib strain that is spreading quickly in the country detected in at least four other African nations.\\n\\n“We didn’t start vaccinations yet. We’ll start in a few days if we are sure that everything is in place. End of next week, vaccines will start to arrive in DRC and other countries,” Africa CDC Director General Jean Kaseya told a briefing on Tuesday.\\n\\nThe viral disease, formerly known as monkeypox, can spread easily between people and from infected animals through close contact such as touching, kissing or sex, as well as through contaminated materials like sheets, clothing and needles, according to WHO. Symptoms include a fever, a painful rash, headache, muscle and back pain, low energy and enlarged lymph nodes.\\n\\nAround 1,400 mpox infections have been reported across Africa over the past week, bringing the total number of cases on the continent to nearly 19,000 since the start of the year – up more than 100% on the same period last year, according to the Africa CDC. The latest outbreak has killed more than 500 people, the agency’s latest available data shows.\\n\\nThat’s prompted a scramble for vaccines as health officials in Africa work with overseas partners to meet a massive shortfall of doses.\\n\\n“We need to have vaccines,” Kaseya told NPR last week. “Today, we are just talking about almost 200,000 doses (becoming) available. We need at least 10 million doses. The vaccine is so expensive — we can put it around $100 per dose. There are not so many countries in Africa that can afford the cost of this vaccine.”\\n\\nThe European Union and Danish vaccine maker Bavarian Nordic have so far pledged support, the European Commission said last week. Japan and the United States have also offered doses, Reuters reported, citing the DRC’s health minister.\\n\\nA health worker attends to an mpox patient in Munigi, eastern Congo, on August 19, 2024. Moses Sawasawa/AP\\n\\n‘Not the new Covid’\\n\\nWHO’s declaration of a global health emergency is the second time in two years that the United Nations health agency has raised the alarm over the spread of mpox, which for decades had been found largely in central and western Africa.\\n\\nMpox is characterized by two genetic clades, I and II. A clade is a broad grouping of viruses that has evolved over decades that has distinct genetic and clinical differences.\\n\\nClade II was responsible for a global outbreak that was also declared to be a global health emergency from July 2022 to May 2023. But the new outbreak is driven by clade I, which causes more severe disease. The subtype that’s responsible for most of the ongoing spread, clade Ib, is relatively new.\\n\\nLast week, the first clade lb case outside Africa was confirmed in Sweden in a patient who had recently traveled to the continent.\\n\\nBut with nations worldwide on high alert for the virus, a WHO official on Tuesday played down fears of a new pandemic as he called for a coordinated response to the outbreak.\\n\\n“Mpox is not the new Covid,” WHO Europe Director Hans Kluge told a press briefing.\\n\\nWhile more research is needed on the clade Ib strain, its spread can be controlled, he said.\\n\\n“We know how to control mpox. And, in the European region, the steps needed to eliminate its transmission altogether,” Kluge said.\\n\\n“The need for a coordinated response is now greatest in the African region,” he said. “We can, and must, tackle mpox together – across regions and continents.”\\n\\nKluge’s comments came as the Philippines and Thailand reported cases of mpox in travelers who had been to Africa. Meanwhile, Argentina’s health ministry said Wednesday that tests carried out on a crew member of a cargo ship that was placed in quarantine were negative for mpox.\\n\\nThis story has been updated with additional information.', 'label': 'true', 'url': 'https://us.cnn.com/2024/08/20/americas/argentina-quarantines-mpox-ship-intl-latam/'}}, {'a': {'abstract': 'CNN —\\n\\nAfrican nations could begin vaccinations against mpox within days, according to the continent’s top public health agency, as a World Health Organization official said the spread of a deadlier strain of the virus could be controlled and “was not the new Covid.”\\n\\nThe Democratic Republic of Congo (DRC) is at the epicenter of an mpox outbreak declared a global health emergency last week by WHO, with the deadlier clade Ib strain that is spreading quickly in the country detected in at least four other African nations.\\n\\n“We didn’t start vaccinations yet. We’ll start in a few days if we are sure that everything is in place. End of next week, vaccines will start to arrive in DRC and other countries,” Africa CDC Director General Jean Kaseya told a briefing on Tuesday.\\n\\nThe viral disease, formerly known as monkeypox, can spread easily between people and from infected animals through close contact such as touching, kissing or sex, as well as through contaminated materials like sheets, clothing and needles, according to WHO. Symptoms include a fever, a painful rash, headache, muscle and back pain, low energy and enlarged lymph nodes.\\n\\nAround 1,400 mpox infections have been reported across Africa over the past week, bringing the total number of cases on the continent to nearly 19,000 since the start of the year – up more than 100% on the same period last year, according to the Africa CDC. The latest outbreak has killed more than 500 people, the agency’s latest available data shows.\\n\\nThat’s prompted a scramble for vaccines as health officials in Africa work with overseas partners to meet a massive shortfall of doses.\\n\\n“We need to have vaccines,” Kaseya told NPR last week. “Today, we are just talking about almost 200,000 doses (becoming) available. We need at least 10 million doses. The vaccine is so expensive — we can put it around $100 per dose. There are not so many countries in Africa that can afford the cost of this vaccine.”\\n\\nThe European Union and Danish vaccine maker Bavarian Nordic have so far pledged support, the European Commission said last week. Japan and the United States have also offered doses, Reuters reported, citing the DRC’s health minister.\\n\\nA health worker attends to an mpox patient in Munigi, eastern Congo, on August 19, 2024. Moses Sawasawa/AP\\n\\n‘Not the new Covid’\\n\\nWHO’s declaration of a global health emergency is the second time in two years that the United Nations health agency has raised the alarm over the spread of mpox, which for decades had been found largely in central and western Africa.\\n\\nMpox is characterized by two genetic clades, I and II. A clade is a broad grouping of viruses that has evolved over decades that has distinct genetic and clinical differences.\\n\\nClade II was responsible for a global outbreak that was also declared to be a global health emergency from July 2022 to May 2023. But the new outbreak is driven by clade I, which causes more severe disease. The subtype that’s responsible for most of the ongoing spread, clade Ib, is relatively new.\\n\\nLast week, the first clade lb case outside Africa was confirmed in Sweden in a patient who had recently traveled to the continent.\\n\\nBut with nations worldwide on high alert for the virus, a WHO official on Tuesday played down fears of a new pandemic as he called for a coordinated response to the outbreak.\\n\\n“Mpox is not the new Covid,” WHO Europe Director Hans Kluge told a press briefing.\\n\\nWhile more research is needed on the clade Ib strain, its spread can be controlled, he said.\\n\\n“We know how to control mpox. And, in the European region, the steps needed to eliminate its transmission altogether,” Kluge said.\\n\\n“The need for a coordinated response is now greatest in the African region,” he said. “We can, and must, tackle mpox together – across regions and continents.”\\n\\nKluge’s comments came as the Philippines and Thailand reported cases of mpox in travelers who had been to Africa. Meanwhile, Argentina’s health ministry said Wednesday that tests carried out on a crew member of a cargo ship that was placed in quarantine were negative for mpox.\\n\\nThis story has been updated with additional information.', 'label': 'true', 'url': 'https://us.cnn.com/2024/08/20/americas/argentina-quarantines-mpox-ship-intl-latam/'}}, {'a': {'abstract': 'CNN —\\n\\nAfrican nations could begin vaccinations against mpox within days, according to the continent’s top public health agency, as a World Health Organization official said the spread of a deadlier strain of the virus could be controlled and “was not the new Covid.”\\n\\nThe Democratic Republic of Congo (DRC) is at the epicenter of an mpox outbreak declared a global health emergency last week by WHO, with the deadlier clade Ib strain that is spreading quickly in the country detected in at least four other African nations.\\n\\n“We didn’t start vaccinations yet. We’ll start in a few days if we are sure that everything is in place. End of next week, vaccines will start to arrive in DRC and other countries,” Africa CDC Director General Jean Kaseya told a briefing on Tuesday.\\n\\nThe viral disease, formerly known as monkeypox, can spread easily between people and from infected animals through close contact such as touching, kissing or sex, as well as through contaminated materials like sheets, clothing and needles, according to WHO. Symptoms include a fever, a painful rash, headache, muscle and back pain, low energy and enlarged lymph nodes.\\n\\nAround 1,400 mpox infections have been reported across Africa over the past week, bringing the total number of cases on the continent to nearly 19,000 since the start of the year – up more than 100% on the same period last year, according to the Africa CDC. The latest outbreak has killed more than 500 people, the agency’s latest available data shows.\\n\\nThat’s prompted a scramble for vaccines as health officials in Africa work with overseas partners to meet a massive shortfall of doses.\\n\\n“We need to have vaccines,” Kaseya told NPR last week. “Today, we are just talking about almost 200,000 doses (becoming) available. We need at least 10 million doses. The vaccine is so expensive — we can put it around $100 per dose. There are not so many countries in Africa that can afford the cost of this vaccine.”\\n\\nThe European Union and Danish vaccine maker Bavarian Nordic have so far pledged support, the European Commission said last week. Japan and the United States have also offered doses, Reuters reported, citing the DRC’s health minister.\\n\\nA health worker attends to an mpox patient in Munigi, eastern Congo, on August 19, 2024. Moses Sawasawa/AP\\n\\n‘Not the new Covid’\\n\\nWHO’s declaration of a global health emergency is the second time in two years that the United Nations health agency has raised the alarm over the spread of mpox, which for decades had been found largely in central and western Africa.\\n\\nMpox is characterized by two genetic clades, I and II. A clade is a broad grouping of viruses that has evolved over decades that has distinct genetic and clinical differences.\\n\\nClade II was responsible for a global outbreak that was also declared to be a global health emergency from July 2022 to May 2023. But the new outbreak is driven by clade I, which causes more severe disease. The subtype that’s responsible for most of the ongoing spread, clade Ib, is relatively new.\\n\\nLast week, the first clade lb case outside Africa was confirmed in Sweden in a patient who had recently traveled to the continent.\\n\\nBut with nations worldwide on high alert for the virus, a WHO official on Tuesday played down fears of a new pandemic as he called for a coordinated response to the outbreak.\\n\\n“Mpox is not the new Covid,” WHO Europe Director Hans Kluge told a press briefing.\\n\\nWhile more research is needed on the clade Ib strain, its spread can be controlled, he said.\\n\\n“We know how to control mpox. And, in the European region, the steps needed to eliminate its transmission altogether,” Kluge said.\\n\\n“The need for a coordinated response is now greatest in the African region,” he said. “We can, and must, tackle mpox together – across regions and continents.”\\n\\nKluge’s comments came as the Philippines and Thailand reported cases of mpox in travelers who had been to Africa. Meanwhile, Argentina’s health ministry said Wednesday that tests carried out on a crew member of a cargo ship that was placed in quarantine were negative for mpox.\\n\\nThis story has been updated with additional information.', 'label': 'true', 'url': 'https://us.cnn.com/2024/08/20/americas/argentina-quarantines-mpox-ship-intl-latam/'}}, {'a': {'abstract': 'CNN —\\n\\nAfrican nations could begin vaccinations against mpox within days, according to the continent’s top public health agency, as a World Health Organization official said the spread of a deadlier strain of the virus could be controlled and “was not the new Covid.”\\n\\nThe Democratic Republic of Congo (DRC) is at the epicenter of an mpox outbreak declared a global health emergency last week by WHO, with the deadlier clade Ib strain that is spreading quickly in the country detected in at least four other African nations.\\n\\n“We didn’t start vaccinations yet. We’ll start in a few days if we are sure that everything is in place. End of next week, vaccines will start to arrive in DRC and other countries,” Africa CDC Director General Jean Kaseya told a briefing on Tuesday.\\n\\nThe viral disease, formerly known as monkeypox, can spread easily between people and from infected animals through close contact such as touching, kissing or sex, as well as through contaminated materials like sheets, clothing and needles, according to WHO. Symptoms include a fever, a painful rash, headache, muscle and back pain, low energy and enlarged lymph nodes.\\n\\nAround 1,400 mpox infections have been reported across Africa over the past week, bringing the total number of cases on the continent to nearly 19,000 since the start of the year – up more than 100% on the same period last year, according to the Africa CDC. The latest outbreak has killed more than 500 people, the agency’s latest available data shows.\\n\\nThat’s prompted a scramble for vaccines as health officials in Africa work with overseas partners to meet a massive shortfall of doses.\\n\\n“We need to have vaccines,” Kaseya told NPR last week. “Today, we are just talking about almost 200,000 doses (becoming) available. We need at least 10 million doses. The vaccine is so expensive — we can put it around $100 per dose. There are not so many countries in Africa that can afford the cost of this vaccine.”\\n\\nThe European Union and Danish vaccine maker Bavarian Nordic have so far pledged support, the European Commission said last week. Japan and the United States have also offered doses, Reuters reported, citing the DRC’s health minister.\\n\\nA health worker attends to an mpox patient in Munigi, eastern Congo, on August 19, 2024. Moses Sawasawa/AP\\n\\n‘Not the new Covid’\\n\\nWHO’s declaration of a global health emergency is the second time in two years that the United Nations health agency has raised the alarm over the spread of mpox, which for decades had been found largely in central and western Africa.\\n\\nMpox is characterized by two genetic clades, I and II. A clade is a broad grouping of viruses that has evolved over decades that has distinct genetic and clinical differences.\\n\\nClade II was responsible for a global outbreak that was also declared to be a global health emergency from July 2022 to May 2023. But the new outbreak is driven by clade I, which causes more severe disease. The subtype that’s responsible for most of the ongoing spread, clade Ib, is relatively new.\\n\\nLast week, the first clade lb case outside Africa was confirmed in Sweden in a patient who had recently traveled to the continent.\\n\\nBut with nations worldwide on high alert for the virus, a WHO official on Tuesday played down fears of a new pandemic as he called for a coordinated response to the outbreak.\\n\\n“Mpox is not the new Covid,” WHO Europe Director Hans Kluge told a press briefing.\\n\\nWhile more research is needed on the clade Ib strain, its spread can be controlled, he said.\\n\\n“We know how to control mpox. And, in the European region, the steps needed to eliminate its transmission altogether,” Kluge said.\\n\\n“The need for a coordinated response is now greatest in the African region,” he said. “We can, and must, tackle mpox together – across regions and continents.”\\n\\nKluge’s comments came as the Philippines and Thailand reported cases of mpox in travelers who had been to Africa. Meanwhile, Argentina’s health ministry said Wednesday that tests carried out on a crew member of a cargo ship that was placed in quarantine were negative for mpox.\\n\\nThis story has been updated with additional information.', 'label': 'true', 'url': 'https://us.cnn.com/2024/08/20/americas/argentina-quarantines-mpox-ship-intl-latam/'}}, {'a': {'abstract': 'CNN —\\n\\nAfrican nations could begin vaccinations against mpox within days, according to the continent’s top public health agency, as a World Health Organization official said the spread of a deadlier strain of the virus could be controlled and “was not the new Covid.”\\n\\nThe Democratic Republic of Congo (DRC) is at the epicenter of an mpox outbreak declared a global health emergency last week by WHO, with the deadlier clade Ib strain that is spreading quickly in the country detected in at least four other African nations.\\n\\n“We didn’t start vaccinations yet. We’ll start in a few days if we are sure that everything is in place. End of next week, vaccines will start to arrive in DRC and other countries,” Africa CDC Director General Jean Kaseya told a briefing on Tuesday.\\n\\nThe viral disease, formerly known as monkeypox, can spread easily between people and from infected animals through close contact such as touching, kissing or sex, as well as through contaminated materials like sheets, clothing and needles, according to WHO. Symptoms include a fever, a painful rash, headache, muscle and back pain, low energy and enlarged lymph nodes.\\n\\nAround 1,400 mpox infections have been reported across Africa over the past week, bringing the total number of cases on the continent to nearly 19,000 since the start of the year – up more than 100% on the same period last year, according to the Africa CDC. The latest outbreak has killed more than 500 people, the agency’s latest available data shows.\\n\\nThat’s prompted a scramble for vaccines as health officials in Africa work with overseas partners to meet a massive shortfall of doses.\\n\\n“We need to have vaccines,” Kaseya told NPR last week. “Today, we are just talking about almost 200,000 doses (becoming) available. We need at least 10 million doses. The vaccine is so expensive — we can put it around $100 per dose. There are not so many countries in Africa that can afford the cost of this vaccine.”\\n\\nThe European Union and Danish vaccine maker Bavarian Nordic have so far pledged support, the European Commission said last week. Japan and the United States have also offered doses, Reuters reported, citing the DRC’s health minister.\\n\\nA health worker attends to an mpox patient in Munigi, eastern Congo, on August 19, 2024. Moses Sawasawa/AP\\n\\n‘Not the new Covid’\\n\\nWHO’s declaration of a global health emergency is the second time in two years that the United Nations health agency has raised the alarm over the spread of mpox, which for decades had been found largely in central and western Africa.\\n\\nMpox is characterized by two genetic clades, I and II. A clade is a broad grouping of viruses that has evolved over decades that has distinct genetic and clinical differences.\\n\\nClade II was responsible for a global outbreak that was also declared to be a global health emergency from July 2022 to May 2023. But the new outbreak is driven by clade I, which causes more severe disease. The subtype that’s responsible for most of the ongoing spread, clade Ib, is relatively new.\\n\\nLast week, the first clade lb case outside Africa was confirmed in Sweden in a patient who had recently traveled to the continent.\\n\\nBut with nations worldwide on high alert for the virus, a WHO official on Tuesday played down fears of a new pandemic as he called for a coordinated response to the outbreak.\\n\\n“Mpox is not the new Covid,” WHO Europe Director Hans Kluge told a press briefing.\\n\\nWhile more research is needed on the clade Ib strain, its spread can be controlled, he said.\\n\\n“We know how to control mpox. And, in the European region, the steps needed to eliminate its transmission altogether,” Kluge said.\\n\\n“The need for a coordinated response is now greatest in the African region,” he said. “We can, and must, tackle mpox together – across regions and continents.”\\n\\nKluge’s comments came as the Philippines and Thailand reported cases of mpox in travelers who had been to Africa. Meanwhile, Argentina’s health ministry said Wednesday that tests carried out on a crew member of a cargo ship that was placed in quarantine were negative for mpox.\\n\\nThis story has been updated with additional information.', 'label': 'true', 'url': 'https://us.cnn.com/2024/08/20/americas/argentina-quarantines-mpox-ship-intl-latam/'}}, {'a': {'abstract': 'CNN —\\n\\nAfrican nations could begin vaccinations against mpox within days, according to the continent’s top public health agency, as a World Health Organization official said the spread of a deadlier strain of the virus could be controlled and “was not the new Covid.”\\n\\nThe Democratic Republic of Congo (DRC) is at the epicenter of an mpox outbreak declared a global health emergency last week by WHO, with the deadlier clade Ib strain that is spreading quickly in the country detected in at least four other African nations.\\n\\n“We didn’t start vaccinations yet. We’ll start in a few days if we are sure that everything is in place. End of next week, vaccines will start to arrive in DRC and other countries,” Africa CDC Director General Jean Kaseya told a briefing on Tuesday.\\n\\nThe viral disease, formerly known as monkeypox, can spread easily between people and from infected animals through close contact such as touching, kissing or sex, as well as through contaminated materials like sheets, clothing and needles, according to WHO. Symptoms include a fever, a painful rash, headache, muscle and back pain, low energy and enlarged lymph nodes.\\n\\nAround 1,400 mpox infections have been reported across Africa over the past week, bringing the total number of cases on the continent to nearly 19,000 since the start of the year – up more than 100% on the same period last year, according to the Africa CDC. The latest outbreak has killed more than 500 people, the agency’s latest available data shows.\\n\\nThat’s prompted a scramble for vaccines as health officials in Africa work with overseas partners to meet a massive shortfall of doses.\\n\\n“We need to have vaccines,” Kaseya told NPR last week. “Today, we are just talking about almost 200,000 doses (becoming) available. We need at least 10 million doses. The vaccine is so expensive — we can put it around $100 per dose. There are not so many countries in Africa that can afford the cost of this vaccine.”\\n\\nThe European Union and Danish vaccine maker Bavarian Nordic have so far pledged support, the European Commission said last week. Japan and the United States have also offered doses, Reuters reported, citing the DRC’s health minister.\\n\\nA health worker attends to an mpox patient in Munigi, eastern Congo, on August 19, 2024. Moses Sawasawa/AP\\n\\n‘Not the new Covid’\\n\\nWHO’s declaration of a global health emergency is the second time in two years that the United Nations health agency has raised the alarm over the spread of mpox, which for decades had been found largely in central and western Africa.\\n\\nMpox is characterized by two genetic clades, I and II. A clade is a broad grouping of viruses that has evolved over decades that has distinct genetic and clinical differences.\\n\\nClade II was responsible for a global outbreak that was also declared to be a global health emergency from July 2022 to May 2023. But the new outbreak is driven by clade I, which causes more severe disease. The subtype that’s responsible for most of the ongoing spread, clade Ib, is relatively new.\\n\\nLast week, the first clade lb case outside Africa was confirmed in Sweden in a patient who had recently traveled to the continent.\\n\\nBut with nations worldwide on high alert for the virus, a WHO official on Tuesday played down fears of a new pandemic as he called for a coordinated response to the outbreak.\\n\\n“Mpox is not the new Covid,” WHO Europe Director Hans Kluge told a press briefing.\\n\\nWhile more research is needed on the clade Ib strain, its spread can be controlled, he said.\\n\\n“We know how to control mpox. And, in the European region, the steps needed to eliminate its transmission altogether,” Kluge said.\\n\\n“The need for a coordinated response is now greatest in the African region,” he said. “We can, and must, tackle mpox together – across regions and continents.”\\n\\nKluge’s comments came as the Philippines and Thailand reported cases of mpox in travelers who had been to Africa. Meanwhile, Argentina’s health ministry said Wednesday that tests carried out on a crew member of a cargo ship that was placed in quarantine were negative for mpox.\\n\\nThis story has been updated with additional information.', 'label': 'true', 'url': 'https://us.cnn.com/2024/08/20/americas/argentina-quarantines-mpox-ship-intl-latam/'}}, {'a': {'abstract': \"Freighter isolated off Argentine port due to suspected mpox case\\n\\n21st Wednesday, August 2024 - 10:45 UTC Full article\\n\\nhe Liberian-flagged INA-LOTTE was isolated pending a decision from sanitary border experts\\n\\nA Liberian-flagged cereal freighter was isolated off the Argentine port of San Lorenzo, north of Rosario on the Parana River, after a crewmember was reported to have monkeypox symptoms. The vessel stemmed from Spain.\\n\\nThe sanitary protocol was activated and the Border Health Staff was summoned. The Security Ministry agency isolated those members of the INA-LOTTE ship with symptoms compatible with the malady declared last week by the World Health Organization (WHO) as a public health emergency of international concern (PHEIC)\\n\\nThe presence of the suspected infected person on board was reported to the authorities by the ship's captain, who spoke about a crewmember suffering from severe malaise and requiring medical assistance.\\n\\nAs per the WHO's indications, only authorized health personnel may board the ship and no one may get off until the status of persons with suspected symptoms has been determined.\\n\\nIn addition, two people in Rosario -a man and a woman- were confirmed to have mpox. The man had a recent travel history to Spain, it was also explained. Local infectiologist Carolina Subirá said in a TV interview that the man's case was in no way connected to the INA-LOTTE. The patient is 34 years old and \\x93is a traveler who returned last Aug. 10 and had symptoms 48 hours before. But after several tests, his diagnosis was confirmed on Tuesday,\\x94 the Santa Fe provincial Health Ministry said in a statement. Regarding the 38-year-old woman, she had no travel record and doctors are yet baffled as to how she contracted the disease.\\n\\nMonkeypox is a sylvatic viral zoonosis caused by a virus belonging to the genus Orthopoxvirus and is commonly found in tropical rainforest-rich central and western Africa. The disease can be transmitted by exposure to exhaled droplets (respiratory) and by contact with infected skin lesions (including sexual intercourse) or contaminated materials. The incubation period can range from 5 to 21 days, while the most common symptoms are fever, headache, muscle aches, swollen lymph nodes, chills, and exhaustion, which are also accompanied by a rash. The rash often starts on the face and then spreads to other parts of the body, including the genitals: lesions may be very itchy or painful.\\n\\nAuthorities also advised the population to self-isolate in case of symptoms compatible with the disease, wear a facemask, stay at a distance from other people, seek professional help, and not self-medicate.\", 'label': 'true', 'url': 'https://en.mercopress.com/2024/08/21/freighter-isolated-off-argentine-port-due-to-suspected-mpox-case'}}, {'a': {'abstract': \"Freighter isolated off Argentine port due to suspected mpox case\\n\\n21st Wednesday, August 2024 - 10:45 UTC Full article\\n\\nhe Liberian-flagged INA-LOTTE was isolated pending a decision from sanitary border experts\\n\\nA Liberian-flagged cereal freighter was isolated off the Argentine port of San Lorenzo, north of Rosario on the Parana River, after a crewmember was reported to have monkeypox symptoms. The vessel stemmed from Spain.\\n\\nThe sanitary protocol was activated and the Border Health Staff was summoned. The Security Ministry agency isolated those members of the INA-LOTTE ship with symptoms compatible with the malady declared last week by the World Health Organization (WHO) as a public health emergency of international concern (PHEIC)\\n\\nThe presence of the suspected infected person on board was reported to the authorities by the ship's captain, who spoke about a crewmember suffering from severe malaise and requiring medical assistance.\\n\\nAs per the WHO's indications, only authorized health personnel may board the ship and no one may get off until the status of persons with suspected symptoms has been determined.\\n\\nIn addition, two people in Rosario -a man and a woman- were confirmed to have mpox. The man had a recent travel history to Spain, it was also explained. Local infectiologist Carolina Subirá said in a TV interview that the man's case was in no way connected to the INA-LOTTE. The patient is 34 years old and \\x93is a traveler who returned last Aug. 10 and had symptoms 48 hours before. But after several tests, his diagnosis was confirmed on Tuesday,\\x94 the Santa Fe provincial Health Ministry said in a statement. Regarding the 38-year-old woman, she had no travel record and doctors are yet baffled as to how she contracted the disease.\\n\\nMonkeypox is a sylvatic viral zoonosis caused by a virus belonging to the genus Orthopoxvirus and is commonly found in tropical rainforest-rich central and western Africa. The disease can be transmitted by exposure to exhaled droplets (respiratory) and by contact with infected skin lesions (including sexual intercourse) or contaminated materials. The incubation period can range from 5 to 21 days, while the most common symptoms are fever, headache, muscle aches, swollen lymph nodes, chills, and exhaustion, which are also accompanied by a rash. The rash often starts on the face and then spreads to other parts of the body, including the genitals: lesions may be very itchy or painful.\\n\\nAuthorities also advised the population to self-isolate in case of symptoms compatible with the disease, wear a facemask, stay at a distance from other people, seek professional help, and not self-medicate.\", 'label': 'true', 'url': 'https://en.mercopress.com/2024/08/21/freighter-isolated-off-argentine-port-due-to-suspected-mpox-case'}}, {'a': {'abstract': \"Freighter isolated off Argentine port due to suspected mpox case\\n\\n21st Wednesday, August 2024 - 10:45 UTC Full article\\n\\nhe Liberian-flagged INA-LOTTE was isolated pending a decision from sanitary border experts\\n\\nA Liberian-flagged cereal freighter was isolated off the Argentine port of San Lorenzo, north of Rosario on the Parana River, after a crewmember was reported to have monkeypox symptoms. The vessel stemmed from Spain.\\n\\nThe sanitary protocol was activated and the Border Health Staff was summoned. The Security Ministry agency isolated those members of the INA-LOTTE ship with symptoms compatible with the malady declared last week by the World Health Organization (WHO) as a public health emergency of international concern (PHEIC)\\n\\nThe presence of the suspected infected person on board was reported to the authorities by the ship's captain, who spoke about a crewmember suffering from severe malaise and requiring medical assistance.\\n\\nAs per the WHO's indications, only authorized health personnel may board the ship and no one may get off until the status of persons with suspected symptoms has been determined.\\n\\nIn addition, two people in Rosario -a man and a woman- were confirmed to have mpox. The man had a recent travel history to Spain, it was also explained. Local infectiologist Carolina Subirá said in a TV interview that the man's case was in no way connected to the INA-LOTTE. The patient is 34 years old and \\x93is a traveler who returned last Aug. 10 and had symptoms 48 hours before. But after several tests, his diagnosis was confirmed on Tuesday,\\x94 the Santa Fe provincial Health Ministry said in a statement. Regarding the 38-year-old woman, she had no travel record and doctors are yet baffled as to how she contracted the disease.\\n\\nMonkeypox is a sylvatic viral zoonosis caused by a virus belonging to the genus Orthopoxvirus and is commonly found in tropical rainforest-rich central and western Africa. The disease can be transmitted by exposure to exhaled droplets (respiratory) and by contact with infected skin lesions (including sexual intercourse) or contaminated materials. The incubation period can range from 5 to 21 days, while the most common symptoms are fever, headache, muscle aches, swollen lymph nodes, chills, and exhaustion, which are also accompanied by a rash. The rash often starts on the face and then spreads to other parts of the body, including the genitals: lesions may be very itchy or painful.\\n\\nAuthorities also advised the population to self-isolate in case of symptoms compatible with the disease, wear a facemask, stay at a distance from other people, seek professional help, and not self-medicate.\", 'label': 'true', 'url': 'https://en.mercopress.com/2024/08/21/freighter-isolated-off-argentine-port-due-to-suspected-mpox-case'}}]\u001b[0m\n"
          ]
        },
        {
          "name": "stderr",
          "output_type": "stream",
          "text": [
            "\r 22%|██▏       | 22/100 [01:52<26:00, 20.01s/it]WARNING:langchain_core.callbacks.manager:Error in StdOutCallbackHandler.on_chain_start callback: AttributeError(\"'NoneType' object has no attribute 'get'\")\n"
          ]
        },
        {
          "name": "stdout",
          "output_type": "stream",
          "text": [
            "\n",
            "\u001b[1m> Finished chain.\u001b[0m\n",
            "Generated Cypher:\n",
            "\u001b[32;1m\u001b[1;3mMATCH (a:Article {label: 'fake'})-[]->() RETURN a\u001b[0m\n"
          ]
        },
        {
          "name": "stderr",
          "output_type": "stream",
          "text": [
            "\r 23%|██▎       | 23/100 [01:53<18:07, 14.12s/it]WARNING:langchain_core.callbacks.manager:Error in StdOutCallbackHandler.on_chain_start callback: AttributeError(\"'NoneType' object has no attribute 'get'\")\n"
          ]
        },
        {
          "name": "stdout",
          "output_type": "stream",
          "text": [
            "Full Context:\n",
            "\u001b[32;1m\u001b[1;3m[]\u001b[0m\n",
            "\n",
            "\u001b[1m> Finished chain.\u001b[0m\n"
          ]
        },
        {
          "name": "stderr",
          "output_type": "stream",
          "text": [
            "\r 24%|██▍       | 24/100 [01:53<12:39, 10.00s/it]WARNING:langchain_core.callbacks.manager:Error in StdOutCallbackHandler.on_chain_start callback: AttributeError(\"'NoneType' object has no attribute 'get'\")\n"
          ]
        },
        {
          "name": "stdout",
          "output_type": "stream",
          "text": [
            "Generated Cypher:\n",
            "\u001b[32;1m\u001b[1;3mMATCH (a:Article {url: 'example.com'})-[:ABOUT_VIRUS]->(v:Virus) RETURN v\u001b[0m\n",
            "Full Context:\n",
            "\u001b[32;1m\u001b[1;3m[]\u001b[0m\n",
            "\n",
            "\u001b[1m> Finished chain.\u001b[0m\n",
            "Generated Cypher:\n",
            "\u001b[32;1m\u001b[1;3mMATCH (a:Article {url: \"example.com\"})-[:MENTIONS_SYMPTOM]->(s:Symptom) RETURN s.name\u001b[0m\n",
            "Full Context:\n",
            "\u001b[32;1m\u001b[1;3m[]\u001b[0m\n"
          ]
        },
        {
          "name": "stderr",
          "output_type": "stream",
          "text": [
            "\r 25%|██▌       | 25/100 [01:54<08:53,  7.12s/it]WARNING:langchain_core.callbacks.manager:Error in StdOutCallbackHandler.on_chain_start callback: AttributeError(\"'NoneType' object has no attribute 'get'\")\n"
          ]
        },
        {
          "name": "stdout",
          "output_type": "stream",
          "text": [
            "\n",
            "\u001b[1m> Finished chain.\u001b[0m\n",
            "Generated Cypher:\n",
            "\u001b[32;1m\u001b[1;3mMATCH (v:Virus {name: 'Mpox'})-[:AFFECTS]->(l:Location {country: 'Mexico'}), (v)-[:CAUSES]->(s:Symptom) RETURN s.name\u001b[0m\n",
            "Full Context:\n",
            "\u001b[32;1m\u001b[1;3m[]\u001b[0m\n"
          ]
        },
        {
          "name": "stderr",
          "output_type": "stream",
          "text": [
            "\r 26%|██▌       | 26/100 [01:54<06:18,  5.11s/it]WARNING:langchain_core.callbacks.manager:Error in StdOutCallbackHandler.on_chain_start callback: AttributeError(\"'NoneType' object has no attribute 'get'\")\n"
          ]
        },
        {
          "name": "stdout",
          "output_type": "stream",
          "text": [
            "\n",
            "\u001b[1m> Finished chain.\u001b[0m\n",
            "Generated Cypher:\n",
            "\u001b[32;1m\u001b[1;3mMATCH (a:Article)-[:MENTIONS_LOCATION]->(loc:Location {name: \"Mexico\"}), (a)-[:ABOUT_VIRUS]->(v:Virus {name: \"Mpox\"}), (a)-[:MENTIONS_TRANSMISSION]->(t:Transmission) RETURN t.method\u001b[0m\n",
            "Full Context:\n",
            "\u001b[32;1m\u001b[1;3m[{'t.method': 'Skin-to-Skin'}, {'t.method': 'close contact'}, {'t.method': 'Respiratory'}, {'t.method': 'Skin-to-Skin'}, {'t.method': 'close contact'}, {'t.method': 'Respiratory'}, {'t.method': 'Skin-to-Skin'}, {'t.method': 'close contact'}, {'t.method': 'Skin-to-Skin'}, {'t.method': 'close contact'}]\u001b[0m\n"
          ]
        },
        {
          "name": "stderr",
          "output_type": "stream",
          "text": [
            "\r 27%|██▋       | 27/100 [01:56<04:53,  4.03s/it]WARNING:langchain_core.callbacks.manager:Error in StdOutCallbackHandler.on_chain_start callback: AttributeError(\"'NoneType' object has no attribute 'get'\")\n"
          ]
        },
        {
          "name": "stdout",
          "output_type": "stream",
          "text": [
            "\n",
            "\u001b[1m> Finished chain.\u001b[0m\n",
            "Generated Cypher:\n",
            "\u001b[32;1m\u001b[1;3mMATCH (a:Article)-[:ABOUT_VIRUS]->(v:Virus {name: 'Mpox'})<-[:INVOLVED_IN]-(o:Organization) RETURN o;\u001b[0m\n",
            "Full Context:\n",
            "\u001b[32;1m\u001b[1;3m[{'o': {'name': 'CDC'}}, {'o': {'name': 'CDC'}}, {'o': {'name': 'CDC'}}, {'o': {'name': 'CDC'}}, {'o': {'name': 'CDC'}}, {'o': {'name': 'CDC'}}, {'o': {'name': 'CDC'}}, {'o': {'name': 'CDC'}}, {'o': {'name': 'CDC'}}, {'o': {'name': 'CDC'}}]\u001b[0m\n"
          ]
        },
        {
          "name": "stderr",
          "output_type": "stream",
          "text": [
            "\r 28%|██▊       | 28/100 [01:58<04:18,  3.59s/it]WARNING:langchain_core.callbacks.manager:Error in StdOutCallbackHandler.on_chain_start callback: AttributeError(\"'NoneType' object has no attribute 'get'\")\n"
          ]
        },
        {
          "name": "stdout",
          "output_type": "stream",
          "text": [
            "\n",
            "\u001b[1m> Finished chain.\u001b[0m\n"
          ]
        },
        {
          "name": "stderr",
          "output_type": "stream",
          "text": [
            "\r 29%|██▉       | 29/100 [02:00<03:28,  2.93s/it]WARNING:langchain_core.callbacks.manager:Error in StdOutCallbackHandler.on_chain_start callback: AttributeError(\"'NoneType' object has no attribute 'get'\")\n"
          ]
        },
        {
          "name": "stdout",
          "output_type": "stream",
          "text": [
            "Generated Cypher:\n",
            "\u001b[32;1m\u001b[1;3mMATCH (a:Article)-[:ABOUT_VIRUS]->(v:Virus) WHERE v.name = 'Mpox' RETURN COUNT(a)\u001b[0m\n",
            "Full Context:\n",
            "\u001b[32;1m\u001b[1;3m[{'COUNT(a)': 28}]\u001b[0m\n",
            "\n",
            "\u001b[1m> Finished chain.\u001b[0m\n"
          ]
        },
        {
          "name": "stderr",
          "output_type": "stream",
          "text": [
            "\r 30%|███       | 30/100 [02:01<02:51,  2.45s/it]WARNING:langchain_core.callbacks.manager:Error in StdOutCallbackHandler.on_chain_start callback: AttributeError(\"'NoneType' object has no attribute 'get'\")\n"
          ]
        },
        {
          "name": "stdout",
          "output_type": "stream",
          "text": [
            "Generated Cypher:\n",
            "\u001b[32;1m\u001b[1;3mMATCH (v:Virus)-[r:CAUSES]->(s:Symptom) \n",
            "WITH v, COUNT(s) as symptomCount \n",
            "GROUP BY v.name \n",
            "ORDER BY symptomCount DESC;\u001b[0m\n"
          ]
        },
        {
          "name": "stderr",
          "output_type": "stream",
          "text": [
            "\r 31%|███       | 31/100 [02:02<02:27,  2.14s/it]WARNING:langchain_core.callbacks.manager:Error in StdOutCallbackHandler.on_chain_start callback: AttributeError(\"'NoneType' object has no attribute 'get'\")\n"
          ]
        },
        {
          "name": "stdout",
          "output_type": "stream",
          "text": [
            "Generated Cypher:\n",
            "\u001b[32;1m\u001b[1;3mMATCH (v:Virus)-[:SPREADS_BY]->(t:Transmission) WHERE t.method = 'Animal Transmission' RETURN v.name\u001b[0m\n",
            "Full Context:\n",
            "\u001b[32;1m\u001b[1;3m[]\u001b[0m\n",
            "\n",
            "\u001b[1m> Finished chain.\u001b[0m\n",
            "Generated Cypher:\n",
            "\u001b[32;1m\u001b[1;3mMATCH (a:Article {url: 'example.com'})-[:PUBLISHED_BY]->(o:Organization)-[:INVOLVED_IN]->(v:Virus)-[:CAUSES]->(s:Symptom) \n",
            "RETURN a.abstract AS abstract;\u001b[0m\n",
            "Full Context:\n",
            "\u001b[32;1m\u001b[1;3m[]\u001b[0m\n"
          ]
        },
        {
          "name": "stderr",
          "output_type": "stream",
          "text": [
            "\r 32%|███▏      | 32/100 [02:04<02:12,  1.95s/it]WARNING:langchain_core.callbacks.manager:Error in StdOutCallbackHandler.on_chain_start callback: AttributeError(\"'NoneType' object has no attribute 'get'\")\n"
          ]
        },
        {
          "name": "stdout",
          "output_type": "stream",
          "text": [
            "\n",
            "\u001b[1m> Finished chain.\u001b[0m\n",
            "Generated Cypher:\n",
            "\u001b[32;1m\u001b[1;3mMATCH (a:Article) WHERE a.label = 'fact' RETURN COUNT(a)\u001b[0m\n",
            "Full Context:\n",
            "\u001b[32;1m\u001b[1;3m[{'COUNT(a)': 0}]\u001b[0m\n"
          ]
        },
        {
          "name": "stderr",
          "output_type": "stream",
          "text": [
            "\r 33%|███▎      | 33/100 [02:06<02:20,  2.10s/it]WARNING:langchain_core.callbacks.manager:Error in StdOutCallbackHandler.on_chain_start callback: AttributeError(\"'NoneType' object has no attribute 'get'\")\n"
          ]
        },
        {
          "name": "stdout",
          "output_type": "stream",
          "text": [
            "\n",
            "\u001b[1m> Finished chain.\u001b[0m\n",
            "Generated Cypher:\n",
            "\u001b[32;1m\u001b[1;3mMATCH (v:Virus) RETURN v.name\u001b[0m\n",
            "Full Context:\n",
            "\u001b[32;1m\u001b[1;3m[{'v.name': 'Mpox, COVID-19'}, {'v.name': 'Monkeypox'}, {'v.name': 'Mpox'}, {'v.name': 'Mpox, Monkeypox'}, {'v.name': 'Mpox, Monkeypox, COVID-19'}, {'v.name': 'Monkeypox, COVID-19'}, {'v.name': 'COVID-19'}, {'v.name': 'Monkeypox, COVID-19, SARS-CoV-2'}]\u001b[0m\n"
          ]
        },
        {
          "name": "stderr",
          "output_type": "stream",
          "text": [
            "\r 34%|███▍      | 34/100 [02:08<02:04,  1.89s/it]WARNING:langchain_core.callbacks.manager:Error in StdOutCallbackHandler.on_chain_start callback: AttributeError(\"'NoneType' object has no attribute 'get'\")\n"
          ]
        },
        {
          "name": "stdout",
          "output_type": "stream",
          "text": [
            "\n",
            "\u001b[1m> Finished chain.\u001b[0m\n"
          ]
        },
        {
          "name": "stderr",
          "output_type": "stream",
          "text": [
            "\r 35%|███▌      | 35/100 [02:09<01:51,  1.72s/it]WARNING:langchain_core.callbacks.manager:Error in StdOutCallbackHandler.on_chain_start callback: AttributeError(\"'NoneType' object has no attribute 'get'\")\n"
          ]
        },
        {
          "name": "stdout",
          "output_type": "stream",
          "text": [
            "Generated Cypher:\n",
            "\u001b[32;1m\u001b[1;3mMATCH (v:Virus)-[:AFFECTS]->(l:Location) WHERE size((v)-[:AFFECTS]->()) > 1 RETURN v.name AS name\u001b[0m\n",
            "Generated Cypher:\n",
            "\u001b[32;1m\u001b[1;3mMATCH (v:Virus)-[:SPREADS_BY]->(t:Transmission), (v2:Virus)-[:SPREADS_BY]->(t2:Transmission) WHERE v <> v2 AND t <> t2 RETURN v.name\u001b[0m\n",
            "Full Context:\n",
            "\u001b[32;1m\u001b[1;3m[{'v.name': 'Mpox, COVID-19'}, {'v.name': 'Mpox, COVID-19'}, {'v.name': 'Mpox, COVID-19'}, {'v.name': 'Mpox, COVID-19'}, {'v.name': 'Mpox, COVID-19'}, {'v.name': 'Mpox, COVID-19'}, {'v.name': 'Mpox, COVID-19'}, {'v.name': 'Mpox, COVID-19'}, {'v.name': 'Mpox, COVID-19'}, {'v.name': 'Mpox, COVID-19'}]\u001b[0m\n"
          ]
        },
        {
          "name": "stderr",
          "output_type": "stream",
          "text": [
            "\r 36%|███▌      | 36/100 [02:10<01:46,  1.67s/it]WARNING:langchain_core.callbacks.manager:Error in StdOutCallbackHandler.on_chain_start callback: AttributeError(\"'NoneType' object has no attribute 'get'\")\n"
          ]
        },
        {
          "name": "stdout",
          "output_type": "stream",
          "text": [
            "\n",
            "\u001b[1m> Finished chain.\u001b[0m\n",
            "Generated Cypher:\n",
            "\u001b[32;1m\u001b[1;3mMATCH (v:Virus)<-[:ABOUT_VIRUS]-(a:Article)-[:PUBLISHED_BY]->(o:Organization) WHERE o.name = 'CDC' RETURN v.name AS virus_name, COUNT(DISTINCT a) AS count\u001b[0m\n",
            "Full Context:\n",
            "\u001b[32;1m\u001b[1;3m[{'virus_name': 'Mpox', 'count': 1}, {'virus_name': 'Monkeypox', 'count': 1}, {'virus_name': 'Monkeypox, COVID-19', 'count': 1}]\u001b[0m\n"
          ]
        },
        {
          "name": "stderr",
          "output_type": "stream",
          "text": [
            "\r 37%|███▋      | 37/100 [02:13<02:02,  1.95s/it]WARNING:langchain_core.callbacks.manager:Error in StdOutCallbackHandler.on_chain_start callback: AttributeError(\"'NoneType' object has no attribute 'get'\")\n"
          ]
        },
        {
          "name": "stdout",
          "output_type": "stream",
          "text": [
            "\n",
            "\u001b[1m> Finished chain.\u001b[0m\n",
            "Generated Cypher:\n",
            "\u001b[32;1m\u001b[1;3mMATCH (v:Virus) RETURN COUNT(v)\u001b[0m\n",
            "Full Context:\n",
            "\u001b[32;1m\u001b[1;3m[{'COUNT(v)': 8}]\u001b[0m\n"
          ]
        },
        {
          "name": "stderr",
          "output_type": "stream",
          "text": [
            "\r 38%|███▊      | 38/100 [02:17<02:28,  2.40s/it]WARNING:langchain_core.callbacks.manager:Error in StdOutCallbackHandler.on_chain_start callback: AttributeError(\"'NoneType' object has no attribute 'get'\")\n"
          ]
        },
        {
          "name": "stdout",
          "output_type": "stream",
          "text": [
            "\n",
            "\u001b[1m> Finished chain.\u001b[0m\n",
            "Generated Cypher:\n",
            "\u001b[32;1m\u001b[1;3mMATCH (s:Symptom)<-[:MENTIONS_SYMPTOM]-(a:Article)-[:PUBLISHED_BY]->(o:Organization) RETURN s.name AS symptom, COUNT(a) AS frequency ORDER BY frequency DESC LIMIT 1\u001b[0m\n",
            "Full Context:\n",
            "\u001b[32;1m\u001b[1;3m[{'symptom': 'Rash', 'frequency': 63}]\u001b[0m\n"
          ]
        },
        {
          "name": "stderr",
          "output_type": "stream",
          "text": [
            "\r 39%|███▉      | 39/100 [02:21<03:05,  3.03s/it]WARNING:langchain_core.callbacks.manager:Error in StdOutCallbackHandler.on_chain_start callback: AttributeError(\"'NoneType' object has no attribute 'get'\")\n"
          ]
        },
        {
          "name": "stdout",
          "output_type": "stream",
          "text": [
            "\n",
            "\u001b[1m> Finished chain.\u001b[0m\n",
            "Generated Cypher:\n",
            "\u001b[32;1m\u001b[1;3mMATCH (v:Virus)-[:CAUSES]->(s1:Symptom {name: 'Fever'}), (v)-[:CAUSES]->(s2:Symptom {name: 'Rash'}) RETURN v.name\u001b[0m\n",
            "Full Context:\n",
            "\u001b[32;1m\u001b[1;3m[{'v.name': 'Monkeypox'}, {'v.name': 'Mpox'}, {'v.name': 'Monkeypox, COVID-19'}]\u001b[0m\n"
          ]
        },
        {
          "name": "stderr",
          "output_type": "stream",
          "text": [
            "\r 40%|████      | 40/100 [02:26<03:29,  3.50s/it]WARNING:langchain_core.callbacks.manager:Error in StdOutCallbackHandler.on_chain_start callback: AttributeError(\"'NoneType' object has no attribute 'get'\")\n"
          ]
        },
        {
          "name": "stdout",
          "output_type": "stream",
          "text": [
            "\n",
            "\u001b[1m> Finished chain.\u001b[0m\n",
            "Generated Cypher:\n",
            "\u001b[32;1m\u001b[1;3m\u001b[0m\n",
            "Full Context:\n",
            "\u001b[32;1m\u001b[1;3m[]\u001b[0m\n"
          ]
        },
        {
          "name": "stderr",
          "output_type": "stream",
          "text": [
            "\r 41%|████      | 41/100 [02:30<03:41,  3.76s/it]WARNING:langchain_core.callbacks.manager:Error in StdOutCallbackHandler.on_chain_start callback: AttributeError(\"'NoneType' object has no attribute 'get'\")\n"
          ]
        },
        {
          "name": "stdout",
          "output_type": "stream",
          "text": [
            "\n",
            "\u001b[1m> Finished chain.\u001b[0m\n",
            "Generated Cypher:\n",
            "\u001b[32;1m\u001b[1;3mMATCH (a:Article)-[:MENTIONS_SYMPTOM]->(s:Symptom) \n",
            "RETURN a.url, COUNT(s) AS symptom_count\u001b[0m\n",
            "Full Context:\n",
            "\u001b[32;1m\u001b[1;3m[{'a.url': 'https://www.streetinsider.com/Reuters/Argentina+health+officials+determine+as+false+suspected+case+of+mpox+virus+on+ship/23628564.html', 'symptom_count': 2}, {'a.url': 'https://laist.com/shows/airtalk/latest-on-mpox-as-the-who-declares-it-a-global-health-emergency', 'symptom_count': 2}, {'a.url': 'https://www.medscape.com/viewarticle/reduced-dose-vaccines-protect-patients-hiv-against-mpox-2024a10003pq', 'symptom_count': 2}, {'a.url': 'https://www.vallartadaily.com/jaliscos-health-officials-monitor-19-people-for-monkeypox-after-close-contact/', 'symptom_count': 3}, {'a.url': 'https://bioprepwatch.com/argentina-the-first-two-cases-of-monkeypox-have-been-reported-in-latin-america/', 'symptom_count': 3}, {'a.url': 'https://www.yumasun.com/news/two-cases-of-mpox-confirmed-in-sonora-1-of-them-in-san-luis-r-c/article_9cee17b2-680b-11ef-9d4b-8b42985e4c04.html', 'symptom_count': 3}, {'a.url': 'https://www.context.news/socioeconomic-inclusion/race-for-monkeypox-vaccines-exposes-global-health-inequality', 'symptom_count': 3}, {'a.url': 'https://www.ivpressonline.com/news/mexicali-briefs-monkeypox-reported-woman-allegedly-involved-in-seven-homicides-arrested-over-a-dozen-professors/article_c0585872-c5cb-11ed-9b74-4b18681d9b70.html', 'symptom_count': 2}, {'a.url': 'https://www.inform.kz/en/mpox-vaccination-in-brazil-kicks-off-in-march_a4044314', 'symptom_count': 2}, {'a.url': 'https://www.politico.com/newsletters/future-pulse/2023/02/10/mpox-is-simmering-south-of-the-border-00082286', 'symptom_count': 2}]\u001b[0m\n"
          ]
        },
        {
          "name": "stderr",
          "output_type": "stream",
          "text": [
            "\r 42%|████▏     | 42/100 [02:35<03:53,  4.03s/it]WARNING:langchain_core.callbacks.manager:Error in StdOutCallbackHandler.on_chain_start callback: AttributeError(\"'NoneType' object has no attribute 'get'\")\n"
          ]
        },
        {
          "name": "stdout",
          "output_type": "stream",
          "text": [
            "\n",
            "\u001b[1m> Finished chain.\u001b[0m\n",
            "Generated Cypher:\n",
            "\u001b[32;1m\u001b[1;3mMATCH (v:Virus)-[:CAUSES]->(s:Symptom) WHERE s.name =~ 'respiratory' RETURN v.name\u001b[0m\n",
            "Full Context:\n",
            "\u001b[32;1m\u001b[1;3m[]\u001b[0m\n"
          ]
        },
        {
          "name": "stderr",
          "output_type": "stream",
          "text": [
            "\r 43%|████▎     | 43/100 [02:39<03:56,  4.15s/it]WARNING:langchain_core.callbacks.manager:Error in StdOutCallbackHandler.on_chain_start callback: AttributeError(\"'NoneType' object has no attribute 'get'\")\n"
          ]
        },
        {
          "name": "stdout",
          "output_type": "stream",
          "text": [
            "\n",
            "\u001b[1m> Finished chain.\u001b[0m\n"
          ]
        },
        {
          "name": "stderr",
          "output_type": "stream",
          "text": [
            "\r 44%|████▍     | 44/100 [02:41<03:21,  3.60s/it]WARNING:langchain_core.callbacks.manager:Error in StdOutCallbackHandler.on_chain_start callback: AttributeError(\"'NoneType' object has no attribute 'get'\")\n"
          ]
        },
        {
          "name": "stdout",
          "output_type": "stream",
          "text": [
            "Generated Cypher:\n",
            "\u001b[32;1m\u001b[1;3mMATCH (a:Article)-[:MENTIONS_LOCATION]->(l:Location) GROUP BY l WITH l, COUNT(a) as count ORDER BY count DESC WHERE count > 1 RETURN l.name\u001b[0m\n",
            "Generated Cypher:\n",
            "\u001b[32;1m\u001b[1;3mMATCH (v:Virus)-[:AFFECTS]->(l:Location), (v)-[:AFFECTS]->(l2:Location) WHERE l.country = 'North America' AND l2.country = 'Europe' RETURN v.name\u001b[0m\n",
            "Full Context:\n",
            "\u001b[32;1m\u001b[1;3m[]\u001b[0m\n"
          ]
        },
        {
          "name": "stderr",
          "output_type": "stream",
          "text": [
            "\r 45%|████▌     | 45/100 [02:46<03:33,  3.88s/it]WARNING:langchain_core.callbacks.manager:Error in StdOutCallbackHandler.on_chain_start callback: AttributeError(\"'NoneType' object has no attribute 'get'\")\n"
          ]
        },
        {
          "name": "stdout",
          "output_type": "stream",
          "text": [
            "\n",
            "\u001b[1m> Finished chain.\u001b[0m\n",
            "Generated Cypher:\n",
            "\u001b[32;1m\u001b[1;3mMATCH (a:Article)-[:MENTIONS_LOCATION]->(l:Location)<-[:AFFECTS]-(v:Virus)<-[:ABOUT_VIRUS]-(a2:Article) \n",
            "RETURN l.country AS country, COUNT(*) AS count ORDER BY count DESC\u001b[0m\n",
            "Full Context:\n",
            "\u001b[32;1m\u001b[1;3m[{'country': 'MX', 'count': 12312}, {'country': 'AR', 'count': 9982}, {'country': 'BR', 'count': 1500}, {'country': 'CO', 'count': 1316}, {'country': 'US', 'count': 1230}]\u001b[0m\n"
          ]
        },
        {
          "name": "stderr",
          "output_type": "stream",
          "text": [
            "\r 46%|████▌     | 46/100 [02:51<03:40,  4.08s/it]WARNING:langchain_core.callbacks.manager:Error in StdOutCallbackHandler.on_chain_start callback: AttributeError(\"'NoneType' object has no attribute 'get'\")\n"
          ]
        },
        {
          "name": "stdout",
          "output_type": "stream",
          "text": [
            "\n",
            "\u001b[1m> Finished chain.\u001b[0m\n",
            "Generated Cypher:\n",
            "\u001b[32;1m\u001b[1;3mMATCH (v:Virus)-[:AFFECTS]->(l:Location) RETURN l.name AS Location, COUNT(v) AS Frequency ORDER BY Frequency DESC LIMIT 3\u001b[0m\n",
            "Full Context:\n",
            "\u001b[32;1m\u001b[1;3m[{'Location': 'Mexico', 'Frequency': 10}, {'Location': 'Argentina', 'Frequency': 6}, {'Location': 'Colombia', 'Frequency': 4}]\u001b[0m\n"
          ]
        },
        {
          "name": "stderr",
          "output_type": "stream",
          "text": [
            "\r 47%|████▋     | 47/100 [02:55<03:42,  4.20s/it]WARNING:langchain_core.callbacks.manager:Error in StdOutCallbackHandler.on_chain_start callback: AttributeError(\"'NoneType' object has no attribute 'get'\")\n"
          ]
        },
        {
          "name": "stdout",
          "output_type": "stream",
          "text": [
            "\n",
            "\u001b[1m> Finished chain.\u001b[0m\n",
            "Generated Cypher:\n",
            "\u001b[32;1m\u001b[1;3mMATCH (a:Article)-[:MENTIONS_LOCATION]->(l:Location) WHERE l.country = 'Asia' RETURN a, l\u001b[0m\n",
            "Full Context:\n",
            "\u001b[32;1m\u001b[1;3m[]\u001b[0m\n"
          ]
        },
        {
          "name": "stderr",
          "output_type": "stream",
          "text": [
            "\r 48%|████▊     | 48/100 [02:59<03:43,  4.29s/it]WARNING:langchain_core.callbacks.manager:Error in StdOutCallbackHandler.on_chain_start callback: AttributeError(\"'NoneType' object has no attribute 'get'\")\n"
          ]
        },
        {
          "name": "stdout",
          "output_type": "stream",
          "text": [
            "\n",
            "\u001b[1m> Finished chain.\u001b[0m\n"
          ]
        },
        {
          "name": "stderr",
          "output_type": "stream",
          "text": [
            "\r 49%|████▉     | 49/100 [03:02<03:08,  3.70s/it]WARNING:langchain_core.callbacks.manager:Error in StdOutCallbackHandler.on_chain_start callback: AttributeError(\"'NoneType' object has no attribute 'get'\")\n"
          ]
        },
        {
          "name": "stdout",
          "output_type": "stream",
          "text": [
            "Generated Cypher:\n",
            "\u001b[32;1m\u001b[1;3mMATCH (t:Transmission)<-[:SPREADS_BY]-(v:Virus) \n",
            "WITH v, COUNT(t) AS count \n",
            "ORDER BY count DESC \n",
            "RETURN t.method AS method, count AS count\u001b[0m\n",
            "Generated Cypher:\n",
            "\u001b[32;1m\u001b[1;3m\u001b[0m\n",
            "Full Context:\n",
            "\u001b[32;1m\u001b[1;3m[]\u001b[0m\n"
          ]
        },
        {
          "name": "stderr",
          "output_type": "stream",
          "text": [
            "\r 50%|█████     | 50/100 [03:06<03:15,  3.91s/it]WARNING:langchain_core.callbacks.manager:Error in StdOutCallbackHandler.on_chain_start callback: AttributeError(\"'NoneType' object has no attribute 'get'\")\n"
          ]
        },
        {
          "name": "stdout",
          "output_type": "stream",
          "text": [
            "\n",
            "\u001b[1m> Finished chain.\u001b[0m\n",
            "Generated Cypher:\n",
            "\u001b[32;1m\u001b[1;3m\u001b[0m\n",
            "Full Context:\n",
            "\u001b[32;1m\u001b[1;3m[]\u001b[0m\n"
          ]
        },
        {
          "name": "stderr",
          "output_type": "stream",
          "text": [
            "\r 51%|█████     | 51/100 [03:11<03:18,  4.06s/it]WARNING:langchain_core.callbacks.manager:Error in StdOutCallbackHandler.on_chain_start callback: AttributeError(\"'NoneType' object has no attribute 'get'\")\n"
          ]
        },
        {
          "name": "stdout",
          "output_type": "stream",
          "text": [
            "\n",
            "\u001b[1m> Finished chain.\u001b[0m\n",
            "Generated Cypher:\n",
            "\u001b[32;1m\u001b[1;3mMATCH (t:Transmission)<-[:MENTIONS_TRANSMISSION]-(a:Article) \n",
            "WITH t, COUNT(a) AS count \n",
            "ORDER BY count DESC \n",
            "RETURN t.method AS method, count\u001b[0m\n",
            "Full Context:\n",
            "\u001b[32;1m\u001b[1;3m[{'method': 'close contact', 'count': 164}, {'method': 'Contaminated Objects', 'count': 62}, {'method': 'Skin-to-Skin', 'count': 61}, {'method': 'Respiratory', 'count': 61}, {'method': 'respiratory', 'count': 9}, {'method': 'skin-to-skin', 'count': 8}, {'method': 'airborne', 'count': 3}, {'method': 'contaminated objects', 'count': 2}]\u001b[0m\n"
          ]
        },
        {
          "name": "stderr",
          "output_type": "stream",
          "text": [
            "\r 52%|█████▏    | 52/100 [03:15<03:22,  4.21s/it]WARNING:langchain_core.callbacks.manager:Error in StdOutCallbackHandler.on_chain_start callback: AttributeError(\"'NoneType' object has no attribute 'get'\")\n"
          ]
        },
        {
          "name": "stdout",
          "output_type": "stream",
          "text": [
            "\n",
            "\u001b[1m> Finished chain.\u001b[0m\n",
            "Generated Cypher:\n",
            "\u001b[32;1m\u001b[1;3mMATCH (v:Virus)-[:SPREADS_BY]->(t:Transmission)\n",
            "WITH v, COLLECT(DISTINCT t.method) AS methods\n",
            "RETURN v.name, COUNT(DISTINCT methods) AS count\u001b[0m\n",
            "Full Context:\n",
            "\u001b[32;1m\u001b[1;3m[{'v.name': 'Mpox, COVID-19', 'count': 1}, {'v.name': 'Monkeypox', 'count': 1}, {'v.name': 'Mpox', 'count': 1}, {'v.name': 'Mpox, Monkeypox', 'count': 1}, {'v.name': 'Mpox, Monkeypox, COVID-19', 'count': 1}, {'v.name': 'Monkeypox, COVID-19', 'count': 1}, {'v.name': 'COVID-19', 'count': 1}, {'v.name': 'Monkeypox, COVID-19, SARS-CoV-2', 'count': 1}]\u001b[0m\n"
          ]
        },
        {
          "name": "stderr",
          "output_type": "stream",
          "text": [
            "\r 53%|█████▎    | 53/100 [03:20<03:27,  4.42s/it]WARNING:langchain_core.callbacks.manager:Error in StdOutCallbackHandler.on_chain_start callback: AttributeError(\"'NoneType' object has no attribute 'get'\")\n"
          ]
        },
        {
          "name": "stdout",
          "output_type": "stream",
          "text": [
            "\n",
            "\u001b[1m> Finished chain.\u001b[0m\n"
          ]
        },
        {
          "name": "stderr",
          "output_type": "stream",
          "text": [
            "\r 54%|█████▍    | 54/100 [03:22<02:54,  3.79s/it]WARNING:langchain_core.callbacks.manager:Error in StdOutCallbackHandler.on_chain_start callback: AttributeError(\"'NoneType' object has no attribute 'get'\")\n"
          ]
        },
        {
          "name": "stdout",
          "output_type": "stream",
          "text": [
            "Generated Cypher:\n",
            "\u001b[32;1m\u001b[1;3mMATCH (o:Organization)-[:INVOLVED_IN]->(v:Virus) WITH o, COUNT(v) AS count GROUP BY o HAVING count > 1 RETURN o\u001b[0m\n",
            "Generated Cypher:\n",
            "\u001b[32;1m\u001b[1;3mMATCH (a:Article)-[:PUBLISHED_BY]->(o1:Organization)<-[:PUBLISHED_BY]-(a2:Article) WHERE a <> a2 RETURN a;\u001b[0m\n",
            "Full Context:\n",
            "\u001b[32;1m\u001b[1;3m[{'a': {'abstract': \"Mexican health officials say a Dallas man infected with monkeypox ignored doctors' advice to self-isolate and instead flew home to Texas.\\n\\nThe 48-year-old man reportedly started showing symptoms late last month while he was vacationing in Puerto Vallarta. He went to a local hospital, but refused to give samples to doctors before flying back to DFW the next day.\\n\\nHis doctor in Dallas has reported the case to the CDC.\\n\\nMexican authorities say the man went to Germany before coming to Mexico. It's not know where he was infected.\\n\\nHis is the only known case of monkeypox in Texas this year.\\n\\nphoto: Getty Images\", 'label': 'false', 'url': 'https://ktrh.iheart.com/featured/houston-texas-news/content/2022-06-10-dallas-county-monkeypox-patient-violated-doctors-orders/'}}, {'a': {'abstract': 'In case you haven\\'t been paying attention to the news, Monkeypox is a rare virus that began spreading across the globe to non-endemic countries in the Spring of this year. As of Tuesday, it has now made its way to the Lone Star State. A resident of Dallas County tested positive for the virus following an international trip to Mexico. This makes Texas the 15th state to confirm positive cases of the virus.\\n\\nMonkeypox Is Becoming a Bigger Concern\\n\\nNow you may be thinking \"it is just one case, so why do it matter?\", but if you know a little more about the virus, it should be cause for concern. First and foremost, the Monkeypox virus is directly related to the smallpox virus, a disease that was eradicated in 1979. While the older generations are likely safe thanks to the smallpox vaccines that they received decades ago, younger portions of the population have not been administered this protection.\\n\\nSecondly, this virus is spread through contact with bodily fluids. Therefore, just like the cold or flu, if someone coughs, sneezes, or wipes their nose and then touches a surface, they have potentially given this illness to another person. Even just close face-to-face contact through talking can cause spread. Did we mention that this person traveled by plane on their trip? If he was exhibiting symptoms during his travel, he could have come in contact with hundreds, if not thousands of people.\\n\\nSigns & Symptoms of Monkeypox\\n\\nMonkeypox is not pretty. It begins with flu-like symptoms. These include fever, body aches, chills, and swollen lymph nodes. This is followed by the formation of a very painful rash. It begins as red patches on the skin and then transitions into vesicles (fluid-filled blisters) and the pustules (pus-filled sacs).\\n\\nIt takes approximately two weeks to a month for a person to progress through the various stages of the rash and finally heal. They are considered contagious throughout the process. Unfortunately, just like all other viruses, once you test positive, you can only address the symptoms. There are no antibiotics to cure the illness faster. Therefore, the only thing to do is wait it out in isolation.\\n\\nHow Monkeypox Impacts Summer Travel\\n\\nWith over two-thirds of the population becoming vaccinated for COVID-19, we have seen masks slowly start to become a thing of the past. However, with Monkeypox on the rise, it is best to bring them back into style if you intend to travel this Summer. This can help to lower your risk of contact.\\n\\nWear a Mask Photo by Anshu A on Unsplash loading...\\n\\nMoreover, it is imperative that folks be vigilant about hand washing and sanitizing surfaces. Thus, if you are planning to fly, pack the Clorox wipes and clean off your seat and tray table before use. Unfortunately, individuals with weakened immune systems, children under the age of eight, and both pregnant and breastfeeding mothers are more susceptible. Therefore, these members of the population need to be extra cautious.\\n\\nAdditionally, the Centers for Disease Control and Prevention (CDC) raised their travel notice to a Level 2 Alert as of this week. What that means is that they recommend that folks practice enhanced precautions, like wearing a mask and avoiding travel to highly impacted areas, if possible. Currently, the United Kingdom, Spain, Portugal, and Canada are reporting the highest number of cases.\\n\\nMost importantly, if you even suspect that you are sick, cancel your travel plans to avoid the potential spread of the illness. If COVID has taught us anything, it is that we need to hold ourselves accountable and not just think about ourselves.\\n\\nWhile the risk is relatively low at this time, this virus is not something that you want to catch. The CDC notes that as many as 11% of Monkeypox cases are fatal and since there is no real treatment, it is best to be proactive to avoid getting sick. Updates on states impacted by Monkeypox can be found on the CDC\\'s Situation Summary page.\\n\\nTop 10 Travel Tips To Toddler-Proof Your Air Travel Making your flight is stressful enough without a toddler in tow. Don’t just wing it! Follow these helpful tips for making your air travel a pretty fly experience.\\n\\nTop Nine Reasons Kids End Up in The ER in the Summer Months Dr. Kristy Bybee, Pediatric Emergency Medicine Physician at Covenant Children\\'s Hospital in Lubbock wants parents to be aware of the dangers that can land their kids in the ER, especially in the Summer months. By knowing the potential causes for concern, you can be proactive about preventing these types of injuries.', 'label': 'false', 'url': 'https://1025kiss.com/monkeypox-is-officially-in-texas-summer-travel-impacts/'}}, {'a': {'abstract': 'Failed to extract article: Article `download()` failed with 429 Client Error: Too Many Requests for url: https://missoulian.com/lifestyles/health-med-fit/cdc-warns-that-mpox-could-make-a-summer-return/article_ffaf0ed5-c977-5465-ad7e-671cd6ac0e29.html on URL https://missoulian.com/lifestyles/health-med-fit/cdc-warns-that-mpox-could-make-a-summer-return/article_ffaf0ed5-c977-5465-ad7e-671cd6ac0e29.html', 'label': 'false', 'url': 'https://missoulian.com/lifestyles/health-med-fit/cdc-warns-that-mpox-could-make-a-summer-return/article_ffaf0ed5-c977-5465-ad7e-671cd6ac0e29.html'}}, {'a': {'abstract': 'In case you haven\\'t been paying attention to the news, Monkeypox is a rare virus that began spreading across the globe to non-endemic countries in the Spring of this year. As of Tuesday, it has now made its way to the Lone Star State. A resident of Dallas County tested positive for the virus following an international trip to Mexico. This makes Texas the 15th state to confirm positive cases of the virus.\\n\\nMonkeypox Is Becoming a Bigger Concern\\n\\nNow you may be thinking \"it is just one case, so why do it matter?\", but if you know a little more about the virus, it should be cause for concern. First and foremost, the Monkeypox virus is directly related to the smallpox virus, a disease that was eradicated in 1979. While the older generations are likely safe thanks to the smallpox vaccines that they received decades ago, younger portions of the population have not been administered this protection.\\n\\nSecondly, this virus is spread through contact with bodily fluids. Therefore, just like the cold or flu, if someone coughs, sneezes, or wipes their nose and then touches a surface, they have potentially given this illness to another person. Even just close face-to-face contact through talking can cause spread. Did we mention that this person traveled by plane on their trip? If he was exhibiting symptoms during his travel, he could have come in contact with hundreds, if not thousands of people.\\n\\nSigns & Symptoms of Monkeypox\\n\\nMonkeypox is not pretty. It begins with flu-like symptoms. These include fever, body aches, chills, and swollen lymph nodes. This is followed by the formation of a very painful rash. It begins as red patches on the skin and then transitions into vesicles (fluid-filled blisters) and the pustules (pus-filled sacs).\\n\\nIt takes approximately two weeks to a month for a person to progress through the various stages of the rash and finally heal. They are considered contagious throughout the process. Unfortunately, just like all other viruses, once you test positive, you can only address the symptoms. There are no antibiotics to cure the illness faster. Therefore, the only thing to do is wait it out in isolation.\\n\\nHow Monkeypox Impacts Summer Travel\\n\\nWith over two-thirds of the population becoming vaccinated for COVID-19, we have seen masks slowly start to become a thing of the past. However, with Monkeypox on the rise, it is best to bring them back into style if you intend to travel this Summer. This can help to lower your risk of contact.\\n\\nWear a Mask Photo by Anshu A on Unsplash loading...\\n\\nMoreover, it is imperative that folks be vigilant about hand washing and sanitizing surfaces. Thus, if you are planning to fly, pack the Clorox wipes and clean off your seat and tray table before use. Unfortunately, individuals with weakened immune systems, children under the age of eight, and both pregnant and breastfeeding mothers are more susceptible. Therefore, these members of the population need to be extra cautious.\\n\\nAdditionally, the Centers for Disease Control and Prevention (CDC) raised their travel notice to a Level 2 Alert as of this week. What that means is that they recommend that folks practice enhanced precautions, like wearing a mask and avoiding travel to highly impacted areas, if possible. Currently, the United Kingdom, Spain, Portugal, and Canada are reporting the highest number of cases.\\n\\nMost importantly, if you even suspect that you are sick, cancel your travel plans to avoid the potential spread of the illness. If COVID has taught us anything, it is that we need to hold ourselves accountable and not just think about ourselves.\\n\\nWhile the risk is relatively low at this time, this virus is not something that you want to catch. The CDC notes that as many as 11% of Monkeypox cases are fatal and since there is no real treatment, it is best to be proactive to avoid getting sick. Updates on states impacted by Monkeypox can be found on the CDC\\'s Situation Summary page.\\n\\nTop 10 Travel Tips To Toddler-Proof Your Air Travel Making your flight is stressful enough without a toddler in tow. Don’t just wing it! Follow these helpful tips for making your air travel a pretty fly experience.\\n\\nTop Nine Reasons Kids End Up in The ER in the Summer Months Dr. Kristy Bybee, Pediatric Emergency Medicine Physician at Covenant Children\\'s Hospital in Lubbock wants parents to be aware of the dangers that can land their kids in the ER, especially in the Summer months. By knowing the potential causes for concern, you can be proactive about preventing these types of injuries.', 'label': 'false', 'url': 'https://1025kiss.com/monkeypox-is-officially-in-texas-summer-travel-impacts/'}}, {'a': {'abstract': 'Failed to extract article: Article `download()` failed with 429 Client Error: Too Many Requests for url: https://missoulian.com/lifestyles/health-med-fit/cdc-warns-that-mpox-could-make-a-summer-return/article_ffaf0ed5-c977-5465-ad7e-671cd6ac0e29.html on URL https://missoulian.com/lifestyles/health-med-fit/cdc-warns-that-mpox-could-make-a-summer-return/article_ffaf0ed5-c977-5465-ad7e-671cd6ac0e29.html', 'label': 'false', 'url': 'https://missoulian.com/lifestyles/health-med-fit/cdc-warns-that-mpox-could-make-a-summer-return/article_ffaf0ed5-c977-5465-ad7e-671cd6ac0e29.html'}}, {'a': {'abstract': \"Mexican health officials say a Dallas man infected with monkeypox ignored doctors' advice to self-isolate and instead flew home to Texas.\\n\\nThe 48-year-old man reportedly started showing symptoms late last month while he was vacationing in Puerto Vallarta. He went to a local hospital, but refused to give samples to doctors before flying back to DFW the next day.\\n\\nHis doctor in Dallas has reported the case to the CDC.\\n\\nMexican authorities say the man went to Germany before coming to Mexico. It's not know where he was infected.\\n\\nHis is the only known case of monkeypox in Texas this year.\\n\\nphoto: Getty Images\", 'label': 'false', 'url': 'https://ktrh.iheart.com/featured/houston-texas-news/content/2022-06-10-dallas-county-monkeypox-patient-violated-doctors-orders/'}}, {'a': {'abstract': 'Failed to extract article: Article `download()` failed with 404 Client Error: Not Found for url: https://latinamericanpost.com/42006-latin-america-in-short-attack-against-cristina-fernndez-%7C-monkeypox-advances-in-the-region on URL http://www.latinamericanpost.com/42006-latin-america-in-short-attack-against-cristina-fernndez-%7C-monkeypox-advances-in-the-region', 'label': 'true', 'url': 'http://www.latinamericanpost.com/42006-latin-america-in-short-attack-against-cristina-fernndez-%7C-monkeypox-advances-in-the-region'}}, {'a': {'abstract': 'Failed to extract article: Article `download()` failed with 403 Client Error: Forbidden for url: https://www.ibtimes.com/monkeypox-apathy-will-condemn-people-suffer-latin-american-activists-say-3608440 on URL https://www.ibtimes.com/monkeypox-apathy-will-condemn-people-suffer-latin-american-activists-say-3608440', 'label': 'true', 'url': 'https://www.ibtimes.com/monkeypox-apathy-will-condemn-people-suffer-latin-american-activists-say-3608440'}}, {'a': {'abstract': 'Bogotá, Colombia – Change hums through the veins of Colombia’s health system like the pulse of life itself. In a move that has sparked both...', 'label': 'true', 'url': 'https://nationworldnews.com/colombia-takes-measures-to-stem-increase-in-monkeypox-cases/'}}, {'a': {'abstract': \"Failed to extract article: Article `download()` failed with HTTPSConnectionPool(host='outbreaknewstoday.com', port=443): Read timed out. (read timeout=7) on URL http://outbreaknewstoday.com/argentina-reports-two-more-monkeypox-cases-in-buenos-aires-country-total-now-9-49736/\", 'label': 'true', 'url': 'http://outbreaknewstoday.com/argentina-reports-two-more-monkeypox-cases-in-buenos-aires-country-total-now-9-49736/'}}]\u001b[0m\n"
          ]
        },
        {
          "name": "stderr",
          "output_type": "stream",
          "text": [
            "\r 55%|█████▌    | 55/100 [03:28<03:16,  4.37s/it]WARNING:langchain_core.callbacks.manager:Error in StdOutCallbackHandler.on_chain_start callback: AttributeError(\"'NoneType' object has no attribute 'get'\")\n"
          ]
        },
        {
          "name": "stdout",
          "output_type": "stream",
          "text": [
            "\n",
            "\u001b[1m> Finished chain.\u001b[0m\n",
            "Generated Cypher:\n",
            "\u001b[32;1m\u001b[1;3mMATCH (t:Transmission {method: \"airborne\"})<-[:SPREADS_BY]-(v:Virus), (a:Article)-[:ABOUT_VIRUS]->(v), (a)-[:PUBLISHED_BY]->(o:Organization) RETURN o.name\u001b[0m\n",
            "Full Context:\n",
            "\u001b[32;1m\u001b[1;3m[{'o.name': 'WHO, World Health Organization, CDC'}, {'o.name': 'WHO, World Health Organization'}, {'o.name': 'Ministry of Health of Brazil'}, {'o.name': 'Ministry of Health of Argentina'}, {'o.name': 'WHO, World Health Organization, CDC'}, {'o.name': 'WHO, CDC'}, {'o.name': 'Ministry of Health, WHO'}, {'o.name': 'WHO, CDC'}, {'o.name': 'WHO, World Health Organization'}, {'o.name': 'WHO, World Health Organization'}]\u001b[0m\n"
          ]
        },
        {
          "name": "stderr",
          "output_type": "stream",
          "text": [
            "\r 56%|█████▌    | 56/100 [03:33<03:15,  4.45s/it]WARNING:langchain_core.callbacks.manager:Error in StdOutCallbackHandler.on_chain_start callback: AttributeError(\"'NoneType' object has no attribute 'get'\")\n"
          ]
        },
        {
          "name": "stdout",
          "output_type": "stream",
          "text": [
            "\n",
            "\u001b[1m> Finished chain.\u001b[0m\n",
            "Generated Cypher:\n",
            "\u001b[32;1m\u001b[1;3mMATCH (o:Organization) RETURN COUNT(o)\u001b[0m\n",
            "Full Context:\n",
            "\u001b[32;1m\u001b[1;3m[{'COUNT(o)': 12}]\u001b[0m\n"
          ]
        },
        {
          "name": "stderr",
          "output_type": "stream",
          "text": [
            "\r 57%|█████▋    | 57/100 [03:37<03:11,  4.44s/it]WARNING:langchain_core.callbacks.manager:Error in StdOutCallbackHandler.on_chain_start callback: AttributeError(\"'NoneType' object has no attribute 'get'\")\n"
          ]
        },
        {
          "name": "stdout",
          "output_type": "stream",
          "text": [
            "\n",
            "\u001b[1m> Finished chain.\u001b[0m\n",
            "Generated Cypher:\n",
            "\u001b[32;1m\u001b[1;3m\u001b[0m\n",
            "Full Context:\n",
            "\u001b[32;1m\u001b[1;3m[]\u001b[0m\n"
          ]
        },
        {
          "name": "stderr",
          "output_type": "stream",
          "text": [
            "\r 58%|█████▊    | 58/100 [03:42<03:06,  4.44s/it]WARNING:langchain_core.callbacks.manager:Error in StdOutCallbackHandler.on_chain_start callback: AttributeError(\"'NoneType' object has no attribute 'get'\")\n"
          ]
        },
        {
          "name": "stdout",
          "output_type": "stream",
          "text": [
            "\n",
            "\u001b[1m> Finished chain.\u001b[0m\n",
            "Generated Cypher:\n",
            "\u001b[32;1m\u001b[1;3mMATCH (t:Transmission {method: 'airborne'})<-[:SPREADS_BY]-(v:Virus)-[:SPREADS_BY]->(d:Transmission {method: 'direct contact'})\n",
            "OPTIONAL MATCH (v)-[:CAUSES]->(s:Symptom)\n",
            "OPTIONAL MATCH (v)-[:AFFECTS]->(l:Location)\n",
            "OPTIONAL MATCH (v)-[:SPREADS_BY]->(t1:Transmission {method: 'airborne'})\n",
            "OPTIONAL MATCH (v)-[:SPREADS_BY]->(d:Transmission {method: 'direct contact'})\n",
            "OPTIONAL MATCH (v)<-[:INVOLVED_IN]-(o:Organization)\n",
            "OPTIONAL MATCH (v)<-[:ABOUT_VIRUS]-(a:Article)\n",
            "RETURN a\u001b[0m\n",
            "Full Context:\n",
            "\u001b[32;1m\u001b[1;3m[]\u001b[0m\n"
          ]
        },
        {
          "name": "stderr",
          "output_type": "stream",
          "text": [
            "\r 59%|█████▉    | 59/100 [03:47<03:08,  4.59s/it]WARNING:langchain_core.callbacks.manager:Error in StdOutCallbackHandler.on_chain_start callback: AttributeError(\"'NoneType' object has no attribute 'get'\")\n"
          ]
        },
        {
          "name": "stdout",
          "output_type": "stream",
          "text": [
            "\n",
            "\u001b[1m> Finished chain.\u001b[0m\n",
            "Generated Cypher:\n",
            "\u001b[32;1m\u001b[1;3mMATCH (a:Article)-[:ABOUT_VIRUS]->(v:Virus)-[:CAUSES|AFFECTS|SPREADS_BY]->(s:Symptom) \n",
            "WITH a, COUNT(DISTINCT v) as count \n",
            "WHERE count > 1 \n",
            "RETURN a;\u001b[0m\n",
            "Full Context:\n",
            "\u001b[32;1m\u001b[1;3m[]\u001b[0m\n"
          ]
        },
        {
          "name": "stderr",
          "output_type": "stream",
          "text": [
            "\r 60%|██████    | 60/100 [03:51<03:03,  4.58s/it]WARNING:langchain_core.callbacks.manager:Error in StdOutCallbackHandler.on_chain_start callback: AttributeError(\"'NoneType' object has no attribute 'get'\")\n"
          ]
        },
        {
          "name": "stdout",
          "output_type": "stream",
          "text": [
            "\n",
            "\u001b[1m> Finished chain.\u001b[0m\n",
            "Generated Cypher:\n",
            "\u001b[32;1m\u001b[1;3mMATCH (a:Article)-[:MENTIONS_SYMPTOM]->(s1:Symptom {name: 'Fever'}),(a)-[:MENTIONS_SYMPTOM]->(s2:Symptom {name: 'Rash'}) RETURN a;\u001b[0m\n",
            "Full Context:\n",
            "\u001b[32;1m\u001b[1;3m[{'a': {'abstract': 'Open this photo in gallery: Ships carry grains for export on the Parana River, in Rosario, Argentina, on Aug. 9.Matias Baglietto/Reuters\\n\\nA ship on Argentina’s Parana River near the grains hub of Rosario has been quarantined due to a suspected case of mpox, local media reported on Tuesday.\\n\\nThe ship is flying a Liberian flag, outlet Infobae reported, citing sources from Argentina’s naval league.\\n\\nAccording to the outlet, the ship’s captain reported that a person on board with “symptoms compatible with the virus” required medical assistance.\\n\\nTest results are pending, Infobae reported.\\n\\nSo far in Argentina, the nation’s health authority has confirmed eight cases of mpox.\\n\\nThe disease, a viral infection that causes pus-filled lesions and flu-like symptoms, is usually mild but can kill. A new variant of mpox has spread rapidly in Africa, prompting the World Health Organization to declare mpox a global public health emergency.', 'label': 'false', 'url': 'https://www.theglobeandmail.com/world/article-ship-in-argentinas-parana-river-is-quarantined-on-suspected-mpox-case/'}}, {'a': {'abstract': 'Failed to extract article: Article `download()` failed with 429 Client Error: Too Many Requests for url: https://missoulian.com/lifestyles/health-med-fit/cdc-warns-that-mpox-could-make-a-summer-return/article_ffaf0ed5-c977-5465-ad7e-671cd6ac0e29.html on URL https://missoulian.com/lifestyles/health-med-fit/cdc-warns-that-mpox-could-make-a-summer-return/article_ffaf0ed5-c977-5465-ad7e-671cd6ac0e29.html', 'label': 'false', 'url': 'https://missoulian.com/lifestyles/health-med-fit/cdc-warns-that-mpox-could-make-a-summer-return/article_ffaf0ed5-c977-5465-ad7e-671cd6ac0e29.html'}}, {'a': {'abstract': 'Thank you for reading!\\n\\nPlease log in, or sign up for a new account and purchase a subscription to continue reading.', 'label': 'true', 'url': 'https://www.yumasun.com/news/two-cases-of-mpox-confirmed-in-sonora-1-of-them-in-san-luis-r-c/article_9cee17b2-680b-11ef-9d4b-8b42985e4c04.html'}}, {'a': {'abstract': 'ARGENTINA – Health authorities in Argentina say they will inspect and quarantine a cargo ship in its waters after a crew member showed symptoms of mpox. A spokesperson for the country’s health ministry told CNN the inspection would be carried out by the border health service, which has already contacted the crew. According to the ship tracking service MarineTraffic, the vessel was anchored on a river off its destination in San Lorenzo as of 6:10 p.m. ET. Its previous stop was in Santos, Brazil.\\n\\nMedical personnel will board it and inspect whether the crew member’s symptoms are compatible with mpox. If they are, they will take samples for study. The ship will remain in the harbor and the entire crew will be quarantined until the results of the studies are available. So far, the ministry has not said how many people are on board the Liberia-flagged ship named Ina-Lotte.\\n\\nOn Friday, the ministry called for strengthening border health control measures in Argentina, two days after the World Health Organization declared a public health emergency of international concern due to an outbreak of mpox in parts of Africa. Other Latin American countries, such as Colombia, El Salvador, Venezuela and Mexico have announced similar surveillance measures. A deadlier strain of the virus, clade 1b, is spreading quickly in the Democratic Republic of Congo and has reached at least four previously unaffected countries in Africa. (CNN)…[+]', 'label': 'false', 'url': 'http://www.surinametimes.com/argentina-to-quarantine-cargo-ship-after-crew-member-shows-symptoms-of-mpox/'}}, {'a': {'abstract': 'Failed to extract article: Article `download()` failed with 404 Client Error: Not Found for url: https://gazette.com/news/us-world/argentina-quarantines-grains-ship-over-suspected-mpox-case/article_a405d769-ccef-5ffa-b742-b1ab08fb8a44.html on URL https://gazette.com/news/us-world/argentina-quarantines-grains-ship-over-suspected-mpox-case/article_a405d769-ccef-5ffa-b742-b1ab08fb8a44.html', 'label': 'true', 'url': 'https://gazette.com/news/us-world/argentina-quarantines-grains-ship-over-suspected-mpox-case/article_a405d769-ccef-5ffa-b742-b1ab08fb8a44.html'}}, {'a': {'abstract': 'Thailand has detected an mpox case in a European man who arrived from Africa last week and is awaiting test results to determine the strain, a disease control official said today.\\n\\nThai authorities were treating the case as if it were the Clade 1 form of mpox, as the person had arrived on August 14 from an African country where it was spreading, Thongchai Keeratihattayakorn, Director-General of the Department of Disease Control, told Reuters.\\n\\nMeanwhile, the Philippines\\' Health Minister said this Wednesday a recently detected mpox case in the Southeast Asian nation is of the mild Clade 2 variant and not the newer variant that has spread rapidly in Africa.\\n\\n\"The mpox we found was the original variety and probably it could have been circulating in our community,\" Health Secretary Teodoro Herbosa told ANC news channel.\\n\\nThe Southeast Asian nation on Monday announced its first mpox case this year. The Philippines has now had 10 laboratory-confirmed case since July 2022.\\n\\nAlso on mpox, the Argentine authorities quarantined a cargo ship in the Parana River over a suspected case of mpox onboard, the government said on Tuesday, as global public health authorities remain on alert for a new faster-spreading variant of the virus.\\n\\nThe quarantined Liberian-flagged ship was sailing from Santos, Brazil, also a major commodities hub, to pick up soy cargo, according to the Health Ministry and industry body the Argentine Naval League.\\n\\n--Reuters--', 'label': 'true', 'url': 'http://www.channelafrica.co.za/sabc/home/channelafrica/news/details?id=6a8f4d28-7b94-4ec5-b8ab-f8338ae1732b&title=Mpox%20case%20recorded%20in%20foreigner%20travelling%20from%20Africa:%20Thailand'}}, {'a': {'abstract': 'Failed to extract article: Article `download()` failed with 403 Client Error: Forbidden for url: https://www.streetinsider.com/Business+Wire/Mexico+Needs+mpox+Vaccine,+Says+AHF+and+Vaccine+Advocates+in+The+Lancet+Letter/21340588.html on URL https://www.streetinsider.com/Business+Wire/Mexico+Needs+mpox+Vaccine,+Says+AHF+and+Vaccine+Advocates+in+The+Lancet+Letter/21340588.html', 'label': 'true', 'url': 'https://www.streetinsider.com/Business+Wire/Mexico+Needs+mpox+Vaccine,+Says+AHF+and+Vaccine+Advocates+in+The+Lancet+Letter/21340588.html'}}, {'a': {'abstract': 'As monkeypox continues to impact gay and bisexual men in dozens of countries around the world, at-risk Mexicans are going abroad for vaccines they say their government has not bothered to make available at home.\\n\\nMexico ranks ninth globally in total cases, according to the World Health Organization, but officials have not announced plans to acquire vaccines even as other Latin American countries receive shipments. \"It\\'s been a long journey to find a vaccine,\" said Alberto Herbel, a communications professional and nightlife producer who flew from Mexico City to Los Angeles this month for a two-day stay to get vaccinated after failed attempts in France and Germany.\\n\\nHerbel, 38, said he wanted the vaccine because half of his friends currently have or have had monkeypox. The viral disease, which is overwhelmingly but not exclusively spreading among gay and bisexual men, is rarely fatal but can cause painful sores that make basic bodily functions difficult for weeks.\\n\\nThe U.S. Center for Disease Control (CDC) recommends vaccines for at-risk individuals and the Pan American Health Organization (PAHO) has underscored they are an \"important tool\" in stemming transmission, though the shots are in short supply globally. Mexico City resident Juan David Zuluaga, 32, flew to Tijuana last week to get vaccinated across the U.S.-Mexico border in San Diego.\\n\\n\"I didn\\'t see a plan from the government,\" he said. \"I had to do something for myself.\" Mexico\\'s health ministry did not respond to Reuters\\' questions about plans to acquire vaccines.\\n\\nJuan Carlos Lara, who owns a store in Mexico City\\'s historic center, got vaccinated while vacationing in San Francisco last month. \"It was quick. They didn\\'t ask for anything,\" said Lara, 41, who like others plans to make a second trip to get the recommended second dose.\\n\\nMexico\\'s government has reported 2,147 confirmed cases of monkeypox since May, a number advocates in the gay community say far undercounts cases. Mexico is not among 14 countries that have committed to purchasing vaccines through PAHO, which acquired 130,000 doses of the Danish manufacturer Bavarian Nordic\\'s JYNNEOS vaccine. Brazil and Chile received first shipments earlier this month.\\n\\nClinical trials to evaluate JYNNEOS\\' effectiveness at preventing monkeypox are ongoing. The vaccine is approved for monkeypox in the United States, where a CDC study observed that monkeypox incidence was 14 times higher among unvaccinated males compared with those who had received a first dose of JYNNEOS. Ricardo Baruch, an LGBT health researcher, says he \"easily\" knows 40 people who have left Mexico for the vaccine, but worries the situation will exacerbate inequalities in the gay community.\\n\\n\"Those with visas and money will get vaccinated and those without will have to resign themselves to eventually getting monkeypox,\" Baruch said.\\n\\n(This story has not been edited by Devdiscourse staff and is auto-generated from a syndicated feed.)', 'label': 'true', 'url': 'https://www.devdiscourse.com/article/health/2216782-with-no-monkeypox-vaccine-at-home-frustrated-mexicans-go-abroad'}}, {'a': {'abstract': 'Stacker investigated how \"monkeypox\" and other disease names have caused controversy, using a collection of news, scientific, and government sources. - Canva\\n\\nEmilia Ruzicka\\n\\nNaming diseases is a complicated business. To be useful, a name needs to be unique, descriptive, and memorable so it can be referenced easily, especially when medical situations become urgent. Though the easiest way to name illnesses may be just to give them identification numbers, that system becomes extraordinarily difficult to reference efficiently when time is of the essence.\\n\\nIt may seem intuitive to name diseases based on their origins or discovery locations; however, this approach also presents issues. As our world increasingly boasts a global citizenry, illnesses—and their names—can be spread across various cultures, making it essential to be sensitive to and inclusive of all who may encounter them.\\n\\nIn light of recent conversations about disease nomenclature, Stacker investigated how “monkeypox” and other disease names have caused controversy, using a collection of news, scientific, and government sources. While this is not an all-inclusive list of the issues surrounding the naming of diseases, it explores several fraught means by which illnesses are given nomenclature that becomes shorthand for public discussion.\\n\\nYou may also like: Fastest-warming states since 1970\\n\\nCanva\\n\\nDisease names tied to geographic locations\\n\\nNaming illnesses based on where they were presumed to have originated was a common practice for decades. The “Spanish flu” from the early 1900s is just one of many toponymous diseases that earned its name based on a physical place. However, in 2015, the World Health Organization released new guidelines that advised against this practice. When an illness becomes irrevocably tied to a place, people from that place often face discrimination or violence—even if the illness is later proven to have come from someplace different.\\n\\nOne recent example of a toponymous disease causing backlash occurred at the beginning of the COVID-19 pandemic in 2020, when some people, including then-President Donald Trump, referred to the novel coronavirus as the “Wuhan flu” or the “Chinese virus.” Many experts and medical professionals spoke up, stating that the monikers were xenophobic and prompted anti-Asian hate.\\n\\nOther diseases named after places include the Zika virus, named after the Zika Forest in Uganda; Marburg virus, named after Marburg, Germany, where more than 30 cases of the illness were recorded; and Middle East respiratory syndrome, named after being first found in Saudi Arabia.\\n\\nCanva\\n\\nDisease names connected to an animal species\\n\\nThe list of diseases named after animal species is long and includes monkeypox, swine flu, and mad cow disease, among others. Though it may seem harmless to name an illness using its presumed species of origin or a carrier species, WHO guidelines also warn against this practice. In the wake of swine flu (also known as H1N1) outbreaks in other countries in 2009, Egypt ordered the slaughter of all pig livestock in the country despite not having any cases, resulting in the killing of about 300,000 animals.\\n\\nMost recently, the name “monkeypox” has incited people to attack primates in zoos and their natural habitats out of fear of contracting the virus. WHO officials have attempted to redirect disease prevention efforts to focus on human-to-human transmission, but the prevalence of the “monkeypox” name isn’t helping the cause. In addition, 29 experts wrote an article in August 2022 calling for the term “monkeypox” to be changed due to its racist connotations against Black people and people of African descent.\\n\\nYou may also like: Animal species that may become extinct in our lifetime\\n\\nVotava/brandstaetter images via Getty Images\\n\\nDisease names that include the name of an individual person\\n\\nIt’s not unusual for scientists to name their discoveries after themselves: Halley’s Comet, Verreaux’s sifaka, and Avogadro’s number are just a few examples. But when it comes to physical illnesses, the politics of having an individual’s name in the disease name becomes tricky. One such disease the WHO specifically named in its updated naming guidance is Creutzfeldt-Jakob disease, first described by neurologists Hans Gerhard Creutzfeldt and Alfons Maria Jakob but named by a third neurologist, Walther Spielmeyer.\\n\\nNames in this category are discouraged because they are not descriptive; however, the situation can be further complicated when the condition is named after a controversial figure. This is the case for Asperger’s syndrome, which is no longer an official diagnosis by the American Psychiatric Association as of 2013. Hans Asperger was a Nazi scientist during the Second World War and was responsible for the deaths of dozens of children; however, his dark story was not revealed publicly for many years after the diagnosis became common. The physical and mental conditions initially associated with Asperger’s syndrome are now classified under the diagnosis of autism. However, laypeople still use the name despite its removal from official medical practices.\\n\\nYou may also like: Animal species that may become extinct in our lifetime\\n\\nCanva\\n\\nDisease names that refer to a group of people\\n\\nAt the beginning of the HIV/AIDS epidemic, and before the virus had been studied in-depth, it was called “gay-related immunodeficiency” because of its prevalence among homosexual men. At the time, it was assumed that sexual orientation had to be a causal agent of the disease. Though it is now known that HIV is not caused by sexual orientation but is transmitted by sexual contact or contact with infected blood, homophobia still lingers around the disease, serving as a warning for future disease names to mitigate discrimination caused by nomenclature.\\n\\nBeyond HIV, controversy ensued during outbreaks of H1N1, or swine flu, in Israel. Because Israel has large Jewish and Muslim populations, many of its citizens took offense to the reference to pigs in the flu’s name because pigs are neither kosher nor halal. As a result, Israel’s deputy health minister announced that the illness would instead be called “Mexican flu,” based on the finding that the first human H1N1 patient was Mexican. This caused the Mexican ambassador to Israel to launch an official complaint against the Israeli government, ultimately resulting in Israel’s acceptance of the term “swine flu” after all.\\n\\nYou may also like: Animal species that may become extinct in our lifetime', 'label': 'true', 'url': 'https://www.digitaljournal.com/life/how-monkeypox-and-other-disease-names-have-caused-controversy/article'}}, {'a': {'abstract': \"LAS CRUCES, New Mexico -- An NMSU student who lives off-campus tested positive for monkeypox two weeks ago according to school officials.\\n\\nThe student is currently isolating and recovering.\\n\\n“At this point in time, higher education institutions are seen as low risk for the transmission of monkeypox,” said Judi Voelz, medical director at NMSU’s Aggie Health and Wellness Center. “NMSU’s health center will continue to work with the Department of Health and follow CDC guidelines to manage any monkeypox infections that may occur on campus. People who contract monkeypox don’t usually have serious outcomes or need hospitalization and are expected to fully recover,” said Voelz.\\n\\nThe New Mexico Department of Health is monitoring the student's close contacts.\\n\\nAccording to the school, it will not be sending public communications for each new case. Those who may have possible exposure will be notified and asked to follow instructions.\", 'label': 'true', 'url': 'https://kvia.com/top-stories/2022/09/22/nmsu-student-tests-positive-for-monkeypox-according-to-health-officials/'}}]\u001b[0m\n"
          ]
        },
        {
          "name": "stderr",
          "output_type": "stream",
          "text": [
            "\r 61%|██████    | 61/100 [03:57<03:08,  4.83s/it]WARNING:langchain_core.callbacks.manager:Error in StdOutCallbackHandler.on_chain_start callback: AttributeError(\"'NoneType' object has no attribute 'get'\")\n"
          ]
        },
        {
          "name": "stdout",
          "output_type": "stream",
          "text": [
            "\n",
            "\u001b[1m> Finished chain.\u001b[0m\n"
          ]
        },
        {
          "name": "stderr",
          "output_type": "stream",
          "text": [
            " 62%|██████▏   | 62/100 [05:42<22:09, 34.98s/it]WARNING:langchain_core.callbacks.manager:Error in StdOutCallbackHandler.on_chain_start callback: AttributeError(\"'NoneType' object has no attribute 'get'\")\n",
            " 63%|██████▎   | 63/100 [05:42<15:10, 24.61s/it]WARNING:langchain_core.callbacks.manager:Error in StdOutCallbackHandler.on_chain_start callback: AttributeError(\"'NoneType' object has no attribute 'get'\")\n"
          ]
        },
        {
          "name": "stdout",
          "output_type": "stream",
          "text": [
            "Generated Cypher:\n",
            "\u001b[32;1m\u001b[1;3mMATCH (a:Article)-[:MENTIONS_LOCATION]->(mex:Location {name: 'Mexico'})<-[:AFFECTS]-(v:Virus)-[:AFFECTS]->(us:Location {name: 'United States'})<-[:MENTIONS_LOCATION]-(a)\u001b[0m\n",
            "Generated Cypher:\n",
            "\u001b[32;1m\u001b[1;3mMATCH (o:Organization)<-[:PUBLISHED_BY]-(a:Article)-[:ABOUT_VIRUS]->(v:Virus {name: \"Mpox\"})-[:AFFECTS]->(l:Location {country: \"Mexico\"}) RETURN o.name\u001b[0m\n",
            "Full Context:\n",
            "\u001b[32;1m\u001b[1;3m[]\u001b[0m\n"
          ]
        },
        {
          "name": "stderr",
          "output_type": "stream",
          "text": [
            "\r 64%|██████▍   | 64/100 [05:43<10:24, 17.35s/it]WARNING:langchain_core.callbacks.manager:Error in StdOutCallbackHandler.on_chain_start callback: AttributeError(\"'NoneType' object has no attribute 'get'\")\n"
          ]
        },
        {
          "name": "stdout",
          "output_type": "stream",
          "text": [
            "\n",
            "\u001b[1m> Finished chain.\u001b[0m\n",
            "Generated Cypher:\n",
            "\u001b[32;1m\u001b[1;3mMATCH (v:Virus)-[:CAUSES]->(s:Symptom) WHERE s.name IN ['respiratory', 'cardiovascular'] RETURN v.name\u001b[0m\n",
            "Full Context:\n",
            "\u001b[32;1m\u001b[1;3m[]\u001b[0m\n"
          ]
        },
        {
          "name": "stderr",
          "output_type": "stream",
          "text": [
            "\r 65%|██████▌   | 65/100 [05:43<07:09, 12.26s/it]WARNING:langchain_core.callbacks.manager:Error in StdOutCallbackHandler.on_chain_start callback: AttributeError(\"'NoneType' object has no attribute 'get'\")\n"
          ]
        },
        {
          "name": "stdout",
          "output_type": "stream",
          "text": [
            "\n",
            "\u001b[1m> Finished chain.\u001b[0m\n"
          ]
        },
        {
          "name": "stderr",
          "output_type": "stream",
          "text": [
            "\r 66%|██████▌   | 66/100 [05:43<04:55,  8.70s/it]WARNING:langchain_core.callbacks.manager:Error in StdOutCallbackHandler.on_chain_start callback: AttributeError(\"'NoneType' object has no attribute 'get'\")\n"
          ]
        },
        {
          "name": "stdout",
          "output_type": "stream",
          "text": [
            "Generated Cypher:\n",
            "\u001b[32;1m\u001b[1;3m\u001b[0m\n",
            "Full Context:\n",
            "\u001b[32;1m\u001b[1;3m[]\u001b[0m\n",
            "\n",
            "\u001b[1m> Finished chain.\u001b[0m\n",
            "Generated Cypher:\n",
            "\u001b[32;1m\u001b[1;3mMATCH (t:Transmission {method: 'airborne'})<-[:SPREADS_BY]-(v:Virus)-[:CAUSES]->(s:Symptom) RETURN s.name\u001b[0m\n",
            "Full Context:\n",
            "\u001b[32;1m\u001b[1;3m[{'s.name': 'Swollen Lymph Nodes'}, {'s.name': 'Fever'}, {'s.name': 'Rash'}, {'s.name': 'fever'}, {'s.name': 'rash'}, {'s.name': 'muscle aches'}, {'s.name': 'headache'}, {'s.name': 'swollen lymph nodes'}, {'s.name': 'Muscle Aches'}, {'s.name': 'cough'}]\u001b[0m\n"
          ]
        },
        {
          "name": "stderr",
          "output_type": "stream",
          "text": [
            "\r 67%|██████▋   | 67/100 [05:44<03:24,  6.21s/it]WARNING:langchain_core.callbacks.manager:Error in StdOutCallbackHandler.on_chain_start callback: AttributeError(\"'NoneType' object has no attribute 'get'\")\n"
          ]
        },
        {
          "name": "stdout",
          "output_type": "stream",
          "text": [
            "\n",
            "\u001b[1m> Finished chain.\u001b[0m\n",
            "Generated Cypher:\n",
            "\u001b[32;1m\u001b[1;3mMATCH (a:Article)-[:PUBLISHED_BY]->(o:Organization)<-[:PUBLISHED_BY]-(p:Article)-[:MENTIONS_LOCATION]->(mx:Location {country: 'Mexico'}), (p)-[:MENTIONS_LOCATION]->(br:Location {country: 'Brazil'}), (p)-[:ABOUT_VIRUS]->(v:Virus)-[:AFFECTS]->(mx), (v)-[:AFFECTS]->(br) RETURN o.name AS organization\u001b[0m\n"
          ]
        },
        {
          "name": "stderr",
          "output_type": "stream",
          "text": [
            "\r 68%|██████▊   | 68/100 [05:45<02:27,  4.59s/it]WARNING:langchain_core.callbacks.manager:Error in StdOutCallbackHandler.on_chain_start callback: AttributeError(\"'NoneType' object has no attribute 'get'\")\n"
          ]
        },
        {
          "name": "stdout",
          "output_type": "stream",
          "text": [
            "Full Context:\n",
            "\u001b[32;1m\u001b[1;3m[]\u001b[0m\n",
            "\n",
            "\u001b[1m> Finished chain.\u001b[0m\n",
            "Generated Cypher:\n",
            "\u001b[32;1m\u001b[1;3mMATCH (v:Virus)-[:CAUSES]->(s:Symptom) RETURN v.name, COUNT(s) as symptom_count ORDER BY symptom_count DESC\u001b[0m\n",
            "Full Context:\n",
            "\u001b[32;1m\u001b[1;3m[{'v.name': 'Monkeypox', 'symptom_count': 11}, {'v.name': 'Monkeypox, COVID-19', 'symptom_count': 11}, {'v.name': 'Mpox, Monkeypox', 'symptom_count': 8}, {'v.name': 'Mpox', 'symptom_count': 5}, {'v.name': 'COVID-19', 'symptom_count': 3}, {'v.name': 'Mpox, Monkeypox, COVID-19', 'symptom_count': 2}, {'v.name': 'Mpox, COVID-19', 'symptom_count': 1}, {'v.name': 'Monkeypox, COVID-19, SARS-CoV-2', 'symptom_count': 1}]\u001b[0m\n"
          ]
        },
        {
          "name": "stderr",
          "output_type": "stream",
          "text": [
            "\r 69%|██████▉   | 69/100 [05:45<01:43,  3.35s/it]WARNING:langchain_core.callbacks.manager:Error in StdOutCallbackHandler.on_chain_start callback: AttributeError(\"'NoneType' object has no attribute 'get'\")\n"
          ]
        },
        {
          "name": "stdout",
          "output_type": "stream",
          "text": [
            "\n",
            "\u001b[1m> Finished chain.\u001b[0m\n",
            "Generated Cypher:\n",
            "\u001b[32;1m\u001b[1;3mMATCH (v:Virus)-[:AFFECTS]->(l:Location) RETURN v.name, count(l) ORDER BY count(l) DESC LIMIT 10\u001b[0m\n",
            "Full Context:\n",
            "\u001b[32;1m\u001b[1;3m[{'v.name': 'Monkeypox', 'count(l)': 7}, {'v.name': 'Monkeypox, COVID-19', 'count(l)': 5}, {'v.name': 'Mpox', 'count(l)': 4}, {'v.name': 'Mpox, Monkeypox', 'count(l)': 3}, {'v.name': 'Mpox, Monkeypox, COVID-19', 'count(l)': 2}, {'v.name': 'Mpox, COVID-19', 'count(l)': 1}, {'v.name': 'COVID-19', 'count(l)': 1}, {'v.name': 'Monkeypox, COVID-19, SARS-CoV-2', 'count(l)': 1}]\u001b[0m\n"
          ]
        },
        {
          "name": "stderr",
          "output_type": "stream",
          "text": [
            "\r 70%|███████   | 70/100 [05:46<01:14,  2.48s/it]WARNING:langchain_core.callbacks.manager:Error in StdOutCallbackHandler.on_chain_start callback: AttributeError(\"'NoneType' object has no attribute 'get'\")\n"
          ]
        },
        {
          "name": "stdout",
          "output_type": "stream",
          "text": [
            "\n",
            "\u001b[1m> Finished chain.\u001b[0m\n",
            "Generated Cypher:\n",
            "\u001b[32;1m\u001b[1;3mMATCH (o:Organization)-[:INVOLVED_IN]->(v:Virus) GROUP BY o WITH o, COUNT(v) AS count ORDER BY count DESC LIMIT 1 RETURN o.name\u001b[0m\n"
          ]
        },
        {
          "name": "stderr",
          "output_type": "stream",
          "text": [
            "\r 71%|███████   | 71/100 [05:46<00:52,  1.82s/it]WARNING:langchain_core.callbacks.manager:Error in StdOutCallbackHandler.on_chain_start callback: AttributeError(\"'NoneType' object has no attribute 'get'\")\n"
          ]
        },
        {
          "name": "stdout",
          "output_type": "stream",
          "text": [
            "Generated Cypher:\n",
            "\u001b[32;1m\u001b[1;3mMATCH (v:Virus)-[:AFFECTS]->(l1:Location), (v)-[:AFFECTS]->(l2:Location) WHERE l1.country <> l2.country MATCH (a:Article)-[:ABOUT_VIRUS]->(v) RETURN a;\u001b[0m\n",
            "Full Context:\n",
            "\u001b[32;1m\u001b[1;3m[{'a': {'abstract': \"Argentina confirms sixth case of monkeypox nationwide\\n\\n17th Saturday, August 2024 - 09:30 UTC Full article\\n\\nThe Argentine government has advised people to up all prevention measures while announcing tougher border controls\\n\\nA new case of monkeypox was confirmed Friday in the Argentine province of Corrientes, bringing the total number of cases in the country to six in the same week that the World Health Organization declared the malady a public health emergency of international concern (PHEIC) after an outbreak in Africa.\\n\\nThe new infection was included in Friday's issue of the federal Health Ministry's National Epidemiological Bulletin (BEN) which collected data from Corrientes' Public Health Minister Ricardo Cardozo, who also explained that the local patient \\x93has already been discharged and is progressing well.\\x94\\n\\nArgentina's first case was confirmed in the province of Buenos Aires, followed by two others in the Autonomous City of Buenos Aires (CABA), one in Santa Fe, and one in Río Negro. With the one in Corrientes, a total of six cases have been confirmed out of 39 reported. The infected patients were aged between 23 and 38 years, it was also explained.\\n\\nAccording to Corrientes' Epidemiology Department, the new appearance was not the new variant, but rather a case of the simian smallpox type that has been appearing from time to time since 2022. \\x93The new variant is still in Africa,\\x94 the authorities stressed. In 2024, 548 deaths and 15,664 potential cases of the disease were reported in the Democratic Republic of Congo.Monkeypox is a disease caused by the monkeypox virus. Currently, two different clades, I and II, have been identified.\\n\\nThe main symptoms include vesicular rashes in various areas of the body such as the genitals, perianal region, hands, and torso. Fever and myalgias may also be experienced. So far, there have been no deaths from monkeypox in the country.\\n\\nHowever, national health authorities have announced reinforced prevention measures, as well as tighter border controls pursuant to international regulations. The government also encouraged people who have had contact with an affected person to go to a health center and avoid contact with other people until symptoms are alleviated. It has been proven that the way to catch the virus clade I MPXV is through person-to-person transmission, after being in contact with people with typical monkeypox lesions, or the clothing of an infected person.\", 'label': 'true', 'url': 'https://en.mercopress.com/2024/08/17/argentina-confirms-sixth-case-of-monkeypox-nationwide'}}, {'a': {'abstract': 'Failed to extract article: Article `download()` failed with 500 Server Error: Internal Server Error for url: https://bioprepwatch.com/argentina-the-first-two-cases-of-monkeypox-have-been-reported-in-latin-america/ on URL https://bioprepwatch.com/argentina-the-first-two-cases-of-monkeypox-have-been-reported-in-latin-america/', 'label': 'true', 'url': 'https://bioprepwatch.com/argentina-the-first-two-cases-of-monkeypox-have-been-reported-in-latin-america/'}}, {'a': {'abstract': 'Failed to extract article: Article `download()` failed with 429 Client Error: Too Many Requests for url: https://www.ivpressonline.com/news/mexicali-briefs-monkeypox-reported-woman-allegedly-involved-in-seven-homicides-arrested-over-a-dozen-professors/article_c0585872-c5cb-11ed-9b74-4b18681d9b70.html on URL https://www.ivpressonline.com/news/mexicali-briefs-monkeypox-reported-woman-allegedly-involved-in-seven-homicides-arrested-over-a-dozen-professors/article_c0585872-c5cb-11ed-9b74-4b18681d9b70.html', 'label': 'true', 'url': 'https://www.ivpressonline.com/news/mexicali-briefs-monkeypox-reported-woman-allegedly-involved-in-seven-homicides-arrested-over-a-dozen-professors/article_c0585872-c5cb-11ed-9b74-4b18681d9b70.html'}}, {'a': {'abstract': 'As monkeypox continues to impact gay and bisexual men in dozens of countries around the world, at-risk Mexicans are going abroad for vaccines they say their government has not bothered to make available at home.\\n\\nMexico ranks ninth globally in total cases, according to the World Health Organization, but officials have not announced plans to acquire vaccines even as other Latin American countries receive shipments. \"It\\'s been a long journey to find a vaccine,\" said Alberto Herbel, a communications professional and nightlife producer who flew from Mexico City to Los Angeles this month for a two-day stay to get vaccinated after failed attempts in France and Germany.\\n\\nHerbel, 38, said he wanted the vaccine because half of his friends currently have or have had monkeypox. The viral disease, which is overwhelmingly but not exclusively spreading among gay and bisexual men, is rarely fatal but can cause painful sores that make basic bodily functions difficult for weeks.\\n\\nThe U.S. Center for Disease Control (CDC) recommends vaccines for at-risk individuals and the Pan American Health Organization (PAHO) has underscored they are an \"important tool\" in stemming transmission, though the shots are in short supply globally. Mexico City resident Juan David Zuluaga, 32, flew to Tijuana last week to get vaccinated across the U.S.-Mexico border in San Diego.\\n\\n\"I didn\\'t see a plan from the government,\" he said. \"I had to do something for myself.\" Mexico\\'s health ministry did not respond to Reuters\\' questions about plans to acquire vaccines.\\n\\nJuan Carlos Lara, who owns a store in Mexico City\\'s historic center, got vaccinated while vacationing in San Francisco last month. \"It was quick. They didn\\'t ask for anything,\" said Lara, 41, who like others plans to make a second trip to get the recommended second dose.\\n\\nMexico\\'s government has reported 2,147 confirmed cases of monkeypox since May, a number advocates in the gay community say far undercounts cases. Mexico is not among 14 countries that have committed to purchasing vaccines through PAHO, which acquired 130,000 doses of the Danish manufacturer Bavarian Nordic\\'s JYNNEOS vaccine. Brazil and Chile received first shipments earlier this month.\\n\\nClinical trials to evaluate JYNNEOS\\' effectiveness at preventing monkeypox are ongoing. The vaccine is approved for monkeypox in the United States, where a CDC study observed that monkeypox incidence was 14 times higher among unvaccinated males compared with those who had received a first dose of JYNNEOS. Ricardo Baruch, an LGBT health researcher, says he \"easily\" knows 40 people who have left Mexico for the vaccine, but worries the situation will exacerbate inequalities in the gay community.\\n\\n\"Those with visas and money will get vaccinated and those without will have to resign themselves to eventually getting monkeypox,\" Baruch said.\\n\\n(This story has not been edited by Devdiscourse staff and is auto-generated from a syndicated feed.)', 'label': 'true', 'url': 'https://www.devdiscourse.com/article/health/2216782-with-no-monkeypox-vaccine-at-home-frustrated-mexicans-go-abroad'}}, {'a': {'abstract': \"LAS CRUCES, New Mexico -- An NMSU student who lives off-campus tested positive for monkeypox two weeks ago according to school officials.\\n\\nThe student is currently isolating and recovering.\\n\\n“At this point in time, higher education institutions are seen as low risk for the transmission of monkeypox,” said Judi Voelz, medical director at NMSU’s Aggie Health and Wellness Center. “NMSU’s health center will continue to work with the Department of Health and follow CDC guidelines to manage any monkeypox infections that may occur on campus. People who contract monkeypox don’t usually have serious outcomes or need hospitalization and are expected to fully recover,” said Voelz.\\n\\nThe New Mexico Department of Health is monitoring the student's close contacts.\\n\\nAccording to the school, it will not be sending public communications for each new case. Those who may have possible exposure will be notified and asked to follow instructions.\", 'label': 'true', 'url': 'https://kvia.com/top-stories/2022/09/22/nmsu-student-tests-positive-for-monkeypox-according-to-health-officials/'}}, {'a': {'abstract': 'Failed to extract article: Article `download()` failed with 403 Client Error: Forbidden for url: https://www.inform.kz/en/brazil-s-government-invests-in-monkeypox-research_a3981707 on URL https://www.inform.kz/en/brazil-s-government-invests-in-monkeypox-research_a3981707', 'label': 'true', 'url': 'https://www.inform.kz/en/brazil-s-government-invests-in-monkeypox-research_a3981707'}}, {'a': {'abstract': 'Failed to extract article: Article `download()` failed with 404 Client Error: Not Found for url: https://latinamericanpost.com/42006-latin-america-in-short-attack-against-cristina-fernndez-%7C-monkeypox-advances-in-the-region on URL http://www.latinamericanpost.com/42006-latin-america-in-short-attack-against-cristina-fernndez-%7C-monkeypox-advances-in-the-region', 'label': 'true', 'url': 'http://www.latinamericanpost.com/42006-latin-america-in-short-attack-against-cristina-fernndez-%7C-monkeypox-advances-in-the-region'}}, {'a': {'abstract': 'Gay rights activists from across Latin America have called for the region’s governments to take firm steps to prevent the spread of monkeypox, saying a lack of will to provide vaccines and diagnose cases is hurting the region’s gay and bisexual men.\\n\\nLatin America has confirmed around 16% of over 50,000 registered cases worldwide in the recent outbreak, almost exclusively in countries where it is not historically endemic.\\n\\nHowever, a Latin American network of gay rights activists believes governments are drastically underreporting the extent of the outbreak, in part due to discrimination against men who have sex with men, among whom the disease has so far been circulating overwhelmingly through sex.\\n\\n“The worst thing would be to decide that this will be controlled through herd immunity,” the AIDS Healthcare Foundation’s director, Dr. Jorge Saavedra, told Reuters. “The lesions are very painful; and you can’t just condemn people to suffer.”\\n\\n“This is state sadism,” he said.\\n\\nActivists, who gathered in Mexico City on Thursday at an event to call for stronger state responses, said it was unbelievable that Mexico – one of Latin America’s most populous and visited countries – would have only one-third the number of monkeypox cases as Peru, which confirmed its first case a month after Mexico.\\n\\n“Are Peruvians having more sex than Mexicans? Sexologists have found no evidence,” Saavedra said at the event.\\n\\nThe situation is particularly worrying in Mexico, activists said, where there is just one centralized diagnostics center forcing people to wait and travel long distances.\\n\\nGrassroots clinics for people living with HIV, who risk suffering much more severe effects of monkeypox, have meanwhile been flooded with patients, they said.\\n\\nMexico’s government in June issued a statement discouraging messaging that links gay and bisexual men to monkeypox to prevent discrimination.\\n\\n“They stigmatized us 40 years ago during the AIDS crisis,” said HIV researcher Ricardo Forcada. “Now, they’re not helping us under the pretext of not stigmatizing us.”\\n\\nForcada said the network was prepared to take all available legal actions, including appealing to Mexico’s human rights commission. It hopes the governments will invest in targeted health campaigns and order vaccines.\\n\\n“We don’t want this to turn into an endemic problem like other sexually transmitted diseases,” said Saavedra.\\n\\n—Reporting by Sarah Morland in Mexico City, Editing by Brendan O’Boyle and Matthew Lewis', 'label': 'true', 'url': 'https://interaksyon.philstar.com/politics-issues/2022/09/06/227205/monkeypox-apathy-will-condemn-people-to-suffer-latin-american-activists-say/'}}, {'a': {'abstract': 'Failed to extract article: Article `download()` failed with 429 Client Error: Too Many Requests for url: https://www.abqjournal.com/2529354/health-department-separates-monkeypox-fact-and-fiction.html on URL https://www.abqjournal.com/2529354/health-department-separates-monkeypox-fact-and-fiction.html', 'label': 'true', 'url': 'https://www.abqjournal.com/2529354/health-department-separates-monkeypox-fact-and-fiction.html'}}, {'a': {'abstract': 'Failed to extract article: Article `download()` failed with 404 Client Error: Not Found for url: https://www.towleroad.com/2022/09/monkeypox-apathy-will-condemn-people-to-suffer-latin-american-activists-say/ on URL https://www.towleroad.com/2022/09/monkeypox-apathy-will-condemn-people-to-suffer-latin-american-activists-say/', 'label': 'true', 'url': 'https://www.towleroad.com/2022/09/monkeypox-apathy-will-condemn-people-to-suffer-latin-american-activists-say/'}}]\u001b[0m\n"
          ]
        },
        {
          "name": "stderr",
          "output_type": "stream",
          "text": [
            "\r 72%|███████▏  | 72/100 [05:48<00:54,  1.94s/it]WARNING:langchain_core.callbacks.manager:Error in StdOutCallbackHandler.on_chain_start callback: AttributeError(\"'NoneType' object has no attribute 'get'\")\n"
          ]
        },
        {
          "name": "stdout",
          "output_type": "stream",
          "text": [
            "\n",
            "\u001b[1m> Finished chain.\u001b[0m\n"
          ]
        },
        {
          "name": "stderr",
          "output_type": "stream",
          "text": [
            "\r 73%|███████▎  | 73/100 [05:48<00:39,  1.46s/it]WARNING:langchain_core.callbacks.manager:Error in StdOutCallbackHandler.on_chain_start callback: AttributeError(\"'NoneType' object has no attribute 'get'\")\n"
          ]
        },
        {
          "name": "stdout",
          "output_type": "stream",
          "text": [
            "Generated Cypher:\n",
            "\u001b[32;1m\u001b[1;3m\u001b[0m\n",
            "Full Context:\n",
            "\u001b[32;1m\u001b[1;3m[]\u001b[0m\n",
            "\n",
            "\u001b[1m> Finished chain.\u001b[0m\n"
          ]
        },
        {
          "name": "stderr",
          "output_type": "stream",
          "text": [
            "\r 74%|███████▍  | 74/100 [05:49<00:29,  1.12s/it]WARNING:langchain_core.callbacks.manager:Error in StdOutCallbackHandler.on_chain_start callback: AttributeError(\"'NoneType' object has no attribute 'get'\")\n"
          ]
        },
        {
          "name": "stdout",
          "output_type": "stream",
          "text": [
            "Generated Cypher:\n",
            "\u001b[32;1m\u001b[1;3m\u001b[0m\n",
            "Full Context:\n",
            "\u001b[32;1m\u001b[1;3m[]\u001b[0m\n",
            "\n",
            "\u001b[1m> Finished chain.\u001b[0m\n",
            "Generated Cypher:\n",
            "\u001b[32;1m\u001b[1;3mMATCH (a:Article)-[:MENTIONS_SYMPTOM]->(s:Symptom)<-[:CAUSES]-(v:Virus) WHERE s.name = 'Cardiovascular' RETURN a;\u001b[0m\n",
            "Full Context:\n",
            "\u001b[32;1m\u001b[1;3m[]\u001b[0m\n"
          ]
        },
        {
          "name": "stderr",
          "output_type": "stream",
          "text": [
            "\r 75%|███████▌  | 75/100 [05:49<00:22,  1.10it/s]WARNING:langchain_core.callbacks.manager:Error in StdOutCallbackHandler.on_chain_start callback: AttributeError(\"'NoneType' object has no attribute 'get'\")\n"
          ]
        },
        {
          "name": "stdout",
          "output_type": "stream",
          "text": [
            "\n",
            "\u001b[1m> Finished chain.\u001b[0m\n",
            "Generated Cypher:\n",
            "\u001b[32;1m\u001b[1;3mMATCH (v:Virus)-[:SPREADS_BY]->(t1:Transmission {method: 'Direct Contact'}), (v)-[:SPREADS_BY]->(t2:Transmission {method: 'Airborne'}) RETURN v.name\u001b[0m\n",
            "Full Context:\n",
            "\u001b[32;1m\u001b[1;3m[]\u001b[0m\n"
          ]
        },
        {
          "name": "stderr",
          "output_type": "stream",
          "text": [
            "\r 76%|███████▌  | 76/100 [05:50<00:18,  1.27it/s]WARNING:langchain_core.callbacks.manager:Error in StdOutCallbackHandler.on_chain_start callback: AttributeError(\"'NoneType' object has no attribute 'get'\")\n"
          ]
        },
        {
          "name": "stdout",
          "output_type": "stream",
          "text": [
            "\n",
            "\u001b[1m> Finished chain.\u001b[0m\n",
            "Generated Cypher:\n",
            "\u001b[32;1m\u001b[1;3m\u001b[0m\n",
            "Full Context:\n",
            "\u001b[32;1m\u001b[1;3m[]\u001b[0m\n"
          ]
        },
        {
          "name": "stderr",
          "output_type": "stream",
          "text": [
            "\r 77%|███████▋  | 77/100 [05:50<00:16,  1.42it/s]WARNING:langchain_core.callbacks.manager:Error in StdOutCallbackHandler.on_chain_start callback: AttributeError(\"'NoneType' object has no attribute 'get'\")\n"
          ]
        },
        {
          "name": "stdout",
          "output_type": "stream",
          "text": [
            "\n",
            "\u001b[1m> Finished chain.\u001b[0m\n",
            "Generated Cypher:\n",
            "\u001b[32;1m\u001b[1;3mMATCH (v:Virus)-[:CAUSES]->(r:Symptom),(v2:Virus)-[:CAUSES]->(g:Symptom) WHERE r.name = \"respiratory\" AND g.name = \"gastrointestinal\" RETURN v.name\u001b[0m\n",
            "Full Context:\n",
            "\u001b[32;1m\u001b[1;3m[]\u001b[0m\n"
          ]
        },
        {
          "name": "stderr",
          "output_type": "stream",
          "text": [
            "\r 78%|███████▊  | 78/100 [05:51<00:13,  1.59it/s]WARNING:langchain_core.callbacks.manager:Error in StdOutCallbackHandler.on_chain_start callback: AttributeError(\"'NoneType' object has no attribute 'get'\")\n"
          ]
        },
        {
          "name": "stdout",
          "output_type": "stream",
          "text": [
            "\n",
            "\u001b[1m> Finished chain.\u001b[0m\n",
            "Generated Cypher:\n",
            "\u001b[32;1m\u001b[1;3mMATCH (a:Article)-[:MENTIONS_SYMPTOM]->(s1:Symptom {name: 'respiratory'}), (a)-[:MENTIONS_SYMPTOM]->(s2:Symptom {name: 'cardiovascular'}) RETURN a;\u001b[0m\n",
            "Full Context:\n",
            "\u001b[32;1m\u001b[1;3m[]\u001b[0m\n"
          ]
        },
        {
          "name": "stderr",
          "output_type": "stream",
          "text": [
            "\r 79%|███████▉  | 79/100 [05:55<00:37,  1.79s/it]WARNING:langchain_core.callbacks.manager:Error in StdOutCallbackHandler.on_chain_start callback: AttributeError(\"'NoneType' object has no attribute 'get'\")\n"
          ]
        },
        {
          "name": "stdout",
          "output_type": "stream",
          "text": [
            "\n",
            "\u001b[1m> Finished chain.\u001b[0m\n",
            "Generated Cypher:\n",
            "\u001b[32;1m\u001b[1;3mMATCH (o:Organization)<-[:PUBLISHED_BY]-(a:Article)-[:ABOUT_VIRUS]->(v:Virus)-[:AFFECTS]->(l:Location {country: \"Asia\"}) RETURN o.name\u001b[0m\n",
            "Full Context:\n",
            "\u001b[32;1m\u001b[1;3m[]\u001b[0m\n"
          ]
        },
        {
          "name": "stderr",
          "output_type": "stream",
          "text": [
            "\r 80%|████████  | 80/100 [06:00<00:51,  2.60s/it]WARNING:langchain_core.callbacks.manager:Error in StdOutCallbackHandler.on_chain_start callback: AttributeError(\"'NoneType' object has no attribute 'get'\")\n"
          ]
        },
        {
          "name": "stdout",
          "output_type": "stream",
          "text": [
            "\n",
            "\u001b[1m> Finished chain.\u001b[0m\n",
            "Generated Cypher:\n",
            "\u001b[32;1m\u001b[1;3mMATCH (v:Virus)-[:SPREADS_BY]->(t:Transmission), (v2:Virus)-[:SPREADS_BY]->(t2:Transmission) WHERE t.method = 'Animals' AND t2.method = 'Direct Contact' MATCH (a:Article)-[:ABOUT_VIRUS]->(v2) MATCH (a)-[:MENTIONS_TRANSMISSION]->(t2) RETURN a.url AS url, a.label AS label\u001b[0m\n",
            "Full Context:\n",
            "\u001b[32;1m\u001b[1;3m[]\u001b[0m\n"
          ]
        },
        {
          "name": "stderr",
          "output_type": "stream",
          "text": [
            "\r 81%|████████  | 81/100 [06:04<01:00,  3.20s/it]WARNING:langchain_core.callbacks.manager:Error in StdOutCallbackHandler.on_chain_start callback: AttributeError(\"'NoneType' object has no attribute 'get'\")\n"
          ]
        },
        {
          "name": "stdout",
          "output_type": "stream",
          "text": [
            "\n",
            "\u001b[1m> Finished chain.\u001b[0m\n"
          ]
        },
        {
          "name": "stderr",
          "output_type": "stream",
          "text": [
            "\r 82%|████████▏ | 82/100 [06:07<00:53,  2.96s/it]WARNING:langchain_core.callbacks.manager:Error in StdOutCallbackHandler.on_chain_start callback: AttributeError(\"'NoneType' object has no attribute 'get'\")\n"
          ]
        },
        {
          "name": "stdout",
          "output_type": "stream",
          "text": [
            "Generated Cypher:\n",
            "\u001b[32;1m\u001b[1;3mMATCH (v:Virus {name: 'SARS-CoV-2'})-[:AFFECTS]->(l:Location {country: 'United States'}), (a:Article)-[:ABOUT_VIRUS]->(v)-[:CAUSES]->(s:Symptom), (a)-[:MENTIONS_SYMPTOM]->(s) RETURN s.name AS symptom ORDER BY COUNT(a) DESC\u001b[0m\n",
            "Generated Cypher:\n",
            "\u001b[32;1m\u001b[1;3m\u001b[0m\n",
            "Full Context:\n",
            "\u001b[32;1m\u001b[1;3m[]\u001b[0m\n"
          ]
        },
        {
          "name": "stderr",
          "output_type": "stream",
          "text": [
            "\r 83%|████████▎ | 83/100 [06:11<00:58,  3.42s/it]WARNING:langchain_core.callbacks.manager:Error in StdOutCallbackHandler.on_chain_start callback: AttributeError(\"'NoneType' object has no attribute 'get'\")\n"
          ]
        },
        {
          "name": "stdout",
          "output_type": "stream",
          "text": [
            "\n",
            "\u001b[1m> Finished chain.\u001b[0m\n",
            "Generated Cypher:\n",
            "\u001b[32;1m\u001b[1;3mMATCH (v:Virus)-[:CAUSES]->(s:Symptom)<-[:MENTIONS_SYMPTOM]-(a:Article)-[:MENTIONS_TRANSMISSION]->(t:Transmission) RETURN DISTINCT t.method\u001b[0m\n",
            "Full Context:\n",
            "\u001b[32;1m\u001b[1;3m[{'t.method': 'respiratory'}, {'t.method': 'Skin-to-Skin'}, {'t.method': 'close contact'}, {'t.method': 'Contaminated Objects'}, {'t.method': 'Respiratory'}, {'t.method': 'skin-to-skin'}, {'t.method': 'contaminated objects'}, {'t.method': 'airborne'}]\u001b[0m\n"
          ]
        },
        {
          "name": "stderr",
          "output_type": "stream",
          "text": [
            "\r 84%|████████▍ | 84/100 [06:16<01:00,  3.77s/it]WARNING:langchain_core.callbacks.manager:Error in StdOutCallbackHandler.on_chain_start callback: AttributeError(\"'NoneType' object has no attribute 'get'\")\n"
          ]
        },
        {
          "name": "stdout",
          "output_type": "stream",
          "text": [
            "\n",
            "\u001b[1m> Finished chain.\u001b[0m\n"
          ]
        },
        {
          "name": "stderr",
          "output_type": "stream",
          "text": [
            "\r 85%|████████▌ | 85/100 [06:18<00:50,  3.37s/it]WARNING:langchain_core.callbacks.manager:Error in StdOutCallbackHandler.on_chain_start callback: AttributeError(\"'NoneType' object has no attribute 'get'\")\n"
          ]
        },
        {
          "name": "stdout",
          "output_type": "stream",
          "text": [
            "Generated Cypher:\n",
            "\u001b[32;1m\u001b[1;3mMATCH (o:Organization)-[:INVOLVED_IN]->(v:Virus)-[:AFFECTS]->(l:Location) WHERE l.country IS NULL OR EXISTS((l2:Location)<-[:AFFECTS]-(v)) WITH o, COUNT(DISTINCT l) AS locationCount WHERE locationCount > 1 RETURN o.name\u001b[0m\n",
            "Generated Cypher:\n",
            "\u001b[32;1m\u001b[1;3mMATCH (o:Organization {name: 'WHO'})<-[:PUBLISHED_BY]-(a:Article)-[:MENTIONS_SYMPTOM]->(s:Symptom) RETURN s.name\u001b[0m\n",
            "Full Context:\n",
            "\u001b[32;1m\u001b[1;3m[{'s.name': 'Fever'}, {'s.name': 'Muscle Aches'}, {'s.name': 'Swollen Lymph Nodes'}, {'s.name': 'Fever'}, {'s.name': 'Fever'}, {'s.name': 'fever'}, {'s.name': 'muscle aches'}, {'s.name': 'headache'}, {'s.name': 'swollen lymph nodes'}, {'s.name': 'Fever'}]\u001b[0m\n"
          ]
        },
        {
          "name": "stderr",
          "output_type": "stream",
          "text": [
            "\r 86%|████████▌ | 86/100 [06:23<00:51,  3.71s/it]WARNING:langchain_core.callbacks.manager:Error in StdOutCallbackHandler.on_chain_start callback: AttributeError(\"'NoneType' object has no attribute 'get'\")\n"
          ]
        },
        {
          "name": "stdout",
          "output_type": "stream",
          "text": [
            "\n",
            "\u001b[1m> Finished chain.\u001b[0m\n",
            "Generated Cypher:\n",
            "\u001b[32;1m\u001b[1;3m\u001b[0m\n",
            "Full Context:\n",
            "\u001b[32;1m\u001b[1;3m[]\u001b[0m\n"
          ]
        },
        {
          "name": "stderr",
          "output_type": "stream",
          "text": [
            "\r 87%|████████▋ | 87/100 [06:27<00:50,  3.92s/it]WARNING:langchain_core.callbacks.manager:Error in StdOutCallbackHandler.on_chain_start callback: AttributeError(\"'NoneType' object has no attribute 'get'\")\n"
          ]
        },
        {
          "name": "stdout",
          "output_type": "stream",
          "text": [
            "\n",
            "\u001b[1m> Finished chain.\u001b[0m\n",
            "Generated Cypher:\n",
            "\u001b[32;1m\u001b[1;3mMATCH (a:Article {label: 'true'})-[:ABOUT_VIRUS]->(v:Virus) RETURN v.name\u001b[0m\n",
            "Full Context:\n",
            "\u001b[32;1m\u001b[1;3m[{'v.name': 'Mpox, Monkeypox'}, {'v.name': 'Mpox, Monkeypox'}, {'v.name': 'Mpox'}, {'v.name': 'Mpox, COVID-19'}, {'v.name': 'Monkeypox'}, {'v.name': 'Mpox'}, {'v.name': 'Mpox, Monkeypox'}, {'v.name': 'Mpox'}, {'v.name': 'Mpox'}, {'v.name': 'Mpox, Monkeypox'}]\u001b[0m\n"
          ]
        },
        {
          "name": "stderr",
          "output_type": "stream",
          "text": [
            "\r 88%|████████▊ | 88/100 [06:32<00:49,  4.09s/it]WARNING:langchain_core.callbacks.manager:Error in StdOutCallbackHandler.on_chain_start callback: AttributeError(\"'NoneType' object has no attribute 'get'\")\n"
          ]
        },
        {
          "name": "stdout",
          "output_type": "stream",
          "text": [
            "\n",
            "\u001b[1m> Finished chain.\u001b[0m\n",
            "Generated Cypher:\n",
            "\u001b[32;1m\u001b[1;3mMATCH (a:Article {label: \"fake\"})-[:ABOUT_VIRUS]->(v:Virus) RETURN v.name\u001b[0m\n",
            "Full Context:\n",
            "\u001b[32;1m\u001b[1;3m[]\u001b[0m\n"
          ]
        },
        {
          "name": "stderr",
          "output_type": "stream",
          "text": [
            "\r 89%|████████▉ | 89/100 [06:36<00:46,  4.22s/it]WARNING:langchain_core.callbacks.manager:Error in StdOutCallbackHandler.on_chain_start callback: AttributeError(\"'NoneType' object has no attribute 'get'\")\n"
          ]
        },
        {
          "name": "stdout",
          "output_type": "stream",
          "text": [
            "\n",
            "\u001b[1m> Finished chain.\u001b[0m\n",
            "Generated Cypher:\n",
            "\u001b[32;1m\u001b[1;3mMATCH (a:Article)-[:MENTIONS_SYMPTOM]->(s:Symptom), (v:Virus)-[:AFFECTS]->(l:Location {country: 'Europe'}), (a)-[:ABOUT_VIRUS]->(v) RETURN s.name AS symptom, COUNT(*) AS count ORDER BY count DESC LIMIT 10\u001b[0m\n",
            "Full Context:\n",
            "\u001b[32;1m\u001b[1;3m[]\u001b[0m\n"
          ]
        },
        {
          "name": "stderr",
          "output_type": "stream",
          "text": [
            "\r 90%|█████████ | 90/100 [06:41<00:43,  4.31s/it]WARNING:langchain_core.callbacks.manager:Error in StdOutCallbackHandler.on_chain_start callback: AttributeError(\"'NoneType' object has no attribute 'get'\")\n"
          ]
        },
        {
          "name": "stdout",
          "output_type": "stream",
          "text": [
            "\n",
            "\u001b[1m> Finished chain.\u001b[0m\n",
            "Generated Cypher:\n",
            "\u001b[32;1m\u001b[1;3mMATCH (a:Article {label: \"fact\"})-[:ABOUT_VIRUS]->(v:Virus) RETURN v.name\u001b[0m\n",
            "Full Context:\n",
            "\u001b[32;1m\u001b[1;3m[]\u001b[0m\n"
          ]
        },
        {
          "name": "stderr",
          "output_type": "stream",
          "text": [
            "\r 91%|█████████ | 91/100 [06:45<00:39,  4.35s/it]WARNING:langchain_core.callbacks.manager:Error in StdOutCallbackHandler.on_chain_start callback: AttributeError(\"'NoneType' object has no attribute 'get'\")\n"
          ]
        },
        {
          "name": "stdout",
          "output_type": "stream",
          "text": [
            "\n",
            "\u001b[1m> Finished chain.\u001b[0m\n",
            "Generated Cypher:\n",
            "\u001b[32;1m\u001b[1;3mMATCH (v:Virus)-[:AFFECTS]->(mex:Location {country: \"Mexico\"}),(v)-[:AFFECTS]->(uk:Location {country: \"United Kingdom\"}) RETURN v.name\u001b[0m\n",
            "Full Context:\n",
            "\u001b[32;1m\u001b[1;3m[]\u001b[0m\n"
          ]
        },
        {
          "name": "stderr",
          "output_type": "stream",
          "text": [
            "\r 92%|█████████▏| 92/100 [06:50<00:35,  4.39s/it]WARNING:langchain_core.callbacks.manager:Error in StdOutCallbackHandler.on_chain_start callback: AttributeError(\"'NoneType' object has no attribute 'get'\")\n"
          ]
        },
        {
          "name": "stdout",
          "output_type": "stream",
          "text": [
            "\n",
            "\u001b[1m> Finished chain.\u001b[0m\n"
          ]
        },
        {
          "name": "stderr",
          "output_type": "stream",
          "text": [
            "WARNING:neo4j.notifications:Received notification from DBMS server: {severity: WARNING} {code: Neo.ClientNotification.Statement.UnknownPropertyKeyWarning} {category: UNRECOGNIZED} {title: The provided property key is not in the database} {description: One of the property names in your query is not available in the database, make sure you didn't misspell it or that the label is available when you run this statement in your application (the missing property name is: location)} {position: line: 1, column: 87, offset: 86} for query: 'MATCH (v:Virus)-[:AFFECTS]->(l:Location)<-[:AFFECTS]-(v2:Virus) WHERE l.country <> v2.location.country WITH v, l, v2 MATCH (o:Organization)-[:INVOLVED_IN]->(v) RETURN DISTINCT o.name'\n"
          ]
        },
        {
          "name": "stdout",
          "output_type": "stream",
          "text": [
            "Generated Cypher:\n",
            "\u001b[32;1m\u001b[1;3mMATCH (v:Virus)-[:AFFECTS]->(l:Location)<-[:AFFECTS]-(v2:Virus) WHERE l.country <> v2.location.country WITH v, l, v2 MATCH (o:Organization)-[:INVOLVED_IN]->(v) RETURN DISTINCT o.name\u001b[0m\n",
            "Full Context:\n",
            "\u001b[32;1m\u001b[1;3m[]\u001b[0m\n"
          ]
        },
        {
          "name": "stderr",
          "output_type": "stream",
          "text": [
            "\r 93%|█████████▎| 93/100 [06:54<00:30,  4.43s/it]WARNING:langchain_core.callbacks.manager:Error in StdOutCallbackHandler.on_chain_start callback: AttributeError(\"'NoneType' object has no attribute 'get'\")\n"
          ]
        },
        {
          "name": "stdout",
          "output_type": "stream",
          "text": [
            "\n",
            "\u001b[1m> Finished chain.\u001b[0m\n",
            "Generated Cypher:\n",
            "\u001b[32;1m\u001b[1;3mMATCH (v:Virus)-[:AFFECTS]->(l:Location)<-[:AFFECTS]-(v2:Virus) WHERE l.country = 'Africa' AND (v = v2 OR v <> v2) WITH v, collect(DISTINCT l) as locations MATCH (v)-[:AFFECTS]->(l2:Location) WHERE l2.country = 'Asia' RETURN DISTINCT v.name\u001b[0m\n",
            "Full Context:\n",
            "\u001b[32;1m\u001b[1;3m[]\u001b[0m\n"
          ]
        },
        {
          "name": "stderr",
          "output_type": "stream",
          "text": [
            "\r 94%|█████████▍| 94/100 [06:59<00:26,  4.49s/it]WARNING:langchain_core.callbacks.manager:Error in StdOutCallbackHandler.on_chain_start callback: AttributeError(\"'NoneType' object has no attribute 'get'\")\n"
          ]
        },
        {
          "name": "stdout",
          "output_type": "stream",
          "text": [
            "\n",
            "\u001b[1m> Finished chain.\u001b[0m\n"
          ]
        },
        {
          "name": "stderr",
          "output_type": "stream",
          "text": [
            "\r 95%|█████████▌| 95/100 [07:01<00:19,  3.84s/it]WARNING:langchain_core.callbacks.manager:Error in StdOutCallbackHandler.on_chain_start callback: AttributeError(\"'NoneType' object has no attribute 'get'\")\n"
          ]
        },
        {
          "name": "stdout",
          "output_type": "stream",
          "text": [
            "Generated Cypher:\n",
            "\u001b[32;1m\u001b[1;3mMATCH (v:Virus)-[:CAUSES]->(s1:Symptom {name: \"neurological\"}), (v)-[:CAUSES]->(s2:Symptom {name: \"gastrointestinal\"})\u001b[0m\n",
            "Generated Cypher:\n",
            "\u001b[32;1m\u001b[1;3mMATCH (a:Article)-[:MENTIONS_LOCATION]->(l1:Location {name: 'Brazil'}), (a:Article)-[:MENTIONS_LOCATION]->(l2:Location {name: 'United States'}), (v:Virus)-[:AFFECTS]->(l1), (v:Virus)-[:AFFECTS]->(l2), (v)-[:CAUSES]->(s:Symptom), (v)-[:AFFECTS]->(l1), (v)-[:AFFECTS]->(l2), (v)-[:SPREADS_BY]->(t:Transmission), (o:Organization)-[:INVOLVED_IN]->(v), (a2:Article)-[:ABOUT_VIRUS]->(v) RETURN DISTINCT a2\u001b[0m\n",
            "Full Context:\n",
            "\u001b[32;1m\u001b[1;3m[]\u001b[0m\n"
          ]
        },
        {
          "name": "stderr",
          "output_type": "stream",
          "text": [
            "\r 96%|█████████▌| 96/100 [07:06<00:16,  4.21s/it]WARNING:langchain_core.callbacks.manager:Error in StdOutCallbackHandler.on_chain_start callback: AttributeError(\"'NoneType' object has no attribute 'get'\")\n"
          ]
        },
        {
          "name": "stdout",
          "output_type": "stream",
          "text": [
            "\n",
            "\u001b[1m> Finished chain.\u001b[0m\n",
            "Generated Cypher:\n",
            "\u001b[32;1m\u001b[1;3m\u001b[0m\n",
            "Full Context:\n",
            "\u001b[32;1m\u001b[1;3m[]\u001b[0m\n"
          ]
        },
        {
          "name": "stderr",
          "output_type": "stream",
          "text": [
            "\r 97%|█████████▋| 97/100 [07:11<00:12,  4.28s/it]WARNING:langchain_core.callbacks.manager:Error in StdOutCallbackHandler.on_chain_start callback: AttributeError(\"'NoneType' object has no attribute 'get'\")\n"
          ]
        },
        {
          "name": "stdout",
          "output_type": "stream",
          "text": [
            "\n",
            "\u001b[1m> Finished chain.\u001b[0m\n",
            "Generated Cypher:\n",
            "\u001b[32;1m\u001b[1;3mMATCH (v:Virus)-[:CAUSES]->(s:Symptom)<-[:MENTIONS_SYMPTOM]-(a:Article)-[:MENTIONS_SYMPTOM]->(s2:Symptom) WHERE s2.name =~ \"skin\" WITH v, s WHERE s.name =~ \"skin\" RETURN v.name\u001b[0m\n",
            "Full Context:\n",
            "\u001b[32;1m\u001b[1;3m[]\u001b[0m\n"
          ]
        },
        {
          "name": "stderr",
          "output_type": "stream",
          "text": [
            "\r 98%|█████████▊| 98/100 [07:15<00:08,  4.37s/it]WARNING:langchain_core.callbacks.manager:Error in StdOutCallbackHandler.on_chain_start callback: AttributeError(\"'NoneType' object has no attribute 'get'\")\n"
          ]
        },
        {
          "name": "stdout",
          "output_type": "stream",
          "text": [
            "\n",
            "\u001b[1m> Finished chain.\u001b[0m\n",
            "Generated Cypher:\n",
            "\u001b[32;1m\u001b[1;3mMATCH (v:Virus)-[:SPREADS_BY]->(t:Transmission {method: 'airborne'}), (v)-[:CAUSES]->(s:Symptom {name: 'respiratory'}) RETURN v.name\u001b[0m\n",
            "Full Context:\n",
            "\u001b[32;1m\u001b[1;3m[]\u001b[0m\n"
          ]
        },
        {
          "name": "stderr",
          "output_type": "stream",
          "text": [
            "\r 99%|█████████▉| 99/100 [07:20<00:04,  4.40s/it]WARNING:langchain_core.callbacks.manager:Error in StdOutCallbackHandler.on_chain_start callback: AttributeError(\"'NoneType' object has no attribute 'get'\")\n"
          ]
        },
        {
          "name": "stdout",
          "output_type": "stream",
          "text": [
            "\n",
            "\u001b[1m> Finished chain.\u001b[0m\n",
            "Generated Cypher:\n",
            "\u001b[32;1m\u001b[1;3mMATCH (l1:Location {name: \"Africa\"})<-[:AFFECTS]-(v:Virus)-[:CAUSES]->(s:Symptom)<-[:CAUSES]-(v2:Virus)-[:AFFECTS]->(l2:Location {name: \"South America\"}), (o:Organization)-[:INVOLVED_IN]->(v2) RETURN o.name\u001b[0m\n",
            "Full Context:\n",
            "\u001b[32;1m\u001b[1;3m[]\u001b[0m\n"
          ]
        },
        {
          "name": "stderr",
          "output_type": "stream",
          "text": [
            "100%|██████████| 100/100 [07:24<00:00,  4.45s/it]"
          ]
        },
        {
          "name": "stdout",
          "output_type": "stream",
          "text": [
            "\n",
            "\u001b[1m> Finished chain.\u001b[0m\n"
          ]
        },
        {
          "name": "stderr",
          "output_type": "stream",
          "text": [
            "\n"
          ]
        }
      ],
      "source": [
        "# Assuming generate_code and data_filtered are already defined\n",
        "from tqdm import tqdm\n",
        "import pandas as pd\n",
        "import evaluate\n",
        "def compare_results_first(x1,x2):\n",
        "  if x1.lower()==x2.lower():\n",
        "    return 1\n",
        "  else:\n",
        "    return 0\n",
        "\n",
        "# Initialize tqdm to track progress\n",
        "tqdm.pandas()\n",
        "\n",
        "data_copy = data.copy()\n",
        "model = \"llama8b\"\n",
        "\n",
        "i=0\n",
        "band = [20,40,60,80]\n",
        "\n",
        "# Iterate over each row with progress tracking using iterrows()\n",
        "for index, row in tqdm(data_copy.iterrows(), total=len(data_copy)):\n",
        "    # Apply the generate_code function to the 'query' column\n",
        "    query_result, retrieve_data = generate_code(row[\"question\"])\n",
        "    # Assign the results to the corresponding columns\n",
        "    data_copy.at[index, f\"answer_{model}\"] = query_result\n",
        "    data_copy.at[index, f\"retrieve_data_{model}\"] = retrieve_data\n",
        "    if i in band:\n",
        "      data_copy.to_csv(f\"partial_with_answers_{model}_tmp_{TEMPERATURE_MODEL}.csv\", index=False)\n",
        "      i+=1\n",
        "    else:\n",
        "      i+=1\n",
        "\n"
      ]
    },
    {
      "cell_type": "code",
      "execution_count": null,
      "metadata": {
        "id": "j9oiKHNKDDtA"
      },
      "outputs": [],
      "source": [
        "\n",
        "def compare_cypher_queries(true_query: str, generated_query: str) -> float:\n",
        "\n",
        "    # Load the BLEU metric from the evaluate library\n",
        "    bleu_metric = evaluate.load(\"bleu\")\n",
        "\n",
        "    # Prepare queries in list format for BLEU evaluation\n",
        "    references = [true_query]  # Reference should be a list of strings (not tokenized)\n",
        "    predictions = [generated_query]  # Prediction should also be a string\n",
        "\n",
        "    try:\n",
        "      # Calculate the BLEU score\n",
        "      result = bleu_metric.compute(predictions=predictions, references=references)\n",
        "    except:\n",
        "      return 0.0\n",
        "    # Return the BLEU score\n",
        "    return result['bleu']\n",
        "def compare_results_first(x1,x2):\n",
        "  if x1.lower()==x2.lower():\n",
        "    return 1\n",
        "  else:\n",
        "    return 0"
      ]
    },
    {
      "cell_type": "code",
      "execution_count": null,
      "metadata": {
        "id": "Hn38VusWC5Rj"
      },
      "outputs": [],
      "source": [
        "data_copy[f\"answer_{model}\"] = data_copy[f\"answer_{model}\"].str.replace(\"cypher\",\"\")\n",
        "data_copy[f\"answer_{model}\"] = data_copy[f\"answer_{model}\"].str.replace(\"\\n\",\"\")\n",
        "\n",
        "data_copy[f'BLEU_score_{model}'] = data_copy.apply(lambda row: compare_cypher_queries(str(row['query']), str(row[f\"answer_{model}\"])), axis=1)\n",
        "data_copy[f'SQ_score_{model}'] = data_copy.apply(lambda row: compare_results_first(str(row['query']), str(row[f\"answer_{model}\"])), axis=1)\n",
        "\n",
        "data_copy.to_csv(f\"data_with_answers_with_comparisson_{model}_tmp_{TEMPERATURE_MODEL}.csv\", index=False)\n"
      ]
    },
    {
      "cell_type": "code",
      "execution_count": null,
      "metadata": {
        "colab": {
          "base_uri": "https://localhost:8080/",
          "height": 1000
        },
        "id": "_waZ8j0HCwrB",
        "outputId": "abf43051-da3b-4df7-ca30-1ca8f930be5d"
      },
      "outputs": [
        {
          "data": {
            "application/vnd.google.colaboratory.intrinsic+json": {
              "summary": "{\n  \"name\": \"data_copy\",\n  \"rows\": 100,\n  \"fields\": [\n    {\n      \"column\": \"question\",\n      \"properties\": {\n        \"dtype\": \"string\",\n        \"num_unique_values\": 99,\n        \"samples\": [\n          \"Which organizations publish articles about Mpox in Mexico?\",\n          \"Which symptoms are related to viruses that affect Mexico?\",\n          \"Which viruses are responsible for fever and rash symptoms in Mexico?\"\n        ],\n        \"semantic_type\": \"\",\n        \"description\": \"\"\n      }\n    },\n    {\n      \"column\": \"query\",\n      \"properties\": {\n        \"dtype\": \"string\",\n        \"num_unique_values\": 98,\n        \"samples\": [\n          \"MATCH (s:Symptom) WHERE s.name CONTAINS 'Respiratory' OR s.name CONTAINS 'Cardiovascular' WITH s MATCH (v:Virus)-[:CAUSES]->(s) RETURN v.name\",\n          \"MATCH (a:Article)-[:MENTIONS_SYMPTOM]->(s:Symptom) RETURN a.url, COUNT(s) AS symptom_count\",\n          \"MATCH (v:Virus)-[:CAUSES]->(s:Symptom), (v)-[:AFFECTS]->(l:Location {name: 'Mexico'}) WHERE s.name IN ['Fever', 'Rash'] RETURN DISTINCT v.name\"\n        ],\n        \"semantic_type\": \"\",\n        \"description\": \"\"\n      }\n    },\n    {\n      \"column\": \"answer_gemma7b\",\n      \"properties\": {\n        \"dtype\": \"string\",\n        \"num_unique_values\": 62,\n        \"samples\": [\n          \"MATCH (symptom:Symptom {name: 'Cardiovascular'})<-[:MENTIONS_SYMPTOM]-(article)RETURN article\",\n          \"MATCH (v:Virus)-[:AFFECTS]->(l:Location) WHERE l.name IN ['Africa', 'Asia'] RETURN v\",\n          \"MATCH (v:Virus) RETURN v.name\"\n        ],\n        \"semantic_type\": \"\",\n        \"description\": \"\"\n      }\n    },\n    {\n      \"column\": \"retrieve_data_gemma7b\",\n      \"properties\": {\n        \"dtype\": \"number\",\n        \"std\": 0.4793724854411022,\n        \"min\": 0.0,\n        \"max\": 1.0,\n        \"num_unique_values\": 2,\n        \"samples\": [\n          0.0,\n          1.0\n        ],\n        \"semantic_type\": \"\",\n        \"description\": \"\"\n      }\n    },\n    {\n      \"column\": \"BLEU_score_gemma7b\",\n      \"properties\": {\n        \"dtype\": \"number\",\n        \"std\": 0.3285385717916831,\n        \"min\": 0.0,\n        \"max\": 1.0,\n        \"num_unique_values\": 54,\n        \"samples\": [\n          0.48583818061246786,\n          0.3714689372579758\n        ],\n        \"semantic_type\": \"\",\n        \"description\": \"\"\n      }\n    },\n    {\n      \"column\": \"SQ_score_gemma7b\",\n      \"properties\": {\n        \"dtype\": \"number\",\n        \"std\": 0,\n        \"min\": 0,\n        \"max\": 1,\n        \"num_unique_values\": 2,\n        \"samples\": [\n          0,\n          1\n        ],\n        \"semantic_type\": \"\",\n        \"description\": \"\"\n      }\n    }\n  ]\n}",
              "type": "dataframe",
              "variable_name": "data_copy"
            },
            "text/html": [
              "\n",
              "  <div id=\"df-6f8b0266-7559-4972-aae9-1568fb0bf7a7\" class=\"colab-df-container\">\n",
              "    <div>\n",
              "<style scoped>\n",
              "    .dataframe tbody tr th:only-of-type {\n",
              "        vertical-align: middle;\n",
              "    }\n",
              "\n",
              "    .dataframe tbody tr th {\n",
              "        vertical-align: top;\n",
              "    }\n",
              "\n",
              "    .dataframe thead th {\n",
              "        text-align: right;\n",
              "    }\n",
              "</style>\n",
              "<table border=\"1\" class=\"dataframe\">\n",
              "  <thead>\n",
              "    <tr style=\"text-align: right;\">\n",
              "      <th></th>\n",
              "      <th>question</th>\n",
              "      <th>query</th>\n",
              "      <th>answer_gemma7b</th>\n",
              "      <th>retrieve_data_gemma7b</th>\n",
              "      <th>BLEU_score_gemma7b</th>\n",
              "      <th>SQ_score_gemma7b</th>\n",
              "    </tr>\n",
              "  </thead>\n",
              "  <tbody>\n",
              "    <tr>\n",
              "      <th>0</th>\n",
              "      <td>What are all the viruses mentioned in the data...</td>\n",
              "      <td>MATCH (v:Virus) RETURN v.name</td>\n",
              "      <td>MATCH (v:Virus) RETURN v.name</td>\n",
              "      <td>1.0</td>\n",
              "      <td>1.000000</td>\n",
              "      <td>1</td>\n",
              "    </tr>\n",
              "    <tr>\n",
              "      <th>1</th>\n",
              "      <td>Which symptoms are caused by the virus Mpox?</td>\n",
              "      <td>MATCH (v:Virus {name: 'Mpox'})-[:CAUSES]-&gt;(s:S...</td>\n",
              "      <td>MATCH (virus:Virus {name: 'Mpox'})-[:CAUSES]-&gt;...</td>\n",
              "      <td>1.0</td>\n",
              "      <td>0.644351</td>\n",
              "      <td>0</td>\n",
              "    </tr>\n",
              "    <tr>\n",
              "      <th>2</th>\n",
              "      <td>What locations are affected by Mpox?</td>\n",
              "      <td>MATCH (v:Virus {name: 'Mpox'})-[:AFFECTS]-&gt;(l:...</td>\n",
              "      <td>MATCH (v:Virus {name: 'Mpox'})-[:AFFECTS]-&gt;(l:...</td>\n",
              "      <td>1.0</td>\n",
              "      <td>0.862303</td>\n",
              "      <td>0</td>\n",
              "    </tr>\n",
              "    <tr>\n",
              "      <th>3</th>\n",
              "      <td>What transmission methods are related to Mpox?</td>\n",
              "      <td>MATCH (v:Virus {name: 'Mpox'})-[:SPREADS_BY]-&gt;...</td>\n",
              "      <td>MATCH (v:Virus {name: 'Mpox'})-[:SPREADS_BY]-&gt;...</td>\n",
              "      <td>1.0</td>\n",
              "      <td>1.000000</td>\n",
              "      <td>0</td>\n",
              "    </tr>\n",
              "    <tr>\n",
              "      <th>4</th>\n",
              "      <td>Which organizations are involved in Mpox?</td>\n",
              "      <td>MATCH (v:Virus {name: 'Mpox'})&lt;-[:INVOLVED_IN]...</td>\n",
              "      <td>MATCH (v:Virus {name: 'Mpox'})&lt;-[:INVOLVED_IN]...</td>\n",
              "      <td>1.0</td>\n",
              "      <td>1.000000</td>\n",
              "      <td>0</td>\n",
              "    </tr>\n",
              "    <tr>\n",
              "      <th>...</th>\n",
              "      <td>...</td>\n",
              "      <td>...</td>\n",
              "      <td>...</td>\n",
              "      <td>...</td>\n",
              "      <td>...</td>\n",
              "      <td>...</td>\n",
              "    </tr>\n",
              "    <tr>\n",
              "      <th>95</th>\n",
              "      <td>Which articles mention viruses that affect bot...</td>\n",
              "      <td>MATCH (a:Article)-[:MENTIONS_LOCATION]-&gt;(l:Loc...</td>\n",
              "      <td></td>\n",
              "      <td>0.0</td>\n",
              "      <td>0.000000</td>\n",
              "      <td>0</td>\n",
              "    </tr>\n",
              "    <tr>\n",
              "      <th>96</th>\n",
              "      <td>Which viruses are responsible for fever and ra...</td>\n",
              "      <td>MATCH (v:Virus)-[:CAUSES]-&gt;(s:Symptom), (v)-[:...</td>\n",
              "      <td>MATCH (virus:Virus)-[:CAUSES]-&gt;(symptom:Sympto...</td>\n",
              "      <td>0.0</td>\n",
              "      <td>0.320604</td>\n",
              "      <td>0</td>\n",
              "    </tr>\n",
              "    <tr>\n",
              "      <th>97</th>\n",
              "      <td>Which viruses cause symptoms related to skin i...</td>\n",
              "      <td>MATCH (v:Virus)-[:CAUSES]-&gt;(s:Symptom) WHERE s...</td>\n",
              "      <td>MATCH (v:Virus)-[:CAUSES]-&gt;(s:Symptom) WHERE s...</td>\n",
              "      <td>0.0</td>\n",
              "      <td>0.660109</td>\n",
              "      <td>0</td>\n",
              "    </tr>\n",
              "    <tr>\n",
              "      <th>98</th>\n",
              "      <td>Which viruses are spread by airborne transmiss...</td>\n",
              "      <td>MATCH (v:Virus)-[:SPREADS_BY]-&gt;(t:Transmission...</td>\n",
              "      <td>MATCH (v:Virus)-[:SPREADS_BY]-&gt;(t:Transmission...</td>\n",
              "      <td>0.0</td>\n",
              "      <td>0.598491</td>\n",
              "      <td>0</td>\n",
              "    </tr>\n",
              "    <tr>\n",
              "      <th>99</th>\n",
              "      <td>Which organizations are involved in viruses af...</td>\n",
              "      <td>MATCH (o:Organization)-[:INVOLVED_IN]-&gt;(v:Viru...</td>\n",
              "      <td>MATCH (virus)-[:AFFECTS]-&gt;(location)WHERE loca...</td>\n",
              "      <td>0.0</td>\n",
              "      <td>0.434871</td>\n",
              "      <td>0</td>\n",
              "    </tr>\n",
              "  </tbody>\n",
              "</table>\n",
              "<p>100 rows × 6 columns</p>\n",
              "</div>\n",
              "    <div class=\"colab-df-buttons\">\n",
              "\n",
              "  <div class=\"colab-df-container\">\n",
              "    <button class=\"colab-df-convert\" onclick=\"convertToInteractive('df-6f8b0266-7559-4972-aae9-1568fb0bf7a7')\"\n",
              "            title=\"Convert this dataframe to an interactive table.\"\n",
              "            style=\"display:none;\">\n",
              "\n",
              "  <svg xmlns=\"http://www.w3.org/2000/svg\" height=\"24px\" viewBox=\"0 -960 960 960\">\n",
              "    <path d=\"M120-120v-720h720v720H120Zm60-500h600v-160H180v160Zm220 220h160v-160H400v160Zm0 220h160v-160H400v160ZM180-400h160v-160H180v160Zm440 0h160v-160H620v160ZM180-180h160v-160H180v160Zm440 0h160v-160H620v160Z\"/>\n",
              "  </svg>\n",
              "    </button>\n",
              "\n",
              "  <style>\n",
              "    .colab-df-container {\n",
              "      display:flex;\n",
              "      gap: 12px;\n",
              "    }\n",
              "\n",
              "    .colab-df-convert {\n",
              "      background-color: #E8F0FE;\n",
              "      border: none;\n",
              "      border-radius: 50%;\n",
              "      cursor: pointer;\n",
              "      display: none;\n",
              "      fill: #1967D2;\n",
              "      height: 32px;\n",
              "      padding: 0 0 0 0;\n",
              "      width: 32px;\n",
              "    }\n",
              "\n",
              "    .colab-df-convert:hover {\n",
              "      background-color: #E2EBFA;\n",
              "      box-shadow: 0px 1px 2px rgba(60, 64, 67, 0.3), 0px 1px 3px 1px rgba(60, 64, 67, 0.15);\n",
              "      fill: #174EA6;\n",
              "    }\n",
              "\n",
              "    .colab-df-buttons div {\n",
              "      margin-bottom: 4px;\n",
              "    }\n",
              "\n",
              "    [theme=dark] .colab-df-convert {\n",
              "      background-color: #3B4455;\n",
              "      fill: #D2E3FC;\n",
              "    }\n",
              "\n",
              "    [theme=dark] .colab-df-convert:hover {\n",
              "      background-color: #434B5C;\n",
              "      box-shadow: 0px 1px 3px 1px rgba(0, 0, 0, 0.15);\n",
              "      filter: drop-shadow(0px 1px 2px rgba(0, 0, 0, 0.3));\n",
              "      fill: #FFFFFF;\n",
              "    }\n",
              "  </style>\n",
              "\n",
              "    <script>\n",
              "      const buttonEl =\n",
              "        document.querySelector('#df-6f8b0266-7559-4972-aae9-1568fb0bf7a7 button.colab-df-convert');\n",
              "      buttonEl.style.display =\n",
              "        google.colab.kernel.accessAllowed ? 'block' : 'none';\n",
              "\n",
              "      async function convertToInteractive(key) {\n",
              "        const element = document.querySelector('#df-6f8b0266-7559-4972-aae9-1568fb0bf7a7');\n",
              "        const dataTable =\n",
              "          await google.colab.kernel.invokeFunction('convertToInteractive',\n",
              "                                                    [key], {});\n",
              "        if (!dataTable) return;\n",
              "\n",
              "        const docLinkHtml = 'Like what you see? Visit the ' +\n",
              "          '<a target=\"_blank\" href=https://colab.research.google.com/notebooks/data_table.ipynb>data table notebook</a>'\n",
              "          + ' to learn more about interactive tables.';\n",
              "        element.innerHTML = '';\n",
              "        dataTable['output_type'] = 'display_data';\n",
              "        await google.colab.output.renderOutput(dataTable, element);\n",
              "        const docLink = document.createElement('div');\n",
              "        docLink.innerHTML = docLinkHtml;\n",
              "        element.appendChild(docLink);\n",
              "      }\n",
              "    </script>\n",
              "  </div>\n",
              "\n",
              "\n",
              "<div id=\"df-9d303381-298b-4d82-b6e2-04b54631a7f9\">\n",
              "  <button class=\"colab-df-quickchart\" onclick=\"quickchart('df-9d303381-298b-4d82-b6e2-04b54631a7f9')\"\n",
              "            title=\"Suggest charts\"\n",
              "            style=\"display:none;\">\n",
              "\n",
              "<svg xmlns=\"http://www.w3.org/2000/svg\" height=\"24px\"viewBox=\"0 0 24 24\"\n",
              "     width=\"24px\">\n",
              "    <g>\n",
              "        <path d=\"M19 3H5c-1.1 0-2 .9-2 2v14c0 1.1.9 2 2 2h14c1.1 0 2-.9 2-2V5c0-1.1-.9-2-2-2zM9 17H7v-7h2v7zm4 0h-2V7h2v10zm4 0h-2v-4h2v4z\"/>\n",
              "    </g>\n",
              "</svg>\n",
              "  </button>\n",
              "\n",
              "<style>\n",
              "  .colab-df-quickchart {\n",
              "      --bg-color: #E8F0FE;\n",
              "      --fill-color: #1967D2;\n",
              "      --hover-bg-color: #E2EBFA;\n",
              "      --hover-fill-color: #174EA6;\n",
              "      --disabled-fill-color: #AAA;\n",
              "      --disabled-bg-color: #DDD;\n",
              "  }\n",
              "\n",
              "  [theme=dark] .colab-df-quickchart {\n",
              "      --bg-color: #3B4455;\n",
              "      --fill-color: #D2E3FC;\n",
              "      --hover-bg-color: #434B5C;\n",
              "      --hover-fill-color: #FFFFFF;\n",
              "      --disabled-bg-color: #3B4455;\n",
              "      --disabled-fill-color: #666;\n",
              "  }\n",
              "\n",
              "  .colab-df-quickchart {\n",
              "    background-color: var(--bg-color);\n",
              "    border: none;\n",
              "    border-radius: 50%;\n",
              "    cursor: pointer;\n",
              "    display: none;\n",
              "    fill: var(--fill-color);\n",
              "    height: 32px;\n",
              "    padding: 0;\n",
              "    width: 32px;\n",
              "  }\n",
              "\n",
              "  .colab-df-quickchart:hover {\n",
              "    background-color: var(--hover-bg-color);\n",
              "    box-shadow: 0 1px 2px rgba(60, 64, 67, 0.3), 0 1px 3px 1px rgba(60, 64, 67, 0.15);\n",
              "    fill: var(--button-hover-fill-color);\n",
              "  }\n",
              "\n",
              "  .colab-df-quickchart-complete:disabled,\n",
              "  .colab-df-quickchart-complete:disabled:hover {\n",
              "    background-color: var(--disabled-bg-color);\n",
              "    fill: var(--disabled-fill-color);\n",
              "    box-shadow: none;\n",
              "  }\n",
              "\n",
              "  .colab-df-spinner {\n",
              "    border: 2px solid var(--fill-color);\n",
              "    border-color: transparent;\n",
              "    border-bottom-color: var(--fill-color);\n",
              "    animation:\n",
              "      spin 1s steps(1) infinite;\n",
              "  }\n",
              "\n",
              "  @keyframes spin {\n",
              "    0% {\n",
              "      border-color: transparent;\n",
              "      border-bottom-color: var(--fill-color);\n",
              "      border-left-color: var(--fill-color);\n",
              "    }\n",
              "    20% {\n",
              "      border-color: transparent;\n",
              "      border-left-color: var(--fill-color);\n",
              "      border-top-color: var(--fill-color);\n",
              "    }\n",
              "    30% {\n",
              "      border-color: transparent;\n",
              "      border-left-color: var(--fill-color);\n",
              "      border-top-color: var(--fill-color);\n",
              "      border-right-color: var(--fill-color);\n",
              "    }\n",
              "    40% {\n",
              "      border-color: transparent;\n",
              "      border-right-color: var(--fill-color);\n",
              "      border-top-color: var(--fill-color);\n",
              "    }\n",
              "    60% {\n",
              "      border-color: transparent;\n",
              "      border-right-color: var(--fill-color);\n",
              "    }\n",
              "    80% {\n",
              "      border-color: transparent;\n",
              "      border-right-color: var(--fill-color);\n",
              "      border-bottom-color: var(--fill-color);\n",
              "    }\n",
              "    90% {\n",
              "      border-color: transparent;\n",
              "      border-bottom-color: var(--fill-color);\n",
              "    }\n",
              "  }\n",
              "</style>\n",
              "\n",
              "  <script>\n",
              "    async function quickchart(key) {\n",
              "      const quickchartButtonEl =\n",
              "        document.querySelector('#' + key + ' button');\n",
              "      quickchartButtonEl.disabled = true;  // To prevent multiple clicks.\n",
              "      quickchartButtonEl.classList.add('colab-df-spinner');\n",
              "      try {\n",
              "        const charts = await google.colab.kernel.invokeFunction(\n",
              "            'suggestCharts', [key], {});\n",
              "      } catch (error) {\n",
              "        console.error('Error during call to suggestCharts:', error);\n",
              "      }\n",
              "      quickchartButtonEl.classList.remove('colab-df-spinner');\n",
              "      quickchartButtonEl.classList.add('colab-df-quickchart-complete');\n",
              "    }\n",
              "    (() => {\n",
              "      let quickchartButtonEl =\n",
              "        document.querySelector('#df-9d303381-298b-4d82-b6e2-04b54631a7f9 button');\n",
              "      quickchartButtonEl.style.display =\n",
              "        google.colab.kernel.accessAllowed ? 'block' : 'none';\n",
              "    })();\n",
              "  </script>\n",
              "</div>\n",
              "\n",
              "  <div id=\"id_e1cd0de2-5b52-4cc0-91d9-6bb6df02ed49\">\n",
              "    <style>\n",
              "      .colab-df-generate {\n",
              "        background-color: #E8F0FE;\n",
              "        border: none;\n",
              "        border-radius: 50%;\n",
              "        cursor: pointer;\n",
              "        display: none;\n",
              "        fill: #1967D2;\n",
              "        height: 32px;\n",
              "        padding: 0 0 0 0;\n",
              "        width: 32px;\n",
              "      }\n",
              "\n",
              "      .colab-df-generate:hover {\n",
              "        background-color: #E2EBFA;\n",
              "        box-shadow: 0px 1px 2px rgba(60, 64, 67, 0.3), 0px 1px 3px 1px rgba(60, 64, 67, 0.15);\n",
              "        fill: #174EA6;\n",
              "      }\n",
              "\n",
              "      [theme=dark] .colab-df-generate {\n",
              "        background-color: #3B4455;\n",
              "        fill: #D2E3FC;\n",
              "      }\n",
              "\n",
              "      [theme=dark] .colab-df-generate:hover {\n",
              "        background-color: #434B5C;\n",
              "        box-shadow: 0px 1px 3px 1px rgba(0, 0, 0, 0.15);\n",
              "        filter: drop-shadow(0px 1px 2px rgba(0, 0, 0, 0.3));\n",
              "        fill: #FFFFFF;\n",
              "      }\n",
              "    </style>\n",
              "    <button class=\"colab-df-generate\" onclick=\"generateWithVariable('data_copy')\"\n",
              "            title=\"Generate code using this dataframe.\"\n",
              "            style=\"display:none;\">\n",
              "\n",
              "  <svg xmlns=\"http://www.w3.org/2000/svg\" height=\"24px\"viewBox=\"0 0 24 24\"\n",
              "       width=\"24px\">\n",
              "    <path d=\"M7,19H8.4L18.45,9,17,7.55,7,17.6ZM5,21V16.75L18.45,3.32a2,2,0,0,1,2.83,0l1.4,1.43a1.91,1.91,0,0,1,.58,1.4,1.91,1.91,0,0,1-.58,1.4L9.25,21ZM18.45,9,17,7.55Zm-12,3A5.31,5.31,0,0,0,4.9,8.1,5.31,5.31,0,0,0,1,6.5,5.31,5.31,0,0,0,4.9,4.9,5.31,5.31,0,0,0,6.5,1,5.31,5.31,0,0,0,8.1,4.9,5.31,5.31,0,0,0,12,6.5,5.46,5.46,0,0,0,6.5,12Z\"/>\n",
              "  </svg>\n",
              "    </button>\n",
              "    <script>\n",
              "      (() => {\n",
              "      const buttonEl =\n",
              "        document.querySelector('#id_e1cd0de2-5b52-4cc0-91d9-6bb6df02ed49 button.colab-df-generate');\n",
              "      buttonEl.style.display =\n",
              "        google.colab.kernel.accessAllowed ? 'block' : 'none';\n",
              "\n",
              "      buttonEl.onclick = () => {\n",
              "        google.colab.notebook.generateWithVariable('data_copy');\n",
              "      }\n",
              "      })();\n",
              "    </script>\n",
              "  </div>\n",
              "\n",
              "    </div>\n",
              "  </div>\n"
            ],
            "text/plain": [
              "                                             question  \\\n",
              "0   What are all the viruses mentioned in the data...   \n",
              "1        Which symptoms are caused by the virus Mpox?   \n",
              "2                What locations are affected by Mpox?   \n",
              "3      What transmission methods are related to Mpox?   \n",
              "4           Which organizations are involved in Mpox?   \n",
              "..                                                ...   \n",
              "95  Which articles mention viruses that affect bot...   \n",
              "96  Which viruses are responsible for fever and ra...   \n",
              "97  Which viruses cause symptoms related to skin i...   \n",
              "98  Which viruses are spread by airborne transmiss...   \n",
              "99  Which organizations are involved in viruses af...   \n",
              "\n",
              "                                                query  \\\n",
              "0                       MATCH (v:Virus) RETURN v.name   \n",
              "1   MATCH (v:Virus {name: 'Mpox'})-[:CAUSES]->(s:S...   \n",
              "2   MATCH (v:Virus {name: 'Mpox'})-[:AFFECTS]->(l:...   \n",
              "3   MATCH (v:Virus {name: 'Mpox'})-[:SPREADS_BY]->...   \n",
              "4   MATCH (v:Virus {name: 'Mpox'})<-[:INVOLVED_IN]...   \n",
              "..                                                ...   \n",
              "95  MATCH (a:Article)-[:MENTIONS_LOCATION]->(l:Loc...   \n",
              "96  MATCH (v:Virus)-[:CAUSES]->(s:Symptom), (v)-[:...   \n",
              "97  MATCH (v:Virus)-[:CAUSES]->(s:Symptom) WHERE s...   \n",
              "98  MATCH (v:Virus)-[:SPREADS_BY]->(t:Transmission...   \n",
              "99  MATCH (o:Organization)-[:INVOLVED_IN]->(v:Viru...   \n",
              "\n",
              "                                       answer_gemma7b  retrieve_data_gemma7b  \\\n",
              "0                       MATCH (v:Virus) RETURN v.name                    1.0   \n",
              "1   MATCH (virus:Virus {name: 'Mpox'})-[:CAUSES]->...                    1.0   \n",
              "2   MATCH (v:Virus {name: 'Mpox'})-[:AFFECTS]->(l:...                    1.0   \n",
              "3   MATCH (v:Virus {name: 'Mpox'})-[:SPREADS_BY]->...                    1.0   \n",
              "4   MATCH (v:Virus {name: 'Mpox'})<-[:INVOLVED_IN]...                    1.0   \n",
              "..                                                ...                    ...   \n",
              "95                                                                       0.0   \n",
              "96  MATCH (virus:Virus)-[:CAUSES]->(symptom:Sympto...                    0.0   \n",
              "97  MATCH (v:Virus)-[:CAUSES]->(s:Symptom) WHERE s...                    0.0   \n",
              "98  MATCH (v:Virus)-[:SPREADS_BY]->(t:Transmission...                    0.0   \n",
              "99  MATCH (virus)-[:AFFECTS]->(location)WHERE loca...                    0.0   \n",
              "\n",
              "    BLEU_score_gemma7b  SQ_score_gemma7b  \n",
              "0             1.000000                 1  \n",
              "1             0.644351                 0  \n",
              "2             0.862303                 0  \n",
              "3             1.000000                 0  \n",
              "4             1.000000                 0  \n",
              "..                 ...               ...  \n",
              "95            0.000000                 0  \n",
              "96            0.320604                 0  \n",
              "97            0.660109                 0  \n",
              "98            0.598491                 0  \n",
              "99            0.434871                 0  \n",
              "\n",
              "[100 rows x 6 columns]"
            ]
          },
          "execution_count": 36,
          "metadata": {},
          "output_type": "execute_result"
        }
      ],
      "source": [
        "data_copy"
      ]
    }
  ],
  "metadata": {
    "colab": {
      "provenance": []
    },
    "kernelspec": {
      "display_name": "Python 3",
      "name": "python3"
    },
    "language_info": {
      "name": "python"
    }
  },
  "nbformat": 4,
  "nbformat_minor": 0
}
