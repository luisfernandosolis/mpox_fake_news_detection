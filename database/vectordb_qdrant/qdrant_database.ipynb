{
 "cells": [
  {
   "cell_type": "code",
   "execution_count": 20,
   "metadata": {},
   "outputs": [],
   "source": [
    "from qdrant_client import QdrantClient\n",
    "import os \n",
    "from dotenv import load_dotenv\n",
    "\n",
    "load_dotenv()\n",
    "QDRANT_CLOUD_URL = os.environ.get(\"QDRANT_CLOUD_URL\")\n",
    "QDRANT_API_KEY = os.environ.get(\"QDRANT_API_KEY\")"
   ]
  },
  {
   "cell_type": "code",
   "execution_count": 2,
   "metadata": {},
   "outputs": [],
   "source": [
    "## Qdrant Connection\n",
    "URL_DATABASE=\"http://localhost:6333\"\n",
    "COLLECTION_NAME =\"mpox_collection\""
   ]
  },
  {
   "cell_type": "code",
   "execution_count": 3,
   "metadata": {},
   "outputs": [],
   "source": [
    "#Create a client\n",
    "client = QdrantClient(url=URL_DATABASE)"
   ]
  },
  {
   "cell_type": "code",
   "execution_count": 43,
   "metadata": {},
   "outputs": [
    {
     "data": {
      "text/plain": [
       "True"
      ]
     },
     "execution_count": 43,
     "metadata": {},
     "output_type": "execute_result"
    }
   ],
   "source": [
    "# create a collection\n",
    "from qdrant_client.models import Distance, VectorParams\n",
    "\n",
    "client.create_collection(\n",
    "    collection_name=COLLECTION_NAME,\n",
    "    vectors_config=VectorParams(size=1536, distance=Distance.COSINE),\n",
    ")\n"
   ]
  },
  {
   "cell_type": "code",
   "execution_count": 4,
   "metadata": {},
   "outputs": [],
   "source": [
    "## Get text and chunk from document\n",
    "from langchain_community.document_loaders import PyPDFLoader\n",
    "\n",
    "PATH_DOCUMENT = \"Mpox_information.pdf\"\n",
    "\n",
    "\n",
    "loader = PyPDFLoader(PATH_DOCUMENT)\n",
    "pages = []\n",
    "async for page in loader.alazy_load():\n",
    "    pages.append(page)"
   ]
  },
  {
   "cell_type": "code",
   "execution_count": 5,
   "metadata": {},
   "outputs": [],
   "source": [
    "## Split pages in small chunks\n",
    "from langchain.text_splitter import RecursiveCharacterTextSplitter\n",
    "\n",
    "text_splitter = RecursiveCharacterTextSplitter(\n",
    "    chunk_size = 150,\n",
    "    chunk_overlap  = 20,\n",
    "    length_function = len,\n",
    ")\n",
    "docs = text_splitter.split_documents(pages)\n"
   ]
  },
  {
   "cell_type": "code",
   "execution_count": 6,
   "metadata": {},
   "outputs": [
    {
     "data": {
      "text/plain": [
       "[Document(metadata={'source': 'Mpox_information.pdf', 'page': 0}, page_content='Mpox\\n26 August 2024ا中⽂ Français\\nРусский Español\\nKey facts \\xa0\\nMpox, previously known as monkeypox, is a viral illness caused by the'),\n",
       " Document(metadata={'source': 'Mpox_information.pdf', 'page': 0}, page_content='monkeypox virus, a species of the genus Orthopoxvirus . There are two'),\n",
       " Document(metadata={'source': 'Mpox_information.pdf', 'page': 0}, page_content='distinct clades of the virus: clade I (with subclades Ia and Ib) and clade II (with'),\n",
       " Document(metadata={'source': 'Mpox_information.pdf', 'page': 0}, page_content='subclades IIa and IIb). In 2022–2023 a global outbreak of mpox was caused by\\nthe clade IIb strain.'),\n",
       " Document(metadata={'source': 'Mpox_information.pdf', 'page': 0}, page_content='Mpox continues to be a threat today , and an upsurge of cases in the\\nDemocratic Republic of the Congo and other countries caused by clades Ia')]"
      ]
     },
     "execution_count": 6,
     "metadata": {},
     "output_type": "execute_result"
    }
   ],
   "source": [
    "docs[0:5]"
   ]
  },
  {
   "cell_type": "code",
   "execution_count": 10,
   "metadata": {},
   "outputs": [
    {
     "name": "stdout",
     "output_type": "stream",
     "text": [
      "DOCUMENTS DATA SAVED SUCCESFULLY\n"
     ]
    }
   ],
   "source": [
    "## save this documents in Qdrant\n",
    "\n",
    "from langchain_openai import OpenAIEmbeddings\n",
    "from langchain_qdrant import QdrantVectorStore\n",
    "\n",
    "## embedding model from openai\n",
    "embeddings = OpenAIEmbeddings(model=\"text-embedding-3-small\")\n",
    "from langchain_qdrant import RetrievalMode\n",
    "\n",
    "# load data to collection\n",
    "vector_store_qdrant = QdrantVectorStore.from_documents(\n",
    "    docs,\n",
    "    embeddings,\n",
    "    url=URL_DATABASE,\n",
    "    prefer_grpc=False,\n",
    "    collection_name=COLLECTION_NAME,\n",
    "    retrieval_mode=RetrievalMode.DENSE\n",
    ")\n",
    "print(\"DOCUMENTS DATA SAVED SUCCESFULLY\")"
   ]
  },
  {
   "cell_type": "code",
   "execution_count": 23,
   "metadata": {},
   "outputs": [],
   "source": [
    "#QDRANT CLOUD\n",
    "doc_store = QdrantVectorStore.from_documents(\n",
    "    docs, embeddings, \n",
    "    url=QDRANT_CLOUD_URL,\n",
    "    api_key=QDRANT_API_KEY,\n",
    "    collection_name=\"mpox_collection\"\n",
    ")"
   ]
  },
  {
   "cell_type": "code",
   "execution_count": 30,
   "metadata": {},
   "outputs": [
    {
     "data": {
      "text/plain": [
       "[Document(metadata={'source': 'Mpox_information.pdf', 'page': 1, '_id': 'b1412ff9-a7e5-49aa-8b70-aa1be02021c8', '_collection_name': 'mpox_collection'}, page_content='Mpox can be transmitted through close contact with someone who has mpox,'),\n",
       " Document(metadata={'source': 'Mpox_information.pdf', 'page': 8, '_id': '462a07df-6ec5-4aca-9b2b-103932647730', '_collection_name': 'mpox_collection'}, page_content='transmission can reduce the risk of getting mpox. Those who have had contact'),\n",
       " Document(metadata={'source': 'Mpox_information.pdf', 'page': 2, '_id': 'e0ff17d8-1c04-4220-86bc-ba391d91fb28', '_collection_name': 'mpox_collection'}, page_content='Transmission\\xa0\\nMpox spreads from person to person mainly through close contact with someone'),\n",
       " Document(metadata={'source': 'Mpox_information.pdf', 'page': 5, '_id': 'bdaf9088-797e-455d-b043-db10250e715e', '_collection_name': 'mpox_collection'}, page_content='https://www.who.int/news-room/fact-sheets/detail/mpox#:~:text=Common symptoms of mpox are,materials%2C or with infected animals. 6/11'),\n",
       " Document(metadata={'source': 'Mpox_information.pdf', 'page': 4, '_id': 'd5662d03-709c-4f6a-b4c2-3dfa7a790c61', '_collection_name': 'mpox_collection'}, page_content='https://www.who.int/news-room/fact-sheets/detail/mpox#:~:text=Common symptoms of mpox are,materials%2C or with infected animals. 5/11')]"
      ]
     },
     "execution_count": 30,
     "metadata": {},
     "output_type": "execute_result"
    }
   ],
   "source": [
    "context = doc_store.similarity_search(query=\"What mpox is transmited?\", k=5,)\n",
    "context"
   ]
  },
  {
   "cell_type": "code",
   "execution_count": 31,
   "metadata": {},
   "outputs": [],
   "source": [
    "## test new information\n",
    "new_information=\"\"\"\n",
    "Title of the page: Esquema das joias movimentou R$ 6,8 mi; Bolsonaro recebeu dinheiro vivo, diz PF\n",
    "Ex-presidente Jair Bolsonaro é indiciado pela PF no caso das joias\n",
    "Moraes retira sigilo do inquérito das joias e manda PGR se manifestar\n",
    "DÃª a sua opiniÃ£o! O Correio tem um espaÃ§o na ediÃ§Ã£o impressa para publicar a opiniÃ£o dos leitores pelo e-mail sredat.df@dabr.com.br\n",
    "RepÃ³rter de polÃ­tica, setorista do Supremo Tribunal Federal (STF). Vencedor do PrÃªmio CNT de Jornalismo, possuÃ­ passagens pelo SBT, Record/R7 e estÃ¡ entre os jornalistas mais influentes do Twitter no Brasil.\n",
    "Formada em Jornalismo pela UFSM, no RS, onde pesquisou sobre Jornalismo Internacional, focado em AmÃ©rica Latina. JÃ¡ trabalhou com Cultura, Entretenimento, Redes Sociais, GÃªnero e Minorias Sociais.\n",
    "\"\"\""
   ]
  },
  {
   "cell_type": "code",
   "execution_count": 33,
   "metadata": {},
   "outputs": [
    {
     "data": {
      "text/plain": [
       "'Mpox can be transmitted through close contact with someone who has mpox, transmission can reduce the risk of getting mpox. Those who have had contact Transmission\\xa0\\nMpox spreads from person to person mainly through close contact with someone https://www.who.int/news-room/fact-sheets/detail/mpox#:~:text=Common symptoms of mpox are,materials%2C or with infected animals. 6/11 https://www.who.int/news-room/fact-sheets/detail/mpox#:~:text=Common symptoms of mpox are,materials%2C or with infected animals. 5/11'"
      ]
     },
     "execution_count": 33,
     "metadata": {},
     "output_type": "execute_result"
    }
   ],
   "source": [
    "fact_information = \" \".join([i.page_content for i in context])\n",
    "fact_information"
   ]
  },
  {
   "cell_type": "code",
   "execution_count": 51,
   "metadata": {},
   "outputs": [],
   "source": [
    "##setting the parser\n",
    "from langchain.output_parsers import PydanticOutputParser\n",
    "from pydantic import BaseModel\n",
    "from langchain_core.pydantic_v1 import BaseModel, Field, validator\n",
    "from langchain_openai import ChatOpenAI\n",
    "\n",
    "\n",
    "class NewChecker(BaseModel):\n",
    "    info: str = Field(description=\"a score between 0 and 1, where 1 means the news is completely true and closer to 0 means it is false\")\n",
    "\n",
    "parser_new = PydanticOutputParser(pydantic_object=NewChecker)\n"
   ]
  },
  {
   "cell_type": "code",
   "execution_count": 63,
   "metadata": {},
   "outputs": [],
   "source": [
    "from langchain_core.output_parsers import PydanticOutputParser\n",
    "from langchain_core.prompts import PromptTemplate\n",
    "from langchain_openai import OpenAI\n",
    "from pydantic import BaseModel, Field, model_validator\n",
    "\n",
    "\n",
    "model = OpenAI(model_name=\"gpt-3.5-turbo-instruct\", temperature=0.0)\n",
    "\n",
    "\n",
    "# Define your desired data structure.\n",
    "class NewsChecker(BaseModel):\n",
    "    score: str = Field(description=\"a score between 0 and 1, where 1 means the news is completely true and closer to 0 means it is false\")\n",
    "    justification: str = Field(description=\"a justification about the score\", default=\"Ninguna\")\n",
    "\n",
    "# Set up a parser + inject instructions into the prompt template.\n",
    "parser = PydanticOutputParser(pydantic_object=NewsChecker)\n",
    "\n",
    "template = \"\"\"\n",
    "Eres un asistente experto en verificación de información. Te voy a proporcionar un conjunto de hechos verificados que se consideran verdaderos. Luego te proporcionaré una noticia y tu tarea será comparar los hechos de la noticia con la información verdadera proporcionada, y determinar cuán verídica es la noticia en una escala de 0 a 1, donde 0 significa que la noticia es completamente falsa y 1 significa que es completamente verdadera. Proporciona tu evaluación explicando brevemente las razones de tu puntuación, y justifica por qué asignaste ese número de veracidad.\n",
    "\n",
    "### Información verificada:\n",
    "{fact_information}\n",
    "\n",
    "### Noticia a evaluar:\n",
    "{new_information}\n",
    "\n",
    "### Resultado esperado:\n",
    "- **Puntuación de veracidad (0 a 1):**\n",
    "- **Razón de la puntuación:**\n",
    "- **Justificación de la puntuación:**\n",
    "{format_instructions}\n",
    "\n",
    "\"\"\"\n",
    "\n",
    "prompt = PromptTemplate(\n",
    "    template=template,\n",
    "    input_variables=[\"new_information\",\"fact_information\"],\n",
    "    partial_variables={\"format_instructions\": parser.get_format_instructions()},\n",
    ")\n",
    "\n",
    "# And a query intended to prompt a language model to populate the data structure.\n",
    "prompt_and_model = prompt | model\n",
    "output = prompt_and_model.invoke({\"new_information\":new_information, \"fact_information\":fact_information})\n",
    "result = parser.invoke(output)"
   ]
  },
  {
   "cell_type": "code",
   "execution_count": 66,
   "metadata": {},
   "outputs": [
    {
     "data": {
      "text/plain": [
       "'La noticia menciona que Bolsonaro recibió dinero vivo en el caso de las joias, lo cual es cierto según la información verificada. Sin embargo, la noticia no proporciona suficiente evidencia para respaldar el hecho de que Bolsonaro fue indiciado por la PF o que Moraes retiró el sigilo del inquérito. Además, la noticia incluye información irrelevante sobre el autor y su formación, lo cual puede ser considerado como una táctica de distracción. Por lo tanto, la noticia tiene ciertos elementos de verdad, pero también contiene información inexacta y distracciones, lo que la hace poco confiable. Por lo tanto, se le asigna una puntuación de veracidad de 0.5.'"
      ]
     },
     "execution_count": 66,
     "metadata": {},
     "output_type": "execute_result"
    }
   ],
   "source": [
    "result.justification"
   ]
  },
  {
   "cell_type": "code",
   "execution_count": null,
   "metadata": {},
   "outputs": [],
   "source": []
  }
 ],
 "metadata": {
  "kernelspec": {
   "display_name": "env_mpox",
   "language": "python",
   "name": "python3"
  },
  "language_info": {
   "codemirror_mode": {
    "name": "ipython",
    "version": 3
   },
   "file_extension": ".py",
   "mimetype": "text/x-python",
   "name": "python",
   "nbconvert_exporter": "python",
   "pygments_lexer": "ipython3",
   "version": "3.11.9"
  },
  "orig_nbformat": 4
 },
 "nbformat": 4,
 "nbformat_minor": 2
}
