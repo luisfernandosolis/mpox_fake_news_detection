{
  "cells": [
    {
      "cell_type": "code",
      "execution_count": 4,
      "metadata": {
        "colab": {
          "base_uri": "https://localhost:8080/"
        },
        "id": "Pk-kANIde2oa",
        "outputId": "f9e061c7-db9c-4462-dc28-f3058e0703b4"
      },
      "outputs": [
        {
          "name": "stdout",
          "output_type": "stream",
          "text": [
            "Collecting langchain\n",
            "  Downloading langchain-0.3.1-py3-none-any.whl.metadata (7.1 kB)\n",
            "Collecting langchain_community\n",
            "  Downloading langchain_community-0.3.1-py3-none-any.whl.metadata (2.8 kB)\n",
            "Requirement already satisfied: PyYAML>=5.3 in /usr/local/lib/python3.10/dist-packages (from langchain) (6.0.2)\n",
            "Requirement already satisfied: SQLAlchemy<3,>=1.4 in /usr/local/lib/python3.10/dist-packages (from langchain) (2.0.35)\n",
            "Requirement already satisfied: aiohttp<4.0.0,>=3.8.3 in /usr/local/lib/python3.10/dist-packages (from langchain) (3.10.5)\n",
            "Requirement already satisfied: async-timeout<5.0.0,>=4.0.0 in /usr/local/lib/python3.10/dist-packages (from langchain) (4.0.3)\n",
            "Collecting langchain-core<0.4.0,>=0.3.6 (from langchain)\n",
            "  Downloading langchain_core-0.3.6-py3-none-any.whl.metadata (6.3 kB)\n",
            "Collecting langchain-text-splitters<0.4.0,>=0.3.0 (from langchain)\n",
            "  Downloading langchain_text_splitters-0.3.0-py3-none-any.whl.metadata (2.3 kB)\n",
            "Collecting langsmith<0.2.0,>=0.1.17 (from langchain)\n",
            "  Downloading langsmith-0.1.128-py3-none-any.whl.metadata (13 kB)\n",
            "Requirement already satisfied: numpy<2,>=1 in /usr/local/lib/python3.10/dist-packages (from langchain) (1.26.4)\n",
            "Requirement already satisfied: pydantic<3.0.0,>=2.7.4 in /usr/local/lib/python3.10/dist-packages (from langchain) (2.9.2)\n",
            "Requirement already satisfied: requests<3,>=2 in /usr/local/lib/python3.10/dist-packages (from langchain) (2.32.3)\n",
            "Collecting tenacity!=8.4.0,<9.0.0,>=8.1.0 (from langchain)\n",
            "  Downloading tenacity-8.5.0-py3-none-any.whl.metadata (1.2 kB)\n",
            "Collecting dataclasses-json<0.7,>=0.5.7 (from langchain_community)\n",
            "  Downloading dataclasses_json-0.6.7-py3-none-any.whl.metadata (25 kB)\n",
            "Collecting pydantic-settings<3.0.0,>=2.4.0 (from langchain_community)\n",
            "  Downloading pydantic_settings-2.5.2-py3-none-any.whl.metadata (3.5 kB)\n",
            "Requirement already satisfied: aiohappyeyeballs>=2.3.0 in /usr/local/lib/python3.10/dist-packages (from aiohttp<4.0.0,>=3.8.3->langchain) (2.4.0)\n",
            "Requirement already satisfied: aiosignal>=1.1.2 in /usr/local/lib/python3.10/dist-packages (from aiohttp<4.0.0,>=3.8.3->langchain) (1.3.1)\n",
            "Requirement already satisfied: attrs>=17.3.0 in /usr/local/lib/python3.10/dist-packages (from aiohttp<4.0.0,>=3.8.3->langchain) (24.2.0)\n",
            "Requirement already satisfied: frozenlist>=1.1.1 in /usr/local/lib/python3.10/dist-packages (from aiohttp<4.0.0,>=3.8.3->langchain) (1.4.1)\n",
            "Requirement already satisfied: multidict<7.0,>=4.5 in /usr/local/lib/python3.10/dist-packages (from aiohttp<4.0.0,>=3.8.3->langchain) (6.1.0)\n",
            "Requirement already satisfied: yarl<2.0,>=1.0 in /usr/local/lib/python3.10/dist-packages (from aiohttp<4.0.0,>=3.8.3->langchain) (1.11.1)\n",
            "Collecting marshmallow<4.0.0,>=3.18.0 (from dataclasses-json<0.7,>=0.5.7->langchain_community)\n",
            "  Downloading marshmallow-3.22.0-py3-none-any.whl.metadata (7.2 kB)\n",
            "Collecting typing-inspect<1,>=0.4.0 (from dataclasses-json<0.7,>=0.5.7->langchain_community)\n",
            "  Downloading typing_inspect-0.9.0-py3-none-any.whl.metadata (1.5 kB)\n",
            "Collecting jsonpatch<2.0,>=1.33 (from langchain-core<0.4.0,>=0.3.6->langchain)\n",
            "  Downloading jsonpatch-1.33-py2.py3-none-any.whl.metadata (3.0 kB)\n",
            "Requirement already satisfied: packaging<25,>=23.2 in /usr/local/lib/python3.10/dist-packages (from langchain-core<0.4.0,>=0.3.6->langchain) (24.1)\n",
            "Requirement already satisfied: typing-extensions>=4.7 in /usr/local/lib/python3.10/dist-packages (from langchain-core<0.4.0,>=0.3.6->langchain) (4.12.2)\n",
            "Collecting httpx<1,>=0.23.0 (from langsmith<0.2.0,>=0.1.17->langchain)\n",
            "  Downloading httpx-0.27.2-py3-none-any.whl.metadata (7.1 kB)\n",
            "Collecting orjson<4.0.0,>=3.9.14 (from langsmith<0.2.0,>=0.1.17->langchain)\n",
            "  Downloading orjson-3.10.7-cp310-cp310-manylinux_2_17_x86_64.manylinux2014_x86_64.whl.metadata (50 kB)\n",
            "\u001b[2K     \u001b[90m━━━━━━━━━━━━━━━━━━━━━━━━━━━━━━━━━━━━━━━━\u001b[0m \u001b[32m50.4/50.4 kB\u001b[0m \u001b[31m3.5 MB/s\u001b[0m eta \u001b[36m0:00:00\u001b[0m\n",
            "\u001b[?25hRequirement already satisfied: annotated-types>=0.6.0 in /usr/local/lib/python3.10/dist-packages (from pydantic<3.0.0,>=2.7.4->langchain) (0.7.0)\n",
            "Requirement already satisfied: pydantic-core==2.23.4 in /usr/local/lib/python3.10/dist-packages (from pydantic<3.0.0,>=2.7.4->langchain) (2.23.4)\n",
            "Collecting python-dotenv>=0.21.0 (from pydantic-settings<3.0.0,>=2.4.0->langchain_community)\n",
            "  Downloading python_dotenv-1.0.1-py3-none-any.whl.metadata (23 kB)\n",
            "Requirement already satisfied: charset-normalizer<4,>=2 in /usr/local/lib/python3.10/dist-packages (from requests<3,>=2->langchain) (3.3.2)\n",
            "Requirement already satisfied: idna<4,>=2.5 in /usr/local/lib/python3.10/dist-packages (from requests<3,>=2->langchain) (3.10)\n",
            "Requirement already satisfied: urllib3<3,>=1.21.1 in /usr/local/lib/python3.10/dist-packages (from requests<3,>=2->langchain) (2.2.3)\n",
            "Requirement already satisfied: certifi>=2017.4.17 in /usr/local/lib/python3.10/dist-packages (from requests<3,>=2->langchain) (2024.8.30)\n",
            "Requirement already satisfied: greenlet!=0.4.17 in /usr/local/lib/python3.10/dist-packages (from SQLAlchemy<3,>=1.4->langchain) (3.1.1)\n",
            "Requirement already satisfied: anyio in /usr/local/lib/python3.10/dist-packages (from httpx<1,>=0.23.0->langsmith<0.2.0,>=0.1.17->langchain) (3.7.1)\n",
            "Collecting httpcore==1.* (from httpx<1,>=0.23.0->langsmith<0.2.0,>=0.1.17->langchain)\n",
            "  Downloading httpcore-1.0.5-py3-none-any.whl.metadata (20 kB)\n",
            "Requirement already satisfied: sniffio in /usr/local/lib/python3.10/dist-packages (from httpx<1,>=0.23.0->langsmith<0.2.0,>=0.1.17->langchain) (1.3.1)\n",
            "Collecting h11<0.15,>=0.13 (from httpcore==1.*->httpx<1,>=0.23.0->langsmith<0.2.0,>=0.1.17->langchain)\n",
            "  Downloading h11-0.14.0-py3-none-any.whl.metadata (8.2 kB)\n",
            "Collecting jsonpointer>=1.9 (from jsonpatch<2.0,>=1.33->langchain-core<0.4.0,>=0.3.6->langchain)\n",
            "  Downloading jsonpointer-3.0.0-py2.py3-none-any.whl.metadata (2.3 kB)\n",
            "Collecting mypy-extensions>=0.3.0 (from typing-inspect<1,>=0.4.0->dataclasses-json<0.7,>=0.5.7->langchain_community)\n",
            "  Downloading mypy_extensions-1.0.0-py3-none-any.whl.metadata (1.1 kB)\n",
            "Requirement already satisfied: exceptiongroup in /usr/local/lib/python3.10/dist-packages (from anyio->httpx<1,>=0.23.0->langsmith<0.2.0,>=0.1.17->langchain) (1.2.2)\n",
            "Downloading langchain-0.3.1-py3-none-any.whl (1.0 MB)\n",
            "\u001b[2K   \u001b[90m━━━━━━━━━━━━━━━━━━━━━━━━━━━━━━━━━━━━━━━━\u001b[0m \u001b[32m1.0/1.0 MB\u001b[0m \u001b[31m15.9 MB/s\u001b[0m eta \u001b[36m0:00:00\u001b[0m\n",
            "\u001b[?25hDownloading langchain_community-0.3.1-py3-none-any.whl (2.4 MB)\n",
            "\u001b[2K   \u001b[90m━━━━━━━━━━━━━━━━━━━━━━━━━━━━━━━━━━━━━━━━\u001b[0m \u001b[32m2.4/2.4 MB\u001b[0m \u001b[31m48.9 MB/s\u001b[0m eta \u001b[36m0:00:00\u001b[0m\n",
            "\u001b[?25hDownloading dataclasses_json-0.6.7-py3-none-any.whl (28 kB)\n",
            "Downloading langchain_core-0.3.6-py3-none-any.whl (399 kB)\n",
            "\u001b[2K   \u001b[90m━━━━━━━━━━━━━━━━━━━━━━━━━━━━━━━━━━━━━━━━\u001b[0m \u001b[32m399.9/399.9 kB\u001b[0m \u001b[31m24.8 MB/s\u001b[0m eta \u001b[36m0:00:00\u001b[0m\n",
            "\u001b[?25hDownloading langchain_text_splitters-0.3.0-py3-none-any.whl (25 kB)\n",
            "Downloading langsmith-0.1.128-py3-none-any.whl (292 kB)\n",
            "\u001b[2K   \u001b[90m━━━━━━━━━━━━━━━━━━━━━━━━━━━━━━━━━━━━━━━━\u001b[0m \u001b[32m292.1/292.1 kB\u001b[0m \u001b[31m18.4 MB/s\u001b[0m eta \u001b[36m0:00:00\u001b[0m\n",
            "\u001b[?25hDownloading pydantic_settings-2.5.2-py3-none-any.whl (26 kB)\n",
            "Downloading tenacity-8.5.0-py3-none-any.whl (28 kB)\n",
            "Downloading httpx-0.27.2-py3-none-any.whl (76 kB)\n",
            "\u001b[2K   \u001b[90m━━━━━━━━━━━━━━━━━━━━━━━━━━━━━━━━━━━━━━━━\u001b[0m \u001b[32m76.4/76.4 kB\u001b[0m \u001b[31m5.9 MB/s\u001b[0m eta \u001b[36m0:00:00\u001b[0m\n",
            "\u001b[?25hDownloading httpcore-1.0.5-py3-none-any.whl (77 kB)\n",
            "\u001b[2K   \u001b[90m━━━━━━━━━━━━━━━━━━━━━━━━━━━━━━━━━━━━━━━━\u001b[0m \u001b[32m77.9/77.9 kB\u001b[0m \u001b[31m6.5 MB/s\u001b[0m eta \u001b[36m0:00:00\u001b[0m\n",
            "\u001b[?25hDownloading jsonpatch-1.33-py2.py3-none-any.whl (12 kB)\n",
            "Downloading marshmallow-3.22.0-py3-none-any.whl (49 kB)\n",
            "\u001b[2K   \u001b[90m━━━━━━━━━━━━━━━━━━━━━━━━━━━━━━━━━━━━━━━━\u001b[0m \u001b[32m49.3/49.3 kB\u001b[0m \u001b[31m2.9 MB/s\u001b[0m eta \u001b[36m0:00:00\u001b[0m\n",
            "\u001b[?25hDownloading orjson-3.10.7-cp310-cp310-manylinux_2_17_x86_64.manylinux2014_x86_64.whl (141 kB)\n",
            "\u001b[2K   \u001b[90m━━━━━━━━━━━━━━━━━━━━━━━━━━━━━━━━━━━━━━━━\u001b[0m \u001b[32m141.9/141.9 kB\u001b[0m \u001b[31m11.8 MB/s\u001b[0m eta \u001b[36m0:00:00\u001b[0m\n",
            "\u001b[?25hDownloading python_dotenv-1.0.1-py3-none-any.whl (19 kB)\n",
            "Downloading typing_inspect-0.9.0-py3-none-any.whl (8.8 kB)\n",
            "Downloading jsonpointer-3.0.0-py2.py3-none-any.whl (7.6 kB)\n",
            "Downloading mypy_extensions-1.0.0-py3-none-any.whl (4.7 kB)\n",
            "Downloading h11-0.14.0-py3-none-any.whl (58 kB)\n",
            "\u001b[2K   \u001b[90m━━━━━━━━━━━━━━━━━━━━━━━━━━━━━━━━━━━━━━━━\u001b[0m \u001b[32m58.3/58.3 kB\u001b[0m \u001b[31m3.9 MB/s\u001b[0m eta \u001b[36m0:00:00\u001b[0m\n",
            "\u001b[?25hInstalling collected packages: tenacity, python-dotenv, orjson, mypy-extensions, marshmallow, jsonpointer, h11, typing-inspect, jsonpatch, httpcore, pydantic-settings, httpx, dataclasses-json, langsmith, langchain-core, langchain-text-splitters, langchain, langchain_community\n",
            "  Attempting uninstall: tenacity\n",
            "    Found existing installation: tenacity 9.0.0\n",
            "    Uninstalling tenacity-9.0.0:\n",
            "      Successfully uninstalled tenacity-9.0.0\n",
            "Successfully installed dataclasses-json-0.6.7 h11-0.14.0 httpcore-1.0.5 httpx-0.27.2 jsonpatch-1.33 jsonpointer-3.0.0 langchain-0.3.1 langchain-core-0.3.6 langchain-text-splitters-0.3.0 langchain_community-0.3.1 langsmith-0.1.128 marshmallow-3.22.0 mypy-extensions-1.0.0 orjson-3.10.7 pydantic-settings-2.5.2 python-dotenv-1.0.1 tenacity-8.5.0 typing-inspect-0.9.0\n",
            "Collecting neo4j\n",
            "  Downloading neo4j-5.25.0-py3-none-any.whl.metadata (5.7 kB)\n",
            "Requirement already satisfied: pytz in /usr/local/lib/python3.10/dist-packages (from neo4j) (2024.2)\n",
            "Downloading neo4j-5.25.0-py3-none-any.whl (296 kB)\n",
            "\u001b[2K   \u001b[90m━━━━━━━━━━━━━━━━━━━━━━━━━━━━━━━━━━━━━━━━\u001b[0m \u001b[32m296.6/296.6 kB\u001b[0m \u001b[31m4.2 MB/s\u001b[0m eta \u001b[36m0:00:00\u001b[0m\n",
            "\u001b[?25hInstalling collected packages: neo4j\n",
            "Successfully installed neo4j-5.25.0\n",
            "Collecting groq\n",
            "  Downloading groq-0.11.0-py3-none-any.whl.metadata (13 kB)\n",
            "Requirement already satisfied: anyio<5,>=3.5.0 in /usr/local/lib/python3.10/dist-packages (from groq) (3.7.1)\n",
            "Requirement already satisfied: distro<2,>=1.7.0 in /usr/lib/python3/dist-packages (from groq) (1.7.0)\n",
            "Requirement already satisfied: httpx<1,>=0.23.0 in /usr/local/lib/python3.10/dist-packages (from groq) (0.27.2)\n",
            "Requirement already satisfied: pydantic<3,>=1.9.0 in /usr/local/lib/python3.10/dist-packages (from groq) (2.9.2)\n",
            "Requirement already satisfied: sniffio in /usr/local/lib/python3.10/dist-packages (from groq) (1.3.1)\n",
            "Requirement already satisfied: typing-extensions<5,>=4.7 in /usr/local/lib/python3.10/dist-packages (from groq) (4.12.2)\n",
            "Requirement already satisfied: idna>=2.8 in /usr/local/lib/python3.10/dist-packages (from anyio<5,>=3.5.0->groq) (3.10)\n",
            "Requirement already satisfied: exceptiongroup in /usr/local/lib/python3.10/dist-packages (from anyio<5,>=3.5.0->groq) (1.2.2)\n",
            "Requirement already satisfied: certifi in /usr/local/lib/python3.10/dist-packages (from httpx<1,>=0.23.0->groq) (2024.8.30)\n",
            "Requirement already satisfied: httpcore==1.* in /usr/local/lib/python3.10/dist-packages (from httpx<1,>=0.23.0->groq) (1.0.5)\n",
            "Requirement already satisfied: h11<0.15,>=0.13 in /usr/local/lib/python3.10/dist-packages (from httpcore==1.*->httpx<1,>=0.23.0->groq) (0.14.0)\n",
            "Requirement already satisfied: annotated-types>=0.6.0 in /usr/local/lib/python3.10/dist-packages (from pydantic<3,>=1.9.0->groq) (0.7.0)\n",
            "Requirement already satisfied: pydantic-core==2.23.4 in /usr/local/lib/python3.10/dist-packages (from pydantic<3,>=1.9.0->groq) (2.23.4)\n",
            "Downloading groq-0.11.0-py3-none-any.whl (106 kB)\n",
            "\u001b[2K   \u001b[90m━━━━━━━━━━━━━━━━━━━━━━━━━━━━━━━━━━━━━━━━\u001b[0m \u001b[32m106.5/106.5 kB\u001b[0m \u001b[31m1.9 MB/s\u001b[0m eta \u001b[36m0:00:00\u001b[0m\n",
            "\u001b[?25hInstalling collected packages: groq\n",
            "Successfully installed groq-0.11.0\n",
            "Collecting langchain_experimental\n",
            "  Downloading langchain_experimental-0.3.1.post1-py3-none-any.whl.metadata (1.7 kB)\n",
            "Requirement already satisfied: langchain-community<0.4.0,>=0.3.0 in /usr/local/lib/python3.10/dist-packages (from langchain_experimental) (0.3.1)\n",
            "Requirement already satisfied: langchain-core<0.4.0,>=0.3.5 in /usr/local/lib/python3.10/dist-packages (from langchain_experimental) (0.3.6)\n",
            "Requirement already satisfied: PyYAML>=5.3 in /usr/local/lib/python3.10/dist-packages (from langchain-community<0.4.0,>=0.3.0->langchain_experimental) (6.0.2)\n",
            "Requirement already satisfied: SQLAlchemy<3,>=1.4 in /usr/local/lib/python3.10/dist-packages (from langchain-community<0.4.0,>=0.3.0->langchain_experimental) (2.0.35)\n",
            "Requirement already satisfied: aiohttp<4.0.0,>=3.8.3 in /usr/local/lib/python3.10/dist-packages (from langchain-community<0.4.0,>=0.3.0->langchain_experimental) (3.10.5)\n",
            "Requirement already satisfied: dataclasses-json<0.7,>=0.5.7 in /usr/local/lib/python3.10/dist-packages (from langchain-community<0.4.0,>=0.3.0->langchain_experimental) (0.6.7)\n",
            "Requirement already satisfied: langchain<0.4.0,>=0.3.1 in /usr/local/lib/python3.10/dist-packages (from langchain-community<0.4.0,>=0.3.0->langchain_experimental) (0.3.1)\n",
            "Requirement already satisfied: langsmith<0.2.0,>=0.1.125 in /usr/local/lib/python3.10/dist-packages (from langchain-community<0.4.0,>=0.3.0->langchain_experimental) (0.1.128)\n",
            "Requirement already satisfied: numpy<2,>=1 in /usr/local/lib/python3.10/dist-packages (from langchain-community<0.4.0,>=0.3.0->langchain_experimental) (1.26.4)\n",
            "Requirement already satisfied: pydantic-settings<3.0.0,>=2.4.0 in /usr/local/lib/python3.10/dist-packages (from langchain-community<0.4.0,>=0.3.0->langchain_experimental) (2.5.2)\n",
            "Requirement already satisfied: requests<3,>=2 in /usr/local/lib/python3.10/dist-packages (from langchain-community<0.4.0,>=0.3.0->langchain_experimental) (2.32.3)\n",
            "Requirement already satisfied: tenacity!=8.4.0,<9.0.0,>=8.1.0 in /usr/local/lib/python3.10/dist-packages (from langchain-community<0.4.0,>=0.3.0->langchain_experimental) (8.5.0)\n",
            "Requirement already satisfied: jsonpatch<2.0,>=1.33 in /usr/local/lib/python3.10/dist-packages (from langchain-core<0.4.0,>=0.3.5->langchain_experimental) (1.33)\n",
            "Requirement already satisfied: packaging<25,>=23.2 in /usr/local/lib/python3.10/dist-packages (from langchain-core<0.4.0,>=0.3.5->langchain_experimental) (24.1)\n",
            "Requirement already satisfied: pydantic<3.0.0,>=2.5.2 in /usr/local/lib/python3.10/dist-packages (from langchain-core<0.4.0,>=0.3.5->langchain_experimental) (2.9.2)\n",
            "Requirement already satisfied: typing-extensions>=4.7 in /usr/local/lib/python3.10/dist-packages (from langchain-core<0.4.0,>=0.3.5->langchain_experimental) (4.12.2)\n",
            "Requirement already satisfied: aiohappyeyeballs>=2.3.0 in /usr/local/lib/python3.10/dist-packages (from aiohttp<4.0.0,>=3.8.3->langchain-community<0.4.0,>=0.3.0->langchain_experimental) (2.4.0)\n",
            "Requirement already satisfied: aiosignal>=1.1.2 in /usr/local/lib/python3.10/dist-packages (from aiohttp<4.0.0,>=3.8.3->langchain-community<0.4.0,>=0.3.0->langchain_experimental) (1.3.1)\n",
            "Requirement already satisfied: attrs>=17.3.0 in /usr/local/lib/python3.10/dist-packages (from aiohttp<4.0.0,>=3.8.3->langchain-community<0.4.0,>=0.3.0->langchain_experimental) (24.2.0)\n",
            "Requirement already satisfied: frozenlist>=1.1.1 in /usr/local/lib/python3.10/dist-packages (from aiohttp<4.0.0,>=3.8.3->langchain-community<0.4.0,>=0.3.0->langchain_experimental) (1.4.1)\n",
            "Requirement already satisfied: multidict<7.0,>=4.5 in /usr/local/lib/python3.10/dist-packages (from aiohttp<4.0.0,>=3.8.3->langchain-community<0.4.0,>=0.3.0->langchain_experimental) (6.1.0)\n",
            "Requirement already satisfied: yarl<2.0,>=1.0 in /usr/local/lib/python3.10/dist-packages (from aiohttp<4.0.0,>=3.8.3->langchain-community<0.4.0,>=0.3.0->langchain_experimental) (1.11.1)\n",
            "Requirement already satisfied: async-timeout<5.0,>=4.0 in /usr/local/lib/python3.10/dist-packages (from aiohttp<4.0.0,>=3.8.3->langchain-community<0.4.0,>=0.3.0->langchain_experimental) (4.0.3)\n",
            "Requirement already satisfied: marshmallow<4.0.0,>=3.18.0 in /usr/local/lib/python3.10/dist-packages (from dataclasses-json<0.7,>=0.5.7->langchain-community<0.4.0,>=0.3.0->langchain_experimental) (3.22.0)\n",
            "Requirement already satisfied: typing-inspect<1,>=0.4.0 in /usr/local/lib/python3.10/dist-packages (from dataclasses-json<0.7,>=0.5.7->langchain-community<0.4.0,>=0.3.0->langchain_experimental) (0.9.0)\n",
            "Requirement already satisfied: jsonpointer>=1.9 in /usr/local/lib/python3.10/dist-packages (from jsonpatch<2.0,>=1.33->langchain-core<0.4.0,>=0.3.5->langchain_experimental) (3.0.0)\n",
            "Requirement already satisfied: langchain-text-splitters<0.4.0,>=0.3.0 in /usr/local/lib/python3.10/dist-packages (from langchain<0.4.0,>=0.3.1->langchain-community<0.4.0,>=0.3.0->langchain_experimental) (0.3.0)\n",
            "Requirement already satisfied: httpx<1,>=0.23.0 in /usr/local/lib/python3.10/dist-packages (from langsmith<0.2.0,>=0.1.125->langchain-community<0.4.0,>=0.3.0->langchain_experimental) (0.27.2)\n",
            "Requirement already satisfied: orjson<4.0.0,>=3.9.14 in /usr/local/lib/python3.10/dist-packages (from langsmith<0.2.0,>=0.1.125->langchain-community<0.4.0,>=0.3.0->langchain_experimental) (3.10.7)\n",
            "Requirement already satisfied: annotated-types>=0.6.0 in /usr/local/lib/python3.10/dist-packages (from pydantic<3.0.0,>=2.5.2->langchain-core<0.4.0,>=0.3.5->langchain_experimental) (0.7.0)\n",
            "Requirement already satisfied: pydantic-core==2.23.4 in /usr/local/lib/python3.10/dist-packages (from pydantic<3.0.0,>=2.5.2->langchain-core<0.4.0,>=0.3.5->langchain_experimental) (2.23.4)\n",
            "Requirement already satisfied: python-dotenv>=0.21.0 in /usr/local/lib/python3.10/dist-packages (from pydantic-settings<3.0.0,>=2.4.0->langchain-community<0.4.0,>=0.3.0->langchain_experimental) (1.0.1)\n",
            "Requirement already satisfied: charset-normalizer<4,>=2 in /usr/local/lib/python3.10/dist-packages (from requests<3,>=2->langchain-community<0.4.0,>=0.3.0->langchain_experimental) (3.3.2)\n",
            "Requirement already satisfied: idna<4,>=2.5 in /usr/local/lib/python3.10/dist-packages (from requests<3,>=2->langchain-community<0.4.0,>=0.3.0->langchain_experimental) (3.10)\n",
            "Requirement already satisfied: urllib3<3,>=1.21.1 in /usr/local/lib/python3.10/dist-packages (from requests<3,>=2->langchain-community<0.4.0,>=0.3.0->langchain_experimental) (2.2.3)\n",
            "Requirement already satisfied: certifi>=2017.4.17 in /usr/local/lib/python3.10/dist-packages (from requests<3,>=2->langchain-community<0.4.0,>=0.3.0->langchain_experimental) (2024.8.30)\n",
            "Requirement already satisfied: greenlet!=0.4.17 in /usr/local/lib/python3.10/dist-packages (from SQLAlchemy<3,>=1.4->langchain-community<0.4.0,>=0.3.0->langchain_experimental) (3.1.1)\n",
            "Requirement already satisfied: anyio in /usr/local/lib/python3.10/dist-packages (from httpx<1,>=0.23.0->langsmith<0.2.0,>=0.1.125->langchain-community<0.4.0,>=0.3.0->langchain_experimental) (3.7.1)\n",
            "Requirement already satisfied: httpcore==1.* in /usr/local/lib/python3.10/dist-packages (from httpx<1,>=0.23.0->langsmith<0.2.0,>=0.1.125->langchain-community<0.4.0,>=0.3.0->langchain_experimental) (1.0.5)\n",
            "Requirement already satisfied: sniffio in /usr/local/lib/python3.10/dist-packages (from httpx<1,>=0.23.0->langsmith<0.2.0,>=0.1.125->langchain-community<0.4.0,>=0.3.0->langchain_experimental) (1.3.1)\n",
            "Requirement already satisfied: h11<0.15,>=0.13 in /usr/local/lib/python3.10/dist-packages (from httpcore==1.*->httpx<1,>=0.23.0->langsmith<0.2.0,>=0.1.125->langchain-community<0.4.0,>=0.3.0->langchain_experimental) (0.14.0)\n",
            "Requirement already satisfied: mypy-extensions>=0.3.0 in /usr/local/lib/python3.10/dist-packages (from typing-inspect<1,>=0.4.0->dataclasses-json<0.7,>=0.5.7->langchain-community<0.4.0,>=0.3.0->langchain_experimental) (1.0.0)\n",
            "Requirement already satisfied: exceptiongroup in /usr/local/lib/python3.10/dist-packages (from anyio->httpx<1,>=0.23.0->langsmith<0.2.0,>=0.1.125->langchain-community<0.4.0,>=0.3.0->langchain_experimental) (1.2.2)\n",
            "Downloading langchain_experimental-0.3.1.post1-py3-none-any.whl (208 kB)\n",
            "\u001b[2K   \u001b[90m━━━━━━━━━━━━━━━━━━━━━━━━━━━━━━━━━━━━━━━━\u001b[0m \u001b[32m208.1/208.1 kB\u001b[0m \u001b[31m3.0 MB/s\u001b[0m eta \u001b[36m0:00:00\u001b[0m\n",
            "\u001b[?25hInstalling collected packages: langchain_experimental\n",
            "Successfully installed langchain_experimental-0.3.1.post1\n",
            "Collecting langchain_openai\n",
            "  Downloading langchain_openai-0.2.1-py3-none-any.whl.metadata (2.6 kB)\n",
            "Requirement already satisfied: langchain-core<0.4,>=0.3 in /usr/local/lib/python3.10/dist-packages (from langchain_openai) (0.3.6)\n",
            "Collecting openai<2.0.0,>=1.40.0 (from langchain_openai)\n",
            "  Downloading openai-1.48.0-py3-none-any.whl.metadata (24 kB)\n",
            "Collecting tiktoken<1,>=0.7 (from langchain_openai)\n",
            "  Downloading tiktoken-0.7.0-cp310-cp310-manylinux_2_17_x86_64.manylinux2014_x86_64.whl.metadata (6.6 kB)\n",
            "Requirement already satisfied: PyYAML>=5.3 in /usr/local/lib/python3.10/dist-packages (from langchain-core<0.4,>=0.3->langchain_openai) (6.0.2)\n",
            "Requirement already satisfied: jsonpatch<2.0,>=1.33 in /usr/local/lib/python3.10/dist-packages (from langchain-core<0.4,>=0.3->langchain_openai) (1.33)\n",
            "Requirement already satisfied: langsmith<0.2.0,>=0.1.125 in /usr/local/lib/python3.10/dist-packages (from langchain-core<0.4,>=0.3->langchain_openai) (0.1.128)\n",
            "Requirement already satisfied: packaging<25,>=23.2 in /usr/local/lib/python3.10/dist-packages (from langchain-core<0.4,>=0.3->langchain_openai) (24.1)\n",
            "Requirement already satisfied: pydantic<3.0.0,>=2.5.2 in /usr/local/lib/python3.10/dist-packages (from langchain-core<0.4,>=0.3->langchain_openai) (2.9.2)\n",
            "Requirement already satisfied: tenacity!=8.4.0,<9.0.0,>=8.1.0 in /usr/local/lib/python3.10/dist-packages (from langchain-core<0.4,>=0.3->langchain_openai) (8.5.0)\n",
            "Requirement already satisfied: typing-extensions>=4.7 in /usr/local/lib/python3.10/dist-packages (from langchain-core<0.4,>=0.3->langchain_openai) (4.12.2)\n",
            "Requirement already satisfied: anyio<5,>=3.5.0 in /usr/local/lib/python3.10/dist-packages (from openai<2.0.0,>=1.40.0->langchain_openai) (3.7.1)\n",
            "Requirement already satisfied: distro<2,>=1.7.0 in /usr/lib/python3/dist-packages (from openai<2.0.0,>=1.40.0->langchain_openai) (1.7.0)\n",
            "Requirement already satisfied: httpx<1,>=0.23.0 in /usr/local/lib/python3.10/dist-packages (from openai<2.0.0,>=1.40.0->langchain_openai) (0.27.2)\n",
            "Collecting jiter<1,>=0.4.0 (from openai<2.0.0,>=1.40.0->langchain_openai)\n",
            "  Downloading jiter-0.5.0-cp310-cp310-manylinux_2_17_x86_64.manylinux2014_x86_64.whl.metadata (3.6 kB)\n",
            "Requirement already satisfied: sniffio in /usr/local/lib/python3.10/dist-packages (from openai<2.0.0,>=1.40.0->langchain_openai) (1.3.1)\n",
            "Requirement already satisfied: tqdm>4 in /usr/local/lib/python3.10/dist-packages (from openai<2.0.0,>=1.40.0->langchain_openai) (4.66.5)\n",
            "Requirement already satisfied: regex>=2022.1.18 in /usr/local/lib/python3.10/dist-packages (from tiktoken<1,>=0.7->langchain_openai) (2024.9.11)\n",
            "Requirement already satisfied: requests>=2.26.0 in /usr/local/lib/python3.10/dist-packages (from tiktoken<1,>=0.7->langchain_openai) (2.32.3)\n",
            "Requirement already satisfied: idna>=2.8 in /usr/local/lib/python3.10/dist-packages (from anyio<5,>=3.5.0->openai<2.0.0,>=1.40.0->langchain_openai) (3.10)\n",
            "Requirement already satisfied: exceptiongroup in /usr/local/lib/python3.10/dist-packages (from anyio<5,>=3.5.0->openai<2.0.0,>=1.40.0->langchain_openai) (1.2.2)\n",
            "Requirement already satisfied: certifi in /usr/local/lib/python3.10/dist-packages (from httpx<1,>=0.23.0->openai<2.0.0,>=1.40.0->langchain_openai) (2024.8.30)\n",
            "Requirement already satisfied: httpcore==1.* in /usr/local/lib/python3.10/dist-packages (from httpx<1,>=0.23.0->openai<2.0.0,>=1.40.0->langchain_openai) (1.0.5)\n",
            "Requirement already satisfied: h11<0.15,>=0.13 in /usr/local/lib/python3.10/dist-packages (from httpcore==1.*->httpx<1,>=0.23.0->openai<2.0.0,>=1.40.0->langchain_openai) (0.14.0)\n",
            "Requirement already satisfied: jsonpointer>=1.9 in /usr/local/lib/python3.10/dist-packages (from jsonpatch<2.0,>=1.33->langchain-core<0.4,>=0.3->langchain_openai) (3.0.0)\n",
            "Requirement already satisfied: orjson<4.0.0,>=3.9.14 in /usr/local/lib/python3.10/dist-packages (from langsmith<0.2.0,>=0.1.125->langchain-core<0.4,>=0.3->langchain_openai) (3.10.7)\n",
            "Requirement already satisfied: annotated-types>=0.6.0 in /usr/local/lib/python3.10/dist-packages (from pydantic<3.0.0,>=2.5.2->langchain-core<0.4,>=0.3->langchain_openai) (0.7.0)\n",
            "Requirement already satisfied: pydantic-core==2.23.4 in /usr/local/lib/python3.10/dist-packages (from pydantic<3.0.0,>=2.5.2->langchain-core<0.4,>=0.3->langchain_openai) (2.23.4)\n",
            "Requirement already satisfied: charset-normalizer<4,>=2 in /usr/local/lib/python3.10/dist-packages (from requests>=2.26.0->tiktoken<1,>=0.7->langchain_openai) (3.3.2)\n",
            "Requirement already satisfied: urllib3<3,>=1.21.1 in /usr/local/lib/python3.10/dist-packages (from requests>=2.26.0->tiktoken<1,>=0.7->langchain_openai) (2.2.3)\n",
            "Downloading langchain_openai-0.2.1-py3-none-any.whl (49 kB)\n",
            "\u001b[2K   \u001b[90m━━━━━━━━━━━━━━━━━━━━━━━━━━━━━━━━━━━━━━━━\u001b[0m \u001b[32m49.6/49.6 kB\u001b[0m \u001b[31m2.1 MB/s\u001b[0m eta \u001b[36m0:00:00\u001b[0m\n",
            "\u001b[?25hDownloading openai-1.48.0-py3-none-any.whl (376 kB)\n",
            "\u001b[2K   \u001b[90m━━━━━━━━━━━━━━━━━━━━━━━━━━━━━━━━━━━━━━━━\u001b[0m \u001b[32m376.1/376.1 kB\u001b[0m \u001b[31m8.5 MB/s\u001b[0m eta \u001b[36m0:00:00\u001b[0m\n",
            "\u001b[?25hDownloading tiktoken-0.7.0-cp310-cp310-manylinux_2_17_x86_64.manylinux2014_x86_64.whl (1.1 MB)\n",
            "\u001b[2K   \u001b[90m━━━━━━━━━━━━━━━━━━━━━━━━━━━━━━━━━━━━━━━━\u001b[0m \u001b[32m1.1/1.1 MB\u001b[0m \u001b[31m34.9 MB/s\u001b[0m eta \u001b[36m0:00:00\u001b[0m\n",
            "\u001b[?25hDownloading jiter-0.5.0-cp310-cp310-manylinux_2_17_x86_64.manylinux2014_x86_64.whl (318 kB)\n",
            "\u001b[2K   \u001b[90m━━━━━━━━━━━━━━━━━━━━━━━━━━━━━━━━━━━━━━━━\u001b[0m \u001b[32m318.9/318.9 kB\u001b[0m \u001b[31m29.6 MB/s\u001b[0m eta \u001b[36m0:00:00\u001b[0m\n",
            "\u001b[?25hInstalling collected packages: jiter, tiktoken, openai, langchain_openai\n",
            "Successfully installed jiter-0.5.0 langchain_openai-0.2.1 openai-1.48.0 tiktoken-0.7.0\n",
            "Collecting qdrant_client\n",
            "  Downloading qdrant_client-1.11.3-py3-none-any.whl.metadata (10 kB)\n",
            "Requirement already satisfied: grpcio>=1.41.0 in /usr/local/lib/python3.10/dist-packages (from qdrant_client) (1.64.1)\n",
            "Collecting grpcio-tools>=1.41.0 (from qdrant_client)\n",
            "  Downloading grpcio_tools-1.66.1-cp310-cp310-manylinux_2_17_x86_64.manylinux2014_x86_64.whl.metadata (5.3 kB)\n",
            "Requirement already satisfied: httpx>=0.20.0 in /usr/local/lib/python3.10/dist-packages (from httpx[http2]>=0.20.0->qdrant_client) (0.27.2)\n",
            "Requirement already satisfied: numpy>=1.21 in /usr/local/lib/python3.10/dist-packages (from qdrant_client) (1.26.4)\n",
            "Collecting portalocker<3.0.0,>=2.7.0 (from qdrant_client)\n",
            "  Downloading portalocker-2.10.1-py3-none-any.whl.metadata (8.5 kB)\n",
            "Requirement already satisfied: pydantic>=1.10.8 in /usr/local/lib/python3.10/dist-packages (from qdrant_client) (2.9.2)\n",
            "Requirement already satisfied: urllib3<3,>=1.26.14 in /usr/local/lib/python3.10/dist-packages (from qdrant_client) (2.2.3)\n",
            "Collecting protobuf<6.0dev,>=5.26.1 (from grpcio-tools>=1.41.0->qdrant_client)\n",
            "  Downloading protobuf-5.28.2-cp38-abi3-manylinux2014_x86_64.whl.metadata (592 bytes)\n",
            "Collecting grpcio>=1.41.0 (from qdrant_client)\n",
            "  Downloading grpcio-1.66.1-cp310-cp310-manylinux_2_17_x86_64.manylinux2014_x86_64.whl.metadata (3.9 kB)\n",
            "Requirement already satisfied: setuptools in /usr/local/lib/python3.10/dist-packages (from grpcio-tools>=1.41.0->qdrant_client) (71.0.4)\n",
            "Requirement already satisfied: anyio in /usr/local/lib/python3.10/dist-packages (from httpx>=0.20.0->httpx[http2]>=0.20.0->qdrant_client) (3.7.1)\n",
            "Requirement already satisfied: certifi in /usr/local/lib/python3.10/dist-packages (from httpx>=0.20.0->httpx[http2]>=0.20.0->qdrant_client) (2024.8.30)\n",
            "Requirement already satisfied: httpcore==1.* in /usr/local/lib/python3.10/dist-packages (from httpx>=0.20.0->httpx[http2]>=0.20.0->qdrant_client) (1.0.5)\n",
            "Requirement already satisfied: idna in /usr/local/lib/python3.10/dist-packages (from httpx>=0.20.0->httpx[http2]>=0.20.0->qdrant_client) (3.10)\n",
            "Requirement already satisfied: sniffio in /usr/local/lib/python3.10/dist-packages (from httpx>=0.20.0->httpx[http2]>=0.20.0->qdrant_client) (1.3.1)\n",
            "Requirement already satisfied: h11<0.15,>=0.13 in /usr/local/lib/python3.10/dist-packages (from httpcore==1.*->httpx>=0.20.0->httpx[http2]>=0.20.0->qdrant_client) (0.14.0)\n",
            "Collecting h2<5,>=3 (from httpx[http2]>=0.20.0->qdrant_client)\n",
            "  Downloading h2-4.1.0-py3-none-any.whl.metadata (3.6 kB)\n",
            "Requirement already satisfied: annotated-types>=0.6.0 in /usr/local/lib/python3.10/dist-packages (from pydantic>=1.10.8->qdrant_client) (0.7.0)\n",
            "Requirement already satisfied: pydantic-core==2.23.4 in /usr/local/lib/python3.10/dist-packages (from pydantic>=1.10.8->qdrant_client) (2.23.4)\n",
            "Requirement already satisfied: typing-extensions>=4.6.1 in /usr/local/lib/python3.10/dist-packages (from pydantic>=1.10.8->qdrant_client) (4.12.2)\n",
            "Collecting hyperframe<7,>=6.0 (from h2<5,>=3->httpx[http2]>=0.20.0->qdrant_client)\n",
            "  Downloading hyperframe-6.0.1-py3-none-any.whl.metadata (2.7 kB)\n",
            "Collecting hpack<5,>=4.0 (from h2<5,>=3->httpx[http2]>=0.20.0->qdrant_client)\n",
            "  Downloading hpack-4.0.0-py3-none-any.whl.metadata (2.5 kB)\n",
            "Requirement already satisfied: exceptiongroup in /usr/local/lib/python3.10/dist-packages (from anyio->httpx>=0.20.0->httpx[http2]>=0.20.0->qdrant_client) (1.2.2)\n",
            "Downloading qdrant_client-1.11.3-py3-none-any.whl (258 kB)\n",
            "\u001b[2K   \u001b[90m━━━━━━━━━━━━━━━━━━━━━━━━━━━━━━━━━━━━━━━━\u001b[0m \u001b[32m258.9/258.9 kB\u001b[0m \u001b[31m5.5 MB/s\u001b[0m eta \u001b[36m0:00:00\u001b[0m\n",
            "\u001b[?25hDownloading grpcio_tools-1.66.1-cp310-cp310-manylinux_2_17_x86_64.manylinux2014_x86_64.whl (2.4 MB)\n",
            "\u001b[2K   \u001b[90m━━━━━━━━━━━━━━━━━━━━━━━━━━━━━━━━━━━━━━━━\u001b[0m \u001b[32m2.4/2.4 MB\u001b[0m \u001b[31m37.9 MB/s\u001b[0m eta \u001b[36m0:00:00\u001b[0m\n",
            "\u001b[?25hDownloading grpcio-1.66.1-cp310-cp310-manylinux_2_17_x86_64.manylinux2014_x86_64.whl (5.7 MB)\n",
            "\u001b[2K   \u001b[90m━━━━━━━━━━━━━━━━━━━━━━━━━━━━━━━━━━━━━━━━\u001b[0m \u001b[32m5.7/5.7 MB\u001b[0m \u001b[31m70.0 MB/s\u001b[0m eta \u001b[36m0:00:00\u001b[0m\n",
            "\u001b[?25hDownloading portalocker-2.10.1-py3-none-any.whl (18 kB)\n",
            "Downloading h2-4.1.0-py3-none-any.whl (57 kB)\n",
            "\u001b[2K   \u001b[90m━━━━━━━━━━━━━━━━━━━━━━━━━━━━━━━━━━━━━━━━\u001b[0m \u001b[32m57.5/57.5 kB\u001b[0m \u001b[31m5.3 MB/s\u001b[0m eta \u001b[36m0:00:00\u001b[0m\n",
            "\u001b[?25hDownloading protobuf-5.28.2-cp38-abi3-manylinux2014_x86_64.whl (316 kB)\n",
            "\u001b[2K   \u001b[90m━━━━━━━━━━━━━━━━━━━━━━━━━━━━━━━━━━━━━━━━\u001b[0m \u001b[32m316.6/316.6 kB\u001b[0m \u001b[31m24.5 MB/s\u001b[0m eta \u001b[36m0:00:00\u001b[0m\n",
            "\u001b[?25hDownloading hpack-4.0.0-py3-none-any.whl (32 kB)\n",
            "Downloading hyperframe-6.0.1-py3-none-any.whl (12 kB)\n",
            "Installing collected packages: protobuf, portalocker, hyperframe, hpack, grpcio, h2, grpcio-tools, qdrant_client\n",
            "  Attempting uninstall: protobuf\n",
            "    Found existing installation: protobuf 3.20.3\n",
            "    Uninstalling protobuf-3.20.3:\n",
            "      Successfully uninstalled protobuf-3.20.3\n",
            "  Attempting uninstall: grpcio\n",
            "    Found existing installation: grpcio 1.64.1\n",
            "    Uninstalling grpcio-1.64.1:\n",
            "      Successfully uninstalled grpcio-1.64.1\n",
            "\u001b[31mERROR: pip's dependency resolver does not currently take into account all the packages that are installed. This behaviour is the source of the following dependency conflicts.\n",
            "cudf-cu12 24.4.1 requires protobuf<5,>=3.20, but you have protobuf 5.28.2 which is incompatible.\n",
            "google-ai-generativelanguage 0.6.6 requires protobuf!=3.20.0,!=3.20.1,!=4.21.0,!=4.21.1,!=4.21.2,!=4.21.3,!=4.21.4,!=4.21.5,<5.0.0dev,>=3.19.5, but you have protobuf 5.28.2 which is incompatible.\n",
            "google-cloud-datastore 2.19.0 requires protobuf!=3.20.0,!=3.20.1,!=4.21.0,!=4.21.1,!=4.21.2,!=4.21.3,!=4.21.4,!=4.21.5,<5.0.0dev,>=3.19.5, but you have protobuf 5.28.2 which is incompatible.\n",
            "google-cloud-firestore 2.16.1 requires protobuf!=3.20.0,!=3.20.1,!=4.21.0,!=4.21.1,!=4.21.2,!=4.21.3,!=4.21.4,!=4.21.5,<5.0.0dev,>=3.19.5, but you have protobuf 5.28.2 which is incompatible.\n",
            "tensorboard 2.17.0 requires protobuf!=4.24.0,<5.0.0,>=3.19.6, but you have protobuf 5.28.2 which is incompatible.\n",
            "tensorflow 2.17.0 requires protobuf!=4.21.0,!=4.21.1,!=4.21.2,!=4.21.3,!=4.21.4,!=4.21.5,<5.0.0dev,>=3.20.3, but you have protobuf 5.28.2 which is incompatible.\n",
            "tensorflow-metadata 1.15.0 requires protobuf<4.21,>=3.20.3; python_version < \"3.11\", but you have protobuf 5.28.2 which is incompatible.\u001b[0m\u001b[31m\n",
            "\u001b[0mSuccessfully installed grpcio-1.66.1 grpcio-tools-1.66.1 h2-4.1.0 hpack-4.0.0 hyperframe-6.0.1 portalocker-2.10.1 protobuf-5.28.2 qdrant_client-1.11.3\n"
          ]
        }
      ],
      "source": [
        "!pip install langchain langchain_community\n",
        "!pip install neo4j\n",
        "!pip install groq\n",
        "!pip install -U --quiet langchain-groq\n",
        "!pip install langchain_experimental\n",
        "#!pip install together\n",
        "!pip install langchain_openai\n",
        "!pip install qdrant_client"
      ]
    },
    {
      "cell_type": "code",
      "execution_count": 5,
      "metadata": {
        "id": "WJBnPQHSe1jW"
      },
      "outputs": [],
      "source": [
        "import os\n",
        "from langchain.graphs import Neo4jGraph\n",
        "import requests\n",
        "from bs4 import BeautifulSoup\n",
        "import pandas as pd\n",
        "from langchain.chains import GraphCypherQAChain\n",
        "from langchain.chat_models import ChatOpenAI\n",
        "from langchain_groq import ChatGroq\n",
        "\n",
        "\n",
        "neo4j_url = \"\"\n",
        "neo4j_username = \"\"\n",
        "neo4j_password = \"\"\n"
      ]
    },
    {
      "cell_type": "code",
      "execution_count": 7,
      "metadata": {
        "id": "FiS0VKoKgBox"
      },
      "outputs": [],
      "source": [
        "## LOAD DATA\n",
        "\n",
        "data_news=pd.read_csv(\"/content/Final_Mpox_Data_Adjusted.csv\")\n",
        "data_news.head()\n",
        "news_content = list(data_news[\"new_content\"])"
      ]
    },
    {
      "cell_type": "code",
      "execution_count": 36,
      "metadata": {
        "colab": {
          "base_uri": "https://localhost:8080/",
          "height": 573
        },
        "id": "FnweWGfCw1aC",
        "outputId": "f806a4e4-39d3-48f6-cf37-2e5d2d76cae5"
      },
      "outputs": [
        {
          "data": {
            "application/vnd.google.colaboratory.intrinsic+json": {
              "summary": "{\n  \"name\": \"data_news\",\n  \"rows\": 174,\n  \"fields\": [\n    {\n      \"column\": \"Unnamed: 0\",\n      \"properties\": {\n        \"dtype\": \"number\",\n        \"std\": 51,\n        \"min\": 0,\n        \"max\": 176,\n        \"num_unique_values\": 174,\n        \"samples\": [\n          158,\n          147,\n          104\n        ],\n        \"semantic_type\": \"\",\n        \"description\": \"\"\n      }\n    },\n    {\n      \"column\": \"url\",\n      \"properties\": {\n        \"dtype\": \"string\",\n        \"num_unique_values\": 164,\n        \"samples\": [\n          \"http://outbreaknewstoday.com/2nd-monkeypox-case-confirmed-in-argentina-40138/\",\n          \"https://www.fox4news.com/news/monkeypox-in-texas-man-ignore-doctors-orders-flew-home-to-dallas-after-diagnosis\",\n          \"https://mb.com.ph/2022/05/29/mexico-confirms-its-first-monkeypox-case/\"\n        ],\n        \"semantic_type\": \"\",\n        \"description\": \"\"\n      }\n    },\n    {\n      \"column\": \"country\",\n      \"properties\": {\n        \"dtype\": \"category\",\n        \"num_unique_values\": 5,\n        \"samples\": [\n          \"AR\",\n          \"US\",\n          \"CO\"\n        ],\n        \"semantic_type\": \"\",\n        \"description\": \"\"\n      }\n    },\n    {\n      \"column\": \"Symptoms\",\n      \"properties\": {\n        \"dtype\": \"category\",\n        \"num_unique_values\": 57,\n        \"samples\": [\n          \"Swollen Lymph Nodes, Fever, Rash\",\n          \"Rash\",\n          \"Fever, Muscle Aches, Swollen Lymph Nodes\"\n        ],\n        \"semantic_type\": \"\",\n        \"description\": \"\"\n      }\n    },\n    {\n      \"column\": \"Transmission\",\n      \"properties\": {\n        \"dtype\": \"category\",\n        \"num_unique_values\": 17,\n        \"samples\": [\n          \"Skin-to-Skin, close contact\",\n          \"Contaminated Objects, close contact\",\n          \"Respiratory, close contact\"\n        ],\n        \"semantic_type\": \"\",\n        \"description\": \"\"\n      }\n    },\n    {\n      \"column\": \"Organization\",\n      \"properties\": {\n        \"dtype\": \"category\",\n        \"num_unique_values\": 12,\n        \"samples\": [\n          \"Ministry of Health of Argentina\",\n          \"WHO, CDC\",\n          \"Ministry of Health of Mexico\"\n        ],\n        \"semantic_type\": \"\",\n        \"description\": \"\"\n      }\n    },\n    {\n      \"column\": \"Virus\",\n      \"properties\": {\n        \"dtype\": \"category\",\n        \"num_unique_values\": 8,\n        \"samples\": [\n          \"Mpox, Monkeypox\",\n          \"Monkeypox, COVID-19\",\n          \"Mpox\"\n        ],\n        \"semantic_type\": \"\",\n        \"description\": \"\"\n      }\n    },\n    {\n      \"column\": \"Location\",\n      \"properties\": {\n        \"dtype\": \"category\",\n        \"num_unique_values\": 4,\n        \"samples\": [\n          \"Argentina\",\n          \"Colombia\",\n          \"Mexico\"\n        ],\n        \"semantic_type\": \"\",\n        \"description\": \"\"\n      }\n    },\n    {\n      \"column\": \"Label\",\n      \"properties\": {\n        \"dtype\": \"boolean\",\n        \"num_unique_values\": 2,\n        \"samples\": [\n          false,\n          true\n        ],\n        \"semantic_type\": \"\",\n        \"description\": \"\"\n      }\n    },\n    {\n      \"column\": \"new_content\",\n      \"properties\": {\n        \"dtype\": \"string\",\n        \"num_unique_values\": 158,\n        \"samples\": [\n          \"MEXICO CITY, Mexico - Health officials in Mexico confirmed Saturday the country's first known case of monkeypox, in a 50-year-old US resident being treated in Mexico City.\\n\\nThe man, a permanent resident of New York City, \\\"was probably infected in the Netherlands,\\\" Hugo Lopez-Gatell, an undersecretary of health, said on Twitter.\\n\\n\\\"Fortunately, he is stable and in preventive isolation,\\\" Lopez-Gatell said. \\\"We hope he will recover without complications.\\\" He provided no information on the patient's possible contacts with other people.\\n\\nOn Friday, health authorities in Argentina confirmed the first two known cases of the disease anywhere in Latin America -- those of a 40-year-old man who had returned to Argentina from Spain, and of a Spaniard who was visiting Buenos Aires.\\n\\nThe two cases apparently were unconnected.\\n\\nThe monkeypox virus can be transmitted to humans by infected animals. Person-to-person transmission is possible but rare.\\n\\nMonkeypox is related to smallpox but is much less severe. Initial symptoms include a high fever, swollen lymph nodes and a chickenpox-like rash.\\n\\nThere is no specific treatment but vaccination against smallpox has been found to be about 85 percent effective in preventing monkeypox.\\n\\nMonkeypox was first detected in the Democratic Republic of Congo in 1970 and is considered endemic in around a dozen African countries.\\n\\nIts appearance in non-endemic countries has worried experts, although those cases reported so far have been mostly mild and there have been no deaths.\\n\\nThere have been at least a half-dozen confirmed or suspected cases in the US.\",\n          \"For many gay and bisexual men, the sprawling and chaotic monkeypox outbreak has upended a summer that was supposed to be a well-earned opportunity \\u2014 following the peak of the Covid crisis \\u2014 to finally have some fun and revel with their gay brothers without the threat of viral infection hanging over them.\\n\\nSoon after Memorial Day, however, these men, as well as transgender individuals and other queer people \\u2014 GBTQ for short, because lesbians\\u2019 monkeypox risk is remote \\u2014 were met head-on with harrowing reports about monkeypox\\u2019s often devastating and disfiguring effects on the body. Next came anger and frustration over what queer activists characterize as the Biden administration\\u2019s fumbling initial response to the outbreak.\\n\\nLost amid the frantic media and public health reports about monkeypox epidemiology, the delayed vaccine deliveries and the squabbling over how best to communicate about the virus are the millions of GBTQ people whose happiness, well-being and connection to one another have in many cases been considerably compromised by the mere threat of monkeypox infection.\\n\\nImage: Guillermo Rojas. (Benjamin Ryan)\\n\\n\\u201cLife has sort of halted,\\u201d said Guillermo Rojas, 29, a Mexican citizen and public administration graduate student in New York City. \\u201cThis was supposed to be the great summer that everything went back and opened.\\u201d\\n\\nDr. Alex Keuroghlian, a psychiatrist at the LGBTQ-health-focused Fenway Institute in Boston, said the outbreak has \\u201cbeen extremely distressing for community members and is also triggering in that it harkens back to the early days of the AIDS epidemic. It has a chilling effect on people\\u2019s sense of community, cohesion and belonging.\\u201d\\n\\nFortunately, there has been at most one U.S. monkeypox death in the U.S. \\u2014 a potential case in a severely immunocompromised person in Texas is under investigation \\u2014 even as the national case count has swelled to 19,465 diagnoses. And after a slow start, the federal government has now doled out approximately 800,000 vaccine vials, with a heady supply arriving in short order.\\n\\nBut provided how the virus, which gives rise to unsightly lesions that in some cases cause excruciating pain, is overwhelmingly spreading during sex between men, the outbreak has cast a long shadow over the gay community.\\n\\nPeople lined up outside of Department of Health & Mental Hygiene clinic on June 23, 2022 in New York, as NYC makes vaccines available to residents possibly exposed to monkeypox. (Tayfun Coskun / Anadolu Agency via Getty Images)\\n\\nOver 100 gay, bisexual, transgender and queer people responded to an NBC News online survey seeking to learn about how monkeypox has affected their lives. What this diverse cross-section of the community most had in common were missed opportunities. They wrote about sex they never had, dates they never went on and gatherings with friends they avoided.\\n\\nAll that avoidance, the respondents made evident, was enmeshed in a cat\\u2019s cradle of fear \\u2014 of contagion, of pain and suffering, of lonely and potentially financially ruinous weeks of isolation at home should they contract the virus.\\n\\nThey spoke of a summer they had hoped would prove invincible but that for them has turned out to be anything but.\\n\\nA decade of sexual liberation, interrupted\\n\\nOver the past 10 years, the introduction of PrEP, the HIV prevention pill, and the emergence of landmark studies proving that successfully treating HIV blocks transmission of the virus have cultivated a resurgent sexual liberation among many GBTQ people. Long-standing anxieties about HIV have eased, and hookup apps have made meeting sexual partners as convenient as procuring takeout \\u2014 hence the term \\u201cordering in.\\u201d As a result, people like Rojas have felt free to explore and revel in sex in a way queer people haven\\u2019t since the AIDS epidemic brought to a crashing close the sexual freedoms gay men enjoyed during the 1970s.\\n\\nThen, in 2020, a new viral plague kept all of society cooped up and longing for freedom.\\n\\n\\u201cPost-Covid,\\u201d said Rojas, recalling how he experienced the free-spirited bacchanalia into which monkeypox arrived in New York City this spring, \\u201ceverybody went crazy, and there were sex parties all over town.\\u201d\\n\\nMonkeypox swiftly pushed the contemporary safer-sex playbook out the window. Queer people have been left scrambling for answers about how to protect themselves and have expressed bewilderment as they\\u2019ve struggled to process mixed messaging from public health leaders and journalists about what poses a substantial risk of infection.\\n\\nRojas was one of the first U.S. residents to receive the prized monkeypox vaccine, in late June. But even with the benefit of his first jab of the two-dose vaccine, he has still sharply curtailed what he had hoped would be a long-awaited libertine summer.\\n\\n\\u201cI\\u2019ve stopped going to sex parties,\\u201d he said, given that public health authorities identified such gatherings of men as major monkeypox risk factors. \\u201cI also stopped having sex with people who live off their OnlyFans. I additionally stopped cruising at the gym, I did not continue to go to Fire Island, and I stopped attending orgies.\\u201d\\n\\nEvidence suggests a recent tidal shift in sexual behaviors in responses to monkeypox. According to the American Men\\u2019s Internet Survey, which conducted an online poll in early August of 824 gay, bisexual and other men who have sex with men, 48% reported reducing their number of sexual partners because of the outbreak, while 50% reduced hook-ups and 49% reduced partners met on hookup apps or at sex venues.\\n\\n\\u201cIt\\u2019s just a small, temporary break until everybody gets the vaccine,\\u201d said Rojas, who remained so concerned about living in the nation\\u2019s monkeypox epicenter that he decamped to his family\\u2019s home in Mexico City for the summer.\\n\\nFighting over \\u2014 and for \\u2014 sexual freedom\\n\\nNot everyone in the queer community has been on the same page regarding monkeypox precautions. Just as battles over mask mandates and school closures have turned neighbor against neighbor during the Covid pandemic, fierce internecine conflicts have arisen among GBTQ people this summer about the best ways to respond to and communicate about monkeypox.\\n\\nMichael Weinstein, the president of the Los Angeles-based AIDS Healthcare Foundation, dusted off his outspoken antipathy toward PrEP and published a scathing rebuke of the sexual liberties the HIV-prevention pill has facilitated in an op-ed titled \\u201cMonkeypox Reckoning\\u201d in the Los Angeles Blade on Monday. Notorious for an unapologetically strident, moralizing and fear-based approach to HIV-prevention communication, one that is far out of step with that of the vast majority of the public health community, Weinstein decried \\u201ca wholesale abandonment of safer sex promotion in favor of PrEP.\\u201d\\n\\n\\u201cThere has always been a sex radical group that has defined gay liberation as absolute sexual freedom,\\u201d Weinstein wrote, blaming monkeypox on those freedoms.\\n\\nFor another man named Michael, who like some people interviewed preferred to go only by his first name to shield his privacy, protecting himself against monkeypox by sacrificing the very sexual freedoms that Weinstein castigates has come, he said, at a great cost.\\n\\n\\u201cI am not changing my behavior with an attitude of cheerful, take-one-for-the-team compliance,\\u201d said Michael, 42, who works in education in Philadelphia. \\u201cInstead, I find the situation fearful, miserable and diminishing. I am experiencing this outbreak as a serious setback to something that is very important to me, namely sexual freedom.\\n\\n\\u201cSex,\\u201d he continued, \\u201cisn\\u2019t just a frivolous pastime. For many of us, sex has serious meaning, sex is one of the things that makes life worth living.\\u201d\\n\\nImage: LaRon Nelson (Mara Lavitt)\\n\\nAfter more than two years of Covid restrictions, the arrival on U.S. shores of yet another major virus has also dealt a blow to the already strained mental health of many queer people, said LaRon Nelson, an associate professor of nursing and public health at Yale University.\\n\\n\\u201cThe fear of contracting monkeypox and the concern about access to the vaccine have led people to isolate or continue to isolate,\\u201d Nelson said. \\u201cThat chronic exposure to this type of stress also comes at the expense of their psychological well-being.\\u201d\\n\\nJ.J. Ryan, a bisexual trans man assigned female at birth, spent the height of the Covid pandemic transitioning.\\n\\n\\u201cI felt like I was just surviving before. I wasn\\u2019t really living,\\u201d Ryan, 34, said of his pre-transition life. \\u201cSo I was really excited to get out and live my life \\u2014 for this to finally be my \\u2018hot boy summer.\\u2019\\u201d Instead, he said, he has sadly \\u201csharply reduced\\u201d his sexual exploration.\\n\\nFears of resurgent discrimination\\n\\nWith so many broken social, romantic, familial and sexual connections lying in pieces around them, many of the respondents to NBC News\\u2019 survey said they further dreaded that the monkeypox outbreak would fuel discrimination, hate and even violence toward LGBTQ people.\\n\\nThere is evidence \\u2014 including a recent attack in Washington, D.C. \\u2014 that such fears are beginning to manifest.\\n\\n\\u201cMy greatest worry in all of this is the turning of the clock back to less and less acceptance society-wise,\\u201d said Ryan, who is a Ph.D. student and a policy researcher at a nonprofit research organization in Washington.\\n\\nImage: John Pachankis (Michael Benabib)\\n\\nJohn Pachankis, a psychologist at the Yale School of Public Health, noted how for the past two decades, queer advocacy organizations have pushed \\u201ca narrative that gay people are just like everyone else\\u201d in a successful effort to secure many civil rights protections. He spoke to the conflict that members of this community now face when the particulars of gay sex lie at the heart of the monkeypox outbreak and, as during the AIDS crisis, have become fodder for intense public debate.\\n\\n\\u201cIn the context of the real threat of those rights\\u2019 being taken away,\\u201d Pachankis said, referring to the recent rising tide of anti-LGBTQ sentiment and policies in the U.S., \\u201cthe last thing that you want to do is disconfirm that narrative \\u2014 even if the picture is a little more nuanced, even if gay people do live distinct lives from straight people, even if they express their sexuality more creatively, some might say more authentically.\\u201d\\n\\nImage: Brian Minalga. (Courtesy Brian Minalga)\\n\\nBrian Minalga, 36, who is gender nonbinary and works in the HIV field in Seattle, said: \\u201cThere\\u2019s this idea that there are good people with good behaviors having the good type of sex. It\\u2019s moralistic and puritanical.\\u201d\\n\\nRecapitulating racial disparities\\n\\nFor queer people of color, the outbreak has brought an unwelcome recapitulation of the racial health disparities that have characterized both the HIV and the Covid epidemics in the U.S.\\n\\n\\u201cWe saw monkeypox start with more affluent white gay men, and then eventually it seeped into more diverse networks, and that includes men of color,\\u201d said Gregorio Millett, the director of public policy at amfAR, The Foundation for AIDS Research.\\n\\nThe Centers for Disease Control and Prevention and various state and local health departments have reported that monkeypox is indeed already disproportionately affecting Blacks and Latinos. And yet outsize shares of the vaccines have tended to go to whites \\u2014 thanks, health advocates say, to structural factors that favor access to more privileged members of society.\\n\\nWatching such patterns play out \\u201cis painful,\\u201d said Carlos E. Rodr\\u00edguez-D\\u00edaz, an associate professor at the Milken Institute School of Public Health at George Washington University, \\u201cbecause it\\u2019s a reminder of the presence of systemic racism.\\u201d\\n\\nMatthew Rose, 36, a health equity advocate in Washington, D.C., spoke to the myriad ways he and his Black gay peers have been dehumanized over time. He said he feared that monkeypox, the very name of which evokes a racist trope, will only worsen matters.\\n\\n\\u201cFor Black gay men, the last thing you need is to add a whole other discussion where you become this Black vector of disease,\\u201d he said.\\n\\nThree viruses, one sense of fear\\n\\nFor some GBTQ people, fears of contagion instilled during the height of the Covid pandemic have primed further anxieties about monkeypox. The rueful history of the early AIDS epidemic serves as yet another backdrop.\\n\\n\\u201cI decided several weeks ago that intimate contact isn\\u2019t worth the risk until I am fully vaccinated and the infection rate is under control,\\u201d said Steven Dwyer, 68, who is retired and based out of Baltimore and has been living with HIV since the mid-1980s. \\u201cAs a long-term AIDS survivor, I learned it\\u2019s better to get informed about disease outbreaks that could affect me.\\u201d\\n\\nThe plight of Jason, a Los Angeles-area screenwriter in his late 20s, is a particularly profound example of the way crippling anxieties about infectious disease can be all-consuming. Jason has lived with obsessive compulsive disorder since childhood. It causes him intense dread of contagion and contamination, as well as various compulsions in response to such thoughts and stimuli. Fear of Covid left him largely housebound. Now the monkeypox outbreak has magnified those fears just as he was starting to feel more comfortable with venturing outside.\\n\\nJason lives with his boyfriend, and they\\u2019re monogamous, so contracting monkeypox sexually isn\\u2019t a concern. But suggestions that casual contact or contaminated surfaces can transmit monkeypox have left him reluctant to push his luck with his OCD. Consequently, for Jason, it\\u2019s as if those cloistered first few months of the Covid pandemic never ended.\\n\\n\\u201cI am probably one of the only people I know that still doesn\\u2019t really go out much,\\u201d he said.\\n\\nMany other GBTQ people said monkeypox has led them to question going to crowded spaces, such as concerts, bars and clubs \\u2014 enjoyable outings and chances to connect with fellow queer people after having lived through the lonely and dull height of Covid.\\n\\nJason has been agonizing over whether to attend an upcoming concert of a performer he loves, something he has been looking forward to for years since it got delayed because of the pandemic. And in a recent interview, Dwyer, who travels constantly, expressed concern about contracting monkeypox from hotel linens.\\n\\nWorries about monkeypox transmission even led to the cancellation of a major concert at the Southern Decadence celebration in New Orleans, which takes place over Labor Day weekend \\u2014 even though it was to have been held outdoors.\\n\\nRyan said that when he visited his family in Philadelphia before he got his first monkeypox vaccination, his mother was hesitant to hug him for fear of the virus. That only aggravated his own worries about perhaps unknowingly passing monkeypox to his young niece and nephew.\\n\\nImage: Ben Rosen (Brent Unkrich)\\n\\nSuch hesitance from family members, said Ben Rosen, a psychotherapist at Harlem United in New York, parallels the cold shoulder many gay men got during the early AIDS crisis, \\u201cwhere people are being told, \\u2018Oh maybe you shouldn\\u2019t come visit.\\u2019\\u201d\\n\\nRecent research suggests, however, that anxieties about monkeypox transmission in public settings and other relatively casual scenarios are most likely misplaced or at least grossly overblown. According to research papers and reports from global health authorities, cases of nonsexual transmission are uncommon to rare.\\n\\nLast week, Dwyer concluded that bed sheets don\\u2019t actually pose a substantial risk.\\n\\nImage: Demetre Daskalakis. (Benjamin Ryan)\\n\\nOn an Aug. 19 call with reporters, Dr. Demetre Daskalakis, the deputy for the White House\\u2019s monkeypox response, said he believes attending crowded concerts is generally a low-risk activity. Merely brushing by someone, he said, is likely to be \\u201clow or no risk.\\u201d\\n\\nChristopher Vasquez, 39, the director of communications at the National Center for Lesbian Rights in San Francisco, said: \\u201cI think we need to be very careful about overreacting and shutting down events. Especially after two-plus years of the LGBTQ community feeling the effects of loneliness and depression because of Covid.\\u201d\\n\\nThe great work begins\\n\\nPraising the myriad ways queer activists have fought for a better response to monkeypox, including faster and broader access to vaccines, Keuroghlian of the Fenway Institute said, \\u201cThe silver lining is to see the amazing ability of our community to organize with solidarity and to articulate their needs.\\u201d\\n\\nThere are signs such efforts are bearing fruit.\\n\\nRecent reports suggest transmission slowdowns in New York, Chicago and San Francisco \\u2014 likely the result, experts theorize, of changes in sexual behavior, increased vaccination and possibly immunity from past infection.\\n\\nWith the challenging summer coming to a close, Guillermo Rojas is freshly back in New York for the fall semester of his graduate studies at Columbia University. Sitting in Manhattan\\u2019s Lincoln Center on a humid late-summer afternoon just after a cloudburst, he expressed optimism over the future of the outbreak.\\n\\n\\u201cAs people start getting vaccinated and the second vaccine starts kicking in for most people, things should get back to normal,\\u201d he said.\\n\\nHe got his own second shot on Wednesday.\\n\\nEditor\\u2019s note: NBC News would like to hear from people who have recovered from monkeypox infection. If you have, please fill out this confidential online survey, and we may contact you for an interview.\\n\\nFollow NBC Out on Twitter, Facebook & Instagram.\\n\\nThis article was originally published on NBCNews.com\"\n        ],\n        \"semantic_type\": \"\",\n        \"description\": \"\"\n      }\n    }\n  ]\n}",
              "type": "dataframe",
              "variable_name": "data_news"
            },
            "text/html": [
              "\n",
              "  <div id=\"df-aa60e362-b8e6-4226-b3a3-8dd2a00602c5\" class=\"colab-df-container\">\n",
              "    <div>\n",
              "<style scoped>\n",
              "    .dataframe tbody tr th:only-of-type {\n",
              "        vertical-align: middle;\n",
              "    }\n",
              "\n",
              "    .dataframe tbody tr th {\n",
              "        vertical-align: top;\n",
              "    }\n",
              "\n",
              "    .dataframe thead th {\n",
              "        text-align: right;\n",
              "    }\n",
              "</style>\n",
              "<table border=\"1\" class=\"dataframe\">\n",
              "  <thead>\n",
              "    <tr style=\"text-align: right;\">\n",
              "      <th></th>\n",
              "      <th>Unnamed: 0</th>\n",
              "      <th>url</th>\n",
              "      <th>country</th>\n",
              "      <th>Symptoms</th>\n",
              "      <th>Transmission</th>\n",
              "      <th>Organization</th>\n",
              "      <th>Virus</th>\n",
              "      <th>Location</th>\n",
              "      <th>Label</th>\n",
              "      <th>new_content</th>\n",
              "    </tr>\n",
              "  </thead>\n",
              "  <tbody>\n",
              "    <tr>\n",
              "      <th>0</th>\n",
              "      <td>0</td>\n",
              "      <td>https://www.yumasun.com/news/two-cases-of-mpox...</td>\n",
              "      <td>MX</td>\n",
              "      <td>Swollen Lymph Nodes, Fever, Rash</td>\n",
              "      <td>Skin-to-Skin, close contact</td>\n",
              "      <td>Ministry of Health of Mexico</td>\n",
              "      <td>Mpox</td>\n",
              "      <td>Mexico</td>\n",
              "      <td>True</td>\n",
              "      <td>Thank you for reading!\\n\\nPlease log in, or si...</td>\n",
              "    </tr>\n",
              "    <tr>\n",
              "      <th>1</th>\n",
              "      <td>1</td>\n",
              "      <td>https://en.mercopress.com/2024/08/29/case-in-c...</td>\n",
              "      <td>AR</td>\n",
              "      <td>fever, rash, muscle aches, headache</td>\n",
              "      <td>Skin-to-Skin, close contact</td>\n",
              "      <td>WHO, World Health Organization</td>\n",
              "      <td>Mpox, Monkeypox</td>\n",
              "      <td>Argentina</td>\n",
              "      <td>True</td>\n",
              "      <td>Case in Comodoro Rivadavia not mpox, lab tests...</td>\n",
              "    </tr>\n",
              "    <tr>\n",
              "      <th>2</th>\n",
              "      <td>2</td>\n",
              "      <td>https://www.thestar.com.my/news/nation/2024/08...</td>\n",
              "      <td>MX</td>\n",
              "      <td>fever, muscle aches, swollen lymph nodes, head...</td>\n",
              "      <td>Skin-to-Skin, close contact</td>\n",
              "      <td>WHO</td>\n",
              "      <td>Mpox, Monkeypox</td>\n",
              "      <td>Mexico</td>\n",
              "      <td>True</td>\n",
              "      <td>JOHOR BARU: Johor, known as the southern gatew...</td>\n",
              "    </tr>\n",
              "    <tr>\n",
              "      <th>3</th>\n",
              "      <td>3</td>\n",
              "      <td>https://latinamericanpost.com/analysis-en/arge...</td>\n",
              "      <td>AR</td>\n",
              "      <td>fever</td>\n",
              "      <td>Contaminated Objects, close contact</td>\n",
              "      <td>WHO, World Health Organization</td>\n",
              "      <td>Mpox, Monkeypox, COVID-19</td>\n",
              "      <td>Argentina</td>\n",
              "      <td>True</td>\n",
              "      <td>Argentina’s Pope Francis has urged governments...</td>\n",
              "    </tr>\n",
              "    <tr>\n",
              "      <th>4</th>\n",
              "      <td>4</td>\n",
              "      <td>https://www.stabroeknews.com/2024/08/21/news/r...</td>\n",
              "      <td>AR</td>\n",
              "      <td>fever</td>\n",
              "      <td>close contact</td>\n",
              "      <td>WHO, World Health Organization</td>\n",
              "      <td>Mpox</td>\n",
              "      <td>Argentina</td>\n",
              "      <td>True</td>\n",
              "      <td>BUENOS AIRES (Reuters) – Argentine authorities...</td>\n",
              "    </tr>\n",
              "  </tbody>\n",
              "</table>\n",
              "</div>\n",
              "    <div class=\"colab-df-buttons\">\n",
              "\n",
              "  <div class=\"colab-df-container\">\n",
              "    <button class=\"colab-df-convert\" onclick=\"convertToInteractive('df-aa60e362-b8e6-4226-b3a3-8dd2a00602c5')\"\n",
              "            title=\"Convert this dataframe to an interactive table.\"\n",
              "            style=\"display:none;\">\n",
              "\n",
              "  <svg xmlns=\"http://www.w3.org/2000/svg\" height=\"24px\" viewBox=\"0 -960 960 960\">\n",
              "    <path d=\"M120-120v-720h720v720H120Zm60-500h600v-160H180v160Zm220 220h160v-160H400v160Zm0 220h160v-160H400v160ZM180-400h160v-160H180v160Zm440 0h160v-160H620v160ZM180-180h160v-160H180v160Zm440 0h160v-160H620v160Z\"/>\n",
              "  </svg>\n",
              "    </button>\n",
              "\n",
              "  <style>\n",
              "    .colab-df-container {\n",
              "      display:flex;\n",
              "      gap: 12px;\n",
              "    }\n",
              "\n",
              "    .colab-df-convert {\n",
              "      background-color: #E8F0FE;\n",
              "      border: none;\n",
              "      border-radius: 50%;\n",
              "      cursor: pointer;\n",
              "      display: none;\n",
              "      fill: #1967D2;\n",
              "      height: 32px;\n",
              "      padding: 0 0 0 0;\n",
              "      width: 32px;\n",
              "    }\n",
              "\n",
              "    .colab-df-convert:hover {\n",
              "      background-color: #E2EBFA;\n",
              "      box-shadow: 0px 1px 2px rgba(60, 64, 67, 0.3), 0px 1px 3px 1px rgba(60, 64, 67, 0.15);\n",
              "      fill: #174EA6;\n",
              "    }\n",
              "\n",
              "    .colab-df-buttons div {\n",
              "      margin-bottom: 4px;\n",
              "    }\n",
              "\n",
              "    [theme=dark] .colab-df-convert {\n",
              "      background-color: #3B4455;\n",
              "      fill: #D2E3FC;\n",
              "    }\n",
              "\n",
              "    [theme=dark] .colab-df-convert:hover {\n",
              "      background-color: #434B5C;\n",
              "      box-shadow: 0px 1px 3px 1px rgba(0, 0, 0, 0.15);\n",
              "      filter: drop-shadow(0px 1px 2px rgba(0, 0, 0, 0.3));\n",
              "      fill: #FFFFFF;\n",
              "    }\n",
              "  </style>\n",
              "\n",
              "    <script>\n",
              "      const buttonEl =\n",
              "        document.querySelector('#df-aa60e362-b8e6-4226-b3a3-8dd2a00602c5 button.colab-df-convert');\n",
              "      buttonEl.style.display =\n",
              "        google.colab.kernel.accessAllowed ? 'block' : 'none';\n",
              "\n",
              "      async function convertToInteractive(key) {\n",
              "        const element = document.querySelector('#df-aa60e362-b8e6-4226-b3a3-8dd2a00602c5');\n",
              "        const dataTable =\n",
              "          await google.colab.kernel.invokeFunction('convertToInteractive',\n",
              "                                                    [key], {});\n",
              "        if (!dataTable) return;\n",
              "\n",
              "        const docLinkHtml = 'Like what you see? Visit the ' +\n",
              "          '<a target=\"_blank\" href=https://colab.research.google.com/notebooks/data_table.ipynb>data table notebook</a>'\n",
              "          + ' to learn more about interactive tables.';\n",
              "        element.innerHTML = '';\n",
              "        dataTable['output_type'] = 'display_data';\n",
              "        await google.colab.output.renderOutput(dataTable, element);\n",
              "        const docLink = document.createElement('div');\n",
              "        docLink.innerHTML = docLinkHtml;\n",
              "        element.appendChild(docLink);\n",
              "      }\n",
              "    </script>\n",
              "  </div>\n",
              "\n",
              "\n",
              "<div id=\"df-9f3860c6-27b3-41ab-b461-19c418af3a48\">\n",
              "  <button class=\"colab-df-quickchart\" onclick=\"quickchart('df-9f3860c6-27b3-41ab-b461-19c418af3a48')\"\n",
              "            title=\"Suggest charts\"\n",
              "            style=\"display:none;\">\n",
              "\n",
              "<svg xmlns=\"http://www.w3.org/2000/svg\" height=\"24px\"viewBox=\"0 0 24 24\"\n",
              "     width=\"24px\">\n",
              "    <g>\n",
              "        <path d=\"M19 3H5c-1.1 0-2 .9-2 2v14c0 1.1.9 2 2 2h14c1.1 0 2-.9 2-2V5c0-1.1-.9-2-2-2zM9 17H7v-7h2v7zm4 0h-2V7h2v10zm4 0h-2v-4h2v4z\"/>\n",
              "    </g>\n",
              "</svg>\n",
              "  </button>\n",
              "\n",
              "<style>\n",
              "  .colab-df-quickchart {\n",
              "      --bg-color: #E8F0FE;\n",
              "      --fill-color: #1967D2;\n",
              "      --hover-bg-color: #E2EBFA;\n",
              "      --hover-fill-color: #174EA6;\n",
              "      --disabled-fill-color: #AAA;\n",
              "      --disabled-bg-color: #DDD;\n",
              "  }\n",
              "\n",
              "  [theme=dark] .colab-df-quickchart {\n",
              "      --bg-color: #3B4455;\n",
              "      --fill-color: #D2E3FC;\n",
              "      --hover-bg-color: #434B5C;\n",
              "      --hover-fill-color: #FFFFFF;\n",
              "      --disabled-bg-color: #3B4455;\n",
              "      --disabled-fill-color: #666;\n",
              "  }\n",
              "\n",
              "  .colab-df-quickchart {\n",
              "    background-color: var(--bg-color);\n",
              "    border: none;\n",
              "    border-radius: 50%;\n",
              "    cursor: pointer;\n",
              "    display: none;\n",
              "    fill: var(--fill-color);\n",
              "    height: 32px;\n",
              "    padding: 0;\n",
              "    width: 32px;\n",
              "  }\n",
              "\n",
              "  .colab-df-quickchart:hover {\n",
              "    background-color: var(--hover-bg-color);\n",
              "    box-shadow: 0 1px 2px rgba(60, 64, 67, 0.3), 0 1px 3px 1px rgba(60, 64, 67, 0.15);\n",
              "    fill: var(--button-hover-fill-color);\n",
              "  }\n",
              "\n",
              "  .colab-df-quickchart-complete:disabled,\n",
              "  .colab-df-quickchart-complete:disabled:hover {\n",
              "    background-color: var(--disabled-bg-color);\n",
              "    fill: var(--disabled-fill-color);\n",
              "    box-shadow: none;\n",
              "  }\n",
              "\n",
              "  .colab-df-spinner {\n",
              "    border: 2px solid var(--fill-color);\n",
              "    border-color: transparent;\n",
              "    border-bottom-color: var(--fill-color);\n",
              "    animation:\n",
              "      spin 1s steps(1) infinite;\n",
              "  }\n",
              "\n",
              "  @keyframes spin {\n",
              "    0% {\n",
              "      border-color: transparent;\n",
              "      border-bottom-color: var(--fill-color);\n",
              "      border-left-color: var(--fill-color);\n",
              "    }\n",
              "    20% {\n",
              "      border-color: transparent;\n",
              "      border-left-color: var(--fill-color);\n",
              "      border-top-color: var(--fill-color);\n",
              "    }\n",
              "    30% {\n",
              "      border-color: transparent;\n",
              "      border-left-color: var(--fill-color);\n",
              "      border-top-color: var(--fill-color);\n",
              "      border-right-color: var(--fill-color);\n",
              "    }\n",
              "    40% {\n",
              "      border-color: transparent;\n",
              "      border-right-color: var(--fill-color);\n",
              "      border-top-color: var(--fill-color);\n",
              "    }\n",
              "    60% {\n",
              "      border-color: transparent;\n",
              "      border-right-color: var(--fill-color);\n",
              "    }\n",
              "    80% {\n",
              "      border-color: transparent;\n",
              "      border-right-color: var(--fill-color);\n",
              "      border-bottom-color: var(--fill-color);\n",
              "    }\n",
              "    90% {\n",
              "      border-color: transparent;\n",
              "      border-bottom-color: var(--fill-color);\n",
              "    }\n",
              "  }\n",
              "</style>\n",
              "\n",
              "  <script>\n",
              "    async function quickchart(key) {\n",
              "      const quickchartButtonEl =\n",
              "        document.querySelector('#' + key + ' button');\n",
              "      quickchartButtonEl.disabled = true;  // To prevent multiple clicks.\n",
              "      quickchartButtonEl.classList.add('colab-df-spinner');\n",
              "      try {\n",
              "        const charts = await google.colab.kernel.invokeFunction(\n",
              "            'suggestCharts', [key], {});\n",
              "      } catch (error) {\n",
              "        console.error('Error during call to suggestCharts:', error);\n",
              "      }\n",
              "      quickchartButtonEl.classList.remove('colab-df-spinner');\n",
              "      quickchartButtonEl.classList.add('colab-df-quickchart-complete');\n",
              "    }\n",
              "    (() => {\n",
              "      let quickchartButtonEl =\n",
              "        document.querySelector('#df-9f3860c6-27b3-41ab-b461-19c418af3a48 button');\n",
              "      quickchartButtonEl.style.display =\n",
              "        google.colab.kernel.accessAllowed ? 'block' : 'none';\n",
              "    })();\n",
              "  </script>\n",
              "</div>\n",
              "\n",
              "    </div>\n",
              "  </div>\n"
            ],
            "text/plain": [
              "   Unnamed: 0                                                url country  \\\n",
              "0           0  https://www.yumasun.com/news/two-cases-of-mpox...      MX   \n",
              "1           1  https://en.mercopress.com/2024/08/29/case-in-c...      AR   \n",
              "2           2  https://www.thestar.com.my/news/nation/2024/08...      MX   \n",
              "3           3  https://latinamericanpost.com/analysis-en/arge...      AR   \n",
              "4           4  https://www.stabroeknews.com/2024/08/21/news/r...      AR   \n",
              "\n",
              "                                            Symptoms  \\\n",
              "0                   Swollen Lymph Nodes, Fever, Rash   \n",
              "1                fever, rash, muscle aches, headache   \n",
              "2  fever, muscle aches, swollen lymph nodes, head...   \n",
              "3                                              fever   \n",
              "4                                              fever   \n",
              "\n",
              "                          Transmission                    Organization  \\\n",
              "0          Skin-to-Skin, close contact    Ministry of Health of Mexico   \n",
              "1          Skin-to-Skin, close contact  WHO, World Health Organization   \n",
              "2          Skin-to-Skin, close contact                             WHO   \n",
              "3  Contaminated Objects, close contact  WHO, World Health Organization   \n",
              "4                        close contact  WHO, World Health Organization   \n",
              "\n",
              "                       Virus   Location  Label  \\\n",
              "0                       Mpox     Mexico   True   \n",
              "1            Mpox, Monkeypox  Argentina   True   \n",
              "2            Mpox, Monkeypox     Mexico   True   \n",
              "3  Mpox, Monkeypox, COVID-19  Argentina   True   \n",
              "4                       Mpox  Argentina   True   \n",
              "\n",
              "                                         new_content  \n",
              "0  Thank you for reading!\\n\\nPlease log in, or si...  \n",
              "1  Case in Comodoro Rivadavia not mpox, lab tests...  \n",
              "2  JOHOR BARU: Johor, known as the southern gatew...  \n",
              "3  Argentina’s Pope Francis has urged governments...  \n",
              "4  BUENOS AIRES (Reuters) – Argentine authorities...  "
            ]
          },
          "execution_count": 36,
          "metadata": {},
          "output_type": "execute_result"
        }
      ],
      "source": [
        "data_news.head()"
      ]
    },
    {
      "cell_type": "code",
      "execution_count": 22,
      "metadata": {
        "id": "1AhUurL-fPY8"
      },
      "outputs": [],
      "source": [
        "\n",
        "\n",
        "TEMPERATURE_MODEL=0.3\n",
        "\n",
        "llm_llama37b = ChatGroq(\n",
        "    model=\"llama3-70b-8192\",\n",
        "    temperature=TEMPERATURE_MODEL,\n",
        "    groq_api_key=\"\",\n",
        ")\n",
        "\n",
        "llm_mixtral7b = ChatGroq(\n",
        "    model=\"mixtral-8x7b-32768\",\n",
        "    temperature=TEMPERATURE_MODEL,\n",
        "    groq_api_key=\"\",\n",
        ")\n",
        "\n",
        "llm_gemma7b = ChatGroq(\n",
        "    model=\"gemma-7b-it\",\n",
        "    temperature=TEMPERATURE_MODEL,\n",
        "    groq_api_key=\"\",\n",
        ")\n",
        "\n",
        "llm_llama8b = ChatGroq(\n",
        "    model=\"llama-3.1-8b-instant\",\n",
        "    temperature=TEMPERATURE_MODEL,\n",
        "    groq_api_key=\"\",\n",
        ")"
      ]
    },
    {
      "cell_type": "code",
      "execution_count": 10,
      "metadata": {
        "id": "rWtKmaR8gbDB"
      },
      "outputs": [],
      "source": [
        "from qdrant_client import QdrantClient\n",
        "import os\n",
        "from dotenv import load_dotenv\n",
        "from langchain_openai import OpenAIEmbeddings\n",
        "from langchain_core.prompts import PromptTemplate\n",
        "from langchain_core.output_parsers import PydanticOutputParser\n",
        "from langchain_core.prompts import PromptTemplate\n",
        "from pydantic import BaseModel, Field,constr, conint\n",
        "from typing import Union\n",
        "from langchain.vectorstores import Qdrant\n",
        "\n",
        "\n",
        "class NewsChecker(BaseModel):\n",
        "    score: Union[constr(strip_whitespace=True), conint(ge=0, le=1)]"
      ]
    },
    {
      "cell_type": "code",
      "execution_count": 11,
      "metadata": {
        "id": "i30iAomvgbFG"
      },
      "outputs": [],
      "source": [
        "QDRANT_CLOUD_URL = \"\"\n",
        "QDRANT_API_KEY = \"\"\n",
        "\n",
        "client = QdrantClient(url=QDRANT_CLOUD_URL,api_key=QDRANT_API_KEY)"
      ]
    },
    {
      "cell_type": "code",
      "execution_count": 20,
      "metadata": {
        "colab": {
          "base_uri": "https://localhost:8080/"
        },
        "id": "GfFWsyXYi36a",
        "outputId": "6058c2eb-1efc-4e11-a939-2ee65cf1f290"
      },
      "outputs": [
        {
          "data": {
            "text/plain": [
              "[Document(metadata={'source': 'Mpox_information.pdf', 'page': 1, '_id': 'b1412ff9-a7e5-49aa-8b70-aa1be02021c8', '_collection_name': 'mpox_collection'}, page_content='Mpox can be transmitted through close contact with someone who has mpox,'),\n",
              " Document(metadata={'source': 'Mpox_information.pdf', 'page': 5, '_id': 'bdaf9088-797e-455d-b043-db10250e715e', '_collection_name': 'mpox_collection'}, page_content='https://www.who.int/news-room/fact-sheets/detail/mpox#:~:text=Common symptoms of mpox are,materials%2C or with infected animals. 6/11'),\n",
              " Document(metadata={'source': 'Mpox_information.pdf', 'page': 4, '_id': 'd5662d03-709c-4f6a-b4c2-3dfa7a790c61', '_collection_name': 'mpox_collection'}, page_content='https://www.who.int/news-room/fact-sheets/detail/mpox#:~:text=Common symptoms of mpox are,materials%2C or with infected animals. 5/11'),\n",
              " Document(metadata={'source': 'Mpox_information.pdf', 'page': 2, '_id': '1daddb6d-ed67-48f2-8d9b-48dfa9ad4e6e', '_collection_name': 'mpox_collection'}, page_content='https://www.who.int/news-room/fact-sheets/detail/mpox#:~:text=Common symptoms of mpox are,materials%2C or with infected animals. 3/11'),\n",
              " Document(metadata={'source': 'Mpox_information.pdf', 'page': 7, '_id': '5412624b-47d2-4479-99f5-7133f2e84bb0', '_collection_name': 'mpox_collection'}, page_content='https://www.who.int/news-room/fact-sheets/detail/mpox#:~:text=Common symptoms of mpox are,materials%2C or with infected animals. 8/11')]"
            ]
          },
          "execution_count": 20,
          "metadata": {},
          "output_type": "execute_result"
        }
      ],
      "source": [
        "vector_store = Qdrant(client=client,\n",
        "                      collection_name=\"mpox_collection\",\n",
        "                      embeddings=OpenAIEmbeddings(model=\"text-embedding-3-small\", api_key=\"\")\n",
        "                      )\n",
        "def retrieve_information(query):\n",
        "        context = vector_store.similarity_search(query=query, k=5)\n",
        "        return context\n",
        "retrieve_information(\"que es mpox?\")"
      ]
    },
    {
      "cell_type": "code",
      "execution_count": 13,
      "metadata": {
        "colab": {
          "base_uri": "https://localhost:8080/"
        },
        "id": "FTmt5z1ZoHd2",
        "outputId": "43180743-2cf2-4625-9c95-277ccc2650ad"
      },
      "outputs": [
        {
          "name": "stdout",
          "output_type": "stream",
          "text": [
            "Requirement already satisfied: tqdm in /usr/local/lib/python3.10/dist-packages (4.66.5)\n"
          ]
        }
      ],
      "source": [
        "!pip install tqdm\n"
      ]
    },
    {
      "cell_type": "code",
      "execution_count": 23,
      "metadata": {
        "colab": {
          "base_uri": "https://localhost:8080/"
        },
        "id": "BIvUq3YhgbHL",
        "outputId": "aa53e2f2-3f83-4702-94de-16c3117898ff"
      },
      "outputs": [
        {
          "name": "stderr",
          "output_type": "stream",
          "text": [
            "Processing news content:   1%|          | 1/100 [00:01<01:47,  1.09s/it]"
          ]
        },
        {
          "name": "stdout",
          "output_type": "stream",
          "text": [
            "0\n"
          ]
        },
        {
          "name": "stderr",
          "output_type": "stream",
          "text": [
            "\rProcessing news content:   2%|▏         | 2/100 [00:01<01:23,  1.18it/s]"
          ]
        },
        {
          "name": "stdout",
          "output_type": "stream",
          "text": [
            "0.8\n"
          ]
        },
        {
          "name": "stderr",
          "output_type": "stream",
          "text": [
            "\rProcessing news content:   3%|▎         | 3/100 [00:05<03:37,  2.24s/it]"
          ]
        },
        {
          "name": "stdout",
          "output_type": "stream",
          "text": [
            "0.8\n"
          ]
        },
        {
          "name": "stderr",
          "output_type": "stream",
          "text": [
            "\rProcessing news content:   4%|▍         | 4/100 [00:29<17:17, 10.81s/it]"
          ]
        },
        {
          "name": "stdout",
          "output_type": "stream",
          "text": [
            "0.8\n"
          ]
        },
        {
          "name": "stderr",
          "output_type": "stream",
          "text": [
            "\rProcessing news content:   5%|▌         | 5/100 [00:30<11:30,  7.27s/it]"
          ]
        },
        {
          "name": "stdout",
          "output_type": "stream",
          "text": [
            "0.8\n"
          ]
        },
        {
          "name": "stderr",
          "output_type": "stream",
          "text": [
            "\rProcessing news content:   6%|▌         | 6/100 [00:43<14:19,  9.15s/it]"
          ]
        },
        {
          "name": "stdout",
          "output_type": "stream",
          "text": [
            "0.8\n"
          ]
        },
        {
          "name": "stderr",
          "output_type": "stream",
          "text": [
            "\rProcessing news content:   7%|▋         | 7/100 [00:51<13:39,  8.81s/it]"
          ]
        },
        {
          "name": "stdout",
          "output_type": "stream",
          "text": [
            "0.8\n"
          ]
        },
        {
          "name": "stderr",
          "output_type": "stream",
          "text": [
            "\rProcessing news content:   8%|▊         | 8/100 [00:57<12:10,  7.94s/it]"
          ]
        },
        {
          "name": "stdout",
          "output_type": "stream",
          "text": [
            "0.8\n"
          ]
        },
        {
          "name": "stderr",
          "output_type": "stream",
          "text": [
            "\rProcessing news content:   9%|▉         | 9/100 [01:07<13:09,  8.68s/it]"
          ]
        },
        {
          "name": "stdout",
          "output_type": "stream",
          "text": [
            "0.83\n"
          ]
        },
        {
          "name": "stderr",
          "output_type": "stream",
          "text": [
            "\rProcessing news content:  10%|█         | 10/100 [01:13<11:25,  7.62s/it]"
          ]
        },
        {
          "name": "stdout",
          "output_type": "stream",
          "text": [
            "0\n"
          ]
        },
        {
          "name": "stderr",
          "output_type": "stream",
          "text": [
            "\rProcessing news content:  11%|█         | 11/100 [01:27<14:12,  9.58s/it]"
          ]
        },
        {
          "name": "stdout",
          "output_type": "stream",
          "text": [
            "0.95\n"
          ]
        },
        {
          "name": "stderr",
          "output_type": "stream",
          "text": [
            "\rProcessing news content:  12%|█▏        | 12/100 [01:37<14:17,  9.74s/it]"
          ]
        },
        {
          "name": "stdout",
          "output_type": "stream",
          "text": [
            "0.8\n"
          ]
        },
        {
          "name": "stderr",
          "output_type": "stream",
          "text": [
            "\rProcessing news content:  13%|█▎        | 13/100 [01:50<15:37, 10.77s/it]"
          ]
        },
        {
          "name": "stdout",
          "output_type": "stream",
          "text": [
            "0.8\n"
          ]
        },
        {
          "name": "stderr",
          "output_type": "stream",
          "text": [
            "\rProcessing news content:  14%|█▍        | 14/100 [01:58<14:24, 10.05s/it]"
          ]
        },
        {
          "name": "stdout",
          "output_type": "stream",
          "text": [
            "0.9\n"
          ]
        },
        {
          "name": "stderr",
          "output_type": "stream",
          "text": [
            "\rProcessing news content:  15%|█▌        | 15/100 [02:04<12:10,  8.60s/it]"
          ]
        },
        {
          "name": "stdout",
          "output_type": "stream",
          "text": [
            "0\n"
          ]
        },
        {
          "name": "stderr",
          "output_type": "stream",
          "text": [
            "\rProcessing news content:  16%|█▌        | 16/100 [02:21<15:55, 11.38s/it]"
          ]
        },
        {
          "name": "stdout",
          "output_type": "stream",
          "text": [
            "0.8\n"
          ]
        },
        {
          "name": "stderr",
          "output_type": "stream",
          "text": [
            "\rProcessing news content:  17%|█▋        | 17/100 [02:30<14:41, 10.62s/it]"
          ]
        },
        {
          "name": "stdout",
          "output_type": "stream",
          "text": [
            "0.8\n"
          ]
        },
        {
          "name": "stderr",
          "output_type": "stream",
          "text": [
            "\rProcessing news content:  18%|█▊        | 18/100 [02:39<13:34,  9.93s/it]"
          ]
        },
        {
          "name": "stdout",
          "output_type": "stream",
          "text": [
            "0.9\n"
          ]
        },
        {
          "name": "stderr",
          "output_type": "stream",
          "text": [
            "\rProcessing news content:  19%|█▉        | 19/100 [02:55<15:56, 11.81s/it]"
          ]
        },
        {
          "name": "stdout",
          "output_type": "stream",
          "text": [
            "0.5\n"
          ]
        },
        {
          "name": "stderr",
          "output_type": "stream",
          "text": [
            "\rProcessing news content:  20%|██        | 20/100 [03:03<14:19, 10.75s/it]"
          ]
        },
        {
          "name": "stdout",
          "output_type": "stream",
          "text": [
            "0.8\n"
          ]
        },
        {
          "name": "stderr",
          "output_type": "stream",
          "text": [
            "\rProcessing news content:  21%|██        | 21/100 [03:15<14:42, 11.17s/it]"
          ]
        },
        {
          "name": "stdout",
          "output_type": "stream",
          "text": [
            "0.8\n"
          ]
        },
        {
          "name": "stderr",
          "output_type": "stream",
          "text": [
            "\rProcessing news content:  22%|██▏       | 22/100 [03:35<17:45, 13.66s/it]"
          ]
        },
        {
          "name": "stdout",
          "output_type": "stream",
          "text": [
            "0.8\n"
          ]
        },
        {
          "name": "stderr",
          "output_type": "stream",
          "text": [
            "\rProcessing news content:  23%|██▎       | 23/100 [03:37<13:16, 10.35s/it]"
          ]
        },
        {
          "name": "stdout",
          "output_type": "stream",
          "text": [
            "I apologize, but there is no previous model or score to refer to. This is the beginning of our conversation. If you'd like to start a new topic or ask a question, I'm here to help!\n"
          ]
        },
        {
          "name": "stderr",
          "output_type": "stream",
          "text": [
            "\rProcessing news content:  24%|██▍       | 24/100 [03:44<11:55,  9.42s/it]"
          ]
        },
        {
          "name": "stdout",
          "output_type": "stream",
          "text": [
            "0.7\n"
          ]
        },
        {
          "name": "stderr",
          "output_type": "stream",
          "text": [
            "\rProcessing news content:  25%|██▌       | 25/100 [03:58<13:10, 10.53s/it]"
          ]
        },
        {
          "name": "stdout",
          "output_type": "stream",
          "text": [
            "0.8\n"
          ]
        },
        {
          "name": "stderr",
          "output_type": "stream",
          "text": [
            "\rProcessing news content:  26%|██▌       | 26/100 [04:10<13:34, 11.01s/it]"
          ]
        },
        {
          "name": "stdout",
          "output_type": "stream",
          "text": [
            "0.8\n"
          ]
        },
        {
          "name": "stderr",
          "output_type": "stream",
          "text": [
            "\rProcessing news content:  27%|██▋       | 27/100 [04:15<11:24,  9.38s/it]"
          ]
        },
        {
          "name": "stdout",
          "output_type": "stream",
          "text": [
            "0.8\n"
          ]
        },
        {
          "name": "stderr",
          "output_type": "stream",
          "text": [
            "\rProcessing news content:  28%|██▊       | 28/100 [04:19<09:17,  7.74s/it]"
          ]
        },
        {
          "name": "stdout",
          "output_type": "stream",
          "text": [
            "I apologize, but there is no previous model or score to reference. This is the beginning of our conversation. If you'd like to start a new topic or ask a question, I'm here to help!\n"
          ]
        },
        {
          "name": "stderr",
          "output_type": "stream",
          "text": [
            "\rProcessing news content:  29%|██▉       | 29/100 [04:24<08:06,  6.85s/it]"
          ]
        },
        {
          "name": "stdout",
          "output_type": "stream",
          "text": [
            "There is no previous model, so I'll respond with:\n",
            "\n",
            "0\n"
          ]
        },
        {
          "name": "stderr",
          "output_type": "stream",
          "text": [
            "\rProcessing news content:  30%|███       | 30/100 [04:46<13:16, 11.38s/it]"
          ]
        },
        {
          "name": "stdout",
          "output_type": "stream",
          "text": [
            "0.8\n"
          ]
        },
        {
          "name": "stderr",
          "output_type": "stream",
          "text": [
            "\rProcessing news content:  31%|███       | 31/100 [05:05<15:48, 13.75s/it]"
          ]
        },
        {
          "name": "stdout",
          "output_type": "stream",
          "text": [
            "0.8\n"
          ]
        },
        {
          "name": "stderr",
          "output_type": "stream",
          "text": [
            "\rProcessing news content:  32%|███▏      | 32/100 [05:06<11:17,  9.97s/it]"
          ]
        },
        {
          "name": "stdout",
          "output_type": "stream",
          "text": [
            "0.5\n"
          ]
        },
        {
          "name": "stderr",
          "output_type": "stream",
          "text": [
            "\rProcessing news content:  33%|███▎      | 33/100 [05:11<09:28,  8.48s/it]"
          ]
        },
        {
          "name": "stdout",
          "output_type": "stream",
          "text": [
            "I apologize, but this conversation has just started, and there is no previous model or score to report. The result is indeed 0.\n"
          ]
        },
        {
          "name": "stderr",
          "output_type": "stream",
          "text": [
            "\rProcessing news content:  34%|███▍      | 34/100 [05:20<09:15,  8.42s/it]"
          ]
        },
        {
          "name": "stdout",
          "output_type": "stream",
          "text": [
            "0.8\n"
          ]
        },
        {
          "name": "stderr",
          "output_type": "stream",
          "text": [
            "\rProcessing news content:  35%|███▌      | 35/100 [05:25<08:12,  7.57s/it]"
          ]
        },
        {
          "name": "stdout",
          "output_type": "stream",
          "text": [
            "I apologize, but I think there's been a misunderstanding! This conversation just started, and I didn't provide a news article or a previous model's score. I'm here to help with any questions or topics you'd like to discuss. Please feel free to ask me anything, and I'll do my best to assist you!\n"
          ]
        },
        {
          "name": "stderr",
          "output_type": "stream",
          "text": [
            "\rProcessing news content:  36%|███▌      | 36/100 [05:30<07:11,  6.74s/it]"
          ]
        },
        {
          "name": "stdout",
          "output_type": "stream",
          "text": [
            "I apologize, but there is no previous model or score to refer to. This is the beginning of our conversation. If you'd like to start a new topic or ask a question, I'm here to help!\n"
          ]
        },
        {
          "name": "stderr",
          "output_type": "stream",
          "text": [
            "\rProcessing news content:  37%|███▋      | 37/100 [05:41<08:22,  7.98s/it]"
          ]
        },
        {
          "name": "stdout",
          "output_type": "stream",
          "text": [
            "0.8\n"
          ]
        },
        {
          "name": "stderr",
          "output_type": "stream",
          "text": [
            "\rProcessing news content:  38%|███▊      | 38/100 [05:59<11:25, 11.05s/it]"
          ]
        },
        {
          "name": "stdout",
          "output_type": "stream",
          "text": [
            "0.8\n"
          ]
        },
        {
          "name": "stderr",
          "output_type": "stream",
          "text": [
            "\rProcessing news content:  39%|███▉      | 39/100 [06:01<08:33,  8.42s/it]"
          ]
        },
        {
          "name": "stdout",
          "output_type": "stream",
          "text": [
            "0.8\n"
          ]
        },
        {
          "name": "stderr",
          "output_type": "stream",
          "text": [
            "\rProcessing news content:  40%|████      | 40/100 [06:05<07:02,  7.04s/it]"
          ]
        },
        {
          "name": "stdout",
          "output_type": "stream",
          "text": [
            "0\n"
          ]
        },
        {
          "name": "stderr",
          "output_type": "stream",
          "text": [
            "\rProcessing news content:  41%|████      | 41/100 [06:11<06:34,  6.69s/it]"
          ]
        },
        {
          "name": "stdout",
          "output_type": "stream",
          "text": [
            "0\n"
          ]
        },
        {
          "name": "stderr",
          "output_type": "stream",
          "text": [
            "\rProcessing news content:  42%|████▏     | 42/100 [06:17<06:20,  6.55s/it]"
          ]
        },
        {
          "name": "stdout",
          "output_type": "stream",
          "text": [
            "N/A\n"
          ]
        },
        {
          "name": "stderr",
          "output_type": "stream",
          "text": [
            "\rProcessing news content:  43%|████▎     | 43/100 [06:31<08:06,  8.53s/it]"
          ]
        },
        {
          "name": "stdout",
          "output_type": "stream",
          "text": [
            "0.8\n"
          ]
        },
        {
          "name": "stderr",
          "output_type": "stream",
          "text": [
            "\rProcessing news content:  44%|████▍     | 44/100 [06:33<06:08,  6.58s/it]"
          ]
        },
        {
          "name": "stdout",
          "output_type": "stream",
          "text": [
            "There is no previous model, so I'll respond with:\n",
            "\n",
            "0\n"
          ]
        },
        {
          "name": "stderr",
          "output_type": "stream",
          "text": [
            "\rProcessing news content:  45%|████▌     | 45/100 [06:38<05:50,  6.37s/it]"
          ]
        },
        {
          "name": "stdout",
          "output_type": "stream",
          "text": [
            "0\n"
          ]
        },
        {
          "name": "stderr",
          "output_type": "stream",
          "text": [
            "\rProcessing news content:  46%|████▌     | 46/100 [06:48<06:31,  7.25s/it]"
          ]
        },
        {
          "name": "stdout",
          "output_type": "stream",
          "text": [
            "0.8\n"
          ]
        },
        {
          "name": "stderr",
          "output_type": "stream",
          "text": [
            "\rProcessing news content:  47%|████▋     | 47/100 [06:50<05:01,  5.69s/it]"
          ]
        },
        {
          "name": "stdout",
          "output_type": "stream",
          "text": [
            "I apologize, but this conversation has just started, and there is no previous model or score to refer to. Therefore, I'll respond with:\n",
            "\n",
            "0\n"
          ]
        },
        {
          "name": "stderr",
          "output_type": "stream",
          "text": [
            "\rProcessing news content:  48%|████▊     | 48/100 [06:55<04:44,  5.47s/it]"
          ]
        },
        {
          "name": "stdout",
          "output_type": "stream",
          "text": [
            "I apologize, but this conversation has just started, and there is no previous model or score to report. The answer is indeed 0.\n"
          ]
        },
        {
          "name": "stderr",
          "output_type": "stream",
          "text": [
            "\rProcessing news content:  49%|████▉     | 49/100 [07:44<15:47, 18.59s/it]"
          ]
        },
        {
          "name": "stdout",
          "output_type": "stream",
          "text": [
            "0.9\n"
          ]
        },
        {
          "name": "stderr",
          "output_type": "stream",
          "text": [
            "\rProcessing news content:  50%|█████     | 50/100 [07:45<11:06, 13.33s/it]"
          ]
        },
        {
          "name": "stdout",
          "output_type": "stream",
          "text": [
            "0.8\n"
          ]
        },
        {
          "name": "stderr",
          "output_type": "stream",
          "text": [
            "\rProcessing news content:  51%|█████     | 51/100 [08:30<18:42, 22.91s/it]"
          ]
        },
        {
          "name": "stdout",
          "output_type": "stream",
          "text": [
            "0.8\n"
          ]
        },
        {
          "name": "stderr",
          "output_type": "stream",
          "text": [
            "\rProcessing news content:  52%|█████▏    | 52/100 [08:31<13:05, 16.36s/it]"
          ]
        },
        {
          "name": "stdout",
          "output_type": "stream",
          "text": [
            "0\n"
          ]
        },
        {
          "name": "stderr",
          "output_type": "stream",
          "text": [
            "\rProcessing news content:  53%|█████▎    | 53/100 [08:38<10:29, 13.39s/it]"
          ]
        },
        {
          "name": "stdout",
          "output_type": "stream",
          "text": [
            "0.9\n"
          ]
        },
        {
          "name": "stderr",
          "output_type": "stream",
          "text": [
            "\rProcessing news content:  54%|█████▍    | 54/100 [08:46<09:06, 11.89s/it]"
          ]
        },
        {
          "name": "stdout",
          "output_type": "stream",
          "text": [
            "0.8\n"
          ]
        },
        {
          "name": "stderr",
          "output_type": "stream",
          "text": [
            "\rProcessing news content:  55%|█████▌    | 55/100 [09:07<11:00, 14.68s/it]"
          ]
        },
        {
          "name": "stdout",
          "output_type": "stream",
          "text": [
            "0.8\n"
          ]
        },
        {
          "name": "stderr",
          "output_type": "stream",
          "text": [
            "\rProcessing news content:  56%|█████▌    | 56/100 [09:08<07:45, 10.58s/it]"
          ]
        },
        {
          "name": "stdout",
          "output_type": "stream",
          "text": [
            "There is no previous model, so I'll assume you meant to ask for a random score. Here is the result:\n",
            "\n",
            "0\n"
          ]
        },
        {
          "name": "stderr",
          "output_type": "stream",
          "text": [
            "\rProcessing news content:  57%|█████▋    | 57/100 [09:23<08:28, 11.84s/it]"
          ]
        },
        {
          "name": "stdout",
          "output_type": "stream",
          "text": [
            "0.9\n"
          ]
        },
        {
          "name": "stderr",
          "output_type": "stream",
          "text": [
            "\rProcessing news content:  58%|█████▊    | 58/100 [09:32<07:43, 11.04s/it]"
          ]
        },
        {
          "name": "stdout",
          "output_type": "stream",
          "text": [
            "0.8\n"
          ]
        },
        {
          "name": "stderr",
          "output_type": "stream",
          "text": [
            "\rProcessing news content:  59%|█████▉    | 59/100 [09:36<06:08,  8.98s/it]"
          ]
        },
        {
          "name": "stdout",
          "output_type": "stream",
          "text": [
            "0\n"
          ]
        },
        {
          "name": "stderr",
          "output_type": "stream",
          "text": [
            "\rProcessing news content:  60%|██████    | 60/100 [09:52<07:21, 11.03s/it]"
          ]
        },
        {
          "name": "stdout",
          "output_type": "stream",
          "text": [
            "0.8\n"
          ]
        },
        {
          "name": "stderr",
          "output_type": "stream",
          "text": [
            "\rProcessing news content:  61%|██████    | 61/100 [09:54<05:24,  8.32s/it]"
          ]
        },
        {
          "name": "stdout",
          "output_type": "stream",
          "text": [
            "I apologize, but there is no previous model or score to report. This is the beginning of our conversation.\n"
          ]
        },
        {
          "name": "stderr",
          "output_type": "stream",
          "text": [
            "\rProcessing news content:  62%|██████▏   | 62/100 [10:15<07:42, 12.17s/it]"
          ]
        },
        {
          "name": "stdout",
          "output_type": "stream",
          "text": [
            "0.8\n"
          ]
        },
        {
          "name": "stderr",
          "output_type": "stream",
          "text": [
            "\rProcessing news content:  63%|██████▎   | 63/100 [10:22<06:22, 10.35s/it]"
          ]
        },
        {
          "name": "stdout",
          "output_type": "stream",
          "text": [
            "0.8\n"
          ]
        },
        {
          "name": "stderr",
          "output_type": "stream",
          "text": [
            "\rProcessing news content:  64%|██████▍   | 64/100 [10:25<04:52,  8.14s/it]"
          ]
        },
        {
          "name": "stdout",
          "output_type": "stream",
          "text": [
            "0.8\n"
          ]
        },
        {
          "name": "stderr",
          "output_type": "stream",
          "text": [
            "\rProcessing news content:  65%|██████▌   | 65/100 [10:29<04:11,  7.18s/it]"
          ]
        },
        {
          "name": "stdout",
          "output_type": "stream",
          "text": [
            "0\n"
          ]
        },
        {
          "name": "stderr",
          "output_type": "stream",
          "text": [
            "\rProcessing news content:  66%|██████▌   | 66/100 [10:33<03:31,  6.21s/it]"
          ]
        },
        {
          "name": "stdout",
          "output_type": "stream",
          "text": [
            "I apologize, but there is no previous model or score to reference. This is the beginning of our conversation. If you'd like to start a new topic or ask a question, I'm here to help!\n"
          ]
        },
        {
          "name": "stderr",
          "output_type": "stream",
          "text": [
            "\rProcessing news content:  67%|██████▋   | 67/100 [10:48<04:51,  8.84s/it]"
          ]
        },
        {
          "name": "stdout",
          "output_type": "stream",
          "text": [
            "0.8\n"
          ]
        },
        {
          "name": "stderr",
          "output_type": "stream",
          "text": [
            "\rProcessing news content:  68%|██████▊   | 68/100 [10:52<03:49,  7.18s/it]"
          ]
        },
        {
          "name": "stdout",
          "output_type": "stream",
          "text": [
            "0\n"
          ]
        },
        {
          "name": "stderr",
          "output_type": "stream",
          "text": [
            "\rProcessing news content:  69%|██████▉   | 69/100 [11:03<04:23,  8.51s/it]"
          ]
        },
        {
          "name": "stdout",
          "output_type": "stream",
          "text": [
            "0.8\n"
          ]
        },
        {
          "name": "stderr",
          "output_type": "stream",
          "text": [
            "\rProcessing news content:  70%|███████   | 70/100 [11:09<03:54,  7.81s/it]"
          ]
        },
        {
          "name": "stdout",
          "output_type": "stream",
          "text": [
            "0.8\n"
          ]
        },
        {
          "name": "stderr",
          "output_type": "stream",
          "text": [
            "\rProcessing news content:  71%|███████   | 71/100 [11:14<03:13,  6.68s/it]"
          ]
        },
        {
          "name": "stdout",
          "output_type": "stream",
          "text": [
            "I apologize, but this conversation has just started, and there is no previous model or score to report. The answer is indeed 0.\n"
          ]
        },
        {
          "name": "stderr",
          "output_type": "stream",
          "text": [
            "\rProcessing news content:  72%|███████▏  | 72/100 [11:27<04:06,  8.81s/it]"
          ]
        },
        {
          "name": "stdout",
          "output_type": "stream",
          "text": [
            "0.9\n"
          ]
        },
        {
          "name": "stderr",
          "output_type": "stream",
          "text": [
            "\rProcessing news content:  73%|███████▎  | 73/100 [11:31<03:16,  7.27s/it]"
          ]
        },
        {
          "name": "stdout",
          "output_type": "stream",
          "text": [
            "0.2\n"
          ]
        },
        {
          "name": "stderr",
          "output_type": "stream",
          "text": [
            "\rProcessing news content:  74%|███████▍  | 74/100 [11:37<03:00,  6.94s/it]"
          ]
        },
        {
          "name": "stdout",
          "output_type": "stream",
          "text": [
            "0.8\n"
          ]
        },
        {
          "name": "stderr",
          "output_type": "stream",
          "text": [
            "\rProcessing news content:  75%|███████▌  | 75/100 [11:48<03:25,  8.23s/it]"
          ]
        },
        {
          "name": "stdout",
          "output_type": "stream",
          "text": [
            "0.9\n"
          ]
        },
        {
          "name": "stderr",
          "output_type": "stream",
          "text": [
            "\rProcessing news content:  76%|███████▌  | 76/100 [11:50<02:27,  6.13s/it]"
          ]
        },
        {
          "name": "stdout",
          "output_type": "stream",
          "text": [
            "I apologize, but there is no previous model or score to report. This is the beginning of our conversation. If you'd like to start a new conversation or ask a question, I'm here to help!\n"
          ]
        },
        {
          "name": "stderr",
          "output_type": "stream",
          "text": [
            "\rProcessing news content:  77%|███████▋  | 77/100 [12:13<04:17, 11.20s/it]"
          ]
        },
        {
          "name": "stdout",
          "output_type": "stream",
          "text": [
            "0.8\n"
          ]
        },
        {
          "name": "stderr",
          "output_type": "stream",
          "text": [
            "\rProcessing news content:  78%|███████▊  | 78/100 [12:21<03:47, 10.32s/it]"
          ]
        },
        {
          "name": "stdout",
          "output_type": "stream",
          "text": [
            "0.8\n"
          ]
        },
        {
          "name": "stderr",
          "output_type": "stream",
          "text": [
            "\rProcessing news content:  79%|███████▉  | 79/100 [12:28<03:16,  9.35s/it]"
          ]
        },
        {
          "name": "stdout",
          "output_type": "stream",
          "text": [
            "0.9\n"
          ]
        },
        {
          "name": "stderr",
          "output_type": "stream",
          "text": [
            "\rProcessing news content:  80%|████████  | 80/100 [12:58<05:12, 15.61s/it]"
          ]
        },
        {
          "name": "stdout",
          "output_type": "stream",
          "text": [
            "0.8\n"
          ]
        },
        {
          "name": "stderr",
          "output_type": "stream",
          "text": [
            "\rProcessing news content:  81%|████████  | 81/100 [12:59<03:34, 11.29s/it]"
          ]
        },
        {
          "name": "stdout",
          "output_type": "stream",
          "text": [
            "0\n"
          ]
        },
        {
          "name": "stderr",
          "output_type": "stream",
          "text": [
            "\rProcessing news content:  82%|████████▏ | 82/100 [13:20<04:15, 14.17s/it]"
          ]
        },
        {
          "name": "stdout",
          "output_type": "stream",
          "text": [
            "0.9\n"
          ]
        },
        {
          "name": "stderr",
          "output_type": "stream",
          "text": [
            "\rProcessing news content:  83%|████████▎ | 83/100 [13:40<04:26, 15.70s/it]"
          ]
        },
        {
          "name": "stdout",
          "output_type": "stream",
          "text": [
            "0.9\n"
          ]
        },
        {
          "name": "stderr",
          "output_type": "stream",
          "text": [
            "\rProcessing news content:  84%|████████▍ | 84/100 [13:41<03:01, 11.32s/it]"
          ]
        },
        {
          "name": "stdout",
          "output_type": "stream",
          "text": [
            "0\n"
          ]
        },
        {
          "name": "stderr",
          "output_type": "stream",
          "text": [
            "\rProcessing news content:  85%|████████▌ | 85/100 [13:48<02:33, 10.21s/it]"
          ]
        },
        {
          "name": "stdout",
          "output_type": "stream",
          "text": [
            "0.9\n"
          ]
        },
        {
          "name": "stderr",
          "output_type": "stream",
          "text": [
            "\rProcessing news content:  86%|████████▌ | 86/100 [13:56<02:10,  9.34s/it]"
          ]
        },
        {
          "name": "stdout",
          "output_type": "stream",
          "text": [
            "0.8\n"
          ]
        },
        {
          "name": "stderr",
          "output_type": "stream",
          "text": [
            "\rProcessing news content:  87%|████████▋ | 87/100 [13:59<01:37,  7.50s/it]"
          ]
        },
        {
          "name": "stdout",
          "output_type": "stream",
          "text": [
            "0.5\n"
          ]
        },
        {
          "name": "stderr",
          "output_type": "stream",
          "text": [
            "\rProcessing news content:  88%|████████▊ | 88/100 [14:06<01:27,  7.28s/it]"
          ]
        },
        {
          "name": "stdout",
          "output_type": "stream",
          "text": [
            "0.8\n"
          ]
        },
        {
          "name": "stderr",
          "output_type": "stream",
          "text": [
            "\rProcessing news content:  89%|████████▉ | 89/100 [14:18<01:36,  8.75s/it]"
          ]
        },
        {
          "name": "stdout",
          "output_type": "stream",
          "text": [
            "0.9\n"
          ]
        },
        {
          "name": "stderr",
          "output_type": "stream",
          "text": [
            "\rProcessing news content:  90%|█████████ | 90/100 [14:20<01:07,  6.76s/it]"
          ]
        },
        {
          "name": "stdout",
          "output_type": "stream",
          "text": [
            "0.8\n"
          ]
        },
        {
          "name": "stderr",
          "output_type": "stream",
          "text": [
            "\rProcessing news content:  91%|█████████ | 91/100 [14:25<00:55,  6.20s/it]"
          ]
        },
        {
          "name": "stdout",
          "output_type": "stream",
          "text": [
            "N/A\n"
          ]
        },
        {
          "name": "stderr",
          "output_type": "stream",
          "text": [
            "\rProcessing news content:  92%|█████████▏| 92/100 [14:31<00:49,  6.14s/it]"
          ]
        },
        {
          "name": "stdout",
          "output_type": "stream",
          "text": [
            "0.8\n"
          ]
        },
        {
          "name": "stderr",
          "output_type": "stream",
          "text": [
            "\rProcessing news content:  93%|█████████▎| 93/100 [14:35<00:39,  5.62s/it]"
          ]
        },
        {
          "name": "stdout",
          "output_type": "stream",
          "text": [
            "0.8\n"
          ]
        },
        {
          "name": "stderr",
          "output_type": "stream",
          "text": [
            "\rProcessing news content:  94%|█████████▍| 94/100 [14:40<00:32,  5.46s/it]"
          ]
        },
        {
          "name": "stdout",
          "output_type": "stream",
          "text": [
            "0\n"
          ]
        },
        {
          "name": "stderr",
          "output_type": "stream",
          "text": [
            "\rProcessing news content:  95%|█████████▌| 95/100 [14:45<00:26,  5.30s/it]"
          ]
        },
        {
          "name": "stdout",
          "output_type": "stream",
          "text": [
            "0\n"
          ]
        },
        {
          "name": "stderr",
          "output_type": "stream",
          "text": [
            "\rProcessing news content:  96%|█████████▌| 96/100 [15:02<00:35,  8.80s/it]"
          ]
        },
        {
          "name": "stdout",
          "output_type": "stream",
          "text": [
            "0.9\n"
          ]
        },
        {
          "name": "stderr",
          "output_type": "stream",
          "text": [
            "\rProcessing news content:  97%|█████████▋| 97/100 [15:11<00:26,  8.92s/it]"
          ]
        },
        {
          "name": "stdout",
          "output_type": "stream",
          "text": [
            "0.9\n"
          ]
        },
        {
          "name": "stderr",
          "output_type": "stream",
          "text": [
            "\rProcessing news content:  98%|█████████▊| 98/100 [15:15<00:14,  7.19s/it]"
          ]
        },
        {
          "name": "stdout",
          "output_type": "stream",
          "text": [
            "0\n"
          ]
        },
        {
          "name": "stderr",
          "output_type": "stream",
          "text": [
            "\rProcessing news content:  99%|█████████▉| 99/100 [15:18<00:06,  6.18s/it]"
          ]
        },
        {
          "name": "stdout",
          "output_type": "stream",
          "text": [
            "There is no previous model, so I'll assume you want a default value. Here is the result:\n",
            "\n",
            "0\n"
          ]
        },
        {
          "name": "stderr",
          "output_type": "stream",
          "text": [
            "Processing news content: 100%|██████████| 100/100 [15:23<00:00,  9.24s/it]"
          ]
        },
        {
          "name": "stdout",
          "output_type": "stream",
          "text": [
            "I apologize, but there is no previous model or score to report. This is the beginning of our conversation.\n"
          ]
        },
        {
          "name": "stderr",
          "output_type": "stream",
          "text": [
            "\n"
          ]
        }
      ],
      "source": [
        "from tqdm import tqdm\n",
        "\n",
        "model = \"mixtral7b\"\n",
        "parser = PydanticOutputParser(pydantic_object=NewsChecker)\n",
        "template = \"\"\"\n",
        "            You are an expert information verification assistant.\n",
        "            I am going to provide you with a set of verified facts that are considered true.\n",
        "            Then I will provide you with a news story and your task will be to compare the facts in the news with the true information provided,\n",
        "            and determine how true the news is on a scale of 0 to 1, where 0 means the news is completely false and 1 means it is completely false.\n",
        "            completely true. just return the number of score.\n",
        "            ### Verified information:\n",
        "            {fact_information}\n",
        "\n",
        "            ### News to evaluate:\n",
        "            {new_information}\n",
        "        \"\"\"\n",
        "prompt = PromptTemplate(\n",
        "  template=template,\n",
        "  input_variables=[\"new_information\",\"fact_information\"],\n",
        "  #partial_variables={\"format_instructions\": parser.get_format_instructions()},\n",
        ")\n",
        "\n",
        "\n",
        "result = []\n",
        "\n",
        "for i in tqdm(news_content[0:100], desc=\"Processing news content\"):\n",
        "  fact_information = \" \".join([i.page_content for i in retrieve_information(query=i)])\n",
        "\n",
        "  # And a query intended to prompt a language model to populate the data structure.\n",
        "  prompt_and_model = prompt | llm_llama37b\n",
        "  output = prompt_and_model.invoke({\"new_information\":i, \"fact_information\":fact_information})\n",
        "\n",
        "  result_check=output.content\n",
        "\n",
        "  ## validar modulo\n",
        "  response = llm_llama37b.invoke(\"Give me the number of score thath the previos modelo chose: just give me the number as a result \"+result_check).content\n",
        "  print(response)\n",
        "  result.append(response)"
      ]
    },
    {
      "cell_type": "code",
      "execution_count": 24,
      "metadata": {
        "id": "LwcuoGJzgbJP"
      },
      "outputs": [],
      "source": [
        "data_final = {\n",
        "    \"question\":news_content[0:100],\n",
        "    \"true_value\":list(data_news[\"Label\"])[0:100],\n",
        "    \"predict_value\":result\n",
        "}\n"
      ]
    },
    {
      "cell_type": "code",
      "execution_count": 25,
      "metadata": {
        "colab": {
          "base_uri": "https://localhost:8080/",
          "height": 424
        },
        "id": "tfFejyGqgbLU",
        "outputId": "42aebae9-e333-44e9-d1a2-32ef99ce4c47"
      },
      "outputs": [
        {
          "data": {
            "application/vnd.google.colaboratory.intrinsic+json": {
              "summary": "{\n  \"name\": \"result_final\",\n  \"rows\": 100,\n  \"fields\": [\n    {\n      \"column\": \"question\",\n      \"properties\": {\n        \"dtype\": \"string\",\n        \"num_unique_values\": 91,\n        \"samples\": [\n          \"Gay rights activists from across Latin America have called for the region\\u2019s governments to take firm steps to prevent the spread of monkeypox, saying a lack of will to provide vaccines and diagnose cases is hurting the region\\u2019s gay and bisexual men.\\n\\nLatin America has confirmed around 16% of over 50,000 registered cases worldwide in the recent outbreak, almost exclusively in countries where it is not historically endemic.\\n\\nHowever, a Latin American network of gay rights activists believes governments are drastically underreporting the extent of the outbreak, in part due to discrimination against men who have sex with men, among whom the disease has so far been circulating overwhelmingly through sex.\\n\\n\\u201cThe worst thing would be to decide that this will be controlled through herd immunity,\\u201d the AIDS Healthcare Foundation\\u2019s director, Dr. Jorge Saavedra, told Reuters. \\u201cThe lesions are very painful; and you can\\u2019t just condemn people to suffer.\\u201d\\n\\n\\u201cThis is state sadism,\\u201d he said.\\n\\nActivists, who gathered in Mexico City on Thursday at an event to call for stronger state responses, said it was unbelievable that Mexico \\u2013 one of Latin America\\u2019s most populous and visited countries \\u2013 would have only one-third the number of monkeypox cases as Peru, which confirmed its first case a month after Mexico.\\n\\n\\u201cAre Peruvians having more sex than Mexicans? Sexologists have found no evidence,\\u201d Saavedra said at the event.\\n\\nThe situation is particularly worrying in Mexico, activists said, where there is just one centralized diagnostics center forcing people to wait and travel long distances.\\n\\nGrassroots clinics for people living with HIV, who risk suffering much more severe effects of monkeypox, have meanwhile been flooded with patients, they said.\\n\\nMexico\\u2019s government in June issued a statement discouraging messaging that links gay and bisexual men to monkeypox to prevent discrimination.\\n\\n\\u201cThey stigmatized us 40 years ago during the AIDS crisis,\\u201d said HIV researcher Ricardo Forcada. \\u201cNow, they\\u2019re not helping us under the pretext of not stigmatizing us.\\u201d\\n\\nForcada said the network was prepared to take all available legal actions, including appealing to Mexico\\u2019s human rights commission. It hopes the governments will invest in targeted health campaigns and order vaccines.\\n\\n\\u201cWe don\\u2019t want this to turn into an endemic problem like other sexually transmitted diseases,\\u201d said Saavedra.\\n\\n\\u2014Reporting by Sarah Morland in Mexico City, Editing by Brendan O\\u2019Boyle and Matthew Lewis\",\n          \"Failed to extract article: Article `download()` failed with 429 Client Error: Too Many Requests for url: https://missoulian.com/lifestyles/health-med-fit/cdc-warns-that-mpox-could-make-a-summer-return/article_ffaf0ed5-c977-5465-ad7e-671cd6ac0e29.html on URL https://missoulian.com/lifestyles/health-med-fit/cdc-warns-that-mpox-could-make-a-summer-return/article_ffaf0ed5-c977-5465-ad7e-671cd6ac0e29.html\",\n          \"New Mexico has 10 cases of monkeypox; known COVID-19 daily cases flatten\\n\\nShow Caption Hide Caption Monkeypox survivor shares concerns over lack of response by government Monkeypox has now been declared a \\\"public health emergency\\\" as the U.S. works to release more vaccines in order to prevent the spread of the virus. Patrick Colson-Price, USA TODAY\\n\\nNew Mexico health officials said Thursday that COVID-19 case averages continued to hold at a plateau over the summer and that approximately 250 doses of the Jynneos monkeypox vaccine had been administered in an effort to slow community transmission of that virus.\\n\\nBoth public health emergencies were addressed in a video news conference with acting state Health Secretary Dr. David Scrase and interim state epidemiologist Dr. Laura Paraj\\u00f3n.\\n\\nEpidemiological data presented Thursday showed that while overall COVID-19 infection based on seven-day case averages remained high across the state, the average has held at a plateau across the summer months. The data is based on lab-confirmed PCR tests, however, and does not account for positive results from home tests.\\n\\nScrase said there were no indicators that the trend would move downward soon, and national health experts have predicted rises in transmission during the fall and winter months, currently driven by the BA.4 and BA.5 subvariants of SARS-CoV-2's omicron strain.\\n\\nRepeating a message from recent monthly news conferences, Scrase said that the state health department is monitoring strain on the state's healthcare system as a higher priority than daily case data. The rate of hospitalizations for COVID-19 has also remained at a plateau while the percentage of patients placed on ventilators has decreased with improved treatment options and vaccinations, which he said are \\\"the most effective way to reduce your risk of getting serious complications, like hospitalization or death or even long COVID.\\\"\\n\\n\\\"Long COVID\\\" refers to patients, as many as 1 in 5 by some estimates, who experience long-term complications following a bout with the disease.\\n\\nScrase acknowledged a recent uptick in deaths attributed by physicians to COVID-19, but maintained odds of a fatal case have decreased under the current subvariants compared to 2021 deadly tides by the delta variant and initial iteration of omicron.\\n\\nAs more children begin school, Scrase recommended this as a good time for them and family members to get updated on vaccines or boosters, as eligible. He said that those who have held out because of concerns with the mRNA technology used in the Moderna and Pfizer-BioNTech vaccines now have an alternative available to them: Novavax, a protein-based vaccine that does not use mRNA technology, is available through 13 providers in New Mexico.\\n\\nScrase said that while a new vaccine targeting omicron strains might be authorized for use as soon as September, he did not recommend waiting for it to get a booster.\\n\\nVaccinations for COVID-19 are offered free of charge. Information on locations and appointments is available online at https://VaccineNM.org.\\n\\nAgain stating there were no discussions of resorting to public health restrictions to curb transmission, he recommended New Mexicans be aware of COVID-19 community levels in their area as measured by the CDC and follow its guidance accordingly, to stay up-to-date on vaccination, and wear an N95 or KN95 mask in appropriate situations.\\n\\nThe CDC website publishes a \\\"community level\\\" map, which assesses county-level COVID-19 vulnerability based on case data as well as hospital admissions and available beds.\\n\\nOn Thursday, the map showed most of southern New Mexico at a medium level, while 11 of 33 counties, including the northwestern corner and highly populous Bernalillo County, at high. At that level, the CDC recommends well-fitting mask use for indoor public settings regardless of vaccine status.\\n\\nThe CDC's map of community transmission, meanwhile, showed New Mexico almost entirely red: 31 of 33 counties, with the exception of Harding and De Baca counties, measured high rates of transmission based on daily case data and test positivity rates.\\n\\n\\\"What we're trying to do is encourage everyone in New Mexico to do their part, to wear their masks in a time that's red or yellow, to do all those things and to get on board to help us all come together to minimize all those numbers,\\\" Scrase said.\\n\\nNew Mexico monkeypox update, symptoms\\n\\nParaj\\u00f3n said New Mexico has now confirmed 10 cases of monkeypox out of 6,617 nationwide. All 10 cases were reportedly acquired out of state, with no known transmission within New Mexico, but Scrase said presumably there would eventually be community transmission.\\n\\nTo slow the spread while conserving tight supplies of the Jynneos vaccine, Paraj\\u00f3n said priority was being given to higher-risk individuals, such as those with known recent contact with others who had monkeypox.\\n\\nAlso Thursday, the Biden administration declared the monkeybox outbreak a public health emergency, a move that could make it easier to tap funding to combat the once-rare disease, USA TODAY reported.\\n\\nWhile the highest proportion of early cases was found among men engaging in sexual contact with other men and had multiple partners, Paraj\\u00f3n emphasized that anyone can contract monkeypox regardless of sexual orientation.\\n\\n\\\"We don't want to stigmatize people,\\\" she said. \\\"It just happened to get in to one group in particular first, but anybody who comes into contact with monkeypox is at risk of getting monkeypox.\\\"\\n\\nWhile hospitalization or death were rare, the illness can mimic symptoms of flu in early stages and is characterized by painful lesions or blisters.\\n\\nIt may be spread through skin-to-skin contact, especially direct contact with the monkeypox rash or scabs. It can also be transmitted through surfaces or fabrics such as linens and clothing. Intimate contact such as sexual interaction, kissing and massage can also spread the illness but not, she said, casual conversation or walking past someone who has an active case.\\n\\nThe health department advised any individual who thinks they may have been exposed to contact a health provider or public health clinic. If symptoms, develop, the guidance is to avoid close contact with other people. A provider will use a skin test to check for monkeypox, with results coming in one or two days.\\n\\nJynneos is an FDA-approved vaccine that Paraj\\u00f3n said is safe and effective. While it is most effective in the first four days of transmission, she said vaccination is worthwhile up to 21 days, given that it can take two weeks to fully overcome infection. Vaccines are administered by appointment only.\\n\\nThe health department's website has additional and updated monkeypox information at https://www.nmhealth.org/about/phd/idb/mpv/.\\n\\nAlgernon D'Ammassa can be reached at 575-541-5451, adammassa@lcsun-news.com or @AlgernonWrites on Twitter.\"\n        ],\n        \"semantic_type\": \"\",\n        \"description\": \"\"\n      }\n    },\n    {\n      \"column\": \"true_value\",\n      \"properties\": {\n        \"dtype\": \"boolean\",\n        \"num_unique_values\": 2,\n        \"samples\": [\n          false,\n          true\n        ],\n        \"semantic_type\": \"\",\n        \"description\": \"\"\n      }\n    },\n    {\n      \"column\": \"predict_value\",\n      \"properties\": {\n        \"dtype\": \"category\",\n        \"num_unique_values\": 20,\n        \"samples\": [\n          \"0\",\n          \"0.2\"\n        ],\n        \"semantic_type\": \"\",\n        \"description\": \"\"\n      }\n    },\n    {\n      \"column\": \"model\",\n      \"properties\": {\n        \"dtype\": \"category\",\n        \"num_unique_values\": 1,\n        \"samples\": [\n          \"mixtral7b\"\n        ],\n        \"semantic_type\": \"\",\n        \"description\": \"\"\n      }\n    }\n  ]\n}",
              "type": "dataframe",
              "variable_name": "result_final"
            },
            "text/html": [
              "\n",
              "  <div id=\"df-55cd5c6d-ab70-4b92-a386-9e6a84a53cfd\" class=\"colab-df-container\">\n",
              "    <div>\n",
              "<style scoped>\n",
              "    .dataframe tbody tr th:only-of-type {\n",
              "        vertical-align: middle;\n",
              "    }\n",
              "\n",
              "    .dataframe tbody tr th {\n",
              "        vertical-align: top;\n",
              "    }\n",
              "\n",
              "    .dataframe thead th {\n",
              "        text-align: right;\n",
              "    }\n",
              "</style>\n",
              "<table border=\"1\" class=\"dataframe\">\n",
              "  <thead>\n",
              "    <tr style=\"text-align: right;\">\n",
              "      <th></th>\n",
              "      <th>question</th>\n",
              "      <th>true_value</th>\n",
              "      <th>predict_value</th>\n",
              "      <th>model</th>\n",
              "    </tr>\n",
              "  </thead>\n",
              "  <tbody>\n",
              "    <tr>\n",
              "      <th>0</th>\n",
              "      <td>Thank you for reading!\\n\\nPlease log in, or si...</td>\n",
              "      <td>True</td>\n",
              "      <td>0</td>\n",
              "      <td>mixtral7b</td>\n",
              "    </tr>\n",
              "    <tr>\n",
              "      <th>1</th>\n",
              "      <td>Case in Comodoro Rivadavia not mpox, lab tests...</td>\n",
              "      <td>True</td>\n",
              "      <td>0.8</td>\n",
              "      <td>mixtral7b</td>\n",
              "    </tr>\n",
              "    <tr>\n",
              "      <th>2</th>\n",
              "      <td>JOHOR BARU: Johor, known as the southern gatew...</td>\n",
              "      <td>True</td>\n",
              "      <td>0.8</td>\n",
              "      <td>mixtral7b</td>\n",
              "    </tr>\n",
              "    <tr>\n",
              "      <th>3</th>\n",
              "      <td>Argentina’s Pope Francis has urged governments...</td>\n",
              "      <td>True</td>\n",
              "      <td>0.8</td>\n",
              "      <td>mixtral7b</td>\n",
              "    </tr>\n",
              "    <tr>\n",
              "      <th>4</th>\n",
              "      <td>BUENOS AIRES (Reuters) – Argentine authorities...</td>\n",
              "      <td>True</td>\n",
              "      <td>0.8</td>\n",
              "      <td>mixtral7b</td>\n",
              "    </tr>\n",
              "    <tr>\n",
              "      <th>...</th>\n",
              "      <td>...</td>\n",
              "      <td>...</td>\n",
              "      <td>...</td>\n",
              "      <td>...</td>\n",
              "    </tr>\n",
              "    <tr>\n",
              "      <th>95</th>\n",
              "      <td>Fifth case of monkeypox reported in Rio de Jan...</td>\n",
              "      <td>True</td>\n",
              "      <td>0.9</td>\n",
              "      <td>mixtral7b</td>\n",
              "    </tr>\n",
              "    <tr>\n",
              "      <th>96</th>\n",
              "      <td>President Joe Biden and his administration on ...</td>\n",
              "      <td>True</td>\n",
              "      <td>0.9</td>\n",
              "      <td>mixtral7b</td>\n",
              "    </tr>\n",
              "    <tr>\n",
              "      <th>97</th>\n",
              "      <td>Failed to extract article: Article `download()...</td>\n",
              "      <td>True</td>\n",
              "      <td>0</td>\n",
              "      <td>mixtral7b</td>\n",
              "    </tr>\n",
              "    <tr>\n",
              "      <th>98</th>\n",
              "      <td>Failed to extract article: Article `download()...</td>\n",
              "      <td>True</td>\n",
              "      <td>There is no previous model, so I'll assume you...</td>\n",
              "      <td>mixtral7b</td>\n",
              "    </tr>\n",
              "    <tr>\n",
              "      <th>99</th>\n",
              "      <td>Failed to extract article: Article `download()...</td>\n",
              "      <td>True</td>\n",
              "      <td>I apologize, but there is no previous model or...</td>\n",
              "      <td>mixtral7b</td>\n",
              "    </tr>\n",
              "  </tbody>\n",
              "</table>\n",
              "<p>100 rows × 4 columns</p>\n",
              "</div>\n",
              "    <div class=\"colab-df-buttons\">\n",
              "\n",
              "  <div class=\"colab-df-container\">\n",
              "    <button class=\"colab-df-convert\" onclick=\"convertToInteractive('df-55cd5c6d-ab70-4b92-a386-9e6a84a53cfd')\"\n",
              "            title=\"Convert this dataframe to an interactive table.\"\n",
              "            style=\"display:none;\">\n",
              "\n",
              "  <svg xmlns=\"http://www.w3.org/2000/svg\" height=\"24px\" viewBox=\"0 -960 960 960\">\n",
              "    <path d=\"M120-120v-720h720v720H120Zm60-500h600v-160H180v160Zm220 220h160v-160H400v160Zm0 220h160v-160H400v160ZM180-400h160v-160H180v160Zm440 0h160v-160H620v160ZM180-180h160v-160H180v160Zm440 0h160v-160H620v160Z\"/>\n",
              "  </svg>\n",
              "    </button>\n",
              "\n",
              "  <style>\n",
              "    .colab-df-container {\n",
              "      display:flex;\n",
              "      gap: 12px;\n",
              "    }\n",
              "\n",
              "    .colab-df-convert {\n",
              "      background-color: #E8F0FE;\n",
              "      border: none;\n",
              "      border-radius: 50%;\n",
              "      cursor: pointer;\n",
              "      display: none;\n",
              "      fill: #1967D2;\n",
              "      height: 32px;\n",
              "      padding: 0 0 0 0;\n",
              "      width: 32px;\n",
              "    }\n",
              "\n",
              "    .colab-df-convert:hover {\n",
              "      background-color: #E2EBFA;\n",
              "      box-shadow: 0px 1px 2px rgba(60, 64, 67, 0.3), 0px 1px 3px 1px rgba(60, 64, 67, 0.15);\n",
              "      fill: #174EA6;\n",
              "    }\n",
              "\n",
              "    .colab-df-buttons div {\n",
              "      margin-bottom: 4px;\n",
              "    }\n",
              "\n",
              "    [theme=dark] .colab-df-convert {\n",
              "      background-color: #3B4455;\n",
              "      fill: #D2E3FC;\n",
              "    }\n",
              "\n",
              "    [theme=dark] .colab-df-convert:hover {\n",
              "      background-color: #434B5C;\n",
              "      box-shadow: 0px 1px 3px 1px rgba(0, 0, 0, 0.15);\n",
              "      filter: drop-shadow(0px 1px 2px rgba(0, 0, 0, 0.3));\n",
              "      fill: #FFFFFF;\n",
              "    }\n",
              "  </style>\n",
              "\n",
              "    <script>\n",
              "      const buttonEl =\n",
              "        document.querySelector('#df-55cd5c6d-ab70-4b92-a386-9e6a84a53cfd button.colab-df-convert');\n",
              "      buttonEl.style.display =\n",
              "        google.colab.kernel.accessAllowed ? 'block' : 'none';\n",
              "\n",
              "      async function convertToInteractive(key) {\n",
              "        const element = document.querySelector('#df-55cd5c6d-ab70-4b92-a386-9e6a84a53cfd');\n",
              "        const dataTable =\n",
              "          await google.colab.kernel.invokeFunction('convertToInteractive',\n",
              "                                                    [key], {});\n",
              "        if (!dataTable) return;\n",
              "\n",
              "        const docLinkHtml = 'Like what you see? Visit the ' +\n",
              "          '<a target=\"_blank\" href=https://colab.research.google.com/notebooks/data_table.ipynb>data table notebook</a>'\n",
              "          + ' to learn more about interactive tables.';\n",
              "        element.innerHTML = '';\n",
              "        dataTable['output_type'] = 'display_data';\n",
              "        await google.colab.output.renderOutput(dataTable, element);\n",
              "        const docLink = document.createElement('div');\n",
              "        docLink.innerHTML = docLinkHtml;\n",
              "        element.appendChild(docLink);\n",
              "      }\n",
              "    </script>\n",
              "  </div>\n",
              "\n",
              "\n",
              "<div id=\"df-1d1dbe43-ce21-43b1-b5fe-2108fb399531\">\n",
              "  <button class=\"colab-df-quickchart\" onclick=\"quickchart('df-1d1dbe43-ce21-43b1-b5fe-2108fb399531')\"\n",
              "            title=\"Suggest charts\"\n",
              "            style=\"display:none;\">\n",
              "\n",
              "<svg xmlns=\"http://www.w3.org/2000/svg\" height=\"24px\"viewBox=\"0 0 24 24\"\n",
              "     width=\"24px\">\n",
              "    <g>\n",
              "        <path d=\"M19 3H5c-1.1 0-2 .9-2 2v14c0 1.1.9 2 2 2h14c1.1 0 2-.9 2-2V5c0-1.1-.9-2-2-2zM9 17H7v-7h2v7zm4 0h-2V7h2v10zm4 0h-2v-4h2v4z\"/>\n",
              "    </g>\n",
              "</svg>\n",
              "  </button>\n",
              "\n",
              "<style>\n",
              "  .colab-df-quickchart {\n",
              "      --bg-color: #E8F0FE;\n",
              "      --fill-color: #1967D2;\n",
              "      --hover-bg-color: #E2EBFA;\n",
              "      --hover-fill-color: #174EA6;\n",
              "      --disabled-fill-color: #AAA;\n",
              "      --disabled-bg-color: #DDD;\n",
              "  }\n",
              "\n",
              "  [theme=dark] .colab-df-quickchart {\n",
              "      --bg-color: #3B4455;\n",
              "      --fill-color: #D2E3FC;\n",
              "      --hover-bg-color: #434B5C;\n",
              "      --hover-fill-color: #FFFFFF;\n",
              "      --disabled-bg-color: #3B4455;\n",
              "      --disabled-fill-color: #666;\n",
              "  }\n",
              "\n",
              "  .colab-df-quickchart {\n",
              "    background-color: var(--bg-color);\n",
              "    border: none;\n",
              "    border-radius: 50%;\n",
              "    cursor: pointer;\n",
              "    display: none;\n",
              "    fill: var(--fill-color);\n",
              "    height: 32px;\n",
              "    padding: 0;\n",
              "    width: 32px;\n",
              "  }\n",
              "\n",
              "  .colab-df-quickchart:hover {\n",
              "    background-color: var(--hover-bg-color);\n",
              "    box-shadow: 0 1px 2px rgba(60, 64, 67, 0.3), 0 1px 3px 1px rgba(60, 64, 67, 0.15);\n",
              "    fill: var(--button-hover-fill-color);\n",
              "  }\n",
              "\n",
              "  .colab-df-quickchart-complete:disabled,\n",
              "  .colab-df-quickchart-complete:disabled:hover {\n",
              "    background-color: var(--disabled-bg-color);\n",
              "    fill: var(--disabled-fill-color);\n",
              "    box-shadow: none;\n",
              "  }\n",
              "\n",
              "  .colab-df-spinner {\n",
              "    border: 2px solid var(--fill-color);\n",
              "    border-color: transparent;\n",
              "    border-bottom-color: var(--fill-color);\n",
              "    animation:\n",
              "      spin 1s steps(1) infinite;\n",
              "  }\n",
              "\n",
              "  @keyframes spin {\n",
              "    0% {\n",
              "      border-color: transparent;\n",
              "      border-bottom-color: var(--fill-color);\n",
              "      border-left-color: var(--fill-color);\n",
              "    }\n",
              "    20% {\n",
              "      border-color: transparent;\n",
              "      border-left-color: var(--fill-color);\n",
              "      border-top-color: var(--fill-color);\n",
              "    }\n",
              "    30% {\n",
              "      border-color: transparent;\n",
              "      border-left-color: var(--fill-color);\n",
              "      border-top-color: var(--fill-color);\n",
              "      border-right-color: var(--fill-color);\n",
              "    }\n",
              "    40% {\n",
              "      border-color: transparent;\n",
              "      border-right-color: var(--fill-color);\n",
              "      border-top-color: var(--fill-color);\n",
              "    }\n",
              "    60% {\n",
              "      border-color: transparent;\n",
              "      border-right-color: var(--fill-color);\n",
              "    }\n",
              "    80% {\n",
              "      border-color: transparent;\n",
              "      border-right-color: var(--fill-color);\n",
              "      border-bottom-color: var(--fill-color);\n",
              "    }\n",
              "    90% {\n",
              "      border-color: transparent;\n",
              "      border-bottom-color: var(--fill-color);\n",
              "    }\n",
              "  }\n",
              "</style>\n",
              "\n",
              "  <script>\n",
              "    async function quickchart(key) {\n",
              "      const quickchartButtonEl =\n",
              "        document.querySelector('#' + key + ' button');\n",
              "      quickchartButtonEl.disabled = true;  // To prevent multiple clicks.\n",
              "      quickchartButtonEl.classList.add('colab-df-spinner');\n",
              "      try {\n",
              "        const charts = await google.colab.kernel.invokeFunction(\n",
              "            'suggestCharts', [key], {});\n",
              "      } catch (error) {\n",
              "        console.error('Error during call to suggestCharts:', error);\n",
              "      }\n",
              "      quickchartButtonEl.classList.remove('colab-df-spinner');\n",
              "      quickchartButtonEl.classList.add('colab-df-quickchart-complete');\n",
              "    }\n",
              "    (() => {\n",
              "      let quickchartButtonEl =\n",
              "        document.querySelector('#df-1d1dbe43-ce21-43b1-b5fe-2108fb399531 button');\n",
              "      quickchartButtonEl.style.display =\n",
              "        google.colab.kernel.accessAllowed ? 'block' : 'none';\n",
              "    })();\n",
              "  </script>\n",
              "</div>\n",
              "\n",
              "  <div id=\"id_20e56519-5124-4d3b-b73b-35e07b525c37\">\n",
              "    <style>\n",
              "      .colab-df-generate {\n",
              "        background-color: #E8F0FE;\n",
              "        border: none;\n",
              "        border-radius: 50%;\n",
              "        cursor: pointer;\n",
              "        display: none;\n",
              "        fill: #1967D2;\n",
              "        height: 32px;\n",
              "        padding: 0 0 0 0;\n",
              "        width: 32px;\n",
              "      }\n",
              "\n",
              "      .colab-df-generate:hover {\n",
              "        background-color: #E2EBFA;\n",
              "        box-shadow: 0px 1px 2px rgba(60, 64, 67, 0.3), 0px 1px 3px 1px rgba(60, 64, 67, 0.15);\n",
              "        fill: #174EA6;\n",
              "      }\n",
              "\n",
              "      [theme=dark] .colab-df-generate {\n",
              "        background-color: #3B4455;\n",
              "        fill: #D2E3FC;\n",
              "      }\n",
              "\n",
              "      [theme=dark] .colab-df-generate:hover {\n",
              "        background-color: #434B5C;\n",
              "        box-shadow: 0px 1px 3px 1px rgba(0, 0, 0, 0.15);\n",
              "        filter: drop-shadow(0px 1px 2px rgba(0, 0, 0, 0.3));\n",
              "        fill: #FFFFFF;\n",
              "      }\n",
              "    </style>\n",
              "    <button class=\"colab-df-generate\" onclick=\"generateWithVariable('result_final')\"\n",
              "            title=\"Generate code using this dataframe.\"\n",
              "            style=\"display:none;\">\n",
              "\n",
              "  <svg xmlns=\"http://www.w3.org/2000/svg\" height=\"24px\"viewBox=\"0 0 24 24\"\n",
              "       width=\"24px\">\n",
              "    <path d=\"M7,19H8.4L18.45,9,17,7.55,7,17.6ZM5,21V16.75L18.45,3.32a2,2,0,0,1,2.83,0l1.4,1.43a1.91,1.91,0,0,1,.58,1.4,1.91,1.91,0,0,1-.58,1.4L9.25,21ZM18.45,9,17,7.55Zm-12,3A5.31,5.31,0,0,0,4.9,8.1,5.31,5.31,0,0,0,1,6.5,5.31,5.31,0,0,0,4.9,4.9,5.31,5.31,0,0,0,6.5,1,5.31,5.31,0,0,0,8.1,4.9,5.31,5.31,0,0,0,12,6.5,5.46,5.46,0,0,0,6.5,12Z\"/>\n",
              "  </svg>\n",
              "    </button>\n",
              "    <script>\n",
              "      (() => {\n",
              "      const buttonEl =\n",
              "        document.querySelector('#id_20e56519-5124-4d3b-b73b-35e07b525c37 button.colab-df-generate');\n",
              "      buttonEl.style.display =\n",
              "        google.colab.kernel.accessAllowed ? 'block' : 'none';\n",
              "\n",
              "      buttonEl.onclick = () => {\n",
              "        google.colab.notebook.generateWithVariable('result_final');\n",
              "      }\n",
              "      })();\n",
              "    </script>\n",
              "  </div>\n",
              "\n",
              "    </div>\n",
              "  </div>\n"
            ],
            "text/plain": [
              "                                             question  true_value  \\\n",
              "0   Thank you for reading!\\n\\nPlease log in, or si...        True   \n",
              "1   Case in Comodoro Rivadavia not mpox, lab tests...        True   \n",
              "2   JOHOR BARU: Johor, known as the southern gatew...        True   \n",
              "3   Argentina’s Pope Francis has urged governments...        True   \n",
              "4   BUENOS AIRES (Reuters) – Argentine authorities...        True   \n",
              "..                                                ...         ...   \n",
              "95  Fifth case of monkeypox reported in Rio de Jan...        True   \n",
              "96  President Joe Biden and his administration on ...        True   \n",
              "97  Failed to extract article: Article `download()...        True   \n",
              "98  Failed to extract article: Article `download()...        True   \n",
              "99  Failed to extract article: Article `download()...        True   \n",
              "\n",
              "                                        predict_value      model  \n",
              "0                                                   0  mixtral7b  \n",
              "1                                                 0.8  mixtral7b  \n",
              "2                                                 0.8  mixtral7b  \n",
              "3                                                 0.8  mixtral7b  \n",
              "4                                                 0.8  mixtral7b  \n",
              "..                                                ...        ...  \n",
              "95                                                0.9  mixtral7b  \n",
              "96                                                0.9  mixtral7b  \n",
              "97                                                  0  mixtral7b  \n",
              "98  There is no previous model, so I'll assume you...  mixtral7b  \n",
              "99  I apologize, but there is no previous model or...  mixtral7b  \n",
              "\n",
              "[100 rows x 4 columns]"
            ]
          },
          "execution_count": 25,
          "metadata": {},
          "output_type": "execute_result"
        }
      ],
      "source": [
        "result_final = pd.DataFrame(data_final)\n",
        "result_final[\"model\"]=model\n",
        "result_final"
      ]
    },
    {
      "cell_type": "code",
      "execution_count": 26,
      "metadata": {
        "id": "q7f_x9YIgbNa"
      },
      "outputs": [],
      "source": [
        "result_final.to_csv(f\"result_fakempox_for_model_{model}_temp_0.3.csv\", index=False)"
      ]
    },
    {
      "cell_type": "code",
      "execution_count": null,
      "metadata": {
        "id": "i6M3b2yNgbPh"
      },
      "outputs": [],
      "source": []
    },
    {
      "cell_type": "code",
      "execution_count": 3,
      "metadata": {
        "colab": {
          "base_uri": "https://localhost:8080/",
          "height": 1000
        },
        "id": "eo9Yo-0_gbR2",
        "outputId": "95c4e110-d6fb-4e99-d479-dfc18c6b0979"
      },
      "outputs": [
        {
          "data": {
            "image/png": "[encoded data removed]",
            "text/plain": [
              "<Figure size 1200x1200 with 4 Axes>"
            ]
          },
          "metadata": {},
          "output_type": "display_data"
        }
      ],
      "source": [
        "import pandas as pd\n",
        "from sklearn.metrics import confusion_matrix\n",
        "import matplotlib.pyplot as plt\n",
        "import seaborn as sns\n",
        "\n",
        "# Load the dataset\n",
        "file_path = '/content/result_fakempox_for_model_llama37b.csv'\n",
        "df = pd.read_csv(file_path)\n",
        "\n",
        "# Convert 'predict_value' column to numeric, forcing errors to NaN and then filling them with 0\n",
        "df['predict_value'] = pd.to_numeric(df['predict_value'], errors='coerce').fillna(0)\n",
        "\n",
        "# Binarize the 'predict_value' field for various thresholds\n",
        "df['binarized_predict_0_5'] = df['predict_value'].apply(lambda x: 1 if x >= 0.5 else 0)\n",
        "df['binarized_predict_0_7'] = df['predict_value'].apply(lambda x: 1 if x >= 0.7 else 0)\n",
        "df['binarized_predict_0_8'] = df['predict_value'].apply(lambda x: 1 if x >= 0.8 else 0)\n",
        "df['binarized_predict_0_9'] = df['predict_value'].apply(lambda x: 1 if x >= 0.9 else 0)\n",
        "\n",
        "# True labels\n",
        "y_true = df['true_value'].astype(int)\n",
        "\n",
        "# Predicted labels for each threshold\n",
        "y_pred_0_5 = df['binarized_predict_0_5']\n",
        "y_pred_0_7 = df['binarized_predict_0_7']\n",
        "y_pred_0_8 = df['binarized_predict_0_8']\n",
        "y_pred_0_9 = df['binarized_predict_0_9']\n",
        "\n",
        "# Generate confusion matrices for each threshold\n",
        "conf_matrix_0_5 = confusion_matrix(y_true, y_pred_0_5)\n",
        "conf_matrix_0_7 = confusion_matrix(y_true, y_pred_0_7)\n",
        "conf_matrix_0_8 = confusion_matrix(y_true, y_pred_0_8)\n",
        "conf_matrix_0_9 = confusion_matrix(y_true, y_pred_0_9)\n",
        "\n",
        "fig, axes = plt.subplots(2, 2, figsize=(12, 12))\n",
        "\n",
        "# Plot for threshold 0.5\n",
        "sns.heatmap(conf_matrix_0_5, annot=True, fmt='d', cmap='Blues', cbar=False, ax=axes[0, 0])\n",
        "axes[0, 0].set_title('Threshold = 0.5')\n",
        "axes[0, 0].set_xlabel('Predicted')\n",
        "axes[0, 0].set_ylabel('True')\n",
        "\n",
        "# Plot for threshold 0.7\n",
        "sns.heatmap(conf_matrix_0_7, annot=True, fmt='d', cmap='Blues', cbar=False, ax=axes[0, 1])\n",
        "axes[0, 1].set_title('Threshold = 0.7')\n",
        "axes[0, 1].set_xlabel('Predicted')\n",
        "axes[0, 1].set_ylabel('True')\n",
        "\n",
        "# Plot for threshold 0.8\n",
        "sns.heatmap(conf_matrix_0_8, annot=True, fmt='d', cmap='Blues', cbar=False, ax=axes[1, 0])\n",
        "axes[1, 0].set_title('Threshold = 0.8')\n",
        "axes[1, 0].set_xlabel('Predicted')\n",
        "axes[1, 0].set_ylabel('True')\n",
        "\n",
        "# Plot for threshold 0.9\n",
        "sns.heatmap(conf_matrix_0_9, annot=True, fmt='d', cmap='Blues', cbar=False, ax=axes[1, 1])\n",
        "axes[1, 1].set_title('Threshold = 0.9')\n",
        "axes[1, 1].set_xlabel('Predicted')\n",
        "axes[1, 1].set_ylabel('True')\n",
        "\n",
        "# Display the plot\n",
        "plt.tight_layout()\n",
        "plt.show()\n"
      ]
    },
    {
      "cell_type": "code",
      "execution_count": null,
      "metadata": {
        "id": "KQnLu_x9gbT6"
      },
      "outputs": [],
      "source": []
    },
    {
      "cell_type": "code",
      "execution_count": 34,
      "metadata": {
        "id": "6qPRrDdNgbVv"
      },
      "outputs": [],
      "source": [
        "data_temp= pd.read_csv(\"/content/result_fakempox_for_model_mixtral7b_temp_0.3.csv\")\n",
        "data_temp[\"model\"]=\"llama37b\""
      ]
    },
    {
      "cell_type": "code",
      "execution_count": 35,
      "metadata": {
        "id": "GBwuB4qdcRtg"
      },
      "outputs": [],
      "source": [
        "data_temp.to_csv(\"fake_mpox_llama37b_temp_0.3.csv\", index=False)"
      ]
    },
    {
      "cell_type": "code",
      "execution_count": null,
      "metadata": {
        "id": "N3YPBAnjcgzv"
      },
      "outputs": [],
      "source": []
    }
  ],
  "metadata": {
    "colab": {
      "provenance": []
    },
    "kernelspec": {
      "display_name": "Python 3",
      "name": "python3"
    },
    "language_info": {
      "name": "python"
    }
  },
  "nbformat": 4,
  "nbformat_minor": 0
}
